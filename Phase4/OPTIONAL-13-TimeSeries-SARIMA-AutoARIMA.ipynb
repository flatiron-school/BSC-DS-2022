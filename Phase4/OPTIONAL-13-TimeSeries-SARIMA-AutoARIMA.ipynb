{
 "cells": [
  {
   "cell_type": "markdown",
   "metadata": {},
   "source": [
    "NOTE: Will need to run in Google Colab!"
   ]
  },
  {
   "cell_type": "markdown",
   "metadata": {
    "id": "cAnGWIe-_F_d"
   },
   "source": [
    "# Time Series: Seasonal ARIMA and AutoARIMA\n",
    "\n",
    "(and maybe [SKTime](https://www.sktime.org/en/stable/index.html)!)"
   ]
  },
  {
   "cell_type": "code",
   "execution_count": null,
   "metadata": {
    "id": "y4b9wXyW_HEd"
   },
   "outputs": [],
   "source": [
    "!pip install sktime\n",
    "!pip install pmdarima"
   ]
  },
  {
   "cell_type": "markdown",
   "metadata": {
    "id": "elLtweDH_F_e"
   },
   "source": [
    "### Data Set Up\n",
    "\n",
    "Airline Passenger Data: https://www.kaggle.com/rakannimer/air-passengers\n",
    "\n",
    "(it's a pretty common dataset, available in several different places, but here's a source - we'll just load it up straight from SKTime!)"
   ]
  },
  {
   "cell_type": "code",
   "execution_count": null,
   "metadata": {
    "id": "E7hVgggu_F_f"
   },
   "outputs": [],
   "source": [
    "# Imports\n",
    "import pandas as pd\n",
    "import numpy as np\n",
    "import matplotlib.pyplot as plt\n",
    "\n",
    "from sklearn.model_selection import train_test_split"
   ]
  },
  {
   "cell_type": "code",
   "execution_count": null,
   "metadata": {
    "id": "tHm1LHxK_F_f"
   },
   "outputs": [],
   "source": [
    "from sktime.datasets import load_airline\n",
    "df = pd.DataFrame(load_airline())"
   ]
  },
  {
   "cell_type": "code",
   "execution_count": null,
   "metadata": {
    "id": "E2S6wdwK_Zhg"
   },
   "outputs": [],
   "source": [
    "df.head()"
   ]
  },
  {
   "cell_type": "code",
   "execution_count": null,
   "metadata": {
    "id": "kY_6gHor_jaf"
   },
   "outputs": [],
   "source": [
    "df.info()"
   ]
  },
  {
   "cell_type": "code",
   "execution_count": null,
   "metadata": {
    "id": "5F9cNMpx_F_f"
   },
   "outputs": [],
   "source": [
    "# Decompose\n",
    "from statsmodels.tsa.seasonal import seasonal_decompose\n",
    "\n",
    "df.index=df.index.to_timestamp()\n",
    "\n",
    "decomp = seasonal_decompose(df)\n",
    "decomp.plot();"
   ]
  },
  {
   "cell_type": "code",
   "execution_count": null,
   "metadata": {
    "id": "dLsZTDp2_F_g"
   },
   "outputs": [],
   "source": [
    "# Train test split - test set will be the last 3 years\n",
    "train, test = train_test_split(df, test_size = 36, shuffle=False)"
   ]
  },
  {
   "cell_type": "code",
   "execution_count": null,
   "metadata": {
    "id": "3fjfo2zI_F_g"
   },
   "outputs": [],
   "source": [
    "# Let's visualize our train and test sets\n",
    "fig, ax = plt.subplots(figsize=(12, 8))\n",
    "ax.plot(train, label='train')\n",
    "ax.plot(test, label='test')\n",
    "ax.set_title('Train-Test Split');\n",
    "plt.legend();"
   ]
  },
  {
   "cell_type": "markdown",
   "metadata": {
    "id": "UXbqqoMZ_F_g"
   },
   "source": [
    "### Where We Left Off"
   ]
  },
  {
   "cell_type": "code",
   "execution_count": null,
   "metadata": {
    "id": "FFRjXTgs_F_h"
   },
   "outputs": [],
   "source": [
    "# Import ARIMA\n",
    "from statsmodels.tsa.arima.model import ARIMA"
   ]
  },
  {
   "cell_type": "code",
   "execution_count": null,
   "metadata": {
    "id": "setrnQ67_F_h"
   },
   "outputs": [],
   "source": [
    "# From our data exploration earlier, what do we want to use as params?\n",
    "# Order will be (p,d,q)\n",
    "arima_order = (1, 1, 1) # should be a tuple, like (0,0,0)"
   ]
  },
  {
   "cell_type": "code",
   "execution_count": null,
   "metadata": {
    "id": "jeF2oVBW_F_h"
   },
   "outputs": [],
   "source": [
    "# Now let's fit our ARIMA model\n",
    "result = ARIMA(train, order=arima_order).fit()"
   ]
  },
  {
   "cell_type": "code",
   "execution_count": null,
   "metadata": {
    "id": "Y_YrinMA_F_h"
   },
   "outputs": [],
   "source": [
    "# Since it's statsmodels, we have a summary we can explore\n",
    "result.summary()"
   ]
  },
  {
   "cell_type": "code",
   "execution_count": null,
   "metadata": {
    "id": "VGZlAzh-_F_h"
   },
   "outputs": [],
   "source": [
    "# We can also make predictions using .forecast\n",
    "# Steps will be the length of our test data\n",
    "test_preds = result.forecast(steps=len(test))"
   ]
  },
  {
   "cell_type": "code",
   "execution_count": null,
   "metadata": {
    "id": "ioOFHNAV_F_i"
   },
   "outputs": [],
   "source": [
    "# How can we visualize our predictions?\n",
    "plt.plot(train, label = 'Train')\n",
    "plt.plot(test, label = 'Test')\n",
    "plt.plot(test_preds, label = 'Test Preds')\n",
    "plt.legend();"
   ]
  },
  {
   "cell_type": "code",
   "execution_count": null,
   "metadata": {
    "id": "Hro85yxMDRsi"
   },
   "outputs": [],
   "source": [
    "# To plot with a confidence interval - use get_forecast instead\n",
    "fcast = result.get_forecast(steps=len(test)).summary_frame()\n",
    "fig, ax = plt.subplots()\n",
    "\n",
    "ax.plot(train, label = 'Train')\n",
    "ax.plot(test, label = 'Test')\n",
    "ax.plot(fcast['mean'], label = 'Test Preds')\n",
    "ax.fill_between(fcast.index, fcast['mean_ci_lower'], fcast['mean_ci_upper'], color='k', alpha=0.1);\n",
    "ax.legend();"
   ]
  },
  {
   "cell_type": "markdown",
   "metadata": {
    "id": "wdcxp35gFdxB"
   },
   "source": [
    "Why do these predictions level out? Because they're not able to build upon the previous month! "
   ]
  },
  {
   "cell_type": "markdown",
   "metadata": {
    "id": "fm5ZWwHK_F_j"
   },
   "source": [
    "### Seasonal!"
   ]
  },
  {
   "cell_type": "markdown",
   "metadata": {
    "id": "tMIMUsBO_F_j"
   },
   "source": [
    "A reminder sbout order terms!\n",
    "\n",
    "> ARIMA models are made up of three different terms:\n",
    "> \n",
    "> p: The order of the auto-regressive (AR) model (i.e., the number of lag observations). A time series is considered AR when previous values in the time series are very predictive of later values. An AR process will show a very gradual decrease in the ACF plot.\n",
    "> \n",
    "> d: The degree of differencing.\n",
    "> \n",
    "> q: The order of the moving average (MA) model. This is essentially the size of the “window” function over your time series data. An MA process is a linear combination of past errors.\n",
    "\n",
    "PLUS:\n",
    "\n",
    "> Seasonal ARIMA models have three parameters that heavily resemble our p, d and q parameters:\n",
    "> \n",
    "> P: The order of the seasonal component for the auto-regressive (AR) model.\n",
    "> \n",
    "> D: The integration order of the seasonal process.\n",
    "> \n",
    "> Q: The order of the seasonal component of the moving average (MA) model.\n",
    "> \n",
    "> P and Q and be estimated similarly to p and q via auto_arima, and D can be estimated via a Canova-Hansen test, however m generally requires subject matter knowledge of the data.\n",
    "\n",
    "Source: https://alkaline-ml.com/pmdarima/tips_and_tricks.html#understand-p-d-and-q\n",
    "\n",
    "There's also an `s` term in the Seasonal order (called out as `m` above), where you set the periodicity."
   ]
  },
  {
   "cell_type": "code",
   "execution_count": null,
   "metadata": {
    "id": "C0c7lpeB_F_j"
   },
   "outputs": [],
   "source": [
    "# Add seasonal order to our ARIMA\n",
    "seas_arima = ARIMA(train,\n",
    "                   order=(0,0,0),\n",
    "                   seasonal_order=(1, 1, 1, 12))\n",
    "res_sarima = seas_arima.fit()\n",
    "\n",
    "# Print out summary information on the fit\n",
    "print(res_sarima.summary())"
   ]
  },
  {
   "cell_type": "code",
   "execution_count": null,
   "metadata": {
    "id": "ODxN6Z0V_F_k"
   },
   "outputs": [],
   "source": [
    "# Visualize it!\n",
    "plt.figure(figsize=(10,6))\n",
    "plt.plot(train, color='blue', label='actual train')\n",
    "plt.plot(test, color='orange', label='actual test')\n",
    "plt.plot(res_sarima.forecast(steps = len(test)), color='green', label='predicted test')\n",
    "plt.legend();"
   ]
  },
  {
   "cell_type": "markdown",
   "metadata": {
    "id": "l6yI7h2s_F_k"
   },
   "source": [
    "#### Discuss:\n",
    "\n",
    "- \n"
   ]
  },
  {
   "cell_type": "markdown",
   "metadata": {
    "id": "cA9DsNrn_F_k"
   },
   "source": [
    "### PMDArima - Using their Auto ARIMA! \n",
    "\n",
    "Basically, grid search for ARIMA"
   ]
  },
  {
   "cell_type": "code",
   "execution_count": null,
   "metadata": {
    "id": "X1PXrmGN_F_k"
   },
   "outputs": [],
   "source": [
    "# More imports\n",
    "import pmdarima as pm\n",
    "from pmdarima import model_selection\n",
    "from pmdarima.utils import decomposed_plot\n",
    "from pmdarima.arima import decompose, auto_arima"
   ]
  },
  {
   "cell_type": "code",
   "execution_count": null,
   "metadata": {
    "id": "2D-vfg8r_F_k",
    "scrolled": true
   },
   "outputs": [],
   "source": [
    "# Train test split - but now using PMDArima's function\n",
    "train, test = model_selection.train_test_split(df, test_size=36)"
   ]
  },
  {
   "cell_type": "code",
   "execution_count": null,
   "metadata": {
    "id": "3HQBALmm_F_k"
   },
   "outputs": [],
   "source": [
    "train.tail()"
   ]
  },
  {
   "cell_type": "code",
   "execution_count": null,
   "metadata": {
    "id": "5Jw1jeVO_F_l"
   },
   "outputs": [],
   "source": [
    "# checking stationarity\n",
    "from pmdarima.arima.stationarity import ADFTest\n",
    "\n",
    "# beyond statsmodels\n",
    "adf_test = ADFTest(alpha=0.05)\n",
    "p_val, should_diff = adf_test.should_diff(df)  # (0.01, False)\n",
    "\n",
    "print(f\"P-Value: {p_val}, so should you difference the data? {should_diff}\")"
   ]
  },
  {
   "cell_type": "markdown",
   "metadata": {
    "id": "tw1NGTV5G_xx"
   },
   "source": [
    "Documentation: http://alkaline-ml.com/pmdarima/modules/generated/pmdarima.arima.AutoARIMA.html#pmdarima.arima.AutoARIMA\n",
    "\n",
    "Let's decide our parameters!\n",
    "\n",
    "Be sure to set `trace=True`"
   ]
  },
  {
   "cell_type": "code",
   "execution_count": null,
   "metadata": {
    "id": "p91bgCkk_F_l"
   },
   "outputs": [],
   "source": [
    "# time to model!\n",
    "arima = auto_arima(train,\n",
    "    start_p=1,\n",
    "    d=None,\n",
    "    start_1=1,\n",
    "    trace=True,\n",
    "    m=12,\n",
    "    seasonal=True) "
   ]
  },
  {
   "cell_type": "code",
   "execution_count": null,
   "metadata": {
    "id": "HiJX2xFp_F_l"
   },
   "outputs": [],
   "source": [
    "# check the output summary\n",
    "arima.summary()"
   ]
  },
  {
   "cell_type": "code",
   "execution_count": null,
   "metadata": {
    "id": "cbhX9oCX_F_l"
   },
   "outputs": [],
   "source": [
    "test_preds = pd.Series(arima.predict(n_periods=len(test)), index=test.index)"
   ]
  },
  {
   "cell_type": "code",
   "execution_count": null,
   "metadata": {
    "id": "C6sFnfgQ_F_l",
    "scrolled": true
   },
   "outputs": [],
   "source": [
    "# Plot actual test vs. forecasts:\n",
    "plt.plot(train, label = 'Train')\n",
    "plt.plot(test, label = 'Test')\n",
    "plt.plot(test_preds, label = 'Test Preds')\n",
    "plt.legend();"
   ]
  },
  {
   "cell_type": "markdown",
   "metadata": {
    "id": "cHKkFtfy_F_m"
   },
   "source": [
    "Thoughts?\n",
    "\n",
    "- \n"
   ]
  },
  {
   "cell_type": "code",
   "execution_count": null,
   "metadata": {
    "id": "ob7JnoDl_F_m"
   },
   "outputs": [],
   "source": [
    "train"
   ]
  },
  {
   "cell_type": "code",
   "execution_count": null,
   "metadata": {
    "id": "OIaDBgId_F_m"
   },
   "outputs": [],
   "source": [
    "# Fit the best fit model from grid search SARIMAX(1, 1, 0)x(0, 1, 0, 12)\n",
    "seas_arima = ARIMA(train,\n",
    "                   order=(1, 1, 0),\n",
    "                   seasonal_order=(0, 1, 0, 12))\n",
    "res_sarima = seas_arima.fit()\n",
    "\n",
    "# Print out summary information on the fit\n",
    "print(res_sarima.summary())"
   ]
  },
  {
   "cell_type": "markdown",
   "metadata": {
    "id": "pYEyKwby_F_m"
   },
   "source": [
    "More gems at the end for those digging back into this notebook:\n",
    "\n",
    "`pmdarima` has a set of tips and tricks: https://alkaline-ml.com/pmdarima/tips_and_tricks.html\n",
    "\n",
    "Also:\n",
    "\n",
    "- https://towardsdatascience.com/time-series-forecasting-using-auto-arima-in-python-bb83e49210cd\n",
    "- https://machinelearningmastery.com/develop-arch-and-garch-models-for-time-series-forecasting-in-python/\n",
    "\n",
    "And, what I'm really looking into right now:\n",
    "- https://towardsdatascience.com/sktime-a-unified-python-library-for-time-series-machine-learning-3c103c139a55"
   ]
  }
 ],
 "metadata": {
  "colab": {
   "name": "OPTIONAL-13-TimeSeries-SARIMA-AutoARIMA.ipynb",
   "provenance": []
  },
  "kernelspec": {
   "display_name": "Python (learn-env)",
   "language": "python",
   "name": "learn-env"
  },
  "language_info": {
   "codemirror_mode": {
    "name": "ipython",
    "version": 3
   },
   "file_extension": ".py",
   "mimetype": "text/x-python",
   "name": "python",
   "nbconvert_exporter": "python",
   "pygments_lexer": "ipython3",
   "version": "3.8.5"
  },
  "toc": {
   "base_numbering": 1,
   "nav_menu": {},
   "number_sections": false,
   "sideBar": true,
   "skip_h1_title": false,
   "title_cell": "Table of Contents",
   "title_sidebar": "Contents",
   "toc_cell": false,
   "toc_position": {},
   "toc_section_display": true,
   "toc_window_display": false
  }
 },
 "nbformat": 4,
 "nbformat_minor": 1
}
