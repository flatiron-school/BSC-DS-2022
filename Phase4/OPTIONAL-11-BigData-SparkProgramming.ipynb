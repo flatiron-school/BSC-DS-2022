{
 "cells": [
  {
   "cell_type": "markdown",
   "metadata": {
    "toc": true
   },
   "source": [
    "<h1>Table of Contents<span class=\"tocSkip\"></span></h1>\n",
    "<div class=\"toc\"><ul class=\"toc-item\"><li><span><a href=\"#Objectives\" data-toc-modified-id=\"Objectives-1\"><span class=\"toc-item-num\">1&nbsp;&nbsp;</span>Objectives</a></span></li><li><span><a href=\"#Spark:-Getting-Started\" data-toc-modified-id=\"Spark:-Getting-Started-2\"><span class=\"toc-item-num\">2&nbsp;&nbsp;</span>Spark: Getting Started</a></span><ul class=\"toc-item\"><li><span><a href=\"#Optional-Step-0:-Prerequisites-&amp;-Installation-for-Databricks-or-Colab\" data-toc-modified-id=\"Optional-Step-0:-Prerequisites-&amp;-Installation-for-Databricks-or-Colab-2.1\"><span class=\"toc-item-num\">2.1&nbsp;&nbsp;</span>Optional Step 0: Prerequisites &amp; Installation for Databricks or Colab</a></span><ul class=\"toc-item\"><li><span><a href=\"#Databricks-Setup\" data-toc-modified-id=\"Databricks-Setup-2.1.1\"><span class=\"toc-item-num\">2.1.1&nbsp;&nbsp;</span>Databricks Setup</a></span></li></ul></li><li><span><a href=\"#Step-1:-Create-a-SparkSession-with-a-SparkContext\" data-toc-modified-id=\"Step-1:-Create-a-SparkSession-with-a-SparkContext-2.2\"><span class=\"toc-item-num\">2.2&nbsp;&nbsp;</span>Step 1: Create a SparkSession with a SparkContext</a></span></li><li><span><a href=\"#Step-2:-Download-some-Amazon-reviews-(Toys-&amp;-Games)\" data-toc-modified-id=\"Step-2:-Download-some-Amazon-reviews-(Toys-&amp;-Games)-2.3\"><span class=\"toc-item-num\">2.3&nbsp;&nbsp;</span>Step 2: Download some Amazon reviews (Toys &amp; Games)</a></span><ul class=\"toc-item\"><li><span><a href=\"#Optional:-For-Databricks-Setup\" data-toc-modified-id=\"Optional:-For-Databricks-Setup-2.3.1\"><span class=\"toc-item-num\">2.3.1&nbsp;&nbsp;</span>Optional: For Databricks Setup</a></span></li></ul></li><li><span><a href=\"#Step-3:-Create-a-Spark-DataFrame\" data-toc-modified-id=\"Step-3:-Create-a-Spark-DataFrame-2.4\"><span class=\"toc-item-num\">2.4&nbsp;&nbsp;</span>Step 3: Create a Spark DataFrame</a></span></li><li><span><a href=\"#Exploring-the-DataFrame\" data-toc-modified-id=\"Exploring-the-DataFrame-2.5\"><span class=\"toc-item-num\">2.5&nbsp;&nbsp;</span>Exploring the DataFrame</a></span><ul class=\"toc-item\"><li><span><a href=\"#Count-the-Words-in-the-First-Row\" data-toc-modified-id=\"Count-the-Words-in-the-First-Row-2.5.1\"><span class=\"toc-item-num\">2.5.1&nbsp;&nbsp;</span>Count the Words in the First Row</a></span></li><li><span><a href=\"#A-Few-More-Basic-Commands\" data-toc-modified-id=\"A-Few-More-Basic-Commands-2.5.2\"><span class=\"toc-item-num\">2.5.2&nbsp;&nbsp;</span>A Few More Basic Commands</a></span></li></ul></li><li><span><a href=\"#Reading-files\" data-toc-modified-id=\"Reading-files-2.6\"><span class=\"toc-item-num\">2.6&nbsp;&nbsp;</span>Reading files</a></span></li></ul></li></ul></div>"
   ]
  },
  {
   "cell_type": "markdown",
   "metadata": {},
   "source": [
    "<a href=\"https://colab.research.google.com/github/flatiron-school/ds-spark/blob/main/spark-programming.ipynb\" target=\"_parent\"><img src=\"https://colab.research.google.com/assets/colab-badge.svg\" alt=\"Open In Colab\"/></a>"
   ]
  },
  {
   "cell_type": "code",
   "execution_count": null,
   "metadata": {},
   "outputs": [],
   "source": [
    "# Run for Google Colab environment\n",
    "!pip install pyspark==3.2.1\n",
    "!apt install openjdk-8-jdk-headless -qq"
   ]
  },
  {
   "cell_type": "code",
   "execution_count": null,
   "metadata": {},
   "outputs": [],
   "source": [
    "import pyspark\n",
    "import pyspark.sql.functions as F\n",
    "from pyspark.sql.types import ArrayType, IntegerType"
   ]
  },
  {
   "cell_type": "markdown",
   "metadata": {
    "heading_collapsed": true
   },
   "source": [
    "# Objectives"
   ]
  },
  {
   "cell_type": "markdown",
   "metadata": {
    "hidden": true
   },
   "source": [
    "- Use `pyspark` to manipulate data"
   ]
  },
  {
   "cell_type": "markdown",
   "metadata": {
    "application/vnd.databricks.v1+cell": {
     "inputWidgets": {},
     "nuid": "aff0ce01-e486-4e8c-be60-9022526bc6fe",
     "showTitle": false,
     "title": ""
    },
    "heading_collapsed": true
   },
   "source": [
    "# Spark: Getting Started"
   ]
  },
  {
   "cell_type": "markdown",
   "metadata": {
    "application/vnd.databricks.v1+cell": {
     "inputWidgets": {},
     "nuid": "2601af14-bfc3-47bb-a24c-2544bcb9e674",
     "showTitle": false,
     "title": ""
    },
    "heading_collapsed": true,
    "hidden": true
   },
   "source": [
    "## Optional Step 0: Prerequisites & Installation for Databricks or Local Run"
   ]
  },
  {
   "cell_type": "markdown",
   "metadata": {
    "hidden": true
   },
   "source": [
    "> If you run this notebook in Google Colab (clicking the button at the beginning of this notebook that says \"*Open in Colab*\") you can skip to [Step 1](#Step-1:-Create-a-SparkSession-with-a-SparkContext)"
   ]
  },
  {
   "cell_type": "markdown",
   "metadata": {
    "heading_collapsed": true,
    "hidden": true
   },
   "source": [
    "### Databricks Setup"
   ]
  },
  {
   "cell_type": "markdown",
   "metadata": {
    "application/vnd.databricks.v1+cell": {
     "inputWidgets": {},
     "nuid": "2601af14-bfc3-47bb-a24c-2544bcb9e674",
     "showTitle": false,
     "title": ""
    },
    "hidden": true
   },
   "source": [
    "Follow [these instructions](https://docs.databricks.com/notebooks/notebooks-manage.html#import-a-notebook) to import this notebook into Databricks"
   ]
  },
  {
   "cell_type": "markdown",
   "metadata": {},
   "source": [
    "For local installation see [here](https://github.com/learn-co-curriculum/dsc-spark-docker-installation)."
   ]
  },
  {
   "cell_type": "markdown",
   "metadata": {
    "application/vnd.databricks.v1+cell": {
     "inputWidgets": {},
     "nuid": "2b1411e7-bd55-4320-b501-5d1c3f2b5e7b",
     "showTitle": false,
     "title": ""
    },
    "heading_collapsed": true,
    "hidden": true
   },
   "source": [
    "## Step 1: Create a SparkSession with a SparkContext"
   ]
  },
  {
   "cell_type": "code",
   "execution_count": null,
   "metadata": {
    "application/vnd.databricks.v1+cell": {
     "inputWidgets": {},
     "nuid": "789329b9-b2d0-4dfc-af31-8e320bbc1887",
     "showTitle": false,
     "title": ""
    },
    "hidden": true
   },
   "outputs": [],
   "source": [
    "spark = pyspark.sql.SparkSession.builder.getOrCreate()\n",
    "sc = spark.sparkContext"
   ]
  },
  {
   "cell_type": "code",
   "execution_count": null,
   "metadata": {
    "application/vnd.databricks.v1+cell": {
     "inputWidgets": {},
     "nuid": "23667ae8-70f9-4770-bb46-6e7772a5b868",
     "showTitle": false,
     "title": ""
    },
    "hidden": true
   },
   "outputs": [],
   "source": [
    "spark"
   ]
  },
  {
   "cell_type": "code",
   "execution_count": null,
   "metadata": {
    "application/vnd.databricks.v1+cell": {
     "inputWidgets": {},
     "nuid": "44cc35f2-73d3-4d31-940f-c876710b737c",
     "showTitle": false,
     "title": ""
    },
    "hidden": true
   },
   "outputs": [],
   "source": [
    "sc"
   ]
  },
  {
   "cell_type": "markdown",
   "metadata": {
    "application/vnd.databricks.v1+cell": {
     "inputWidgets": {},
     "nuid": "646e3ec5-bb21-4df6-88dc-c7135d0b2455",
     "showTitle": false,
     "title": ""
    },
    "heading_collapsed": true,
    "hidden": true
   },
   "source": [
    "## Step 2: Download some Amazon reviews (Toys & Games)"
   ]
  },
  {
   "cell_type": "code",
   "execution_count": null,
   "metadata": {
    "application/vnd.databricks.v1+cell": {
     "inputWidgets": {},
     "nuid": "f61a7c8c-e7db-4981-8354-c65b8f8ae326",
     "showTitle": false,
     "title": ""
    },
    "hidden": true
   },
   "outputs": [],
   "source": [
    "# Get data directly from repo\n",
    "!wget https://github.com/flatiron-school/ds-spark/releases/download/v1.0/reviews_Toys_and_Games_5.json.gz"
   ]
  },
  {
   "cell_type": "markdown",
   "metadata": {
    "heading_collapsed": true,
    "hidden": true
   },
   "source": [
    "### Optional: For Databricks Setup"
   ]
  },
  {
   "cell_type": "markdown",
   "metadata": {
    "application/vnd.databricks.v1+cell": {
     "inputWidgets": {},
     "nuid": "654b4a58-ef41-4d5a-81cf-47461551087b",
     "showTitle": false,
     "title": ""
    },
    "hidden": true
   },
   "source": [
    "Follow [these instructions](https://docs.databricks.com/data/data.html#import-data-1) to import `reviews_Toys_and_Games_5.json` into Databricks"
   ]
  },
  {
   "cell_type": "markdown",
   "metadata": {
    "application/vnd.databricks.v1+cell": {
     "inputWidgets": {},
     "nuid": "fdac9228-261d-4c0c-b4ff-9fcfcd972830",
     "showTitle": false,
     "title": ""
    },
    "heading_collapsed": true,
    "hidden": true
   },
   "source": [
    "## Step 3: Create a Spark DataFrame"
   ]
  },
  {
   "cell_type": "code",
   "execution_count": null,
   "metadata": {
    "application/vnd.databricks.v1+cell": {
     "inputWidgets": {},
     "nuid": "3225c644-ef23-4ee9-9d2b-46fc578811ae",
     "showTitle": false,
     "title": ""
    },
    "hidden": true
   },
   "outputs": [],
   "source": [
    "# this file path will be different if you are running Spark locally\n",
    "df = spark.read.json('reviews_Toys_and_Games_5.json.gz')"
   ]
  },
  {
   "cell_type": "code",
   "execution_count": null,
   "metadata": {
    "application/vnd.databricks.v1+cell": {
     "inputWidgets": {},
     "nuid": "49e85347-dccb-4b1d-ae5b-858984be845d",
     "showTitle": false,
     "title": ""
    },
    "hidden": true
   },
   "outputs": [],
   "source": [
    "df.persist()"
   ]
  },
  {
   "cell_type": "markdown",
   "metadata": {
    "application/vnd.databricks.v1+cell": {
     "inputWidgets": {},
     "nuid": "840ef494-2da1-4f21-822e-35f50946d1b2",
     "showTitle": false,
     "title": ""
    },
    "hidden": true
   },
   "source": [
    "This last command, `.persist()`, simply stores the DataFrame in memory. See [this page](https://unraveldata.com/to-cache-or-not-to-cache/). It is similar to `.cache()`, but actually more flexible than the latter since you can specify which storage level you want. See [here](https://stackoverflow.com/questions/26870537/what-is-the-difference-between-cache-and-persist)."
   ]
  },
  {
   "cell_type": "code",
   "execution_count": null,
   "metadata": {
    "application/vnd.databricks.v1+cell": {
     "inputWidgets": {},
     "nuid": "3f4073b4-97af-43df-8301-92c3d603292e",
     "showTitle": false,
     "title": ""
    },
    "hidden": true
   },
   "outputs": [],
   "source": [
    "type(df)"
   ]
  },
  {
   "cell_type": "code",
   "execution_count": null,
   "metadata": {
    "application/vnd.databricks.v1+cell": {
     "inputWidgets": {},
     "nuid": "1abb1b5b-b641-423e-9118-6af670e96912",
     "showTitle": false,
     "title": ""
    },
    "hidden": true
   },
   "outputs": [],
   "source": [
    "df.show(5) # default of 20 lines"
   ]
  },
  {
   "cell_type": "code",
   "execution_count": null,
   "metadata": {
    "application/vnd.databricks.v1+cell": {
     "inputWidgets": {},
     "nuid": "2ac4f27c-75e6-4800-bbae-8635e46c61f7",
     "showTitle": false,
     "title": ""
    },
    "hidden": true
   },
   "outputs": [],
   "source": [
    "pdf = df.limit(5).toPandas()\n",
    "pdf"
   ]
  },
  {
   "cell_type": "code",
   "execution_count": null,
   "metadata": {
    "application/vnd.databricks.v1+cell": {
     "inputWidgets": {},
     "nuid": "3c69f161-1cd2-48b6-9d06-49443006a84f",
     "showTitle": false,
     "title": ""
    },
    "hidden": true
   },
   "outputs": [],
   "source": [
    "type(pdf)"
   ]
  },
  {
   "cell_type": "code",
   "execution_count": null,
   "metadata": {
    "application/vnd.databricks.v1+cell": {
     "inputWidgets": {},
     "nuid": "32d19406-c61e-4704-9469-2751732065cc",
     "showTitle": false,
     "title": ""
    },
    "hidden": true
   },
   "outputs": [],
   "source": [
    "df.count()"
   ]
  },
  {
   "cell_type": "code",
   "execution_count": null,
   "metadata": {
    "application/vnd.databricks.v1+cell": {
     "inputWidgets": {},
     "nuid": "7182558c-0a2d-4f69-8dbe-07a82d5ca5e6",
     "showTitle": false,
     "title": ""
    },
    "hidden": true
   },
   "outputs": [],
   "source": [
    "df.columns"
   ]
  },
  {
   "cell_type": "code",
   "execution_count": null,
   "metadata": {
    "application/vnd.databricks.v1+cell": {
     "inputWidgets": {},
     "nuid": "05d96345-c5e6-44d7-9312-3c69df479183",
     "showTitle": false,
     "title": ""
    },
    "hidden": true
   },
   "outputs": [],
   "source": [
    "df.printSchema()"
   ]
  },
  {
   "cell_type": "markdown",
   "metadata": {
    "application/vnd.databricks.v1+cell": {
     "inputWidgets": {},
     "nuid": "3755a345-94e2-43f7-8f68-89eb7b17f672",
     "showTitle": false,
     "title": ""
    },
    "hidden": true
   },
   "source": [
    "The 'nullable = true' bit means that the relevant column tolerates null values."
   ]
  },
  {
   "cell_type": "code",
   "execution_count": null,
   "metadata": {
    "application/vnd.databricks.v1+cell": {
     "inputWidgets": {},
     "nuid": "d89f5c27-ce27-4868-89d1-e5bf92244945",
     "showTitle": false,
     "title": ""
    },
    "hidden": true
   },
   "outputs": [],
   "source": [
    "df.describe().show()"
   ]
  },
  {
   "cell_type": "code",
   "execution_count": null,
   "metadata": {
    "application/vnd.databricks.v1+cell": {
     "inputWidgets": {},
     "nuid": "8ace905b-4de6-4607-a4d5-f675fb408f8b",
     "showTitle": false,
     "title": ""
    },
    "hidden": true
   },
   "outputs": [],
   "source": [
    "df.describe('overall').show()"
   ]
  },
  {
   "cell_type": "code",
   "execution_count": null,
   "metadata": {
    "application/vnd.databricks.v1+cell": {
     "inputWidgets": {},
     "nuid": "4e3d146c-e3c1-4d19-ac82-22db78214fdc",
     "showTitle": false,
     "title": ""
    },
    "hidden": true
   },
   "outputs": [],
   "source": [
    "reviews_df = df[['asin', 'overall']]"
   ]
  },
  {
   "cell_type": "code",
   "execution_count": null,
   "metadata": {
    "application/vnd.databricks.v1+cell": {
     "inputWidgets": {},
     "nuid": "bbfe080b-a70c-48d0-b6c7-14c30b18b6e3",
     "showTitle": false,
     "title": ""
    },
    "hidden": true
   },
   "outputs": [],
   "source": [
    "reviews_df.show()"
   ]
  },
  {
   "cell_type": "code",
   "execution_count": null,
   "metadata": {
    "application/vnd.databricks.v1+cell": {
     "inputWidgets": {},
     "nuid": "ab7b77e1-ef41-439c-b9b7-f4ee2bc939d2",
     "showTitle": false,
     "title": ""
    },
    "hidden": true
   },
   "outputs": [],
   "source": [
    "def show(df, n=5):\n",
    "    return df.limit(n).toPandas()"
   ]
  },
  {
   "cell_type": "code",
   "execution_count": null,
   "metadata": {
    "application/vnd.databricks.v1+cell": {
     "inputWidgets": {},
     "nuid": "ea38b850-817b-4042-bf20-5d825bb8c371",
     "showTitle": false,
     "title": ""
    },
    "hidden": true
   },
   "outputs": [],
   "source": [
    "show(reviews_df)"
   ]
  },
  {
   "cell_type": "code",
   "execution_count": null,
   "metadata": {
    "application/vnd.databricks.v1+cell": {
     "inputWidgets": {},
     "nuid": "1b84bbb5-35bc-4dd8-a2ce-2d382ab710be",
     "showTitle": false,
     "title": ""
    },
    "hidden": true
   },
   "outputs": [],
   "source": [
    "reviews_df.count()"
   ]
  },
  {
   "cell_type": "code",
   "execution_count": null,
   "metadata": {
    "application/vnd.databricks.v1+cell": {
     "inputWidgets": {},
     "nuid": "3eb4b79a-a098-4acf-a5b0-80fcff1ff1b1",
     "showTitle": false,
     "title": ""
    },
    "hidden": true
   },
   "outputs": [],
   "source": [
    "sorted_review_df = reviews_df.sort('overall')"
   ]
  },
  {
   "cell_type": "code",
   "execution_count": null,
   "metadata": {
    "application/vnd.databricks.v1+cell": {
     "inputWidgets": {},
     "nuid": "0517bcf0-c7ee-47ae-9655-9900f7858382",
     "showTitle": false,
     "title": ""
    },
    "hidden": true
   },
   "outputs": [],
   "source": [
    "show(sorted_review_df)"
   ]
  },
  {
   "cell_type": "code",
   "execution_count": null,
   "metadata": {
    "application/vnd.databricks.v1+cell": {
     "inputWidgets": {},
     "nuid": "67cc3b28-b436-4695-9317-f3997b60e748",
     "showTitle": false,
     "title": ""
    },
    "hidden": true
   },
   "outputs": [],
   "source": [
    "counts = reviews_df.agg(F.countDistinct('overall'))"
   ]
  },
  {
   "cell_type": "code",
   "execution_count": null,
   "metadata": {
    "application/vnd.databricks.v1+cell": {
     "inputWidgets": {},
     "nuid": "67c47823-ae78-4bd8-b8f3-a1c9145913b9",
     "showTitle": false,
     "title": ""
    },
    "hidden": true
   },
   "outputs": [],
   "source": [
    "counts.show()"
   ]
  },
  {
   "cell_type": "code",
   "execution_count": null,
   "metadata": {
    "application/vnd.databricks.v1+cell": {
     "inputWidgets": {},
     "nuid": "ca103060-bd12-40e3-bda4-68e235a62cd1",
     "showTitle": false,
     "title": ""
    },
    "hidden": true
   },
   "outputs": [],
   "source": [
    "query = \"\"\"\n",
    "SELECT overall, COUNT(*)\n",
    "FROM reviews\n",
    "GROUP BY overall\n",
    "ORDER BY overall\n",
    "\"\"\""
   ]
  },
  {
   "cell_type": "code",
   "execution_count": null,
   "metadata": {
    "application/vnd.databricks.v1+cell": {
     "inputWidgets": {},
     "nuid": "e702ccad-1e1d-426e-b036-e0517d3e13a7",
     "showTitle": false,
     "title": ""
    },
    "hidden": true
   },
   "outputs": [],
   "source": [
    "reviews_df.createOrReplaceTempView('reviews')"
   ]
  },
  {
   "cell_type": "code",
   "execution_count": null,
   "metadata": {
    "application/vnd.databricks.v1+cell": {
     "inputWidgets": {},
     "nuid": "800fc51a-80db-46a0-9cbb-fb663ba61244",
     "showTitle": false,
     "title": ""
    },
    "hidden": true
   },
   "outputs": [],
   "source": [
    "output = spark.sql(query)"
   ]
  },
  {
   "cell_type": "code",
   "execution_count": null,
   "metadata": {
    "application/vnd.databricks.v1+cell": {
     "inputWidgets": {},
     "nuid": "23e8947c-4e29-434d-9fd7-9f70fc2bd2c0",
     "showTitle": false,
     "title": ""
    },
    "hidden": true
   },
   "outputs": [],
   "source": [
    "show(output)"
   ]
  },
  {
   "cell_type": "code",
   "execution_count": null,
   "metadata": {
    "application/vnd.databricks.v1+cell": {
     "inputWidgets": {},
     "nuid": "827e2336-0625-4a3a-ad01-a796868e72d3",
     "showTitle": false,
     "title": ""
    },
    "hidden": true
   },
   "outputs": [],
   "source": [
    "output.collect()"
   ]
  },
  {
   "cell_type": "code",
   "execution_count": null,
   "metadata": {
    "application/vnd.databricks.v1+cell": {
     "inputWidgets": {},
     "nuid": "1fdf1d36-0ada-420d-be70-39535ca5199b",
     "showTitle": false,
     "title": ""
    },
    "hidden": true
   },
   "outputs": [],
   "source": [
    "reviews_df.count() - sum(output.collect()[i][1] for i in range(5))"
   ]
  },
  {
   "cell_type": "code",
   "execution_count": null,
   "metadata": {
    "application/vnd.databricks.v1+cell": {
     "inputWidgets": {},
     "nuid": "30014127-2067-4519-afdc-a06313566e17",
     "showTitle": false,
     "title": ""
    },
    "hidden": true
   },
   "outputs": [],
   "source": [
    "type(reviews_df)"
   ]
  },
  {
   "cell_type": "markdown",
   "metadata": {
    "application/vnd.databricks.v1+cell": {
     "inputWidgets": {},
     "nuid": "720ba532-483c-41ac-b31a-d6c022b31ed3",
     "showTitle": false,
     "title": ""
    },
    "hidden": true
   },
   "source": [
    "Convert to RDD!"
   ]
  },
  {
   "cell_type": "code",
   "execution_count": null,
   "metadata": {
    "application/vnd.databricks.v1+cell": {
     "inputWidgets": {},
     "nuid": "d7dcf271-fbd2-48e6-9ff4-7df92f7fd4f4",
     "showTitle": false,
     "title": ""
    },
    "hidden": true
   },
   "outputs": [],
   "source": [
    "reviews_df.rdd"
   ]
  },
  {
   "cell_type": "code",
   "execution_count": null,
   "metadata": {
    "application/vnd.databricks.v1+cell": {
     "inputWidgets": {},
     "nuid": "39c964ae-7ce0-45a7-8cd8-b131450e01ae",
     "showTitle": false,
     "title": ""
    },
    "hidden": true
   },
   "outputs": [],
   "source": [
    "type(reviews_df.rdd)"
   ]
  },
  {
   "cell_type": "markdown",
   "metadata": {
    "heading_collapsed": true,
    "hidden": true
   },
   "source": [
    "## Exploring the DataFrame"
   ]
  },
  {
   "cell_type": "markdown",
   "metadata": {
    "application/vnd.databricks.v1+cell": {
     "inputWidgets": {},
     "nuid": "749b839f-72f3-4f7a-b568-c3f1961f128c",
     "showTitle": false,
     "title": ""
    },
    "heading_collapsed": true,
    "hidden": true
   },
   "source": [
    "### Count the Words in the First Row"
   ]
  },
  {
   "cell_type": "code",
   "execution_count": null,
   "metadata": {
    "application/vnd.databricks.v1+cell": {
     "inputWidgets": {},
     "nuid": "0222dcf1-a224-4c32-9896-d1a6d287e49c",
     "showTitle": false,
     "title": ""
    },
    "hidden": true
   },
   "outputs": [],
   "source": [
    "row_one = df.first()"
   ]
  },
  {
   "cell_type": "code",
   "execution_count": null,
   "metadata": {
    "application/vnd.databricks.v1+cell": {
     "inputWidgets": {},
     "nuid": "939d3997-8d51-4594-9b5a-737bb7a0458d",
     "showTitle": false,
     "title": ""
    },
    "hidden": true
   },
   "outputs": [],
   "source": [
    "row_one"
   ]
  },
  {
   "cell_type": "code",
   "execution_count": null,
   "metadata": {
    "application/vnd.databricks.v1+cell": {
     "inputWidgets": {},
     "nuid": "f72dec72-0ea2-4fbc-ac3b-df83fb71095c",
     "showTitle": false,
     "title": ""
    },
    "hidden": true
   },
   "outputs": [],
   "source": [
    "def word_count(text):\n",
    "    return len(text.split())"
   ]
  },
  {
   "cell_type": "code",
   "execution_count": null,
   "metadata": {
    "application/vnd.databricks.v1+cell": {
     "inputWidgets": {},
     "nuid": "20efd1cc-64ea-4ceb-9119-1ab79bd1446b",
     "showTitle": false,
     "title": ""
    },
    "hidden": true
   },
   "outputs": [],
   "source": [
    "word_count(row_one['reviewText'])"
   ]
  },
  {
   "cell_type": "code",
   "execution_count": null,
   "metadata": {
    "application/vnd.databricks.v1+cell": {
     "inputWidgets": {},
     "nuid": "4ba88cbc-649b-44d2-be0a-25e85e9366d9",
     "showTitle": false,
     "title": ""
    },
    "hidden": true
   },
   "outputs": [],
   "source": [
    "#'udf' is for User Defined Function!\n",
    "\n",
    "word_count_udf = F.udf(word_count, returnType=IntegerType())"
   ]
  },
  {
   "cell_type": "code",
   "execution_count": null,
   "metadata": {
    "application/vnd.databricks.v1+cell": {
     "inputWidgets": {},
     "nuid": "857f6592-b913-4d4d-8917-66b67fa8b4e7",
     "showTitle": false,
     "title": ""
    },
    "hidden": true
   },
   "outputs": [],
   "source": [
    "review_text_col = df['reviewText']"
   ]
  },
  {
   "cell_type": "code",
   "execution_count": null,
   "metadata": {
    "application/vnd.databricks.v1+cell": {
     "inputWidgets": {},
     "nuid": "c18e3b60-06de-4d94-bd94-9863d1a70db7",
     "showTitle": false,
     "title": ""
    },
    "hidden": true
   },
   "outputs": [],
   "source": [
    "counts_df = df.withColumn('wordCount', word_count_udf(review_text_col))"
   ]
  },
  {
   "cell_type": "code",
   "execution_count": null,
   "metadata": {
    "application/vnd.databricks.v1+cell": {
     "inputWidgets": {},
     "nuid": "5b7f69d2-917b-4b15-ba47-4fe656debf4d",
     "showTitle": false,
     "title": ""
    },
    "hidden": true
   },
   "outputs": [],
   "source": [
    "# Remember that we set the default number of lines to show at 5.\n",
    "\n",
    "show(counts_df).T"
   ]
  },
  {
   "cell_type": "code",
   "execution_count": null,
   "metadata": {
    "application/vnd.databricks.v1+cell": {
     "inputWidgets": {},
     "nuid": "4ae2b8dc-c83d-4dd9-9cc3-371d474f8d4a",
     "showTitle": false,
     "title": ""
    },
    "hidden": true
   },
   "outputs": [],
   "source": [
    "word_count_udf = F.udf(word_count, IntegerType())\n",
    "\n",
    "# Registering our word_count() function so that we\n",
    "# can use it with SQL! See documentation here:\n",
    "# https://jaceklaskowski.gitbooks.io/mastering-spark-sql/spark-sql-UDFRegistration.html\n",
    "\n",
    "df.createOrReplaceTempView('reviews')\n",
    "spark.udf.register('word_count', word_count_udf)"
   ]
  },
  {
   "cell_type": "code",
   "execution_count": null,
   "metadata": {
    "application/vnd.databricks.v1+cell": {
     "inputWidgets": {},
     "nuid": "2d2875cb-375b-4ba5-b089-00a0302dc549",
     "showTitle": false,
     "title": ""
    },
    "hidden": true
   },
   "outputs": [],
   "source": [
    "# Now we can use our function in a SQL query!\n",
    "\n",
    "query = \"\"\"\n",
    "SELECT asin, overall, reviewText, word_count(reviewText) AS wordCount\n",
    "FROM reviews\n",
    "\"\"\""
   ]
  },
  {
   "cell_type": "code",
   "execution_count": null,
   "metadata": {
    "application/vnd.databricks.v1+cell": {
     "inputWidgets": {},
     "nuid": "4b5569c1-e96f-4ddd-9ac6-aa85d190a9d4",
     "showTitle": false,
     "title": ""
    },
    "hidden": true
   },
   "outputs": [],
   "source": [
    "counts_df = spark.sql(query)"
   ]
  },
  {
   "cell_type": "code",
   "execution_count": null,
   "metadata": {
    "application/vnd.databricks.v1+cell": {
     "inputWidgets": {},
     "nuid": "deb39966-8067-4ed1-83c5-f8f4d223d36c",
     "showTitle": false,
     "title": ""
    },
    "hidden": true
   },
   "outputs": [],
   "source": [
    "show(counts_df)"
   ]
  },
  {
   "cell_type": "code",
   "execution_count": null,
   "metadata": {
    "application/vnd.databricks.v1+cell": {
     "inputWidgets": {},
     "nuid": "f6697610-c546-458b-b19f-06d834c4a948",
     "showTitle": false,
     "title": ""
    },
    "hidden": true
   },
   "outputs": [],
   "source": [
    "def count_all_the_things(text):\n",
    "    return [len(text), len(text.split())]"
   ]
  },
  {
   "cell_type": "code",
   "execution_count": null,
   "metadata": {
    "application/vnd.databricks.v1+cell": {
     "inputWidgets": {},
     "nuid": "06dda3a0-bbbd-4f55-9f41-fea2d215f28f",
     "showTitle": false,
     "title": ""
    },
    "hidden": true
   },
   "outputs": [],
   "source": [
    "count_udf = F.udf(count_all_the_things, returnType=ArrayType(IntegerType()))"
   ]
  },
  {
   "cell_type": "code",
   "execution_count": null,
   "metadata": {
    "application/vnd.databricks.v1+cell": {
     "inputWidgets": {},
     "nuid": "b3b6d194-aaf5-4981-8f7b-d52ba6542983",
     "showTitle": false,
     "title": ""
    },
    "hidden": true
   },
   "outputs": [],
   "source": [
    "counts_df = df.withColumn('counts', count_udf(df['reviewText']))"
   ]
  },
  {
   "cell_type": "code",
   "execution_count": null,
   "metadata": {
    "application/vnd.databricks.v1+cell": {
     "inputWidgets": {},
     "nuid": "1bdd4dcb-61fa-4bb9-b693-1623db4eca09",
     "showTitle": false,
     "title": ""
    },
    "hidden": true
   },
   "outputs": [],
   "source": [
    "show(counts_df, 1)"
   ]
  },
  {
   "cell_type": "code",
   "execution_count": null,
   "metadata": {
    "application/vnd.databricks.v1+cell": {
     "inputWidgets": {},
     "nuid": "8f6e8d2e-0259-4f00-ae12-aff4acba4f82",
     "showTitle": false,
     "title": ""
    },
    "hidden": true
   },
   "outputs": [],
   "source": [
    "slim_counts_df = (\n",
    "    df.drop('reviewTime', 'helpful')\n",
    "#       .drop('helpful')\n",
    "      .withColumn('counts', count_udf(df['reviewText']))\n",
    "      .drop('reviewText')\n",
    ")"
   ]
  },
  {
   "cell_type": "code",
   "execution_count": null,
   "metadata": {
    "application/vnd.databricks.v1+cell": {
     "inputWidgets": {},
     "nuid": "3ec3545c-e50c-4d4f-a400-0339dc9d3503",
     "showTitle": false,
     "title": ""
    },
    "hidden": true
   },
   "outputs": [],
   "source": [
    "show(slim_counts_df, n=1)"
   ]
  },
  {
   "cell_type": "code",
   "execution_count": null,
   "metadata": {
    "application/vnd.databricks.v1+cell": {
     "inputWidgets": {},
     "nuid": "20e34a20-d0b0-413d-b728-0cad3d222d5d",
     "showTitle": false,
     "title": ""
    },
    "hidden": true
   },
   "outputs": [],
   "source": [
    "aggs = counts_df.groupBy('reviewerID').agg({'overall': 'mean'})\n",
    "aggs.collect()"
   ]
  },
  {
   "cell_type": "markdown",
   "metadata": {
    "application/vnd.databricks.v1+cell": {
     "inputWidgets": {},
     "nuid": "eccd843f-e332-45f7-b792-51469fab6fda",
     "showTitle": false,
     "title": ""
    },
    "heading_collapsed": true,
    "hidden": true
   },
   "source": [
    "### A Few More Basic Commands"
   ]
  },
  {
   "cell_type": "markdown",
   "metadata": {
    "application/vnd.databricks.v1+cell": {
     "inputWidgets": {},
     "nuid": "eccd843f-e332-45f7-b792-51469fab6fda",
     "showTitle": false,
     "title": ""
    },
    "hidden": true
   },
   "source": [
    "Please refer also to the [official programming guide](http://spark.apache.org/docs/latest/rdd-programming-guide.html)."
   ]
  },
  {
   "cell_type": "code",
   "execution_count": null,
   "metadata": {
    "application/vnd.databricks.v1+cell": {
     "inputWidgets": {},
     "nuid": "4975bd10-bb96-4015-bad0-e98f123de1b0",
     "showTitle": false,
     "title": ""
    },
    "hidden": true
   },
   "outputs": [],
   "source": [
    "data = [1, 2, 3, 4, 5]\n",
    "distData = sc.parallelize(data)"
   ]
  },
  {
   "cell_type": "code",
   "execution_count": null,
   "metadata": {
    "application/vnd.databricks.v1+cell": {
     "inputWidgets": {},
     "nuid": "ba3b72c4-ef42-4e70-83eb-a4864f672370",
     "showTitle": false,
     "title": ""
    },
    "hidden": true
   },
   "outputs": [],
   "source": [
    "def multiply(a, b):\n",
    "    return a * b"
   ]
  },
  {
   "cell_type": "code",
   "execution_count": null,
   "metadata": {
    "application/vnd.databricks.v1+cell": {
     "inputWidgets": {},
     "nuid": "d02938d0-4c35-444c-a093-50061bc49888",
     "showTitle": false,
     "title": ""
    },
    "hidden": true
   },
   "outputs": [],
   "source": [
    "distData.reduce(multiply)"
   ]
  },
  {
   "cell_type": "code",
   "execution_count": null,
   "metadata": {
    "application/vnd.databricks.v1+cell": {
     "inputWidgets": {},
     "nuid": "614077f3-bf9b-4038-bf3f-c640b0ad7e1e",
     "showTitle": false,
     "title": ""
    },
    "hidden": true
   },
   "outputs": [],
   "source": [
    "distData.filter(lambda x: x < 4).collect()"
   ]
  },
  {
   "cell_type": "markdown",
   "metadata": {
    "application/vnd.databricks.v1+cell": {
     "inputWidgets": {},
     "nuid": "d5cbbe3a-84c6-4b80-ada1-47d0d1623d6a",
     "showTitle": false,
     "title": ""
    },
    "heading_collapsed": true,
    "hidden": true
   },
   "source": [
    "## Reading files"
   ]
  },
  {
   "cell_type": "markdown",
   "metadata": {
    "application/vnd.databricks.v1+cell": {
     "inputWidgets": {},
     "nuid": "d5cbbe3a-84c6-4b80-ada1-47d0d1623d6a",
     "showTitle": false,
     "title": ""
    },
    "hidden": true
   },
   "source": [
    "```sc.textFile()``` for .txt files"
   ]
  },
  {
   "cell_type": "code",
   "execution_count": null,
   "metadata": {
    "application/vnd.databricks.v1+cell": {
     "inputWidgets": {},
     "nuid": "8a3c50c7-94ed-4d3c-9649-c3e7db168b35",
     "showTitle": false,
     "title": ""
    },
    "hidden": true
   },
   "outputs": [],
   "source": []
  },
  {
   "cell_type": "markdown",
   "metadata": {
    "application/vnd.databricks.v1+cell": {
     "inputWidgets": {},
     "nuid": "c047102e-d814-41a9-a2c2-e48419456197",
     "showTitle": false,
     "title": ""
    },
    "hidden": true
   },
   "source": [
    "`.toJSON()` for .json files"
   ]
  },
  {
   "cell_type": "code",
   "execution_count": null,
   "metadata": {
    "application/vnd.databricks.v1+cell": {
     "inputWidgets": {},
     "nuid": "1c17c36f-9dfe-4d93-8eb4-322e2b2f40c7",
     "showTitle": false,
     "title": ""
    },
    "hidden": true
   },
   "outputs": [],
   "source": [
    "dfjson = counts_df.toJSON()"
   ]
  },
  {
   "cell_type": "code",
   "execution_count": null,
   "metadata": {
    "application/vnd.databricks.v1+cell": {
     "inputWidgets": {},
     "nuid": "d4a791d2-8c63-449b-bdae-88f09e545253",
     "showTitle": false,
     "title": ""
    },
    "hidden": true
   },
   "outputs": [],
   "source": [
    "df2 = spark.read.json(dfjson)"
   ]
  },
  {
   "cell_type": "code",
   "execution_count": null,
   "metadata": {
    "application/vnd.databricks.v1+cell": {
     "inputWidgets": {},
     "nuid": "64eeb1ef-01b2-460e-9a1e-d1e71cd72482",
     "showTitle": false,
     "title": ""
    },
    "hidden": true
   },
   "outputs": [],
   "source": [
    "df2.printSchema()"
   ]
  },
  {
   "cell_type": "code",
   "execution_count": null,
   "metadata": {
    "application/vnd.databricks.v1+cell": {
     "inputWidgets": {},
     "nuid": "a4c21a29-4752-47d6-9140-d87e1e999433",
     "showTitle": false,
     "title": ""
    },
    "hidden": true
   },
   "outputs": [],
   "source": [
    "counts_df"
   ]
  },
  {
   "cell_type": "code",
   "execution_count": null,
   "metadata": {
    "application/vnd.databricks.v1+cell": {
     "inputWidgets": {},
     "nuid": "ba1cc630-305a-40d7-89a5-56a020dfe473",
     "showTitle": false,
     "title": ""
    },
    "hidden": true
   },
   "outputs": [],
   "source": [
    "type(df.toPandas())"
   ]
  }
 ],
 "metadata": {
  "application/vnd.databricks.v1+notebook": {
   "dashboards": [],
   "language": "python",
   "notebookName": "02-spark-programming",
   "notebookOrigID": 835564910129573,
   "widgets": {}
  },
  "kernelspec": {
   "display_name": "Python 3 (ipykernel)",
   "language": "python",
   "name": "python3"
  },
  "language_info": {
   "codemirror_mode": {
    "name": "ipython",
    "version": 3
   },
   "file_extension": ".py",
   "mimetype": "text/x-python",
   "name": "python",
   "nbconvert_exporter": "python",
   "pygments_lexer": "ipython3",
   "version": "3.9.5"
  },
  "toc": {
   "base_numbering": 1,
   "nav_menu": {},
   "number_sections": true,
   "sideBar": true,
   "skip_h1_title": false,
   "title_cell": "Table of Contents",
   "title_sidebar": "TOC",
   "toc_cell": true,
   "toc_position": {
    "height": "calc(100% - 180px)",
    "left": "10px",
    "top": "150px",
    "width": "288px"
   },
   "toc_section_display": true,
   "toc_window_display": true
  }
 },
 "nbformat": 4,
 "nbformat_minor": 1
}
