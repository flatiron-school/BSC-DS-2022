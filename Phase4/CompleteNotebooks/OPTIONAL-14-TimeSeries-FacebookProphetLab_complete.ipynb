{
 "cells": [
  {
   "cell_type": "markdown",
   "metadata": {},
   "source": [
    "# Facebook Prophet - Lab\n",
    "\n",
    "[Original lab repo](https://github.com/learn-co-curriculum/dsc-facebook-prophet-lab)\n",
    "\n",
    "## Introduction\n",
    "\n",
    "In the last lab, you learned how to visualize and manipulate time series data, and how to use ARIMA modeling to produce forecasts for time series data. You also learned how to conclude a correct parametrization of ARIMA models. This can be a complicated process, and while statistical programming languages such as R provide automated ways to solve this issue, those have yet to be officially ported over to Python. \n",
    "\n",
    "Fortunately, the Data Science team at Facebook recently published a new library called `fbprophet`, which enables data analysts and developers alike to perform forecasting at scale in Python. We encourage you to read [this article](https://research.fb.com/prophet-forecasting-at-scale/) by Facebook explaining how `fbprophet` simplifies the forecasting process and provides an improved predictive ability. \n",
    "\n",
    "## Objectives\n",
    "\n",
    "- Model a time series using the Facebook's Prophet \n",
    "- Describe the difference between ARIMA and Additive Synthesis for time series forecasting \n",
    "- Use the methods in the `fbprophet` library to plot predicted values \n",
    "\n",
    "## Facebook's Prophet\n",
    "\n",
    "Facebook's `prophet` uses an elegant yet simple method for analyzing and predicting periodic data known as the **additive modeling**. The idea is straightforward: represent a time series as a combination of patterns at different scales such as daily, weekly, seasonally, and yearly, along with an overall trend. Your energy use might rise in the summer and decrease in the winter, but have an overall decreasing trend as you increase the energy efficiency of your home. An additive model can show us both patterns/trends and make predictions based on these observations.\n",
    "\n",
    "The following image shows an additive model decomposition of a time series into an overall trend, yearly trend, and weekly trend.\n",
    "\n",
    "![](https://research.fb.com/wp-content/uploads/2017/02/prophet_example_for_post2.png?w=648)\n",
    "\n",
    "*“Prophet has been a key piece to improving Facebook’s ability to create a large number of trustworthy forecasts used for decision-making and even in product features.”*\n",
    "\n",
    "In order to compute its forecasts, the `fbprophet` library relies on the STAN programming language. Before installing `fbprophet`, you need to make sure that the `pystan` Python wrapper to STAN is installed. We shall first install `pystan` and `fbprophet` using `pip install`."
   ]
  },
  {
   "cell_type": "code",
   "execution_count": 1,
   "metadata": {},
   "outputs": [
    {
     "name": "stdout",
     "output_type": "stream",
     "text": [
      "Requirement already satisfied: pystan in /opt/anaconda3/envs/learn-env/lib/python3.8/site-packages (2.19.1.1)\n",
      "Requirement already satisfied: numpy>=1.7 in /opt/anaconda3/envs/learn-env/lib/python3.8/site-packages (from pystan) (1.19.5)\n",
      "Requirement already satisfied: Cython!=0.25.1,>=0.22 in /opt/anaconda3/envs/learn-env/lib/python3.8/site-packages (from pystan) (0.29.21)\n",
      "Requirement already satisfied: fbprophet in /opt/anaconda3/envs/learn-env/lib/python3.8/site-packages (0.7.1)\n",
      "Requirement already satisfied: cmdstanpy==0.9.5 in /opt/anaconda3/envs/learn-env/lib/python3.8/site-packages (from fbprophet) (0.9.5)\n",
      "Requirement already satisfied: setuptools-git>=1.2 in /opt/anaconda3/envs/learn-env/lib/python3.8/site-packages (from fbprophet) (1.2)\n",
      "Requirement already satisfied: numpy>=1.15.4 in /opt/anaconda3/envs/learn-env/lib/python3.8/site-packages (from fbprophet) (1.19.5)\n",
      "Requirement already satisfied: pandas>=1.0.4 in /opt/anaconda3/envs/learn-env/lib/python3.8/site-packages (from fbprophet) (1.1.3)\n",
      "Requirement already satisfied: LunarCalendar>=0.0.9 in /opt/anaconda3/envs/learn-env/lib/python3.8/site-packages (from fbprophet) (0.0.9)\n",
      "Requirement already satisfied: python-dateutil>=2.8.0 in /opt/anaconda3/envs/learn-env/lib/python3.8/site-packages (from fbprophet) (2.8.1)\n",
      "Requirement already satisfied: holidays>=0.10.2 in /opt/anaconda3/envs/learn-env/lib/python3.8/site-packages (from fbprophet) (0.10.3)\n",
      "Requirement already satisfied: pystan>=2.14 in /opt/anaconda3/envs/learn-env/lib/python3.8/site-packages (from fbprophet) (2.19.1.1)\n",
      "Requirement already satisfied: Cython>=0.22 in /opt/anaconda3/envs/learn-env/lib/python3.8/site-packages (from fbprophet) (0.29.21)\n",
      "Requirement already satisfied: tqdm>=4.36.1 in /opt/anaconda3/envs/learn-env/lib/python3.8/site-packages (from fbprophet) (4.50.2)\n",
      "Requirement already satisfied: matplotlib>=2.0.0 in /opt/anaconda3/envs/learn-env/lib/python3.8/site-packages (from fbprophet) (3.3.1)\n",
      "Requirement already satisfied: convertdate>=2.1.2 in /opt/anaconda3/envs/learn-env/lib/python3.8/site-packages (from fbprophet) (2.2.2)\n",
      "Requirement already satisfied: pytz>=2017.2 in /opt/anaconda3/envs/learn-env/lib/python3.8/site-packages (from pandas>=1.0.4->fbprophet) (2020.1)\n",
      "Requirement already satisfied: ephem>=3.7.5.3 in /opt/anaconda3/envs/learn-env/lib/python3.8/site-packages (from LunarCalendar>=0.0.9->fbprophet) (3.7.7.1)\n",
      "Requirement already satisfied: six>=1.5 in /opt/anaconda3/envs/learn-env/lib/python3.8/site-packages (from python-dateutil>=2.8.0->fbprophet) (1.15.0)\n",
      "Requirement already satisfied: korean-lunar-calendar in /opt/anaconda3/envs/learn-env/lib/python3.8/site-packages (from holidays>=0.10.2->fbprophet) (0.2.1)\n",
      "Requirement already satisfied: pyparsing!=2.0.4,!=2.1.2,!=2.1.6,>=2.0.3 in /opt/anaconda3/envs/learn-env/lib/python3.8/site-packages (from matplotlib>=2.0.0->fbprophet) (2.4.7)\n",
      "Requirement already satisfied: certifi>=2020.06.20 in /opt/anaconda3/envs/learn-env/lib/python3.8/site-packages (from matplotlib>=2.0.0->fbprophet) (2022.6.15)\n",
      "Requirement already satisfied: pillow>=6.2.0 in /opt/anaconda3/envs/learn-env/lib/python3.8/site-packages (from matplotlib>=2.0.0->fbprophet) (7.2.0)\n",
      "Requirement already satisfied: kiwisolver>=1.0.1 in /opt/anaconda3/envs/learn-env/lib/python3.8/site-packages (from matplotlib>=2.0.0->fbprophet) (1.2.0)\n",
      "Requirement already satisfied: cycler>=0.10 in /opt/anaconda3/envs/learn-env/lib/python3.8/site-packages (from matplotlib>=2.0.0->fbprophet) (0.10.0)\n",
      "Requirement already satisfied: pymeeus<=1,>=0.3.6 in /opt/anaconda3/envs/learn-env/lib/python3.8/site-packages (from convertdate>=2.1.2->fbprophet) (0.3.7)\n"
     ]
    }
   ],
   "source": [
    "# If installing from terminal\n",
    "# pip install pystan\n",
    "# pip install fbprophet\n",
    "\n",
    "# If installing from a jupyter notebook\n",
    "!pip install pystan\n",
    "!pip install fbprophet"
   ]
  },
  {
   "cell_type": "markdown",
   "metadata": {},
   "source": [
    "Let's start by reading in our time series data. We will cover some data manipulation using `pandas`, accessing financial data using the `Quandl` library, and plotting with `matplotlib`. "
   ]
  },
  {
   "cell_type": "code",
   "execution_count": 2,
   "metadata": {},
   "outputs": [],
   "source": [
    "# Import necessary libraries\n",
    "import warnings\n",
    "warnings.filterwarnings('ignore')\n",
    "\n",
    "import pandas as pd \n",
    "import matplotlib.pyplot as plt\n",
    "import matplotlib\n",
    "import seaborn as sns\n",
    "%matplotlib inline\n",
    "from matplotlib.pylab import rcParams\n",
    "plt.style.use('fivethirtyeight')\n",
    "\n",
    "from fbprophet import Prophet as proph"
   ]
  },
  {
   "cell_type": "code",
   "execution_count": 3,
   "metadata": {},
   "outputs": [],
   "source": [
    "# Import passengers.csv from data and set it as a time series\n",
    "df = pd.read_csv('data/passengers.csv')"
   ]
  },
  {
   "cell_type": "code",
   "execution_count": 4,
   "metadata": {},
   "outputs": [
    {
     "data": {
      "text/html": [
       "<div>\n",
       "<style scoped>\n",
       "    .dataframe tbody tr th:only-of-type {\n",
       "        vertical-align: middle;\n",
       "    }\n",
       "\n",
       "    .dataframe tbody tr th {\n",
       "        vertical-align: top;\n",
       "    }\n",
       "\n",
       "    .dataframe thead th {\n",
       "        text-align: right;\n",
       "    }\n",
       "</style>\n",
       "<table border=\"1\" class=\"dataframe\">\n",
       "  <thead>\n",
       "    <tr style=\"text-align: right;\">\n",
       "      <th></th>\n",
       "      <th>Month</th>\n",
       "      <th>#Passengers</th>\n",
       "    </tr>\n",
       "  </thead>\n",
       "  <tbody>\n",
       "    <tr>\n",
       "      <th>0</th>\n",
       "      <td>1949-01-01</td>\n",
       "      <td>112</td>\n",
       "    </tr>\n",
       "    <tr>\n",
       "      <th>1</th>\n",
       "      <td>1949-02-01</td>\n",
       "      <td>118</td>\n",
       "    </tr>\n",
       "    <tr>\n",
       "      <th>2</th>\n",
       "      <td>1949-03-01</td>\n",
       "      <td>132</td>\n",
       "    </tr>\n",
       "    <tr>\n",
       "      <th>3</th>\n",
       "      <td>1949-04-01</td>\n",
       "      <td>129</td>\n",
       "    </tr>\n",
       "    <tr>\n",
       "      <th>4</th>\n",
       "      <td>1949-05-01</td>\n",
       "      <td>121</td>\n",
       "    </tr>\n",
       "  </tbody>\n",
       "</table>\n",
       "</div>"
      ],
      "text/plain": [
       "        Month  #Passengers\n",
       "0  1949-01-01          112\n",
       "1  1949-02-01          118\n",
       "2  1949-03-01          132\n",
       "3  1949-04-01          129\n",
       "4  1949-05-01          121"
      ]
     },
     "execution_count": 4,
     "metadata": {},
     "output_type": "execute_result"
    }
   ],
   "source": [
    "df.head()"
   ]
  },
  {
   "cell_type": "markdown",
   "metadata": {},
   "source": [
    "The `fbprophet` library also imposes the strict condition that the input columns be named `ds` (the time column) and `y` (the metric column), so let's rename the columns in our `ts` DataFrame. "
   ]
  },
  {
   "cell_type": "code",
   "execution_count": 6,
   "metadata": {},
   "outputs": [],
   "source": [
    "# Rename the columns [Month, AirPassengers] to [ds, y]\n",
    "df = df.rename(columns={'Month': 'ds', '#Passengers':\"y\"})"
   ]
  },
  {
   "cell_type": "code",
   "execution_count": 7,
   "metadata": {},
   "outputs": [
    {
     "data": {
      "text/html": [
       "<div>\n",
       "<style scoped>\n",
       "    .dataframe tbody tr th:only-of-type {\n",
       "        vertical-align: middle;\n",
       "    }\n",
       "\n",
       "    .dataframe tbody tr th {\n",
       "        vertical-align: top;\n",
       "    }\n",
       "\n",
       "    .dataframe thead th {\n",
       "        text-align: right;\n",
       "    }\n",
       "</style>\n",
       "<table border=\"1\" class=\"dataframe\">\n",
       "  <thead>\n",
       "    <tr style=\"text-align: right;\">\n",
       "      <th></th>\n",
       "      <th>ds</th>\n",
       "      <th>y</th>\n",
       "    </tr>\n",
       "  </thead>\n",
       "  <tbody>\n",
       "    <tr>\n",
       "      <th>0</th>\n",
       "      <td>1949-01-01</td>\n",
       "      <td>112</td>\n",
       "    </tr>\n",
       "    <tr>\n",
       "      <th>1</th>\n",
       "      <td>1949-02-01</td>\n",
       "      <td>118</td>\n",
       "    </tr>\n",
       "    <tr>\n",
       "      <th>2</th>\n",
       "      <td>1949-03-01</td>\n",
       "      <td>132</td>\n",
       "    </tr>\n",
       "    <tr>\n",
       "      <th>3</th>\n",
       "      <td>1949-04-01</td>\n",
       "      <td>129</td>\n",
       "    </tr>\n",
       "    <tr>\n",
       "      <th>4</th>\n",
       "      <td>1949-05-01</td>\n",
       "      <td>121</td>\n",
       "    </tr>\n",
       "  </tbody>\n",
       "</table>\n",
       "</div>"
      ],
      "text/plain": [
       "           ds    y\n",
       "0  1949-01-01  112\n",
       "1  1949-02-01  118\n",
       "2  1949-03-01  132\n",
       "3  1949-04-01  129\n",
       "4  1949-05-01  121"
      ]
     },
     "execution_count": 7,
     "metadata": {},
     "output_type": "execute_result"
    }
   ],
   "source": [
    "df.head()"
   ]
  },
  {
   "cell_type": "code",
   "execution_count": 9,
   "metadata": {},
   "outputs": [
    {
     "name": "stdout",
     "output_type": "stream",
     "text": [
      "<class 'pandas.core.frame.DataFrame'>\n",
      "RangeIndex: 144 entries, 0 to 143\n",
      "Data columns (total 2 columns):\n",
      " #   Column  Non-Null Count  Dtype \n",
      "---  ------  --------------  ----- \n",
      " 0   ds      144 non-null    object\n",
      " 1   y       144 non-null    int64 \n",
      "dtypes: int64(1), object(1)\n",
      "memory usage: 2.4+ KB\n"
     ]
    }
   ],
   "source": [
    "df.info()"
   ]
  },
  {
   "cell_type": "code",
   "execution_count": 32,
   "metadata": {},
   "outputs": [
    {
     "name": "stderr",
     "output_type": "stream",
     "text": [
      "INFO:matplotlib.category:Using categorical units to plot a list of strings that are all parsable as floats or dates. If these strings should be plotted as numbers, cast to the appropriate data type before plotting.\n",
      "INFO:matplotlib.category:Using categorical units to plot a list of strings that are all parsable as floats or dates. If these strings should be plotted as numbers, cast to the appropriate data type before plotting.\n"
     ]
    },
    {
     "data": {
      "text/plain": [
       "<AxesSubplot:xlabel='ds', ylabel='y'>"
      ]
     },
     "execution_count": 32,
     "metadata": {},
     "output_type": "execute_result"
    },
    {
     "data": {
      "image/png": "[encoded data removed]",
      "text/plain": [
       "<Figure size 432x288 with 1 Axes>"
      ]
     },
     "metadata": {},
     "output_type": "display_data"
    }
   ],
   "source": [
    "# Plot the timeseries \n",
    "df.plot(y='y', x='ds', kind='scatter')"
   ]
  },
  {
   "cell_type": "markdown",
   "metadata": {},
   "source": [
    "## Time Series Forecasting with Prophet\n",
    "\n",
    "We will now learn how to use the `fbrophet` library to predict future values of our time series. The Facebook team has abstracted away many of the inherent complexities of time series forecasting and made it more intuitive for analysts and developers alike to work with time series data.\n",
    "\n",
    "To begin, we will create a new prophet object with `Prophet()` and provide a number of arguments. For example, we can specify the desired range of our uncertainty interval by setting the `interval_width` parameter."
   ]
  },
  {
   "cell_type": "code",
   "execution_count": 11,
   "metadata": {},
   "outputs": [],
   "source": [
    "# Set the uncertainty interval to 95% (the Prophet default is 80%)\n",
    "Model = proph(interval_width=0.95)"
   ]
  },
  {
   "cell_type": "markdown",
   "metadata": {},
   "source": [
    "Now that our model has been initialized, we can call its `.fit()` method with our DataFrame `ts` as input. The model fitting should take no longer than a few seconds."
   ]
  },
  {
   "cell_type": "code",
   "execution_count": 12,
   "metadata": {},
   "outputs": [
    {
     "name": "stderr",
     "output_type": "stream",
     "text": [
      "INFO:fbprophet:Disabling weekly seasonality. Run prophet with weekly_seasonality=True to override this.\n",
      "INFO:fbprophet:Disabling daily seasonality. Run prophet with daily_seasonality=True to override this.\n"
     ]
    },
    {
     "data": {
      "text/plain": [
       "<fbprophet.forecaster.Prophet at 0x7ff206130f40>"
      ]
     },
     "execution_count": 12,
     "metadata": {},
     "output_type": "execute_result"
    }
   ],
   "source": [
    "# Fit the timeseries to Model\n",
    "Model.fit(df)"
   ]
  },
  {
   "cell_type": "markdown",
   "metadata": {},
   "source": [
    "In order to obtain forecasts of our time series, we must provide the model with a new dataframe containing a `ds` column that holds the dates for which we want predictions. Conveniently, we do not have to concern ourselves with manually creating this dataframe because prophet provides the `.make_future_dataframe()` helper method. We will call this function to generate 36 datestamps in the future. The documentation for this method is available [here](https://www.rdocumentation.org/packages/prophet/topics/make_future_dataframe).\n",
    "\n",
    "It is also important to consider the frequency of our time series. Because we are working with monthly data, we clearly specified the desired frequency of the timestamps (in this case, MS is the start of the month). Therefore, the `.make_future_dataframe()` will generate 36 monthly timestamps for us. In other words, we are looking to predict future values of our time series 3 years into the future."
   ]
  },
  {
   "cell_type": "code",
   "execution_count": 18,
   "metadata": {},
   "outputs": [
    {
     "data": {
      "text/plain": [
       "139    1960-08-01\n",
       "140    1960-09-01\n",
       "141    1960-10-01\n",
       "142    1960-11-01\n",
       "143    1960-12-01\n",
       "Name: ds, dtype: object"
      ]
     },
     "execution_count": 18,
     "metadata": {},
     "output_type": "execute_result"
    }
   ],
   "source": [
    "df['ds'].tail()"
   ]
  },
  {
   "cell_type": "code",
   "execution_count": 21,
   "metadata": {},
   "outputs": [
    {
     "data": {
      "text/html": [
       "<div>\n",
       "<style scoped>\n",
       "    .dataframe tbody tr th:only-of-type {\n",
       "        vertical-align: middle;\n",
       "    }\n",
       "\n",
       "    .dataframe tbody tr th {\n",
       "        vertical-align: top;\n",
       "    }\n",
       "\n",
       "    .dataframe thead th {\n",
       "        text-align: right;\n",
       "    }\n",
       "</style>\n",
       "<table border=\"1\" class=\"dataframe\">\n",
       "  <thead>\n",
       "    <tr style=\"text-align: right;\">\n",
       "      <th></th>\n",
       "      <th>ds</th>\n",
       "    </tr>\n",
       "  </thead>\n",
       "  <tbody>\n",
       "    <tr>\n",
       "      <th>0</th>\n",
       "      <td>1949-01-01</td>\n",
       "    </tr>\n",
       "    <tr>\n",
       "      <th>1</th>\n",
       "      <td>1949-02-01</td>\n",
       "    </tr>\n",
       "    <tr>\n",
       "      <th>2</th>\n",
       "      <td>1949-03-01</td>\n",
       "    </tr>\n",
       "    <tr>\n",
       "      <th>3</th>\n",
       "      <td>1949-04-01</td>\n",
       "    </tr>\n",
       "    <tr>\n",
       "      <th>4</th>\n",
       "      <td>1949-05-01</td>\n",
       "    </tr>\n",
       "    <tr>\n",
       "      <th>...</th>\n",
       "      <td>...</td>\n",
       "    </tr>\n",
       "    <tr>\n",
       "      <th>175</th>\n",
       "      <td>1963-08-01</td>\n",
       "    </tr>\n",
       "    <tr>\n",
       "      <th>176</th>\n",
       "      <td>1963-09-01</td>\n",
       "    </tr>\n",
       "    <tr>\n",
       "      <th>177</th>\n",
       "      <td>1963-10-01</td>\n",
       "    </tr>\n",
       "    <tr>\n",
       "      <th>178</th>\n",
       "      <td>1963-11-01</td>\n",
       "    </tr>\n",
       "    <tr>\n",
       "      <th>179</th>\n",
       "      <td>1963-12-01</td>\n",
       "    </tr>\n",
       "  </tbody>\n",
       "</table>\n",
       "<p>180 rows × 1 columns</p>\n",
       "</div>"
      ],
      "text/plain": [
       "            ds\n",
       "0   1949-01-01\n",
       "1   1949-02-01\n",
       "2   1949-03-01\n",
       "3   1949-04-01\n",
       "4   1949-05-01\n",
       "..         ...\n",
       "175 1963-08-01\n",
       "176 1963-09-01\n",
       "177 1963-10-01\n",
       "178 1963-11-01\n",
       "179 1963-12-01\n",
       "\n",
       "[180 rows x 1 columns]"
      ]
     },
     "execution_count": 21,
     "metadata": {},
     "output_type": "execute_result"
    }
   ],
   "source": [
    "# Use make_future_dataframe() with a monthly frequency and periods = 36 for 3 years\n",
    "future = Model.make_future_dataframe(periods=36, freq='MS')\n",
    "future"
   ]
  },
  {
   "cell_type": "markdown",
   "metadata": {},
   "source": [
    "This future dates dataframe can now be used as input to the `.predict()` method of the fitted model."
   ]
  },
  {
   "cell_type": "code",
   "execution_count": 28,
   "metadata": {},
   "outputs": [
    {
     "data": {
      "text/html": [
       "<div>\n",
       "<style scoped>\n",
       "    .dataframe tbody tr th:only-of-type {\n",
       "        vertical-align: middle;\n",
       "    }\n",
       "\n",
       "    .dataframe tbody tr th {\n",
       "        vertical-align: top;\n",
       "    }\n",
       "\n",
       "    .dataframe thead th {\n",
       "        text-align: right;\n",
       "    }\n",
       "</style>\n",
       "<table border=\"1\" class=\"dataframe\">\n",
       "  <thead>\n",
       "    <tr style=\"text-align: right;\">\n",
       "      <th></th>\n",
       "      <th>ds</th>\n",
       "      <th>trend</th>\n",
       "      <th>yhat_lower</th>\n",
       "      <th>yhat_upper</th>\n",
       "      <th>trend_lower</th>\n",
       "      <th>trend_upper</th>\n",
       "      <th>additive_terms</th>\n",
       "      <th>additive_terms_lower</th>\n",
       "      <th>additive_terms_upper</th>\n",
       "      <th>yearly</th>\n",
       "      <th>yearly_lower</th>\n",
       "      <th>yearly_upper</th>\n",
       "      <th>multiplicative_terms</th>\n",
       "      <th>multiplicative_terms_lower</th>\n",
       "      <th>multiplicative_terms_upper</th>\n",
       "      <th>yhat</th>\n",
       "    </tr>\n",
       "  </thead>\n",
       "  <tbody>\n",
       "    <tr>\n",
       "      <th>175</th>\n",
       "      <td>1963-08-01</td>\n",
       "      <td>583.078619</td>\n",
       "      <td>609.129513</td>\n",
       "      <td>693.142643</td>\n",
       "      <td>578.215326</td>\n",
       "      <td>587.810702</td>\n",
       "      <td>67.635295</td>\n",
       "      <td>67.635295</td>\n",
       "      <td>67.635295</td>\n",
       "      <td>67.635295</td>\n",
       "      <td>67.635295</td>\n",
       "      <td>67.635295</td>\n",
       "      <td>0.0</td>\n",
       "      <td>0.0</td>\n",
       "      <td>0.0</td>\n",
       "      <td>650.713914</td>\n",
       "    </tr>\n",
       "    <tr>\n",
       "      <th>176</th>\n",
       "      <td>1963-09-01</td>\n",
       "      <td>586.209763</td>\n",
       "      <td>560.963634</td>\n",
       "      <td>647.236998</td>\n",
       "      <td>581.132295</td>\n",
       "      <td>591.196864</td>\n",
       "      <td>17.251885</td>\n",
       "      <td>17.251885</td>\n",
       "      <td>17.251885</td>\n",
       "      <td>17.251885</td>\n",
       "      <td>17.251885</td>\n",
       "      <td>17.251885</td>\n",
       "      <td>0.0</td>\n",
       "      <td>0.0</td>\n",
       "      <td>0.0</td>\n",
       "      <td>603.461648</td>\n",
       "    </tr>\n",
       "    <tr>\n",
       "      <th>177</th>\n",
       "      <td>1963-10-01</td>\n",
       "      <td>589.239903</td>\n",
       "      <td>522.103040</td>\n",
       "      <td>612.194368</td>\n",
       "      <td>583.948786</td>\n",
       "      <td>594.507179</td>\n",
       "      <td>-22.009873</td>\n",
       "      <td>-22.009873</td>\n",
       "      <td>-22.009873</td>\n",
       "      <td>-22.009873</td>\n",
       "      <td>-22.009873</td>\n",
       "      <td>-22.009873</td>\n",
       "      <td>0.0</td>\n",
       "      <td>0.0</td>\n",
       "      <td>0.0</td>\n",
       "      <td>567.230030</td>\n",
       "    </tr>\n",
       "    <tr>\n",
       "      <th>178</th>\n",
       "      <td>1963-11-01</td>\n",
       "      <td>592.371048</td>\n",
       "      <td>492.734340</td>\n",
       "      <td>580.086668</td>\n",
       "      <td>586.859159</td>\n",
       "      <td>597.927837</td>\n",
       "      <td>-56.966284</td>\n",
       "      <td>-56.966284</td>\n",
       "      <td>-56.966284</td>\n",
       "      <td>-56.966284</td>\n",
       "      <td>-56.966284</td>\n",
       "      <td>-56.966284</td>\n",
       "      <td>0.0</td>\n",
       "      <td>0.0</td>\n",
       "      <td>0.0</td>\n",
       "      <td>535.404764</td>\n",
       "    </tr>\n",
       "    <tr>\n",
       "      <th>179</th>\n",
       "      <td>1963-12-01</td>\n",
       "      <td>595.401188</td>\n",
       "      <td>518.450677</td>\n",
       "      <td>606.279883</td>\n",
       "      <td>589.676710</td>\n",
       "      <td>601.236994</td>\n",
       "      <td>-30.374285</td>\n",
       "      <td>-30.374285</td>\n",
       "      <td>-30.374285</td>\n",
       "      <td>-30.374285</td>\n",
       "      <td>-30.374285</td>\n",
       "      <td>-30.374285</td>\n",
       "      <td>0.0</td>\n",
       "      <td>0.0</td>\n",
       "      <td>0.0</td>\n",
       "      <td>565.026903</td>\n",
       "    </tr>\n",
       "  </tbody>\n",
       "</table>\n",
       "</div>"
      ],
      "text/plain": [
       "            ds       trend  yhat_lower  yhat_upper  trend_lower  trend_upper  \\\n",
       "175 1963-08-01  583.078619  609.129513  693.142643   578.215326   587.810702   \n",
       "176 1963-09-01  586.209763  560.963634  647.236998   581.132295   591.196864   \n",
       "177 1963-10-01  589.239903  522.103040  612.194368   583.948786   594.507179   \n",
       "178 1963-11-01  592.371048  492.734340  580.086668   586.859159   597.927837   \n",
       "179 1963-12-01  595.401188  518.450677  606.279883   589.676710   601.236994   \n",
       "\n",
       "     additive_terms  additive_terms_lower  additive_terms_upper     yearly  \\\n",
       "175       67.635295             67.635295             67.635295  67.635295   \n",
       "176       17.251885             17.251885             17.251885  17.251885   \n",
       "177      -22.009873            -22.009873            -22.009873 -22.009873   \n",
       "178      -56.966284            -56.966284            -56.966284 -56.966284   \n",
       "179      -30.374285            -30.374285            -30.374285 -30.374285   \n",
       "\n",
       "     yearly_lower  yearly_upper  multiplicative_terms  \\\n",
       "175     67.635295     67.635295                   0.0   \n",
       "176     17.251885     17.251885                   0.0   \n",
       "177    -22.009873    -22.009873                   0.0   \n",
       "178    -56.966284    -56.966284                   0.0   \n",
       "179    -30.374285    -30.374285                   0.0   \n",
       "\n",
       "     multiplicative_terms_lower  multiplicative_terms_upper        yhat  \n",
       "175                         0.0                         0.0  650.713914  \n",
       "176                         0.0                         0.0  603.461648  \n",
       "177                         0.0                         0.0  567.230030  \n",
       "178                         0.0                         0.0  535.404764  \n",
       "179                         0.0                         0.0  565.026903  "
      ]
     },
     "execution_count": 28,
     "metadata": {},
     "output_type": "execute_result"
    }
   ],
   "source": [
    "# Predict the values for future dates and take the head of forecast\n",
    "results = Model.predict(df=future)\n",
    "\n",
    "results.tail()"
   ]
  },
  {
   "cell_type": "markdown",
   "metadata": {},
   "source": [
    "We can see that Prophet returns a large table with many interesting columns, but we subset our output to the columns most relevant to forecasting, which are:\n",
    "\n",
    "* `ds`: the datestamp of the forecasted value\n",
    "* `yhat`: the forecasted value of our metric (in Statistics, yhat is a notation traditionally used to represent the predicted values of a value y)\n",
    "* `yhat_lower`: the lower bound of our forecasts\n",
    "* `yhat_upper`: the upper bound of our forecasts"
   ]
  },
  {
   "cell_type": "code",
   "execution_count": 27,
   "metadata": {},
   "outputs": [
    {
     "data": {
      "text/html": [
       "<div>\n",
       "<style scoped>\n",
       "    .dataframe tbody tr th:only-of-type {\n",
       "        vertical-align: middle;\n",
       "    }\n",
       "\n",
       "    .dataframe tbody tr th {\n",
       "        vertical-align: top;\n",
       "    }\n",
       "\n",
       "    .dataframe thead th {\n",
       "        text-align: right;\n",
       "    }\n",
       "</style>\n",
       "<table border=\"1\" class=\"dataframe\">\n",
       "  <thead>\n",
       "    <tr style=\"text-align: right;\">\n",
       "      <th></th>\n",
       "      <th>ds</th>\n",
       "      <th>yhat</th>\n",
       "      <th>yhat_lower</th>\n",
       "      <th>yhat_upper</th>\n",
       "    </tr>\n",
       "  </thead>\n",
       "  <tbody>\n",
       "    <tr>\n",
       "      <th>0</th>\n",
       "      <td>1949-01-01</td>\n",
       "      <td>86.114258</td>\n",
       "      <td>44.566515</td>\n",
       "      <td>127.913277</td>\n",
       "    </tr>\n",
       "    <tr>\n",
       "      <th>1</th>\n",
       "      <td>1949-02-01</td>\n",
       "      <td>79.591574</td>\n",
       "      <td>35.370363</td>\n",
       "      <td>124.339072</td>\n",
       "    </tr>\n",
       "    <tr>\n",
       "      <th>2</th>\n",
       "      <td>1949-03-01</td>\n",
       "      <td>111.104583</td>\n",
       "      <td>68.439783</td>\n",
       "      <td>153.266950</td>\n",
       "    </tr>\n",
       "    <tr>\n",
       "      <th>3</th>\n",
       "      <td>1949-04-01</td>\n",
       "      <td>108.793071</td>\n",
       "      <td>62.478152</td>\n",
       "      <td>154.451557</td>\n",
       "    </tr>\n",
       "    <tr>\n",
       "      <th>4</th>\n",
       "      <td>1949-05-01</td>\n",
       "      <td>112.170314</td>\n",
       "      <td>66.518749</td>\n",
       "      <td>155.952796</td>\n",
       "    </tr>\n",
       "    <tr>\n",
       "      <th>...</th>\n",
       "      <td>...</td>\n",
       "      <td>...</td>\n",
       "      <td>...</td>\n",
       "      <td>...</td>\n",
       "    </tr>\n",
       "    <tr>\n",
       "      <th>175</th>\n",
       "      <td>1963-08-01</td>\n",
       "      <td>650.713914</td>\n",
       "      <td>602.718874</td>\n",
       "      <td>696.867538</td>\n",
       "    </tr>\n",
       "    <tr>\n",
       "      <th>176</th>\n",
       "      <td>1963-09-01</td>\n",
       "      <td>603.461648</td>\n",
       "      <td>559.005742</td>\n",
       "      <td>648.494596</td>\n",
       "    </tr>\n",
       "    <tr>\n",
       "      <th>177</th>\n",
       "      <td>1963-10-01</td>\n",
       "      <td>567.230030</td>\n",
       "      <td>525.000616</td>\n",
       "      <td>610.747655</td>\n",
       "    </tr>\n",
       "    <tr>\n",
       "      <th>178</th>\n",
       "      <td>1963-11-01</td>\n",
       "      <td>535.404764</td>\n",
       "      <td>490.003495</td>\n",
       "      <td>581.493958</td>\n",
       "    </tr>\n",
       "    <tr>\n",
       "      <th>179</th>\n",
       "      <td>1963-12-01</td>\n",
       "      <td>565.026903</td>\n",
       "      <td>522.200576</td>\n",
       "      <td>608.084664</td>\n",
       "    </tr>\n",
       "  </tbody>\n",
       "</table>\n",
       "<p>180 rows × 4 columns</p>\n",
       "</div>"
      ],
      "text/plain": [
       "            ds        yhat  yhat_lower  yhat_upper\n",
       "0   1949-01-01   86.114258   44.566515  127.913277\n",
       "1   1949-02-01   79.591574   35.370363  124.339072\n",
       "2   1949-03-01  111.104583   68.439783  153.266950\n",
       "3   1949-04-01  108.793071   62.478152  154.451557\n",
       "4   1949-05-01  112.170314   66.518749  155.952796\n",
       "..         ...         ...         ...         ...\n",
       "175 1963-08-01  650.713914  602.718874  696.867538\n",
       "176 1963-09-01  603.461648  559.005742  648.494596\n",
       "177 1963-10-01  567.230030  525.000616  610.747655\n",
       "178 1963-11-01  535.404764  490.003495  581.493958\n",
       "179 1963-12-01  565.026903  522.200576  608.084664\n",
       "\n",
       "[180 rows x 4 columns]"
      ]
     },
     "execution_count": 27,
     "metadata": {},
     "output_type": "execute_result"
    }
   ],
   "source": [
    "# Subset above mentioned columns and view the tail \n",
    "results[['ds', 'yhat', 'yhat_lower', 'yhat_upper']]"
   ]
  },
  {
   "cell_type": "markdown",
   "metadata": {},
   "source": [
    "A variation in values from the output presented above is to be expected as Prophet relies on Markov chain Monte Carlo (MCMC) methods to generate its forecasts. MCMC is a stochastic process, so values will be slightly different each time.\n",
    "\n",
    "Prophet also provides a convenient method to quickly plot the results of our forecasts."
   ]
  },
  {
   "cell_type": "code",
   "execution_count": 31,
   "metadata": {},
   "outputs": [
    {
     "data": {
      "image/png": "[encoded data removed]",
      "text/plain": [
       "<Figure size 720x432 with 1 Axes>"
      ]
     },
     "metadata": {},
     "output_type": "display_data"
    }
   ],
   "source": [
    "# Use Prophet's plot method to plot the predictions\n",
    "Model.plot(results);"
   ]
  },
  {
   "cell_type": "markdown",
   "metadata": {},
   "source": [
    "Prophet plots the observed values of the time series (the black dots), the forecasted values (blue line) and the uncertainty intervals of our forecasts (the blue shaded regions).\n",
    "\n",
    "One other particularly strong feature of Prophet is its ability to return the components of our forecasts. This can help reveal how daily, weekly, and yearly patterns of the time series contribute to the overall forecasted values. We can use the `.plot_components()` method to view the individual components."
   ]
  },
  {
   "cell_type": "code",
   "execution_count": 34,
   "metadata": {},
   "outputs": [
    {
     "data": {
      "image/png": "[encoded data removed]",
      "text/plain": [
       "<Figure size 648x432 with 2 Axes>"
      ]
     },
     "metadata": {},
     "output_type": "display_data"
    }
   ],
   "source": [
    "# Plot model components \n",
    "Model.plot_components(results);"
   ]
  },
  {
   "cell_type": "markdown",
   "metadata": {},
   "source": [
    "Since we are working with monthly data, Prophet will plot the trend and the yearly seasonality but if you were working with daily data, you would also see a weekly seasonality plot included. \n",
    "\n",
    "From the trend and seasonality, we can see that the trend is playing a large part in the underlying time series and seasonality comes into play mostly toward the beginning and the end of the year. With this information, we've been able to quickly model and forecast some data to get a feel for what might be coming our way in the future from this particular dataset. \n",
    "\n",
    "## Summary \n",
    "In this lab, you learned how to use the `fbprophet` library to perform time series forecasting in Python. We have been using out-of-the box parameters, but Prophet enables us to specify many more arguments. In particular, Prophet provides the functionality to bring your own knowledge about time series to the table."
   ]
  }
 ],
 "metadata": {
  "kernelspec": {
   "display_name": "Python (learn-env)",
   "language": "python",
   "name": "learn-env"
  },
  "language_info": {
   "codemirror_mode": {
    "name": "ipython",
    "version": 3
   },
   "file_extension": ".py",
   "mimetype": "text/x-python",
   "name": "python",
   "nbconvert_exporter": "python",
   "pygments_lexer": "ipython3",
   "version": "3.8.5"
  }
 },
 "nbformat": 4,
 "nbformat_minor": 2
}
