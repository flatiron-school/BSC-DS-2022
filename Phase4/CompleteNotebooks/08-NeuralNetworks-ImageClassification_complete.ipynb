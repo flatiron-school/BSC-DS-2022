{
  "cells": [
    {
      "cell_type": "markdown",
      "metadata": {
        "id": "5r1zHWbE_g6s"
      },
      "source": [
        "# Neural Networks: Image Classification"
      ]
    },
    {
      "cell_type": "markdown",
      "metadata": {
        "id": "rPvbYgEO_g6v"
      },
      "source": [
        "## Learning Objectives\n",
        "\n",
        "- use `keras` to code up a neural network model to classify images\n",
        "- explore regularization in neural networks, including adding dropout\n",
        "- recognize the structure of convolutional neural networks (CNN)"
      ]
    },
    {
      "cell_type": "code",
      "execution_count": 1,
      "metadata": {
        "id": "C-Al1STP_g6w"
      },
      "outputs": [],
      "source": [
        "# from sklearn.datasets import load_sample_images\n",
        "import numpy as np\n",
        "\n",
        "import matplotlib.pyplot as plt\n",
        "import matplotlib.image as mpimg\n",
        "import seaborn as sns\n",
        "\n",
        "from keras.datasets import mnist\n",
        "\n",
        "import tensorflow as tf\n",
        "from tensorflow import keras\n",
        "from tensorflow.keras.models import Sequential\n",
        "from tensorflow.keras.regularizers import l2\n",
        "from tensorflow.keras.optimizers import SGD"
      ]
    },
    {
      "cell_type": "code",
      "execution_count": 2,
      "metadata": {
        "id": "47RnHhLP_g6x"
      },
      "outputs": [],
      "source": [
        "def visualize_training_results(history):\n",
        "    '''\n",
        "    From https://machinelearningmastery.com/display-deep-learning-model-training-history-in-keras/\n",
        "    \n",
        "    Input: keras history object (output from trained model)\n",
        "    '''\n",
        "    fig, (ax1, ax2) = plt.subplots(2, sharex=True)\n",
        "    fig.suptitle('Model Results')\n",
        "\n",
        "    # summarize history for accuracy\n",
        "    ax1.plot(history.history['accuracy'])\n",
        "    ax1.plot(history.history['val_accuracy'])\n",
        "    ax1.set_ylabel('Accuracy')\n",
        "    ax1.legend(['train', 'test'], loc='upper left')\n",
        "    # summarize history for loss\n",
        "    ax2.plot(history.history['loss'])\n",
        "    ax2.plot(history.history['val_loss'])\n",
        "    ax2.set_ylabel('Loss')\n",
        "    ax2.legend(['train', 'test'], loc='upper left')\n",
        "    \n",
        "    plt.xlabel('Epoch')\n",
        "    plt.show()"
      ]
    },
    {
      "cell_type": "markdown",
      "metadata": {
        "id": "TuwvIu9R_g6x"
      },
      "source": [
        "#### Explore Data\n",
        "\n",
        "The classic MNIST digits data!"
      ]
    },
    {
      "cell_type": "code",
      "execution_count": 28,
      "metadata": {
        "id": "AY3kj_JW_g6x"
      },
      "outputs": [],
      "source": [
        "# Grabbing our data directly from keras\n",
        "(X_train, y_train), (X_test, y_test) = mnist.load_data()"
      ]
    },
    {
      "cell_type": "code",
      "execution_count": 29,
      "metadata": {
        "id": "2jEpMWzr_g6y",
        "outputId": "c2a55c01-8929-4cf6-e0e3-87a5615e20f8",
        "colab": {
          "base_uri": "https://localhost:8080/",
          "height": 300
        }
      },
      "outputs": [
        {
          "output_type": "display_data",
          "data": {
            "text/plain": [
              "<matplotlib.image.AxesImage at 0x7f3e377ea210>"
            ]
          },
          "metadata": {}
        },
        {
          "output_type": "stream",
          "name": "stdout",
          "text": [
            "Label: 7\n"
          ]
        },
        {
          "output_type": "display_data",
          "data": {
            "text/plain": [
              "<Figure size 432x288 with 1 Axes>"
            ],
            "image/png": "[encoded data removed]"
          },
          "metadata": {
            "needs_background": "light"
          }
        }
      ],
      "source": [
        "# Explore an example - can adjust the index number to explore\n",
        "sample_index = 42\n",
        "\n",
        "sample_image = X_train[sample_index]\n",
        "sample_label = y_train[sample_index]\n",
        "display(plt.imshow(sample_image))\n",
        "print('Label: {}'.format(sample_label));"
      ]
    },
    {
      "cell_type": "code",
      "execution_count": 12,
      "metadata": {
        "id": "IdobND0E_g6y",
        "outputId": "60c15ddd-fdfe-497f-ec37-69595654a0d1",
        "colab": {
          "base_uri": "https://localhost:8080/"
        }
      },
      "outputs": [
        {
          "output_type": "execute_result",
          "data": {
            "text/plain": [
              "(28, 28)"
            ]
          },
          "metadata": {},
          "execution_count": 12
        }
      ],
      "source": [
        "sample_image.shape"
      ]
    },
    {
      "cell_type": "code",
      "source": [
        "sample_image[8]"
      ],
      "metadata": {
        "id": "Mw9U3kfeBTyF",
        "outputId": "2be708f7-ce89-4d7e-f0b9-4bdd8dfbdd1b",
        "colab": {
          "base_uri": "https://localhost:8080/"
        }
      },
      "execution_count": 15,
      "outputs": [
        {
          "output_type": "execute_result",
          "data": {
            "text/plain": [
              "array([  0,   0,   0, 132, 252, 252, 238,  52,   0,   0,   0,   0,   0,\n",
              "         0,   0,   0,  12, 198, 252, 252, 122,   0,   0,   0,   0,   0,\n",
              "         0,   0], dtype=uint8)"
            ]
          },
          "metadata": {},
          "execution_count": 15
        }
      ]
    },
    {
      "cell_type": "markdown",
      "metadata": {
        "id": "PtJpxYQ__g6z"
      },
      "source": [
        "### Things to know:\n",
        "\n",
        "- The data and labels in `fit()` need to be numpy arrays, not `pandas` dfs.\n",
        "- Scaling your data will have a large impact on your model.\n",
        "   > For our traditional input features, we would use a scaler object. For images, as long as the minimum value is 0, we can simply divide through by the maximum pixel intensity."
      ]
    },
    {
      "cell_type": "markdown",
      "metadata": {
        "id": "8fwF70Gh_g6z"
      },
      "source": [
        "#### Prep Data"
      ]
    },
    {
      "cell_type": "code",
      "execution_count": 30,
      "metadata": {
        "id": "duvTUsq3_g60",
        "outputId": "7b6c36e5-4572-48d3-d353-6f5275e94ea0",
        "colab": {
          "base_uri": "https://localhost:8080/"
        }
      },
      "outputs": [
        {
          "output_type": "stream",
          "name": "stdout",
          "text": [
            "X_train shape: (60000, 28, 28, 1)\n",
            "60000 train samples\n",
            "10000 test samples\n"
          ]
        }
      ],
      "source": [
        "# Normalize our inputs - from https://keras.io/examples/vision/mnist_convnet/\n",
        "input_shape = (28, 28, 1) # creating this tuple for later\n",
        "\n",
        "# Scale images to the [0, 1] range - 255 is the max intensity\n",
        "X_train = X_train.astype(\"float32\") / 255\n",
        "X_test = X_test.astype(\"float32\") / 255\n",
        "\n",
        "# Make sure images have shape (28, 28, 1) - explicitly say just 1 layer\n",
        "X_train = np.expand_dims(X_train, -1)\n",
        "X_test = np.expand_dims(X_test, -1)\n",
        "\n",
        "print(\"X_train shape:\", X_train.shape)\n",
        "print(X_train.shape[0], \"train samples\")\n",
        "print(X_test.shape[0], \"test samples\")\n",
        "# NOTE don't re-run this cell! Make sure the dimensions are (60000,28,28,1)"
      ]
    },
    {
      "cell_type": "code",
      "execution_count": 31,
      "metadata": {
        "id": "Va0-vrvQ_g60",
        "outputId": "c217cfd5-620d-4733-9826-3ae12a2a2083",
        "colab": {
          "base_uri": "https://localhost:8080/"
        }
      },
      "outputs": [
        {
          "output_type": "execute_result",
          "data": {
            "text/plain": [
              "array([[0., 0., 0., ..., 0., 0., 0.],\n",
              "       [1., 0., 0., ..., 0., 0., 0.],\n",
              "       [0., 0., 0., ..., 0., 0., 0.],\n",
              "       ...,\n",
              "       [0., 0., 0., ..., 0., 0., 0.],\n",
              "       [0., 0., 0., ..., 0., 0., 0.],\n",
              "       [0., 0., 0., ..., 0., 1., 0.]], dtype=float32)"
            ]
          },
          "metadata": {},
          "execution_count": 31
        }
      ],
      "source": [
        "# Prepare our outputs\n",
        "num_classes = 10\n",
        "\n",
        "# convert class vectors to binary class matrices\n",
        "y_train = keras.utils.to_categorical(y_train, num_classes)\n",
        "y_test = keras.utils.to_categorical(y_test, num_classes)\n",
        "# NOTE don't re-run this cell!\n",
        "y_train"
      ]
    },
    {
      "cell_type": "code",
      "source": [
        "y_train[42]"
      ],
      "metadata": {
        "id": "PbUsXpLvCJqz",
        "outputId": "51a6c1b2-9257-4a8a-e10f-7d005172afc5",
        "colab": {
          "base_uri": "https://localhost:8080/"
        }
      },
      "execution_count": 32,
      "outputs": [
        {
          "output_type": "execute_result",
          "data": {
            "text/plain": [
              "array([0., 0., 0., 0., 0., 0., 0., 1., 0., 0.], dtype=float32)"
            ]
          },
          "metadata": {},
          "execution_count": 32
        }
      ]
    },
    {
      "cell_type": "markdown",
      "metadata": {
        "id": "WNbCoyhg_g60"
      },
      "source": [
        "#### First S*** Model!"
      ]
    },
    {
      "cell_type": "code",
      "execution_count": 33,
      "metadata": {
        "id": "2HvHJ6xv_g60"
      },
      "outputs": [],
      "source": [
        "from tensorflow.keras import layers"
      ]
    },
    {
      "cell_type": "code",
      "source": [
        "28 * 28"
      ],
      "metadata": {
        "id": "W4hqVaW8DAuJ",
        "outputId": "81d26bbe-9a16-4de7-c78f-99f00f962ee6",
        "colab": {
          "base_uri": "https://localhost:8080/"
        }
      },
      "execution_count": 35,
      "outputs": [
        {
          "output_type": "execute_result",
          "data": {
            "text/plain": [
              "784"
            ]
          },
          "metadata": {},
          "execution_count": 35
        }
      ]
    },
    {
      "cell_type": "code",
      "execution_count": 34,
      "metadata": {
        "id": "77pgGat5_g61",
        "outputId": "0fc3cb1d-becf-4d73-f25b-5e3fbc618ea9",
        "colab": {
          "base_uri": "https://localhost:8080/"
        }
      },
      "outputs": [
        {
          "output_type": "stream",
          "name": "stdout",
          "text": [
            "Model: \"sequential\"\n",
            "_________________________________________________________________\n",
            " Layer (type)                Output Shape              Param #   \n",
            "=================================================================\n",
            " flatten (Flatten)           (None, 784)               0         \n",
            "                                                                 \n",
            " dense (Dense)               (None, 64)                50240     \n",
            "                                                                 \n",
            " dense_1 (Dense)             (None, 10)                650       \n",
            "                                                                 \n",
            "=================================================================\n",
            "Total params: 50,890\n",
            "Trainable params: 50,890\n",
            "Non-trainable params: 0\n",
            "_________________________________________________________________\n"
          ]
        }
      ],
      "source": [
        "# Model building in a single list - not with add!\n",
        "# Note: it doesn't actually matter how you do this, both are fine\n",
        "model = Sequential(\n",
        "    [\n",
        "        keras.Input(shape=input_shape),\n",
        "        layers.Flatten(), # need to flatten our images to be one long array\n",
        "        layers.Dense(64, activation=\"tanh\"),\n",
        "        layers.Dense(num_classes, activation=\"softmax\"),\n",
        "    ])\n",
        "\n",
        "model.summary()"
      ]
    },
    {
      "cell_type": "code",
      "execution_count": 36,
      "metadata": {
        "id": "RIoIBjNd_g61"
      },
      "outputs": [],
      "source": [
        "# Compiling our model\n",
        "model.compile(loss=\"categorical_crossentropy\", optimizer=\"adam\", metrics=[\"accuracy\"])"
      ]
    },
    {
      "cell_type": "code",
      "execution_count": 37,
      "metadata": {
        "scrolled": false,
        "colab": {
          "base_uri": "https://localhost:8080/"
        },
        "id": "m9MzklhQ_g61",
        "outputId": "54139939-c587-42fd-8736-e30a3fccf696"
      },
      "outputs": [
        {
          "output_type": "stream",
          "name": "stdout",
          "text": [
            "Epoch 1/15\n",
            "469/469 [==============================] - 3s 4ms/step - loss: 0.4268 - accuracy: 0.8855 - val_loss: 0.2523 - val_accuracy: 0.9275\n",
            "Epoch 2/15\n",
            "469/469 [==============================] - 2s 5ms/step - loss: 0.2238 - accuracy: 0.9372 - val_loss: 0.1955 - val_accuracy: 0.9441\n",
            "Epoch 3/15\n",
            "469/469 [==============================] - 2s 5ms/step - loss: 0.1754 - accuracy: 0.9513 - val_loss: 0.1656 - val_accuracy: 0.9501\n",
            "Epoch 4/15\n",
            "469/469 [==============================] - 2s 5ms/step - loss: 0.1458 - accuracy: 0.9592 - val_loss: 0.1425 - val_accuracy: 0.9589\n",
            "Epoch 5/15\n",
            "469/469 [==============================] - 2s 4ms/step - loss: 0.1246 - accuracy: 0.9645 - val_loss: 0.1328 - val_accuracy: 0.9603\n",
            "Epoch 6/15\n",
            "469/469 [==============================] - 2s 4ms/step - loss: 0.1075 - accuracy: 0.9696 - val_loss: 0.1297 - val_accuracy: 0.9606\n",
            "Epoch 7/15\n",
            "469/469 [==============================] - 2s 4ms/step - loss: 0.0948 - accuracy: 0.9735 - val_loss: 0.1174 - val_accuracy: 0.9651\n",
            "Epoch 8/15\n",
            "469/469 [==============================] - 2s 5ms/step - loss: 0.0833 - accuracy: 0.9772 - val_loss: 0.1113 - val_accuracy: 0.9656\n",
            "Epoch 9/15\n",
            "469/469 [==============================] - 2s 5ms/step - loss: 0.0734 - accuracy: 0.9799 - val_loss: 0.1050 - val_accuracy: 0.9686\n",
            "Epoch 10/15\n",
            "469/469 [==============================] - 2s 5ms/step - loss: 0.0660 - accuracy: 0.9819 - val_loss: 0.1034 - val_accuracy: 0.9696\n",
            "Epoch 11/15\n",
            "469/469 [==============================] - 2s 5ms/step - loss: 0.0587 - accuracy: 0.9844 - val_loss: 0.1020 - val_accuracy: 0.9692\n",
            "Epoch 12/15\n",
            "469/469 [==============================] - 2s 4ms/step - loss: 0.0523 - accuracy: 0.9865 - val_loss: 0.0999 - val_accuracy: 0.9699\n",
            "Epoch 13/15\n",
            "469/469 [==============================] - 2s 5ms/step - loss: 0.0475 - accuracy: 0.9877 - val_loss: 0.1007 - val_accuracy: 0.9703\n",
            "Epoch 14/15\n",
            "469/469 [==============================] - 2s 4ms/step - loss: 0.0425 - accuracy: 0.9897 - val_loss: 0.0955 - val_accuracy: 0.9717\n",
            "Epoch 15/15\n",
            "469/469 [==============================] - 2s 4ms/step - loss: 0.0383 - accuracy: 0.9909 - val_loss: 0.0960 - val_accuracy: 0.9703\n"
          ]
        }
      ],
      "source": [
        "# Defining our training hyperparameters\n",
        "# Initial values from: https://keras.io/examples/vision/mnist_convnet/\n",
        "batch_size = 128\n",
        "epochs = 15\n",
        "\n",
        "# Fit our model (save output to a history variable)\n",
        "history = model.fit(X_train, \n",
        "                    y_train, \n",
        "                    batch_size=batch_size,\n",
        "                    epochs=epochs, \n",
        "                    validation_data=(X_test, y_test))"
      ]
    },
    {
      "cell_type": "code",
      "execution_count": 38,
      "metadata": {
        "scrolled": false,
        "colab": {
          "base_uri": "https://localhost:8080/"
        },
        "id": "BQWwz2cC_g62",
        "outputId": "402ca40a-a079-4082-8260-71eec8dafdf4"
      },
      "outputs": [
        {
          "output_type": "stream",
          "name": "stdout",
          "text": [
            "Test loss: 0.09601759165525436\n",
            "Test accuracy: 0.970300018787384\n"
          ]
        }
      ],
      "source": [
        "# Evaluate!\n",
        "score = model.evaluate(X_test, y_test, verbose=0)\n",
        "print(\"Test loss:\", score[0])\n",
        "print(\"Test accuracy:\", score[1])"
      ]
    },
    {
      "cell_type": "code",
      "execution_count": 39,
      "metadata": {
        "colab": {
          "base_uri": "https://localhost:8080/",
          "height": 308
        },
        "id": "FoN0CWtq_g62",
        "outputId": "b9a0e82a-fad9-4407-fd7b-9efc7bd3010b"
      },
      "outputs": [
        {
          "output_type": "display_data",
          "data": {
            "text/plain": [
              "<Figure size 432x288 with 2 Axes>"
            ],
            "image/png": "[encoded data removed]"
          },
          "metadata": {
            "needs_background": "light"
          }
        }
      ],
      "source": [
        "# Visualize results\n",
        "visualize_training_results(history)"
      ]
    },
    {
      "cell_type": "markdown",
      "metadata": {
        "id": "WMW4xPGQ_g62"
      },
      "source": [
        "We have two plots above both relating to the quality of our model.  The bottom plot is our loss. It uses the probabilities associated with our predictions to judge how well our prediction fits reality. We want it to decrease as far as possible.\n",
        "\n",
        "The accuracy judges how well the predictions are after applying the threshold at the output layer.  We want accuracy to increase."
      ]
    },
    {
      "cell_type": "markdown",
      "metadata": {
        "id": "eJ43vxdg_g62"
      },
      "source": [
        "#### Evaluate: \n",
        "\n",
        "How'd we do?\n",
        "\n",
        "- test accuracy is high\n",
        "\n",
        "\n",
        "Any issues?\n",
        "\n",
        "- a little overfit!\n",
        "\n"
      ]
    },
    {
      "cell_type": "code",
      "source": [
        "np.sqrt(28 * 28)"
      ],
      "metadata": {
        "id": "EcKN5F_vEVAM",
        "outputId": "f6dc5b98-c955-4d94-bb62-89862ab1cb5f",
        "colab": {
          "base_uri": "https://localhost:8080/"
        }
      },
      "execution_count": 45,
      "outputs": [
        {
          "output_type": "execute_result",
          "data": {
            "text/plain": [
              "28.0"
            ]
          },
          "metadata": {},
          "execution_count": 45
        }
      ]
    },
    {
      "cell_type": "code",
      "execution_count": 46,
      "metadata": {
        "id": "Gq-tvbzo_g62",
        "outputId": "e135747a-1614-4a7d-ecd6-7e96c18b7ccb",
        "colab": {
          "base_uri": "https://localhost:8080/"
        }
      },
      "outputs": [
        {
          "output_type": "stream",
          "name": "stdout",
          "text": [
            "Model: \"sequential_1\"\n",
            "_________________________________________________________________\n",
            " Layer (type)                Output Shape              Param #   \n",
            "=================================================================\n",
            " flatten_1 (Flatten)         (None, 784)               0         \n",
            "                                                                 \n",
            " dense_2 (Dense)             (None, 64)                50240     \n",
            "                                                                 \n",
            " dense_3 (Dense)             (None, 32)                2080      \n",
            "                                                                 \n",
            " dense_4 (Dense)             (None, 16)                528       \n",
            "                                                                 \n",
            " dense_5 (Dense)             (None, 10)                170       \n",
            "                                                                 \n",
            "=================================================================\n",
            "Total params: 53,018\n",
            "Trainable params: 53,018\n",
            "Non-trainable params: 0\n",
            "_________________________________________________________________\n"
          ]
        }
      ],
      "source": [
        "# We can adjust if we like! Anyone want to add layers, etc?\n",
        "\n",
        "model = Sequential(\n",
        "    [\n",
        "        keras.Input(shape=input_shape),\n",
        "        layers.Flatten(), # need to flatten our images to be one long array\n",
        "        layers.Dense(64, activation=\"tanh\"),\n",
        "        layers.Dense(32, activation=\"tanh\"),\n",
        "        layers.Dense(16, activation=\"tanh\"),\n",
        "        layers.Dense(num_classes, activation=\"softmax\"),\n",
        "    ])\n",
        "\n",
        "model.summary()"
      ]
    },
    {
      "cell_type": "code",
      "execution_count": 47,
      "metadata": {
        "id": "DMvY8ytfE4mK"
      },
      "outputs": [],
      "source": [
        "# Compiling our model\n",
        "model.compile(loss=\"categorical_crossentropy\", optimizer=\"adam\", metrics=[\"accuracy\"])"
      ]
    },
    {
      "cell_type": "code",
      "execution_count": 48,
      "metadata": {
        "scrolled": false,
        "outputId": "2815eb77-3d35-4227-ef5b-8e17fe9f2d90",
        "colab": {
          "base_uri": "https://localhost:8080/"
        },
        "id": "Qcnakgm8E4mL"
      },
      "outputs": [
        {
          "output_type": "stream",
          "name": "stdout",
          "text": [
            "Epoch 1/15\n",
            "469/469 [==============================] - 3s 4ms/step - loss: 0.5516 - accuracy: 0.8672 - val_loss: 0.2541 - val_accuracy: 0.9353\n",
            "Epoch 2/15\n",
            "469/469 [==============================] - 2s 4ms/step - loss: 0.2048 - accuracy: 0.9453 - val_loss: 0.1614 - val_accuracy: 0.9554\n",
            "Epoch 3/15\n",
            "469/469 [==============================] - 2s 4ms/step - loss: 0.1422 - accuracy: 0.9604 - val_loss: 0.1317 - val_accuracy: 0.9627\n",
            "Epoch 4/15\n",
            "469/469 [==============================] - 2s 4ms/step - loss: 0.1100 - accuracy: 0.9692 - val_loss: 0.1162 - val_accuracy: 0.9670\n",
            "Epoch 5/15\n",
            "469/469 [==============================] - 2s 4ms/step - loss: 0.0896 - accuracy: 0.9742 - val_loss: 0.1147 - val_accuracy: 0.9671\n",
            "Epoch 6/15\n",
            "469/469 [==============================] - 2s 4ms/step - loss: 0.0740 - accuracy: 0.9797 - val_loss: 0.1039 - val_accuracy: 0.9704\n",
            "Epoch 7/15\n",
            "469/469 [==============================] - 2s 4ms/step - loss: 0.0631 - accuracy: 0.9822 - val_loss: 0.0972 - val_accuracy: 0.9726\n",
            "Epoch 8/15\n",
            "469/469 [==============================] - 2s 4ms/step - loss: 0.0541 - accuracy: 0.9850 - val_loss: 0.0984 - val_accuracy: 0.9725\n",
            "Epoch 9/15\n",
            "469/469 [==============================] - 2s 4ms/step - loss: 0.0463 - accuracy: 0.9870 - val_loss: 0.0957 - val_accuracy: 0.9725\n",
            "Epoch 10/15\n",
            "469/469 [==============================] - 2s 4ms/step - loss: 0.0408 - accuracy: 0.9884 - val_loss: 0.0931 - val_accuracy: 0.9735\n",
            "Epoch 11/15\n",
            "469/469 [==============================] - 2s 4ms/step - loss: 0.0350 - accuracy: 0.9903 - val_loss: 0.0938 - val_accuracy: 0.9749\n",
            "Epoch 12/15\n",
            "469/469 [==============================] - 2s 4ms/step - loss: 0.0307 - accuracy: 0.9918 - val_loss: 0.0975 - val_accuracy: 0.9744\n",
            "Epoch 13/15\n",
            "469/469 [==============================] - 2s 4ms/step - loss: 0.0279 - accuracy: 0.9923 - val_loss: 0.1014 - val_accuracy: 0.9734\n",
            "Epoch 14/15\n",
            "469/469 [==============================] - 2s 4ms/step - loss: 0.0243 - accuracy: 0.9930 - val_loss: 0.1010 - val_accuracy: 0.9720\n",
            "Epoch 15/15\n",
            "469/469 [==============================] - 2s 4ms/step - loss: 0.0207 - accuracy: 0.9942 - val_loss: 0.1026 - val_accuracy: 0.9754\n"
          ]
        }
      ],
      "source": [
        "# Fit our model (save output to a history variable)\n",
        "history = model.fit(X_train, \n",
        "                    y_train, \n",
        "                    batch_size=batch_size,\n",
        "                    epochs=epochs, \n",
        "                    validation_data=(X_test, y_test))"
      ]
    },
    {
      "cell_type": "code",
      "execution_count": 49,
      "metadata": {
        "scrolled": false,
        "outputId": "3cebd52e-466e-435f-c9ba-0f7bd63728ec",
        "colab": {
          "base_uri": "https://localhost:8080/"
        },
        "id": "LKZHttmUE4mL"
      },
      "outputs": [
        {
          "output_type": "stream",
          "name": "stdout",
          "text": [
            "Test loss: 0.10261530429124832\n",
            "Test accuracy: 0.9753999710083008\n"
          ]
        }
      ],
      "source": [
        "# Evaluate!\n",
        "score = model.evaluate(X_test, y_test, verbose=0)\n",
        "print(\"Test loss:\", score[0])\n",
        "print(\"Test accuracy:\", score[1])"
      ]
    },
    {
      "cell_type": "code",
      "execution_count": 50,
      "metadata": {
        "outputId": "8dfe9d82-5e1f-419d-df6c-521fae473b96",
        "colab": {
          "base_uri": "https://localhost:8080/",
          "height": 308
        },
        "id": "aSbLQ6YcE4mM"
      },
      "outputs": [
        {
          "output_type": "display_data",
          "data": {
            "text/plain": [
              "<Figure size 432x288 with 2 Axes>"
            ],
            "image/png": "[encoded data removed]"
          },
          "metadata": {
            "needs_background": "light"
          }
        }
      ],
      "source": [
        "# Visualize results\n",
        "visualize_training_results(history)"
      ]
    },
    {
      "cell_type": "markdown",
      "metadata": {
        "id": "mm38pOKs_g63"
      },
      "source": [
        "## Regularization"
      ]
    },
    {
      "cell_type": "markdown",
      "metadata": {
        "id": "Xib2wn-Q_g63"
      },
      "source": [
        "Does regularization make sense in the context of neural networks? <br/>\n",
        "\n",
        "Yes! We still have all of the salient ingredients: a loss function, overfitting vs. underfitting, and coefficients (weights) that could get too large.\n",
        "\n",
        "But there are now a few different flavors besides L1 and L2 regularization. (Note that L1 regularization is not common in the context of  neural networks.)\n",
        "\n",
        "We'll add a few more layers to give regularization a better chance of making a difference!"
      ]
    },
    {
      "cell_type": "code",
      "execution_count": 52,
      "metadata": {
        "id": "BX9O1Kgj_g63",
        "outputId": "a15c42ad-e96e-4995-ee93-d10bd41bf6a9",
        "colab": {
          "base_uri": "https://localhost:8080/"
        }
      },
      "outputs": [
        {
          "output_type": "stream",
          "name": "stdout",
          "text": [
            "Model: \"sequential_3\"\n",
            "_________________________________________________________________\n",
            " Layer (type)                Output Shape              Param #   \n",
            "=================================================================\n",
            " flatten_3 (Flatten)         (None, 784)               0         \n",
            "                                                                 \n",
            " dense_10 (Dense)            (None, 64)                50240     \n",
            "                                                                 \n",
            " dense_11 (Dense)            (None, 32)                2080      \n",
            "                                                                 \n",
            " dense_12 (Dense)            (None, 16)                528       \n",
            "                                                                 \n",
            " dense_13 (Dense)            (None, 10)                170       \n",
            "                                                                 \n",
            "=================================================================\n",
            "Total params: 53,018\n",
            "Trainable params: 53,018\n",
            "Non-trainable params: 0\n",
            "_________________________________________________________________\n"
          ]
        }
      ],
      "source": [
        "# Paste your model here\n",
        "# Then, add kernel_regularizer arguments into the second dense layer!\n",
        "# Might want to add a fewer smaller layers - lets the reg params have impact\n",
        "model = Sequential(\n",
        "    [\n",
        "        keras.Input(shape=input_shape),\n",
        "        layers.Flatten(), # need to flatten our images to be one long array\n",
        "        layers.Dense(64, activation=\"tanh\",\n",
        "                     kernel_regularizer=l2(0.01)),\n",
        "        layers.Dense(32, activation=\"tanh\"),\n",
        "        layers.Dense(16, activation=\"tanh\"),\n",
        "        layers.Dense(num_classes, activation=\"softmax\"),\n",
        "    ])\n",
        "\n",
        "model.summary()"
      ]
    },
    {
      "cell_type": "code",
      "execution_count": 53,
      "metadata": {
        "id": "9_GR1S8w_g63"
      },
      "outputs": [],
      "source": [
        "# Compile your model\n",
        "model.compile(loss=\"categorical_crossentropy\", optimizer=\"adam\", metrics=[\"accuracy\"])"
      ]
    },
    {
      "cell_type": "code",
      "execution_count": 54,
      "metadata": {
        "id": "zBxnCUF8_g63",
        "outputId": "63f5b1f0-c430-4093-a295-f2051cb62a0f",
        "colab": {
          "base_uri": "https://localhost:8080/"
        }
      },
      "outputs": [
        {
          "output_type": "stream",
          "name": "stdout",
          "text": [
            "Epoch 1/15\n",
            "469/469 [==============================] - 3s 4ms/step - loss: 0.8438 - accuracy: 0.8598 - val_loss: 0.4070 - val_accuracy: 0.9183\n",
            "Epoch 2/15\n",
            "469/469 [==============================] - 2s 4ms/step - loss: 0.3638 - accuracy: 0.9233 - val_loss: 0.3188 - val_accuracy: 0.9317\n",
            "Epoch 3/15\n",
            "469/469 [==============================] - 2s 4ms/step - loss: 0.3120 - accuracy: 0.9332 - val_loss: 0.2836 - val_accuracy: 0.9406\n",
            "Epoch 4/15\n",
            "469/469 [==============================] - 3s 6ms/step - loss: 0.2834 - accuracy: 0.9410 - val_loss: 0.2684 - val_accuracy: 0.9454\n",
            "Epoch 5/15\n",
            "469/469 [==============================] - 2s 5ms/step - loss: 0.2644 - accuracy: 0.9462 - val_loss: 0.2420 - val_accuracy: 0.9506\n",
            "Epoch 6/15\n",
            "469/469 [==============================] - 2s 4ms/step - loss: 0.2531 - accuracy: 0.9485 - val_loss: 0.2379 - val_accuracy: 0.9534\n",
            "Epoch 7/15\n",
            "469/469 [==============================] - 2s 4ms/step - loss: 0.2398 - accuracy: 0.9515 - val_loss: 0.2278 - val_accuracy: 0.9545\n",
            "Epoch 8/15\n",
            "469/469 [==============================] - 2s 4ms/step - loss: 0.2337 - accuracy: 0.9531 - val_loss: 0.2409 - val_accuracy: 0.9494\n",
            "Epoch 9/15\n",
            "469/469 [==============================] - 2s 4ms/step - loss: 0.2272 - accuracy: 0.9542 - val_loss: 0.2211 - val_accuracy: 0.9581\n",
            "Epoch 10/15\n",
            "469/469 [==============================] - 2s 4ms/step - loss: 0.2222 - accuracy: 0.9551 - val_loss: 0.2205 - val_accuracy: 0.9565\n",
            "Epoch 11/15\n",
            "469/469 [==============================] - 2s 4ms/step - loss: 0.2167 - accuracy: 0.9569 - val_loss: 0.2152 - val_accuracy: 0.9583\n",
            "Epoch 12/15\n",
            "469/469 [==============================] - 2s 4ms/step - loss: 0.2083 - accuracy: 0.9596 - val_loss: 0.1998 - val_accuracy: 0.9596\n",
            "Epoch 13/15\n",
            "469/469 [==============================] - 2s 4ms/step - loss: 0.2087 - accuracy: 0.9579 - val_loss: 0.2169 - val_accuracy: 0.9561\n",
            "Epoch 14/15\n",
            "469/469 [==============================] - 2s 5ms/step - loss: 0.2067 - accuracy: 0.9589 - val_loss: 0.2174 - val_accuracy: 0.9583\n",
            "Epoch 15/15\n",
            "469/469 [==============================] - 2s 4ms/step - loss: 0.2059 - accuracy: 0.9590 - val_loss: 0.2105 - val_accuracy: 0.9567\n"
          ]
        }
      ],
      "source": [
        "# Fit your model\n",
        "history = model.fit(X_train, \n",
        "                    y_train, \n",
        "                    batch_size=batch_size,\n",
        "                    epochs=epochs, \n",
        "                    validation_data=(X_test, y_test))"
      ]
    },
    {
      "cell_type": "code",
      "execution_count": 55,
      "metadata": {
        "id": "_AMCjuqE_g63",
        "outputId": "b2170124-3bc3-41a8-c14b-b0f1096cbdda",
        "colab": {
          "base_uri": "https://localhost:8080/",
          "height": 308
        }
      },
      "outputs": [
        {
          "output_type": "display_data",
          "data": {
            "text/plain": [
              "<Figure size 432x288 with 2 Axes>"
            ],
            "image/png": "[encoded data removed]"
          },
          "metadata": {
            "needs_background": "light"
          }
        }
      ],
      "source": [
        "# Evaluate\n",
        "visualize_training_results(history)"
      ]
    },
    {
      "cell_type": "code",
      "source": [
        "score = model.evaluate(X_test, y_test, verbose=0)\n",
        "print(\"Test loss:\", score[0])\n",
        "print(\"Test accuracy:\", score[1])"
      ],
      "metadata": {
        "id": "KxkCrIL9HdVb",
        "outputId": "c87d7bb0-228f-4009-b4de-a50e2b1978ef",
        "colab": {
          "base_uri": "https://localhost:8080/"
        }
      },
      "execution_count": 56,
      "outputs": [
        {
          "output_type": "stream",
          "name": "stdout",
          "text": [
            "Test loss: 0.2105027586221695\n",
            "Test accuracy: 0.9567000269889832\n"
          ]
        }
      ]
    },
    {
      "cell_type": "markdown",
      "metadata": {
        "id": "BJQMBfrV_g63"
      },
      "source": [
        "### Dropout\n",
        "\n",
        "![drop_out](https://github.com/flatiron-school/BSC-DS-2022/blob/main/Phase4/images/drop_out.png?raw=1)"
      ]
    },
    {
      "cell_type": "markdown",
      "metadata": {
        "id": "KijpqAC0_g64"
      },
      "source": [
        "Dropout is a technique where randomly selected neurons are ignored during training. They are “dropped-out” randomly. This means that their contribution to the activation of downstream neurons is temporally removed on the forward pass and any weight updates are not applied to the neuron on the backward pass. You can add **dropout layers** in your neural network.\n",
        "\n",
        "\n",
        "<img src='https://github.com/flatiron-school/BSC-DS-2022/blob/main/Phase4/images/thanos.png?raw=1'/>"
      ]
    },
    {
      "cell_type": "markdown",
      "metadata": {
        "id": "_0veGgm__g64"
      },
      "source": [
        "### Exercise\n",
        "\n",
        "To add dropout to a `keras` network, simply add it as though it were a layer. It will apply to the immediately preceding layer.\n",
        "\n",
        "Useful resource: see how they add in the Dropout layer! https://machinelearningmastery.com/dropout-regularization-deep-learning-models-keras/\n",
        "\n",
        "Add Dropout to one or more of your the layers from our base model!"
      ]
    },
    {
      "cell_type": "code",
      "execution_count": 58,
      "metadata": {
        "id": "JhbywH2d_g64",
        "outputId": "52a81ec7-d72e-4653-8f82-05cd45070433",
        "colab": {
          "base_uri": "https://localhost:8080/"
        }
      },
      "outputs": [
        {
          "output_type": "stream",
          "name": "stdout",
          "text": [
            "Model: \"sequential_4\"\n",
            "_________________________________________________________________\n",
            " Layer (type)                Output Shape              Param #   \n",
            "=================================================================\n",
            " flatten_4 (Flatten)         (None, 784)               0         \n",
            "                                                                 \n",
            " dense_14 (Dense)            (None, 64)                50240     \n",
            "                                                                 \n",
            " dropout (Dropout)           (None, 64)                0         \n",
            "                                                                 \n",
            " dense_15 (Dense)            (None, 32)                2080      \n",
            "                                                                 \n",
            " dropout_1 (Dropout)         (None, 32)                0         \n",
            "                                                                 \n",
            " dense_16 (Dense)            (None, 16)                528       \n",
            "                                                                 \n",
            " dropout_2 (Dropout)         (None, 16)                0         \n",
            "                                                                 \n",
            " dense_17 (Dense)            (None, 10)                170       \n",
            "                                                                 \n",
            "=================================================================\n",
            "Total params: 53,018\n",
            "Trainable params: 53,018\n",
            "Non-trainable params: 0\n",
            "_________________________________________________________________\n"
          ]
        }
      ],
      "source": [
        "# Paste our base model (without regularization)\n",
        "# Then add dropout!\n",
        "\n",
        "model = Sequential(\n",
        "    [\n",
        "        keras.Input(shape=input_shape),\n",
        "        layers.Flatten(), # need to flatten our images to be one long array\n",
        "        layers.Dense(64, activation=\"tanh\"),\n",
        "        layers.Dropout(.1),\n",
        "        layers.Dense(32, activation=\"tanh\"),\n",
        "        layers.Dropout(.1),\n",
        "        layers.Dense(16, activation=\"tanh\"),\n",
        "        layers.Dropout(.1),\n",
        "        layers.Dense(num_classes, activation=\"softmax\"),\n",
        "    ])\n",
        "\n",
        "model.summary()"
      ]
    },
    {
      "cell_type": "code",
      "execution_count": 59,
      "metadata": {
        "id": "S1nPOMC4_g64",
        "outputId": "4cacd7ea-0fb8-49ac-ceae-4d602308de09",
        "colab": {
          "base_uri": "https://localhost:8080/"
        }
      },
      "outputs": [
        {
          "output_type": "stream",
          "name": "stdout",
          "text": [
            "Epoch 1/15\n",
            "469/469 [==============================] - 3s 6ms/step - loss: 0.6363 - accuracy: 0.8446 - val_loss: 0.2929 - val_accuracy: 0.9195\n",
            "Epoch 2/15\n",
            "469/469 [==============================] - 3s 6ms/step - loss: 0.2956 - accuracy: 0.9198 - val_loss: 0.2006 - val_accuracy: 0.9429\n",
            "Epoch 3/15\n",
            "469/469 [==============================] - 2s 5ms/step - loss: 0.2317 - accuracy: 0.9358 - val_loss: 0.1734 - val_accuracy: 0.9506\n",
            "Epoch 4/15\n",
            "469/469 [==============================] - 2s 5ms/step - loss: 0.1954 - accuracy: 0.9450 - val_loss: 0.1569 - val_accuracy: 0.9553\n",
            "Epoch 5/15\n",
            "469/469 [==============================] - 2s 5ms/step - loss: 0.1731 - accuracy: 0.9501 - val_loss: 0.1311 - val_accuracy: 0.9647\n",
            "Epoch 6/15\n",
            "469/469 [==============================] - 2s 5ms/step - loss: 0.1579 - accuracy: 0.9548 - val_loss: 0.1235 - val_accuracy: 0.9648\n",
            "Epoch 7/15\n",
            "469/469 [==============================] - 3s 6ms/step - loss: 0.1483 - accuracy: 0.9572 - val_loss: 0.1158 - val_accuracy: 0.9674\n",
            "Epoch 8/15\n",
            "469/469 [==============================] - 2s 5ms/step - loss: 0.1345 - accuracy: 0.9607 - val_loss: 0.1149 - val_accuracy: 0.9689\n",
            "Epoch 9/15\n",
            "469/469 [==============================] - 3s 7ms/step - loss: 0.1274 - accuracy: 0.9625 - val_loss: 0.1054 - val_accuracy: 0.9708\n",
            "Epoch 10/15\n",
            "469/469 [==============================] - 3s 6ms/step - loss: 0.1236 - accuracy: 0.9639 - val_loss: 0.1023 - val_accuracy: 0.9720\n",
            "Epoch 11/15\n",
            "469/469 [==============================] - 3s 7ms/step - loss: 0.1158 - accuracy: 0.9659 - val_loss: 0.1017 - val_accuracy: 0.9723\n",
            "Epoch 12/15\n",
            "469/469 [==============================] - 4s 8ms/step - loss: 0.1127 - accuracy: 0.9670 - val_loss: 0.1010 - val_accuracy: 0.9717\n",
            "Epoch 13/15\n",
            "469/469 [==============================] - 4s 8ms/step - loss: 0.1058 - accuracy: 0.9686 - val_loss: 0.1032 - val_accuracy: 0.9726\n",
            "Epoch 14/15\n",
            "469/469 [==============================] - 3s 5ms/step - loss: 0.1008 - accuracy: 0.9704 - val_loss: 0.0996 - val_accuracy: 0.9737\n",
            "Epoch 15/15\n",
            "469/469 [==============================] - 3s 6ms/step - loss: 0.0967 - accuracy: 0.9717 - val_loss: 0.0969 - val_accuracy: 0.9736\n"
          ]
        }
      ],
      "source": [
        "# Fit\n",
        "model.compile(loss=\"categorical_crossentropy\", optimizer=\"adam\", metrics=[\"accuracy\"])\n",
        "\n",
        "history = model.fit(X_train, \n",
        "                    y_train, \n",
        "                    batch_size=batch_size,\n",
        "                    epochs=epochs, \n",
        "                    validation_data=(X_test, y_test))"
      ]
    },
    {
      "cell_type": "code",
      "execution_count": 61,
      "metadata": {
        "id": "2Q2jUYtt_g64",
        "outputId": "80eb1791-0dd6-41a3-ae84-399445cfb280",
        "colab": {
          "base_uri": "https://localhost:8080/",
          "height": 343
        }
      },
      "outputs": [
        {
          "output_type": "stream",
          "name": "stdout",
          "text": [
            "Test loss: 0.09692152589559555\n",
            "Test accuracy: 0.9735999703407288\n"
          ]
        },
        {
          "output_type": "display_data",
          "data": {
            "text/plain": [
              "<Figure size 432x288 with 2 Axes>"
            ],
            "image/png": "[encoded data removed]"
          },
          "metadata": {
            "needs_background": "light"
          }
        }
      ],
      "source": [
        "# Evaluate\n",
        "\n",
        "score = model.evaluate(X_test, y_test, verbose=0)\n",
        "print(\"Test loss:\", score[0])\n",
        "print(\"Test accuracy:\", score[1])\n",
        "\n",
        "visualize_training_results(history)"
      ]
    },
    {
      "cell_type": "markdown",
      "metadata": {
        "id": "IIuHM2Zl_g64"
      },
      "source": [
        "-----\n",
        "\n",
        "# Convolutional Neural Networks (CNNs)"
      ]
    },
    {
      "cell_type": "markdown",
      "metadata": {
        "id": "0xt26TxB_g64"
      },
      "source": [
        "## Convolutional Layers"
      ]
    },
    {
      "cell_type": "markdown",
      "metadata": {
        "id": "LdmRJkSr_g65"
      },
      "source": [
        "A convolutional neural network is a neural network with **convolutional layers**. CNNs are mainly used for image recognition/classification. They can be used for video analysis, NLP (sentiment analysis, topic modeling), and speech recognition. \n",
        "\n",
        "### How do our brains see an image? \n",
        "\n",
        "We might see some fluffy tail, a wet nose, flappy ears, and a good boy and conclude we are probably seeing a dog. There is not one singular thing about a dog that our brain recognizes as a dog but an amalgamation of different patterns that allow us to make a probable guess.  \n",
        "\n",
        "<img src='https://github.com/flatiron-school/BSC-DS-2022/blob/main/Phase4/images/chihuahua.jpeg?raw=1'/>\n",
        "\n",
        "### How do computers see images?\n",
        "\n",
        "<img src='https://github.com/flatiron-school/BSC-DS-2022/blob/main/Phase4/images/architecture.jpeg?raw=1' width=700/>\n",
        "\n",
        "To computers, color images are a 3D object - composed of 3 matrices - one for each primary color that can be combined in varying intensities to create different colors. Each element in a matrix represents the location of a pixel and contains a number between 0 and 255 which indicates the intensity of the corresponding primary color in that pixel.\n",
        "\n",
        "<img src='https://github.com/flatiron-school/BSC-DS-2022/blob/main/Phase4/images/rgb_layers.png?raw=1'/>\n",
        "\n",
        "## Convolutions\n",
        "\n",
        "**To *convolve* means to roll together**. CNNs make use of linear algebra to identify patterns using the pixel values (intensity of R,G, or B). By **taking a small matrix and moving it across an image and multiplying them together every time it moves**, our network can mathematically identify patterns in these images. This small matrix is known as a *kernel* or *filter* and each one is designed to identify a particular pattern in an image (edges, shapes, etc.)\n",
        "\n",
        "<img src='https://github.com/flatiron-school/BSC-DS-2022/blob/main/Phase4/images/convolve.gif?raw=1' width=500/>\n",
        "\n",
        "When a filter is \"rolled over\" an image, the resulting matrix is called a **feature map** - literally a map of where each pattern of feature is in the image. Elements with higher values indicate the presence of a pattern the filter is looking for. The values (or weights) of the filter are adjusted during back-propagation.\n",
        "\n",
        "#### Convolutional layer parameters\n",
        "\n",
        "1. Padding: sometimes it is convenient to pad the input volume with zeros around the border. Helps with detecting patterns at the edge of an image\n",
        "2. Stride: the number of pixels to shift the filter on each \"roll\". The larger the stride, the smaller the feature map will be - but we will lose more information\n"
      ]
    },
    {
      "cell_type": "markdown",
      "metadata": {
        "id": "QjyCuUcP_g65"
      },
      "source": [
        "### Pooling Layers\n",
        "\n",
        "After a convolutional layer, the feature maps are fed into a max pool layer. Like convolutions, this method is applied one patch at a time (usually 2x2). Max pooling simply takes the largest value from one patch of an image, places it in a new matrix next to the max values from other patches, and discards the rest of the information contained in the activation maps. Other methods exist such as average pooling (taking an average of the patch).\n",
        "\n",
        "<img src='https://github.com/flatiron-school/BSC-DS-2022/blob/main/Phase4/images/maxpool.png?raw=1'/>\n",
        "\n",
        "This process results in a new feature map with reduced dimensionality that is then passed into another convolution layer to continue the pattern finding process. These steps are repeated until they are passed to a fully connected layer that proceeds to classify the image using the identified patterns.\n",
        "\n",
        "### Flattening\n",
        "\n",
        "Once the neural network has collected a series of patterns that an image contains, it is ready to make a guess as to what the image is. In order to do so, it starts by **flattening** the 2D matrix into a 1D vector, so it can be passed into a normal densely connected layer for classification. Then using this vector, one or many densely connected layers will make a prediction as to what the image is."
      ]
    },
    {
      "cell_type": "code",
      "execution_count": 62,
      "metadata": {
        "id": "LN30x9AN_g65",
        "outputId": "8e97ed7f-12ba-4ad5-d210-f0c237d2a64a",
        "colab": {
          "base_uri": "https://localhost:8080/",
          "height": 355
        }
      },
      "outputs": [
        {
          "output_type": "stream",
          "name": "stdout",
          "text": [
            "Downloading data from https://www.cs.toronto.edu/~kriz/cifar-10-python.tar.gz\n",
            "170500096/170498071 [==============================] - 2s 0us/step\n",
            "170508288/170498071 [==============================] - 2s 0us/step\n",
            "Train: X=(50000, 32, 32, 3), y=(50000, 1)\n",
            "Test: X=(10000, 32, 32, 3), y=(10000, 1)\n"
          ]
        },
        {
          "output_type": "display_data",
          "data": {
            "text/plain": [
              "<Figure size 432x288 with 9 Axes>"
            ],
            "image/png": "[encoded data removed]"
          },
          "metadata": {
            "needs_background": "light"
          }
        }
      ],
      "source": [
        "# New dataset!\n",
        "from keras.datasets import cifar10\n",
        "\n",
        "# load dataset\n",
        "(X_train, y_train), (X_test, y_test) = cifar10.load_data()\n",
        "# summarize loaded dataset\n",
        "print('Train: X=%s, y=%s' % (X_train.shape, y_train.shape))\n",
        "print('Test: X=%s, y=%s' % (X_test.shape, y_test.shape))\n",
        "# plot first few images\n",
        "for i in range(9):\n",
        "    # define subplot\n",
        "    plt.subplot(330 + 1 + i)\n",
        "    # plot raw pixel data\n",
        "    plt.imshow(X_train[i], cmap=plt.get_cmap('gray'))\n",
        "    \n",
        "plt.show()\n",
        "# If you get a \"downloading data\" thing, worry not, shouldn't take long"
      ]
    },
    {
      "cell_type": "code",
      "execution_count": 63,
      "metadata": {
        "id": "79hgKSpg_g65",
        "outputId": "a4582237-9fac-4130-cdc9-89317affdbe2",
        "colab": {
          "base_uri": "https://localhost:8080/"
        }
      },
      "outputs": [
        {
          "output_type": "execute_result",
          "data": {
            "text/plain": [
              "6    5000\n",
              "9    5000\n",
              "4    5000\n",
              "1    5000\n",
              "2    5000\n",
              "7    5000\n",
              "8    5000\n",
              "3    5000\n",
              "5    5000\n",
              "0    5000\n",
              "Name: 0, dtype: int64"
            ]
          },
          "metadata": {},
          "execution_count": 63
        }
      ],
      "source": [
        "# Checking the class balance of our data\n",
        "import pandas as pd\n",
        "pd.DataFrame(y_train)[0].value_counts()"
      ]
    },
    {
      "cell_type": "code",
      "execution_count": 68,
      "metadata": {
        "id": "F6paPiPl_g65",
        "outputId": "d6000d35-d412-472c-e622-308974e252b4",
        "colab": {
          "base_uri": "https://localhost:8080/"
        }
      },
      "outputs": [
        {
          "output_type": "stream",
          "name": "stdout",
          "text": [
            "X_train shape: (50000, 32, 32, 3)\n",
            "50000 train samples\n",
            "10000 test samples\n"
          ]
        }
      ],
      "source": [
        "# Still need to prep our data\n",
        "# Scale images to the [0, 1] range\n",
        "X_train = X_train.astype(\"float32\") / 255\n",
        "X_test = X_test.astype(\"float32\") / 255\n",
        "# Make sure images have shape (32, 32, 3)\n",
        "print(\"X_train shape:\", X_train.shape)\n",
        "print(X_train.shape[0], \"train samples\")\n",
        "print(X_test.shape[0], \"test samples\")"
      ]
    },
    {
      "cell_type": "code",
      "execution_count": 69,
      "metadata": {
        "id": "xh0YOK07_g66"
      },
      "outputs": [],
      "source": [
        "# And, prep our outputs\n",
        "num_classes = 10\n",
        "\n",
        "y_train = keras.utils.to_categorical(y_train, num_classes)\n",
        "y_test = keras.utils.to_categorical(y_test, num_classes)"
      ]
    },
    {
      "cell_type": "code",
      "execution_count": 70,
      "metadata": {
        "id": "tgZ1G4WA_g66"
      },
      "outputs": [],
      "source": [
        "# Model building using \"add\"\n",
        "\n",
        "cnn = Sequential()\n",
        "cnn.add(layers.Conv2D(32, (3, 3), activation='relu', padding='same', input_shape=(32, 32, 3)))\n",
        "cnn.add(layers.Conv2D(32, (3, 3), activation='relu', padding='same'))\n",
        "cnn.add(layers.MaxPooling2D((2, 2)))\n",
        "cnn.add(layers.Conv2D(64, (3, 3), activation='relu', padding='same'))\n",
        "cnn.add(layers.Conv2D(64, (3, 3), activation='relu', padding='same'))\n",
        "cnn.add(layers.MaxPooling2D((2, 2)))\n",
        "cnn.add(layers.Conv2D(128, (3, 3), activation='relu', padding='same'))\n",
        "cnn.add(layers.Conv2D(128, (3, 3), activation='relu', padding='same'))\n",
        "cnn.add(layers.MaxPooling2D((2, 2)))\n",
        "\n",
        "# now, to get the proper output\n",
        "cnn.add(layers.Flatten())\n",
        "cnn.add(layers.Dense(128, activation='relu', kernel_initializer='he_uniform'))\n",
        "cnn.add(layers.Dense(10, activation='softmax'))\n",
        "\n",
        "cnn.compile(loss='categorical_crossentropy',\n",
        "            optimizer=\"adam\",\n",
        "            metrics=['accuracy'])"
      ]
    },
    {
      "cell_type": "code",
      "execution_count": null,
      "metadata": {
        "id": "fJd6cOGl_g66",
        "outputId": "fb4e0f1c-7450-4d80-dfad-ec6f022a72eb",
        "colab": {
          "base_uri": "https://localhost:8080/"
        }
      },
      "outputs": [
        {
          "output_type": "stream",
          "name": "stdout",
          "text": [
            "Epoch 1/5\n",
            "782/782 [==============================] - 396s 505ms/step - loss: 1.4707 - accuracy: 0.4594 - val_loss: 1.1978 - val_accuracy: 0.5694\n",
            "Epoch 2/5\n",
            "184/782 [======>.......................] - ETA: 4:47 - loss: 1.0839 - accuracy: 0.6132"
          ]
        }
      ],
      "source": [
        "history = cnn.fit(X_train,\n",
        "                  y_train,\n",
        "                  epochs=5, # small since this is just a demo\n",
        "                  batch_size=64,\n",
        "                  validation_data=(X_test, y_test))\n",
        "# note - even with just 5 epochs this'll take at least 2.5 minutes"
      ]
    },
    {
      "cell_type": "code",
      "execution_count": null,
      "metadata": {
        "id": "POpvX6EK_g66"
      },
      "outputs": [],
      "source": [
        "# Evaluate!\n",
        "score = cnn.evaluate(X_test, y_test, verbose=0)\n",
        "print(\"Test loss:\", score[0])\n",
        "print(\"Test accuracy:\", score[1])\n",
        "\n",
        "# Visualize results\n",
        "visualize_training_results(history)"
      ]
    },
    {
      "cell_type": "markdown",
      "metadata": {
        "id": "-Mh9lVNv_g66"
      },
      "source": [
        "A worked-through example on this dataset: https://machinelearningmastery.com/how-to-develop-a-cnn-from-scratch-for-cifar-10-photo-classification/"
      ]
    }
  ],
  "metadata": {
    "celltoolbar": "Raw Cell Format",
    "colab": {
      "collapsed_sections": [],
      "name": "intro-to-keras.ipynb",
      "provenance": []
    },
    "kernelspec": {
      "display_name": "Python (learn-env)",
      "language": "python",
      "name": "learn-env"
    },
    "language_info": {
      "codemirror_mode": {
        "name": "ipython",
        "version": 3
      },
      "file_extension": ".py",
      "mimetype": "text/x-python",
      "name": "python",
      "nbconvert_exporter": "python",
      "pygments_lexer": "ipython3",
      "version": "3.8.5"
    }
  },
  "nbformat": 4,
  "nbformat_minor": 0
}