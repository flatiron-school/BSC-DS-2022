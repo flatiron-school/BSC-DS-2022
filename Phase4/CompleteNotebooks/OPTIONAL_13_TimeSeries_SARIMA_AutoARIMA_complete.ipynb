{
  "cells": [
    {
      "cell_type": "markdown",
      "metadata": {
        "id": "vvDHTm68M3NI"
      },
      "source": [
        "NOTE: Will need to run in Google Colab!"
      ]
    },
    {
      "cell_type": "markdown",
      "metadata": {
        "id": "cAnGWIe-_F_d"
      },
      "source": [
        "# Time Series: Seasonal ARIMA and AutoARIMA\n",
        "\n",
        "(and maybe [SKTime](https://www.sktime.org/en/stable/index.html)!)"
      ]
    },
    {
      "cell_type": "code",
      "execution_count": 1,
      "metadata": {
        "id": "y4b9wXyW_HEd",
        "outputId": "534f6805-1086-4e60-b603-487982c4f2ac",
        "colab": {
          "base_uri": "https://localhost:8080/"
        }
      },
      "outputs": [
        {
          "output_type": "stream",
          "name": "stdout",
          "text": [
            "Looking in indexes: https://pypi.org/simple, https://us-python.pkg.dev/colab-wheels/public/simple/\n",
            "Collecting sktime\n",
            "  Downloading sktime-0.13.0-py3-none-any.whl (6.8 MB)\n",
            "\u001b[K     |████████████████████████████████| 6.8 MB 2.8 MB/s \n",
            "\u001b[?25hRequirement already satisfied: numba>=0.53 in /usr/local/lib/python3.7/dist-packages (from sktime) (0.56.0)\n",
            "Collecting statsmodels>=0.12.1\n",
            "  Downloading statsmodels-0.13.2-cp37-cp37m-manylinux_2_17_x86_64.manylinux2014_x86_64.whl (9.8 MB)\n",
            "\u001b[K     |████████████████████████████████| 9.8 MB 40.2 MB/s \n",
            "\u001b[?25hRequirement already satisfied: pandas<1.5.0,>=1.1.0 in /usr/local/lib/python3.7/dist-packages (from sktime) (1.3.5)\n",
            "Requirement already satisfied: scikit-learn<1.2.0,>=0.24.0 in /usr/local/lib/python3.7/dist-packages (from sktime) (1.0.2)\n",
            "Collecting deprecated>=1.2.13\n",
            "  Downloading Deprecated-1.2.13-py2.py3-none-any.whl (9.6 kB)\n",
            "Requirement already satisfied: numpy<1.23,>=1.21.0 in /usr/local/lib/python3.7/dist-packages (from sktime) (1.21.6)\n",
            "Requirement already satisfied: scipy<1.9.0 in /usr/local/lib/python3.7/dist-packages (from sktime) (1.7.3)\n",
            "Requirement already satisfied: wrapt<2,>=1.10 in /usr/local/lib/python3.7/dist-packages (from deprecated>=1.2.13->sktime) (1.14.1)\n",
            "Requirement already satisfied: llvmlite<0.40,>=0.39.0dev0 in /usr/local/lib/python3.7/dist-packages (from numba>=0.53->sktime) (0.39.0)\n",
            "Requirement already satisfied: setuptools in /usr/local/lib/python3.7/dist-packages (from numba>=0.53->sktime) (57.4.0)\n",
            "Requirement already satisfied: importlib-metadata in /usr/local/lib/python3.7/dist-packages (from numba>=0.53->sktime) (4.12.0)\n",
            "Requirement already satisfied: pytz>=2017.3 in /usr/local/lib/python3.7/dist-packages (from pandas<1.5.0,>=1.1.0->sktime) (2022.1)\n",
            "Requirement already satisfied: python-dateutil>=2.7.3 in /usr/local/lib/python3.7/dist-packages (from pandas<1.5.0,>=1.1.0->sktime) (2.8.2)\n",
            "Requirement already satisfied: six>=1.5 in /usr/local/lib/python3.7/dist-packages (from python-dateutil>=2.7.3->pandas<1.5.0,>=1.1.0->sktime) (1.15.0)\n",
            "Requirement already satisfied: threadpoolctl>=2.0.0 in /usr/local/lib/python3.7/dist-packages (from scikit-learn<1.2.0,>=0.24.0->sktime) (3.1.0)\n",
            "Requirement already satisfied: joblib>=0.11 in /usr/local/lib/python3.7/dist-packages (from scikit-learn<1.2.0,>=0.24.0->sktime) (1.1.0)\n",
            "Requirement already satisfied: patsy>=0.5.2 in /usr/local/lib/python3.7/dist-packages (from statsmodels>=0.12.1->sktime) (0.5.2)\n",
            "Requirement already satisfied: packaging>=21.3 in /usr/local/lib/python3.7/dist-packages (from statsmodels>=0.12.1->sktime) (21.3)\n",
            "Requirement already satisfied: pyparsing!=3.0.5,>=2.0.2 in /usr/local/lib/python3.7/dist-packages (from packaging>=21.3->statsmodels>=0.12.1->sktime) (3.0.9)\n",
            "Requirement already satisfied: zipp>=0.5 in /usr/local/lib/python3.7/dist-packages (from importlib-metadata->numba>=0.53->sktime) (3.8.1)\n",
            "Requirement already satisfied: typing-extensions>=3.6.4 in /usr/local/lib/python3.7/dist-packages (from importlib-metadata->numba>=0.53->sktime) (4.1.1)\n",
            "Installing collected packages: statsmodels, deprecated, sktime\n",
            "  Attempting uninstall: statsmodels\n",
            "    Found existing installation: statsmodels 0.10.2\n",
            "    Uninstalling statsmodels-0.10.2:\n",
            "      Successfully uninstalled statsmodels-0.10.2\n",
            "Successfully installed deprecated-1.2.13 sktime-0.13.0 statsmodels-0.13.2\n",
            "Looking in indexes: https://pypi.org/simple, https://us-python.pkg.dev/colab-wheels/public/simple/\n",
            "Collecting pmdarima\n",
            "  Downloading pmdarima-1.8.5-cp37-cp37m-manylinux_2_17_x86_64.manylinux2014_x86_64.manylinux_2_24_x86_64.whl (1.4 MB)\n",
            "\u001b[K     |████████████████████████████████| 1.4 MB 5.7 MB/s \n",
            "\u001b[?25hRequirement already satisfied: pandas>=0.19 in /usr/local/lib/python3.7/dist-packages (from pmdarima) (1.3.5)\n",
            "Requirement already satisfied: scipy>=1.3.2 in /usr/local/lib/python3.7/dist-packages (from pmdarima) (1.7.3)\n",
            "Requirement already satisfied: setuptools!=50.0.0,>=38.6.0 in /usr/local/lib/python3.7/dist-packages (from pmdarima) (57.4.0)\n",
            "Requirement already satisfied: scikit-learn>=0.22 in /usr/local/lib/python3.7/dist-packages (from pmdarima) (1.0.2)\n",
            "Requirement already satisfied: joblib>=0.11 in /usr/local/lib/python3.7/dist-packages (from pmdarima) (1.1.0)\n",
            "Requirement already satisfied: statsmodels!=0.12.0,>=0.11 in /usr/local/lib/python3.7/dist-packages (from pmdarima) (0.13.2)\n",
            "Requirement already satisfied: numpy>=1.19.3 in /usr/local/lib/python3.7/dist-packages (from pmdarima) (1.21.6)\n",
            "Requirement already satisfied: Cython!=0.29.18,>=0.29 in /usr/local/lib/python3.7/dist-packages (from pmdarima) (0.29.31)\n",
            "Requirement already satisfied: urllib3 in /usr/local/lib/python3.7/dist-packages (from pmdarima) (1.24.3)\n",
            "Requirement already satisfied: python-dateutil>=2.7.3 in /usr/local/lib/python3.7/dist-packages (from pandas>=0.19->pmdarima) (2.8.2)\n",
            "Requirement already satisfied: pytz>=2017.3 in /usr/local/lib/python3.7/dist-packages (from pandas>=0.19->pmdarima) (2022.1)\n",
            "Requirement already satisfied: six>=1.5 in /usr/local/lib/python3.7/dist-packages (from python-dateutil>=2.7.3->pandas>=0.19->pmdarima) (1.15.0)\n",
            "Requirement already satisfied: threadpoolctl>=2.0.0 in /usr/local/lib/python3.7/dist-packages (from scikit-learn>=0.22->pmdarima) (3.1.0)\n",
            "Requirement already satisfied: patsy>=0.5.2 in /usr/local/lib/python3.7/dist-packages (from statsmodels!=0.12.0,>=0.11->pmdarima) (0.5.2)\n",
            "Requirement already satisfied: packaging>=21.3 in /usr/local/lib/python3.7/dist-packages (from statsmodels!=0.12.0,>=0.11->pmdarima) (21.3)\n",
            "Requirement already satisfied: pyparsing!=3.0.5,>=2.0.2 in /usr/local/lib/python3.7/dist-packages (from packaging>=21.3->statsmodels!=0.12.0,>=0.11->pmdarima) (3.0.9)\n",
            "Installing collected packages: pmdarima\n",
            "Successfully installed pmdarima-1.8.5\n"
          ]
        }
      ],
      "source": [
        "!pip install sktime\n",
        "!pip install pmdarima"
      ]
    },
    {
      "cell_type": "markdown",
      "metadata": {
        "id": "elLtweDH_F_e"
      },
      "source": [
        "### Data Set Up\n",
        "\n",
        "Airline Passenger Data: https://www.kaggle.com/rakannimer/air-passengers\n",
        "\n",
        "(it's a pretty common dataset, available in several different places, but here's a source - we'll just load it up straight from SKTime!)"
      ]
    },
    {
      "cell_type": "code",
      "execution_count": 2,
      "metadata": {
        "id": "E7hVgggu_F_f"
      },
      "outputs": [],
      "source": [
        "# Imports\n",
        "import pandas as pd\n",
        "import numpy as np\n",
        "import matplotlib.pyplot as plt\n",
        "\n",
        "from sklearn.model_selection import train_test_split"
      ]
    },
    {
      "cell_type": "code",
      "execution_count": 12,
      "metadata": {
        "id": "tHm1LHxK_F_f"
      },
      "outputs": [],
      "source": [
        "from sktime.datasets import load_airline\n",
        "df = pd.DataFrame(load_airline())"
      ]
    },
    {
      "cell_type": "code",
      "execution_count": 13,
      "metadata": {
        "id": "E2S6wdwK_Zhg",
        "outputId": "a6df49af-2f08-493e-98fe-7030a8ca914a",
        "colab": {
          "base_uri": "https://localhost:8080/",
          "height": 237
        }
      },
      "outputs": [
        {
          "output_type": "execute_result",
          "data": {
            "text/plain": [
              "         Number of airline passengers\n",
              "Period                               \n",
              "1949-01                         112.0\n",
              "1949-02                         118.0\n",
              "1949-03                         132.0\n",
              "1949-04                         129.0\n",
              "1949-05                         121.0"
            ],
            "text/html": [
              "\n",
              "  <div id=\"df-d8d3982b-25d7-44bb-98b2-fbb921b533a6\">\n",
              "    <div class=\"colab-df-container\">\n",
              "      <div>\n",
              "<style scoped>\n",
              "    .dataframe tbody tr th:only-of-type {\n",
              "        vertical-align: middle;\n",
              "    }\n",
              "\n",
              "    .dataframe tbody tr th {\n",
              "        vertical-align: top;\n",
              "    }\n",
              "\n",
              "    .dataframe thead th {\n",
              "        text-align: right;\n",
              "    }\n",
              "</style>\n",
              "<table border=\"1\" class=\"dataframe\">\n",
              "  <thead>\n",
              "    <tr style=\"text-align: right;\">\n",
              "      <th></th>\n",
              "      <th>Number of airline passengers</th>\n",
              "    </tr>\n",
              "    <tr>\n",
              "      <th>Period</th>\n",
              "      <th></th>\n",
              "    </tr>\n",
              "  </thead>\n",
              "  <tbody>\n",
              "    <tr>\n",
              "      <th>1949-01</th>\n",
              "      <td>112.0</td>\n",
              "    </tr>\n",
              "    <tr>\n",
              "      <th>1949-02</th>\n",
              "      <td>118.0</td>\n",
              "    </tr>\n",
              "    <tr>\n",
              "      <th>1949-03</th>\n",
              "      <td>132.0</td>\n",
              "    </tr>\n",
              "    <tr>\n",
              "      <th>1949-04</th>\n",
              "      <td>129.0</td>\n",
              "    </tr>\n",
              "    <tr>\n",
              "      <th>1949-05</th>\n",
              "      <td>121.0</td>\n",
              "    </tr>\n",
              "  </tbody>\n",
              "</table>\n",
              "</div>\n",
              "      <button class=\"colab-df-convert\" onclick=\"convertToInteractive('df-d8d3982b-25d7-44bb-98b2-fbb921b533a6')\"\n",
              "              title=\"Convert this dataframe to an interactive table.\"\n",
              "              style=\"display:none;\">\n",
              "        \n",
              "  <svg xmlns=\"http://www.w3.org/2000/svg\" height=\"24px\"viewBox=\"0 0 24 24\"\n",
              "       width=\"24px\">\n",
              "    <path d=\"M0 0h24v24H0V0z\" fill=\"none\"/>\n",
              "    <path d=\"M18.56 5.44l.94 2.06.94-2.06 2.06-.94-2.06-.94-.94-2.06-.94 2.06-2.06.94zm-11 1L8.5 8.5l.94-2.06 2.06-.94-2.06-.94L8.5 2.5l-.94 2.06-2.06.94zm10 10l.94 2.06.94-2.06 2.06-.94-2.06-.94-.94-2.06-.94 2.06-2.06.94z\"/><path d=\"M17.41 7.96l-1.37-1.37c-.4-.4-.92-.59-1.43-.59-.52 0-1.04.2-1.43.59L10.3 9.45l-7.72 7.72c-.78.78-.78 2.05 0 2.83L4 21.41c.39.39.9.59 1.41.59.51 0 1.02-.2 1.41-.59l7.78-7.78 2.81-2.81c.8-.78.8-2.07 0-2.86zM5.41 20L4 18.59l7.72-7.72 1.47 1.35L5.41 20z\"/>\n",
              "  </svg>\n",
              "      </button>\n",
              "      \n",
              "  <style>\n",
              "    .colab-df-container {\n",
              "      display:flex;\n",
              "      flex-wrap:wrap;\n",
              "      gap: 12px;\n",
              "    }\n",
              "\n",
              "    .colab-df-convert {\n",
              "      background-color: #E8F0FE;\n",
              "      border: none;\n",
              "      border-radius: 50%;\n",
              "      cursor: pointer;\n",
              "      display: none;\n",
              "      fill: #1967D2;\n",
              "      height: 32px;\n",
              "      padding: 0 0 0 0;\n",
              "      width: 32px;\n",
              "    }\n",
              "\n",
              "    .colab-df-convert:hover {\n",
              "      background-color: #E2EBFA;\n",
              "      box-shadow: 0px 1px 2px rgba(60, 64, 67, 0.3), 0px 1px 3px 1px rgba(60, 64, 67, 0.15);\n",
              "      fill: #174EA6;\n",
              "    }\n",
              "\n",
              "    [theme=dark] .colab-df-convert {\n",
              "      background-color: #3B4455;\n",
              "      fill: #D2E3FC;\n",
              "    }\n",
              "\n",
              "    [theme=dark] .colab-df-convert:hover {\n",
              "      background-color: #434B5C;\n",
              "      box-shadow: 0px 1px 3px 1px rgba(0, 0, 0, 0.15);\n",
              "      filter: drop-shadow(0px 1px 2px rgba(0, 0, 0, 0.3));\n",
              "      fill: #FFFFFF;\n",
              "    }\n",
              "  </style>\n",
              "\n",
              "      <script>\n",
              "        const buttonEl =\n",
              "          document.querySelector('#df-d8d3982b-25d7-44bb-98b2-fbb921b533a6 button.colab-df-convert');\n",
              "        buttonEl.style.display =\n",
              "          google.colab.kernel.accessAllowed ? 'block' : 'none';\n",
              "\n",
              "        async function convertToInteractive(key) {\n",
              "          const element = document.querySelector('#df-d8d3982b-25d7-44bb-98b2-fbb921b533a6');\n",
              "          const dataTable =\n",
              "            await google.colab.kernel.invokeFunction('convertToInteractive',\n",
              "                                                     [key], {});\n",
              "          if (!dataTable) return;\n",
              "\n",
              "          const docLinkHtml = 'Like what you see? Visit the ' +\n",
              "            '<a target=\"_blank\" href=https://colab.research.google.com/notebooks/data_table.ipynb>data table notebook</a>'\n",
              "            + ' to learn more about interactive tables.';\n",
              "          element.innerHTML = '';\n",
              "          dataTable['output_type'] = 'display_data';\n",
              "          await google.colab.output.renderOutput(dataTable, element);\n",
              "          const docLink = document.createElement('div');\n",
              "          docLink.innerHTML = docLinkHtml;\n",
              "          element.appendChild(docLink);\n",
              "        }\n",
              "      </script>\n",
              "    </div>\n",
              "  </div>\n",
              "  "
            ]
          },
          "metadata": {},
          "execution_count": 13
        }
      ],
      "source": [
        "df.head()"
      ]
    },
    {
      "cell_type": "code",
      "execution_count": 14,
      "metadata": {
        "id": "kY_6gHor_jaf",
        "outputId": "9f198bdc-3fcb-4d15-bbac-9aa60ec06292",
        "colab": {
          "base_uri": "https://localhost:8080/"
        }
      },
      "outputs": [
        {
          "output_type": "stream",
          "name": "stdout",
          "text": [
            "<class 'pandas.core.frame.DataFrame'>\n",
            "PeriodIndex: 144 entries, 1949-01 to 1960-12\n",
            "Freq: M\n",
            "Data columns (total 1 columns):\n",
            " #   Column                        Non-Null Count  Dtype  \n",
            "---  ------                        --------------  -----  \n",
            " 0   Number of airline passengers  144 non-null    float64\n",
            "dtypes: float64(1)\n",
            "memory usage: 2.2 KB\n"
          ]
        }
      ],
      "source": [
        "df.info()"
      ]
    },
    {
      "cell_type": "code",
      "source": [
        "df.index"
      ],
      "metadata": {
        "id": "DiXz1T6gPWe-",
        "outputId": "a0b84dd5-cf5a-42c1-89fb-e5e84b4bffda",
        "colab": {
          "base_uri": "https://localhost:8080/"
        }
      },
      "execution_count": 15,
      "outputs": [
        {
          "output_type": "execute_result",
          "data": {
            "text/plain": [
              "PeriodIndex(['1949-01', '1949-02', '1949-03', '1949-04', '1949-05', '1949-06',\n",
              "             '1949-07', '1949-08', '1949-09', '1949-10',\n",
              "             ...\n",
              "             '1960-03', '1960-04', '1960-05', '1960-06', '1960-07', '1960-08',\n",
              "             '1960-09', '1960-10', '1960-11', '1960-12'],\n",
              "            dtype='period[M]', name='Period', length=144)"
            ]
          },
          "metadata": {},
          "execution_count": 15
        }
      ]
    },
    {
      "cell_type": "code",
      "execution_count": 16,
      "metadata": {
        "id": "5F9cNMpx_F_f",
        "outputId": "9df71d9a-caa5-4683-d11a-18eca4e2efe8",
        "colab": {
          "base_uri": "https://localhost:8080/",
          "height": 297
        }
      },
      "outputs": [
        {
          "output_type": "display_data",
          "data": {
            "text/plain": [
              "<Figure size 432x288 with 4 Axes>"
            ],
            "image/png": "[encoded data removed]"
          },
          "metadata": {
            "needs_background": "light"
          }
        }
      ],
      "source": [
        "# Decompose\n",
        "from statsmodels.tsa.seasonal import seasonal_decompose\n",
        "\n",
        "df.index=df.index.to_timestamp()\n",
        "\n",
        "decomp = seasonal_decompose(df)\n",
        "decomp.plot();"
      ]
    },
    {
      "cell_type": "code",
      "source": [
        "df.index"
      ],
      "metadata": {
        "id": "GDK1Qn0kPe_f",
        "outputId": "105d8964-0235-473c-9220-07ec588d0caf",
        "colab": {
          "base_uri": "https://localhost:8080/"
        }
      },
      "execution_count": 17,
      "outputs": [
        {
          "output_type": "execute_result",
          "data": {
            "text/plain": [
              "DatetimeIndex(['1949-01-01', '1949-02-01', '1949-03-01', '1949-04-01',\n",
              "               '1949-05-01', '1949-06-01', '1949-07-01', '1949-08-01',\n",
              "               '1949-09-01', '1949-10-01',\n",
              "               ...\n",
              "               '1960-03-01', '1960-04-01', '1960-05-01', '1960-06-01',\n",
              "               '1960-07-01', '1960-08-01', '1960-09-01', '1960-10-01',\n",
              "               '1960-11-01', '1960-12-01'],\n",
              "              dtype='datetime64[ns]', name='Period', length=144, freq='MS')"
            ]
          },
          "metadata": {},
          "execution_count": 17
        }
      ]
    },
    {
      "cell_type": "code",
      "execution_count": 9,
      "metadata": {
        "id": "dLsZTDp2_F_g"
      },
      "outputs": [],
      "source": [
        "# Train test split - test set will be the last 3 years\n",
        "train, test = train_test_split(df, test_size = 36, shuffle=False)"
      ]
    },
    {
      "cell_type": "code",
      "execution_count": 10,
      "metadata": {
        "id": "3fjfo2zI_F_g",
        "outputId": "b637a5b9-c547-4386-cc16-edbbbfefb718",
        "colab": {
          "base_uri": "https://localhost:8080/",
          "height": 499
        }
      },
      "outputs": [
        {
          "output_type": "display_data",
          "data": {
            "text/plain": [
              "<Figure size 864x576 with 1 Axes>"
            ],
            "image/png": "[encoded data removed]"
          },
          "metadata": {
            "needs_background": "light"
          }
        }
      ],
      "source": [
        "# Let's visualize our train and test sets\n",
        "fig, ax = plt.subplots(figsize=(12, 8))\n",
        "ax.plot(train, label='train')\n",
        "ax.plot(test, label='test')\n",
        "ax.set_title('Train-Test Split');\n",
        "plt.legend();"
      ]
    },
    {
      "cell_type": "markdown",
      "metadata": {
        "id": "UXbqqoMZ_F_g"
      },
      "source": [
        "### Where We Left Off"
      ]
    },
    {
      "cell_type": "code",
      "execution_count": 18,
      "metadata": {
        "id": "FFRjXTgs_F_h"
      },
      "outputs": [],
      "source": [
        "# Import ARIMA\n",
        "from statsmodels.tsa.arima.model import ARIMA"
      ]
    },
    {
      "cell_type": "code",
      "execution_count": 19,
      "metadata": {
        "id": "setrnQ67_F_h"
      },
      "outputs": [],
      "source": [
        "# From our data exploration earlier, what do we want to use as params?\n",
        "# Order will be (p,d,q)\n",
        "arima_order = (1, 1, 1) # should be a tuple, like (0,0,0)"
      ]
    },
    {
      "cell_type": "code",
      "execution_count": 20,
      "metadata": {
        "id": "jeF2oVBW_F_h"
      },
      "outputs": [],
      "source": [
        "# Now let's fit our ARIMA model\n",
        "result = ARIMA(train, order=arima_order).fit()"
      ]
    },
    {
      "cell_type": "code",
      "execution_count": 21,
      "metadata": {
        "id": "Y_YrinMA_F_h",
        "outputId": "6b45d86e-5999-4c26-a732-7fcd1e1b3707",
        "colab": {
          "base_uri": "https://localhost:8080/",
          "height": 423
        }
      },
      "outputs": [
        {
          "output_type": "execute_result",
          "data": {
            "text/plain": [
              "<class 'statsmodels.iolib.summary.Summary'>\n",
              "\"\"\"\n",
              "                                    SARIMAX Results                                     \n",
              "========================================================================================\n",
              "Dep. Variable:     Number of airline passengers   No. Observations:                  108\n",
              "Model:                           ARIMA(1, 1, 1)   Log Likelihood                -490.640\n",
              "Date:                          Tue, 02 Aug 2022   AIC                            987.280\n",
              "Time:                                  15:48:54   BIC                            995.299\n",
              "Sample:                              01-01-1949   HQIC                           990.531\n",
              "                                   - 12-01-1957                                         \n",
              "Covariance Type:                            opg                                         \n",
              "==============================================================================\n",
              "                 coef    std err          z      P>|z|      [0.025      0.975]\n",
              "------------------------------------------------------------------------------\n",
              "ar.L1         -0.4856      0.136     -3.567      0.000      -0.752      -0.219\n",
              "ma.L1          0.8760      0.078     11.289      0.000       0.724       1.028\n",
              "sigma2       559.5788     94.858      5.899      0.000     373.661     745.496\n",
              "===================================================================================\n",
              "Ljung-Box (L1) (Q):                   0.07   Jarque-Bera (JB):                 1.75\n",
              "Prob(Q):                              0.80   Prob(JB):                         0.42\n",
              "Heteroskedasticity (H):               4.60   Skew:                             0.03\n",
              "Prob(H) (two-sided):                  0.00   Kurtosis:                         2.38\n",
              "===================================================================================\n",
              "\n",
              "Warnings:\n",
              "[1] Covariance matrix calculated using the outer product of gradients (complex-step).\n",
              "\"\"\""
            ],
            "text/html": [
              "<table class=\"simpletable\">\n",
              "<caption>SARIMAX Results</caption>\n",
              "<tr>\n",
              "  <th>Dep. Variable:</th>   <td>Number of airline passengers</td> <th>  No. Observations:  </th>    <td>108</td>  \n",
              "</tr>\n",
              "<tr>\n",
              "  <th>Model:</th>                  <td>ARIMA(1, 1, 1)</td>        <th>  Log Likelihood     </th> <td>-490.640</td>\n",
              "</tr>\n",
              "<tr>\n",
              "  <th>Date:</th>                  <td>Tue, 02 Aug 2022</td>       <th>  AIC                </th>  <td>987.280</td>\n",
              "</tr>\n",
              "<tr>\n",
              "  <th>Time:</th>                      <td>15:48:54</td>           <th>  BIC                </th>  <td>995.299</td>\n",
              "</tr>\n",
              "<tr>\n",
              "  <th>Sample:</th>                   <td>01-01-1949</td>          <th>  HQIC               </th>  <td>990.531</td>\n",
              "</tr>\n",
              "<tr>\n",
              "  <th></th>                         <td>- 12-01-1957</td>         <th>                     </th>     <td> </td>   \n",
              "</tr>\n",
              "<tr>\n",
              "  <th>Covariance Type:</th>              <td>opg</td>             <th>                     </th>     <td> </td>   \n",
              "</tr>\n",
              "</table>\n",
              "<table class=\"simpletable\">\n",
              "<tr>\n",
              "     <td></td>       <th>coef</th>     <th>std err</th>      <th>z</th>      <th>P>|z|</th>  <th>[0.025</th>    <th>0.975]</th>  \n",
              "</tr>\n",
              "<tr>\n",
              "  <th>ar.L1</th>  <td>   -0.4856</td> <td>    0.136</td> <td>   -3.567</td> <td> 0.000</td> <td>   -0.752</td> <td>   -0.219</td>\n",
              "</tr>\n",
              "<tr>\n",
              "  <th>ma.L1</th>  <td>    0.8760</td> <td>    0.078</td> <td>   11.289</td> <td> 0.000</td> <td>    0.724</td> <td>    1.028</td>\n",
              "</tr>\n",
              "<tr>\n",
              "  <th>sigma2</th> <td>  559.5788</td> <td>   94.858</td> <td>    5.899</td> <td> 0.000</td> <td>  373.661</td> <td>  745.496</td>\n",
              "</tr>\n",
              "</table>\n",
              "<table class=\"simpletable\">\n",
              "<tr>\n",
              "  <th>Ljung-Box (L1) (Q):</th>     <td>0.07</td> <th>  Jarque-Bera (JB):  </th> <td>1.75</td>\n",
              "</tr>\n",
              "<tr>\n",
              "  <th>Prob(Q):</th>                <td>0.80</td> <th>  Prob(JB):          </th> <td>0.42</td>\n",
              "</tr>\n",
              "<tr>\n",
              "  <th>Heteroskedasticity (H):</th> <td>4.60</td> <th>  Skew:              </th> <td>0.03</td>\n",
              "</tr>\n",
              "<tr>\n",
              "  <th>Prob(H) (two-sided):</th>    <td>0.00</td> <th>  Kurtosis:          </th> <td>2.38</td>\n",
              "</tr>\n",
              "</table><br/><br/>Warnings:<br/>[1] Covariance matrix calculated using the outer product of gradients (complex-step)."
            ]
          },
          "metadata": {},
          "execution_count": 21
        }
      ],
      "source": [
        "# Since it's statsmodels, we have a summary we can explore\n",
        "result.summary()"
      ]
    },
    {
      "cell_type": "code",
      "execution_count": 22,
      "metadata": {
        "id": "VGZlAzh-_F_h"
      },
      "outputs": [],
      "source": [
        "# We can also make predictions using .forecast\n",
        "# Steps will be the length of our test data\n",
        "test_preds = result.forecast(steps=len(test))"
      ]
    },
    {
      "cell_type": "code",
      "execution_count": 23,
      "metadata": {
        "id": "ioOFHNAV_F_i",
        "outputId": "a1b594b2-9d9f-4e64-9234-e4e70c7cf6b9",
        "colab": {
          "base_uri": "https://localhost:8080/",
          "height": 265
        }
      },
      "outputs": [
        {
          "output_type": "display_data",
          "data": {
            "text/plain": [
              "<Figure size 432x288 with 1 Axes>"
            ],
            "image/png": "[encoded data removed]"
          },
          "metadata": {
            "needs_background": "light"
          }
        }
      ],
      "source": [
        "# How can we visualize our predictions?\n",
        "plt.plot(train, label = 'Train')\n",
        "plt.plot(test, label = 'Test')\n",
        "plt.plot(test_preds, label = 'Test Preds')\n",
        "plt.legend();"
      ]
    },
    {
      "cell_type": "code",
      "source": [
        "result.forecast(steps=len(test))"
      ],
      "metadata": {
        "id": "AW_WgL7FP9qX",
        "outputId": "c2d6000e-b9c7-4ebd-9e6d-73fddb13a318",
        "colab": {
          "base_uri": "https://localhost:8080/"
        }
      },
      "execution_count": 25,
      "outputs": [
        {
          "output_type": "execute_result",
          "data": {
            "text/plain": [
              "1958-01-01    358.724115\n",
              "1958-02-01    347.689827\n",
              "1958-03-01    353.047814\n",
              "1958-04-01    350.446104\n",
              "1958-05-01    351.709432\n",
              "1958-06-01    351.095990\n",
              "1958-07-01    351.393863\n",
              "1958-08-01    351.249223\n",
              "1958-09-01    351.319457\n",
              "1958-10-01    351.285353\n",
              "1958-11-01    351.301913\n",
              "1958-12-01    351.293872\n",
              "1959-01-01    351.297776\n",
              "1959-02-01    351.295880\n",
              "1959-03-01    351.296801\n",
              "1959-04-01    351.296354\n",
              "1959-05-01    351.296571\n",
              "1959-06-01    351.296466\n",
              "1959-07-01    351.296517\n",
              "1959-08-01    351.296492\n",
              "1959-09-01    351.296504\n",
              "1959-10-01    351.296498\n",
              "1959-11-01    351.296501\n",
              "1959-12-01    351.296500\n",
              "1960-01-01    351.296500\n",
              "1960-02-01    351.296500\n",
              "1960-03-01    351.296500\n",
              "1960-04-01    351.296500\n",
              "1960-05-01    351.296500\n",
              "1960-06-01    351.296500\n",
              "1960-07-01    351.296500\n",
              "1960-08-01    351.296500\n",
              "1960-09-01    351.296500\n",
              "1960-10-01    351.296500\n",
              "1960-11-01    351.296500\n",
              "1960-12-01    351.296500\n",
              "Freq: MS, Name: predicted_mean, dtype: float64"
            ]
          },
          "metadata": {},
          "execution_count": 25
        }
      ]
    },
    {
      "cell_type": "code",
      "source": [
        "result.get_forecast(steps=len(test)).summary_frame()"
      ],
      "metadata": {
        "id": "lNjpxX7FP5KJ",
        "outputId": "b7616875-cee1-4ed6-a72f-48200be59ed0",
        "colab": {
          "base_uri": "https://localhost:8080/",
          "height": 1000
        }
      },
      "execution_count": 24,
      "outputs": [
        {
          "output_type": "execute_result",
          "data": {
            "text/plain": [
              "Number of airline passengers        mean     mean_se  mean_ci_lower  \\\n",
              "1958-01-01                    358.724115   23.655419     312.360347   \n",
              "1958-02-01                    347.689827   40.513408     268.285007   \n",
              "1958-03-01                    353.047814   49.479634     256.069513   \n",
              "1958-04-01                    350.446104   58.168502     236.437934   \n",
              "1958-05-01                    351.709432   65.233138     223.854832   \n",
              "1958-06-01                    351.095990   71.817340     210.336590   \n",
              "1958-07-01                    351.393863   77.750778     199.005139   \n",
              "1958-08-01                    351.249223   83.305843     187.972772   \n",
              "1958-09-01                    351.319457   88.493110     177.876148   \n",
              "1958-10-01                    351.285353   93.401833     168.221123   \n",
              "1958-11-01                    351.301913   98.060932     159.106017   \n",
              "1958-12-01                    351.293872  102.510450     150.377081   \n",
              "1959-01-01                    351.297776  106.773794     142.024985   \n",
              "1959-02-01                    351.295880  110.873751     133.987321   \n",
              "1959-03-01                    351.296801  114.827210     126.239604   \n",
              "1959-04-01                    351.296354  118.649105     118.748382   \n",
              "1959-05-01                    351.296571  122.351629     111.491785   \n",
              "1959-06-01                    351.296466  125.945374     104.448068   \n",
              "1959-07-01                    351.296517  129.439372      97.600009   \n",
              "1959-08-01                    351.296492  132.841507      90.931922   \n",
              "1959-09-01                    351.296504  136.158659      84.430436   \n",
              "1959-10-01                    351.296498  139.396897      78.083599   \n",
              "1959-11-01                    351.296501  142.561599      71.880901   \n",
              "1959-12-01                    351.296500  145.657558      65.812932   \n",
              "1960-01-01                    351.296500  148.689067      59.871284   \n",
              "1960-02-01                    351.296500  151.659992      54.048377   \n",
              "1960-03-01                    351.296500  154.573826      48.337368   \n",
              "1960-04-01                    351.296500  157.433739      42.732041   \n",
              "1960-05-01                    351.296500  160.242619      37.226738   \n",
              "1960-06-01                    351.296500  163.003103      31.816290   \n",
              "1960-07-01                    351.296500  165.717609      26.495954   \n",
              "1960-08-01                    351.296500  168.388362      21.261375   \n",
              "1960-09-01                    351.296500  171.017412      16.108532   \n",
              "1960-10-01                    351.296500  173.606652      11.033714   \n",
              "1960-11-01                    351.296500  176.157839       6.033480   \n",
              "1960-12-01                    351.296500  178.672602       1.104635   \n",
              "\n",
              "Number of airline passengers  mean_ci_upper  \n",
              "1958-01-01                       405.087884  \n",
              "1958-02-01                       427.094648  \n",
              "1958-03-01                       450.026115  \n",
              "1958-04-01                       464.454273  \n",
              "1958-05-01                       479.564032  \n",
              "1958-06-01                       491.855390  \n",
              "1958-07-01                       503.782587  \n",
              "1958-08-01                       514.525674  \n",
              "1958-09-01                       524.762765  \n",
              "1958-10-01                       534.349583  \n",
              "1958-11-01                       543.497808  \n",
              "1958-12-01                       552.210662  \n",
              "1959-01-01                       560.570568  \n",
              "1959-02-01                       568.604439  \n",
              "1959-03-01                       576.353997  \n",
              "1959-04-01                       583.844326  \n",
              "1959-05-01                       591.101357  \n",
              "1959-06-01                       598.144864  \n",
              "1959-07-01                       604.993024  \n",
              "1959-08-01                       611.661062  \n",
              "1959-09-01                       618.162571  \n",
              "1959-10-01                       624.509397  \n",
              "1959-11-01                       630.712101  \n",
              "1959-12-01                       636.780067  \n",
              "1960-01-01                       642.721717  \n",
              "1960-02-01                       648.544622  \n",
              "1960-03-01                       654.255633  \n",
              "1960-04-01                       659.860959  \n",
              "1960-05-01                       665.366262  \n",
              "1960-06-01                       670.776710  \n",
              "1960-07-01                       676.097046  \n",
              "1960-08-01                       681.331625  \n",
              "1960-09-01                       686.484468  \n",
              "1960-10-01                       691.559286  \n",
              "1960-11-01                       696.559520  \n",
              "1960-12-01                       701.488365  "
            ],
            "text/html": [
              "\n",
              "  <div id=\"df-697bf1a6-1923-4850-94a1-2db5e1f304ff\">\n",
              "    <div class=\"colab-df-container\">\n",
              "      <div>\n",
              "<style scoped>\n",
              "    .dataframe tbody tr th:only-of-type {\n",
              "        vertical-align: middle;\n",
              "    }\n",
              "\n",
              "    .dataframe tbody tr th {\n",
              "        vertical-align: top;\n",
              "    }\n",
              "\n",
              "    .dataframe thead th {\n",
              "        text-align: right;\n",
              "    }\n",
              "</style>\n",
              "<table border=\"1\" class=\"dataframe\">\n",
              "  <thead>\n",
              "    <tr style=\"text-align: right;\">\n",
              "      <th>Number of airline passengers</th>\n",
              "      <th>mean</th>\n",
              "      <th>mean_se</th>\n",
              "      <th>mean_ci_lower</th>\n",
              "      <th>mean_ci_upper</th>\n",
              "    </tr>\n",
              "  </thead>\n",
              "  <tbody>\n",
              "    <tr>\n",
              "      <th>1958-01-01</th>\n",
              "      <td>358.724115</td>\n",
              "      <td>23.655419</td>\n",
              "      <td>312.360347</td>\n",
              "      <td>405.087884</td>\n",
              "    </tr>\n",
              "    <tr>\n",
              "      <th>1958-02-01</th>\n",
              "      <td>347.689827</td>\n",
              "      <td>40.513408</td>\n",
              "      <td>268.285007</td>\n",
              "      <td>427.094648</td>\n",
              "    </tr>\n",
              "    <tr>\n",
              "      <th>1958-03-01</th>\n",
              "      <td>353.047814</td>\n",
              "      <td>49.479634</td>\n",
              "      <td>256.069513</td>\n",
              "      <td>450.026115</td>\n",
              "    </tr>\n",
              "    <tr>\n",
              "      <th>1958-04-01</th>\n",
              "      <td>350.446104</td>\n",
              "      <td>58.168502</td>\n",
              "      <td>236.437934</td>\n",
              "      <td>464.454273</td>\n",
              "    </tr>\n",
              "    <tr>\n",
              "      <th>1958-05-01</th>\n",
              "      <td>351.709432</td>\n",
              "      <td>65.233138</td>\n",
              "      <td>223.854832</td>\n",
              "      <td>479.564032</td>\n",
              "    </tr>\n",
              "    <tr>\n",
              "      <th>1958-06-01</th>\n",
              "      <td>351.095990</td>\n",
              "      <td>71.817340</td>\n",
              "      <td>210.336590</td>\n",
              "      <td>491.855390</td>\n",
              "    </tr>\n",
              "    <tr>\n",
              "      <th>1958-07-01</th>\n",
              "      <td>351.393863</td>\n",
              "      <td>77.750778</td>\n",
              "      <td>199.005139</td>\n",
              "      <td>503.782587</td>\n",
              "    </tr>\n",
              "    <tr>\n",
              "      <th>1958-08-01</th>\n",
              "      <td>351.249223</td>\n",
              "      <td>83.305843</td>\n",
              "      <td>187.972772</td>\n",
              "      <td>514.525674</td>\n",
              "    </tr>\n",
              "    <tr>\n",
              "      <th>1958-09-01</th>\n",
              "      <td>351.319457</td>\n",
              "      <td>88.493110</td>\n",
              "      <td>177.876148</td>\n",
              "      <td>524.762765</td>\n",
              "    </tr>\n",
              "    <tr>\n",
              "      <th>1958-10-01</th>\n",
              "      <td>351.285353</td>\n",
              "      <td>93.401833</td>\n",
              "      <td>168.221123</td>\n",
              "      <td>534.349583</td>\n",
              "    </tr>\n",
              "    <tr>\n",
              "      <th>1958-11-01</th>\n",
              "      <td>351.301913</td>\n",
              "      <td>98.060932</td>\n",
              "      <td>159.106017</td>\n",
              "      <td>543.497808</td>\n",
              "    </tr>\n",
              "    <tr>\n",
              "      <th>1958-12-01</th>\n",
              "      <td>351.293872</td>\n",
              "      <td>102.510450</td>\n",
              "      <td>150.377081</td>\n",
              "      <td>552.210662</td>\n",
              "    </tr>\n",
              "    <tr>\n",
              "      <th>1959-01-01</th>\n",
              "      <td>351.297776</td>\n",
              "      <td>106.773794</td>\n",
              "      <td>142.024985</td>\n",
              "      <td>560.570568</td>\n",
              "    </tr>\n",
              "    <tr>\n",
              "      <th>1959-02-01</th>\n",
              "      <td>351.295880</td>\n",
              "      <td>110.873751</td>\n",
              "      <td>133.987321</td>\n",
              "      <td>568.604439</td>\n",
              "    </tr>\n",
              "    <tr>\n",
              "      <th>1959-03-01</th>\n",
              "      <td>351.296801</td>\n",
              "      <td>114.827210</td>\n",
              "      <td>126.239604</td>\n",
              "      <td>576.353997</td>\n",
              "    </tr>\n",
              "    <tr>\n",
              "      <th>1959-04-01</th>\n",
              "      <td>351.296354</td>\n",
              "      <td>118.649105</td>\n",
              "      <td>118.748382</td>\n",
              "      <td>583.844326</td>\n",
              "    </tr>\n",
              "    <tr>\n",
              "      <th>1959-05-01</th>\n",
              "      <td>351.296571</td>\n",
              "      <td>122.351629</td>\n",
              "      <td>111.491785</td>\n",
              "      <td>591.101357</td>\n",
              "    </tr>\n",
              "    <tr>\n",
              "      <th>1959-06-01</th>\n",
              "      <td>351.296466</td>\n",
              "      <td>125.945374</td>\n",
              "      <td>104.448068</td>\n",
              "      <td>598.144864</td>\n",
              "    </tr>\n",
              "    <tr>\n",
              "      <th>1959-07-01</th>\n",
              "      <td>351.296517</td>\n",
              "      <td>129.439372</td>\n",
              "      <td>97.600009</td>\n",
              "      <td>604.993024</td>\n",
              "    </tr>\n",
              "    <tr>\n",
              "      <th>1959-08-01</th>\n",
              "      <td>351.296492</td>\n",
              "      <td>132.841507</td>\n",
              "      <td>90.931922</td>\n",
              "      <td>611.661062</td>\n",
              "    </tr>\n",
              "    <tr>\n",
              "      <th>1959-09-01</th>\n",
              "      <td>351.296504</td>\n",
              "      <td>136.158659</td>\n",
              "      <td>84.430436</td>\n",
              "      <td>618.162571</td>\n",
              "    </tr>\n",
              "    <tr>\n",
              "      <th>1959-10-01</th>\n",
              "      <td>351.296498</td>\n",
              "      <td>139.396897</td>\n",
              "      <td>78.083599</td>\n",
              "      <td>624.509397</td>\n",
              "    </tr>\n",
              "    <tr>\n",
              "      <th>1959-11-01</th>\n",
              "      <td>351.296501</td>\n",
              "      <td>142.561599</td>\n",
              "      <td>71.880901</td>\n",
              "      <td>630.712101</td>\n",
              "    </tr>\n",
              "    <tr>\n",
              "      <th>1959-12-01</th>\n",
              "      <td>351.296500</td>\n",
              "      <td>145.657558</td>\n",
              "      <td>65.812932</td>\n",
              "      <td>636.780067</td>\n",
              "    </tr>\n",
              "    <tr>\n",
              "      <th>1960-01-01</th>\n",
              "      <td>351.296500</td>\n",
              "      <td>148.689067</td>\n",
              "      <td>59.871284</td>\n",
              "      <td>642.721717</td>\n",
              "    </tr>\n",
              "    <tr>\n",
              "      <th>1960-02-01</th>\n",
              "      <td>351.296500</td>\n",
              "      <td>151.659992</td>\n",
              "      <td>54.048377</td>\n",
              "      <td>648.544622</td>\n",
              "    </tr>\n",
              "    <tr>\n",
              "      <th>1960-03-01</th>\n",
              "      <td>351.296500</td>\n",
              "      <td>154.573826</td>\n",
              "      <td>48.337368</td>\n",
              "      <td>654.255633</td>\n",
              "    </tr>\n",
              "    <tr>\n",
              "      <th>1960-04-01</th>\n",
              "      <td>351.296500</td>\n",
              "      <td>157.433739</td>\n",
              "      <td>42.732041</td>\n",
              "      <td>659.860959</td>\n",
              "    </tr>\n",
              "    <tr>\n",
              "      <th>1960-05-01</th>\n",
              "      <td>351.296500</td>\n",
              "      <td>160.242619</td>\n",
              "      <td>37.226738</td>\n",
              "      <td>665.366262</td>\n",
              "    </tr>\n",
              "    <tr>\n",
              "      <th>1960-06-01</th>\n",
              "      <td>351.296500</td>\n",
              "      <td>163.003103</td>\n",
              "      <td>31.816290</td>\n",
              "      <td>670.776710</td>\n",
              "    </tr>\n",
              "    <tr>\n",
              "      <th>1960-07-01</th>\n",
              "      <td>351.296500</td>\n",
              "      <td>165.717609</td>\n",
              "      <td>26.495954</td>\n",
              "      <td>676.097046</td>\n",
              "    </tr>\n",
              "    <tr>\n",
              "      <th>1960-08-01</th>\n",
              "      <td>351.296500</td>\n",
              "      <td>168.388362</td>\n",
              "      <td>21.261375</td>\n",
              "      <td>681.331625</td>\n",
              "    </tr>\n",
              "    <tr>\n",
              "      <th>1960-09-01</th>\n",
              "      <td>351.296500</td>\n",
              "      <td>171.017412</td>\n",
              "      <td>16.108532</td>\n",
              "      <td>686.484468</td>\n",
              "    </tr>\n",
              "    <tr>\n",
              "      <th>1960-10-01</th>\n",
              "      <td>351.296500</td>\n",
              "      <td>173.606652</td>\n",
              "      <td>11.033714</td>\n",
              "      <td>691.559286</td>\n",
              "    </tr>\n",
              "    <tr>\n",
              "      <th>1960-11-01</th>\n",
              "      <td>351.296500</td>\n",
              "      <td>176.157839</td>\n",
              "      <td>6.033480</td>\n",
              "      <td>696.559520</td>\n",
              "    </tr>\n",
              "    <tr>\n",
              "      <th>1960-12-01</th>\n",
              "      <td>351.296500</td>\n",
              "      <td>178.672602</td>\n",
              "      <td>1.104635</td>\n",
              "      <td>701.488365</td>\n",
              "    </tr>\n",
              "  </tbody>\n",
              "</table>\n",
              "</div>\n",
              "      <button class=\"colab-df-convert\" onclick=\"convertToInteractive('df-697bf1a6-1923-4850-94a1-2db5e1f304ff')\"\n",
              "              title=\"Convert this dataframe to an interactive table.\"\n",
              "              style=\"display:none;\">\n",
              "        \n",
              "  <svg xmlns=\"http://www.w3.org/2000/svg\" height=\"24px\"viewBox=\"0 0 24 24\"\n",
              "       width=\"24px\">\n",
              "    <path d=\"M0 0h24v24H0V0z\" fill=\"none\"/>\n",
              "    <path d=\"M18.56 5.44l.94 2.06.94-2.06 2.06-.94-2.06-.94-.94-2.06-.94 2.06-2.06.94zm-11 1L8.5 8.5l.94-2.06 2.06-.94-2.06-.94L8.5 2.5l-.94 2.06-2.06.94zm10 10l.94 2.06.94-2.06 2.06-.94-2.06-.94-.94-2.06-.94 2.06-2.06.94z\"/><path d=\"M17.41 7.96l-1.37-1.37c-.4-.4-.92-.59-1.43-.59-.52 0-1.04.2-1.43.59L10.3 9.45l-7.72 7.72c-.78.78-.78 2.05 0 2.83L4 21.41c.39.39.9.59 1.41.59.51 0 1.02-.2 1.41-.59l7.78-7.78 2.81-2.81c.8-.78.8-2.07 0-2.86zM5.41 20L4 18.59l7.72-7.72 1.47 1.35L5.41 20z\"/>\n",
              "  </svg>\n",
              "      </button>\n",
              "      \n",
              "  <style>\n",
              "    .colab-df-container {\n",
              "      display:flex;\n",
              "      flex-wrap:wrap;\n",
              "      gap: 12px;\n",
              "    }\n",
              "\n",
              "    .colab-df-convert {\n",
              "      background-color: #E8F0FE;\n",
              "      border: none;\n",
              "      border-radius: 50%;\n",
              "      cursor: pointer;\n",
              "      display: none;\n",
              "      fill: #1967D2;\n",
              "      height: 32px;\n",
              "      padding: 0 0 0 0;\n",
              "      width: 32px;\n",
              "    }\n",
              "\n",
              "    .colab-df-convert:hover {\n",
              "      background-color: #E2EBFA;\n",
              "      box-shadow: 0px 1px 2px rgba(60, 64, 67, 0.3), 0px 1px 3px 1px rgba(60, 64, 67, 0.15);\n",
              "      fill: #174EA6;\n",
              "    }\n",
              "\n",
              "    [theme=dark] .colab-df-convert {\n",
              "      background-color: #3B4455;\n",
              "      fill: #D2E3FC;\n",
              "    }\n",
              "\n",
              "    [theme=dark] .colab-df-convert:hover {\n",
              "      background-color: #434B5C;\n",
              "      box-shadow: 0px 1px 3px 1px rgba(0, 0, 0, 0.15);\n",
              "      filter: drop-shadow(0px 1px 2px rgba(0, 0, 0, 0.3));\n",
              "      fill: #FFFFFF;\n",
              "    }\n",
              "  </style>\n",
              "\n",
              "      <script>\n",
              "        const buttonEl =\n",
              "          document.querySelector('#df-697bf1a6-1923-4850-94a1-2db5e1f304ff button.colab-df-convert');\n",
              "        buttonEl.style.display =\n",
              "          google.colab.kernel.accessAllowed ? 'block' : 'none';\n",
              "\n",
              "        async function convertToInteractive(key) {\n",
              "          const element = document.querySelector('#df-697bf1a6-1923-4850-94a1-2db5e1f304ff');\n",
              "          const dataTable =\n",
              "            await google.colab.kernel.invokeFunction('convertToInteractive',\n",
              "                                                     [key], {});\n",
              "          if (!dataTable) return;\n",
              "\n",
              "          const docLinkHtml = 'Like what you see? Visit the ' +\n",
              "            '<a target=\"_blank\" href=https://colab.research.google.com/notebooks/data_table.ipynb>data table notebook</a>'\n",
              "            + ' to learn more about interactive tables.';\n",
              "          element.innerHTML = '';\n",
              "          dataTable['output_type'] = 'display_data';\n",
              "          await google.colab.output.renderOutput(dataTable, element);\n",
              "          const docLink = document.createElement('div');\n",
              "          docLink.innerHTML = docLinkHtml;\n",
              "          element.appendChild(docLink);\n",
              "        }\n",
              "      </script>\n",
              "    </div>\n",
              "  </div>\n",
              "  "
            ]
          },
          "metadata": {},
          "execution_count": 24
        }
      ]
    },
    {
      "cell_type": "code",
      "execution_count": 26,
      "metadata": {
        "id": "Hro85yxMDRsi",
        "outputId": "7752c51b-5fb5-4180-fa12-2a188f9df6d3",
        "colab": {
          "base_uri": "https://localhost:8080/",
          "height": 265
        }
      },
      "outputs": [
        {
          "output_type": "display_data",
          "data": {
            "text/plain": [
              "<Figure size 432x288 with 1 Axes>"
            ],
            "image/png": "[encoded data removed]"
          },
          "metadata": {
            "needs_background": "light"
          }
        }
      ],
      "source": [
        "# To plot with a confidence interval - use get_forecast instead\n",
        "fcast = result.get_forecast(steps=len(test)).summary_frame()\n",
        "fig, ax = plt.subplots()\n",
        "\n",
        "ax.plot(train, label = 'Train')\n",
        "ax.plot(test, label = 'Test')\n",
        "ax.plot(fcast['mean'], label = 'Test Preds')\n",
        "ax.fill_between(fcast.index, fcast['mean_ci_lower'], fcast['mean_ci_upper'], color='k', alpha=0.1);\n",
        "ax.legend();"
      ]
    },
    {
      "cell_type": "markdown",
      "metadata": {
        "id": "wdcxp35gFdxB"
      },
      "source": [
        "Why do these predictions level out? Because they're not able to build upon the previous month! "
      ]
    },
    {
      "cell_type": "markdown",
      "metadata": {
        "id": "fm5ZWwHK_F_j"
      },
      "source": [
        "### Seasonal!"
      ]
    },
    {
      "cell_type": "markdown",
      "metadata": {
        "id": "tMIMUsBO_F_j"
      },
      "source": [
        "A reminder about order terms!\n",
        "\n",
        "> ARIMA models are made up of three different terms:\n",
        "> \n",
        "> p: The order of the auto-regressive (AR) model (i.e., the number of lag observations). A time series is considered AR when previous values in the time series are very predictive of later values. An AR process will show a very gradual decrease in the ACF plot.\n",
        "> \n",
        "> d: The degree of differencing.\n",
        "> \n",
        "> q: The order of the moving average (MA) model. This is essentially the size of the “window” function over your time series data. An MA process is a linear combination of past errors.\n",
        "\n",
        "PLUS:\n",
        "\n",
        "> Seasonal ARIMA models have three parameters that heavily resemble our p, d and q parameters:\n",
        "> \n",
        "> P: The order of the seasonal component for the auto-regressive (AR) model.\n",
        "> \n",
        "> D: The integration order of the seasonal process.\n",
        "> \n",
        "> Q: The order of the seasonal component of the moving average (MA) model.\n",
        "> \n",
        "> P and Q and be estimated similarly to p and q via auto_arima, and D can be estimated via a Canova-Hansen test, however m generally requires subject matter knowledge of the data.\n",
        "\n",
        "Source: https://alkaline-ml.com/pmdarima/tips_and_tricks.html#understand-p-d-and-q\n",
        "\n",
        "There's also an `s` term in the Seasonal order (called out as `m` above), where you set the periodicity."
      ]
    },
    {
      "cell_type": "code",
      "execution_count": 27,
      "metadata": {
        "id": "C0c7lpeB_F_j",
        "outputId": "7432e4ac-b0fc-4814-d1a2-d80570076b43",
        "colab": {
          "base_uri": "https://localhost:8080/"
        }
      },
      "outputs": [
        {
          "output_type": "stream",
          "name": "stdout",
          "text": [
            "                                    SARIMAX Results                                     \n",
            "========================================================================================\n",
            "Dep. Variable:     Number of airline passengers   No. Observations:                  108\n",
            "Model:                     ARIMA(1, 1, [1], 12)   Log Likelihood                -417.590\n",
            "Date:                          Tue, 02 Aug 2022   AIC                            841.180\n",
            "Time:                                  16:05:28   BIC                            848.873\n",
            "Sample:                              01-01-1949   HQIC                           844.290\n",
            "                                   - 12-01-1957                                         \n",
            "Covariance Type:                            opg                                         \n",
            "==============================================================================\n",
            "                 coef    std err          z      P>|z|      [0.025      0.975]\n",
            "------------------------------------------------------------------------------\n",
            "ar.S.L12       0.9822      0.028     35.648      0.000       0.928       1.036\n",
            "ma.S.L12      -0.6457      0.181     -3.571      0.000      -1.000      -0.291\n",
            "sigma2       278.3220     64.776      4.297      0.000     151.364     405.280\n",
            "===================================================================================\n",
            "Ljung-Box (L1) (Q):                  48.97   Jarque-Bera (JB):                 8.56\n",
            "Prob(Q):                              0.00   Prob(JB):                         0.01\n",
            "Heteroskedasticity (H):               1.62   Skew:                            -0.58\n",
            "Prob(H) (two-sided):                  0.18   Kurtosis:                         3.89\n",
            "===================================================================================\n",
            "\n",
            "Warnings:\n",
            "[1] Covariance matrix calculated using the outer product of gradients (complex-step).\n"
          ]
        }
      ],
      "source": [
        "# Add seasonal order to our ARIMA\n",
        "seas_arima = ARIMA(train,\n",
        "                   order=(0,0,0),\n",
        "                   seasonal_order=(1, 1, 1, 12))\n",
        "res_sarima = seas_arima.fit()\n",
        "\n",
        "# Print out summary information on the fit\n",
        "print(res_sarima.summary())"
      ]
    },
    {
      "cell_type": "code",
      "execution_count": 28,
      "metadata": {
        "id": "ODxN6Z0V_F_k",
        "outputId": "7a5960c8-1808-49f1-a14d-97da5bc9e788",
        "colab": {
          "base_uri": "https://localhost:8080/",
          "height": 374
        }
      },
      "outputs": [
        {
          "output_type": "display_data",
          "data": {
            "text/plain": [
              "<Figure size 720x432 with 1 Axes>"
            ],
            "image/png": "[encoded data removed]"
          },
          "metadata": {
            "needs_background": "light"
          }
        }
      ],
      "source": [
        "# Visualize it!\n",
        "plt.figure(figsize=(10,6))\n",
        "plt.plot(train, color='blue', label='actual train')\n",
        "plt.plot(test, color='orange', label='actual test')\n",
        "plt.plot(res_sarima.forecast(steps = len(test)), color='green', label='predicted test')\n",
        "plt.legend();"
      ]
    },
    {
      "cell_type": "markdown",
      "metadata": {
        "id": "l6yI7h2s_F_k"
      },
      "source": [
        "#### Discuss:\n",
        "\n",
        "- \n"
      ]
    },
    {
      "cell_type": "markdown",
      "metadata": {
        "id": "cA9DsNrn_F_k"
      },
      "source": [
        "### PMDArima - Using their Auto ARIMA! \n",
        "\n",
        "Basically, grid search for ARIMA"
      ]
    },
    {
      "cell_type": "code",
      "execution_count": 29,
      "metadata": {
        "id": "X1PXrmGN_F_k"
      },
      "outputs": [],
      "source": [
        "# More imports\n",
        "import pmdarima as pm\n",
        "from pmdarima import model_selection\n",
        "from pmdarima.utils import decomposed_plot\n",
        "from pmdarima.arima import decompose, auto_arima"
      ]
    },
    {
      "cell_type": "code",
      "execution_count": 30,
      "metadata": {
        "id": "2D-vfg8r_F_k",
        "scrolled": true
      },
      "outputs": [],
      "source": [
        "# Train test split - but now using PMDArima's function\n",
        "train, test = model_selection.train_test_split(df, test_size=36)"
      ]
    },
    {
      "cell_type": "code",
      "execution_count": 31,
      "metadata": {
        "id": "3HQBALmm_F_k",
        "outputId": "4919d92f-4b68-43a4-8a42-59282da6c737",
        "colab": {
          "base_uri": "https://localhost:8080/",
          "height": 237
        }
      },
      "outputs": [
        {
          "output_type": "execute_result",
          "data": {
            "text/plain": [
              "            Number of airline passengers\n",
              "Period                                  \n",
              "1957-08-01                         467.0\n",
              "1957-09-01                         404.0\n",
              "1957-10-01                         347.0\n",
              "1957-11-01                         305.0\n",
              "1957-12-01                         336.0"
            ],
            "text/html": [
              "\n",
              "  <div id=\"df-f07c8c6b-ccb3-4d64-ba3e-3ccb27fa271e\">\n",
              "    <div class=\"colab-df-container\">\n",
              "      <div>\n",
              "<style scoped>\n",
              "    .dataframe tbody tr th:only-of-type {\n",
              "        vertical-align: middle;\n",
              "    }\n",
              "\n",
              "    .dataframe tbody tr th {\n",
              "        vertical-align: top;\n",
              "    }\n",
              "\n",
              "    .dataframe thead th {\n",
              "        text-align: right;\n",
              "    }\n",
              "</style>\n",
              "<table border=\"1\" class=\"dataframe\">\n",
              "  <thead>\n",
              "    <tr style=\"text-align: right;\">\n",
              "      <th></th>\n",
              "      <th>Number of airline passengers</th>\n",
              "    </tr>\n",
              "    <tr>\n",
              "      <th>Period</th>\n",
              "      <th></th>\n",
              "    </tr>\n",
              "  </thead>\n",
              "  <tbody>\n",
              "    <tr>\n",
              "      <th>1957-08-01</th>\n",
              "      <td>467.0</td>\n",
              "    </tr>\n",
              "    <tr>\n",
              "      <th>1957-09-01</th>\n",
              "      <td>404.0</td>\n",
              "    </tr>\n",
              "    <tr>\n",
              "      <th>1957-10-01</th>\n",
              "      <td>347.0</td>\n",
              "    </tr>\n",
              "    <tr>\n",
              "      <th>1957-11-01</th>\n",
              "      <td>305.0</td>\n",
              "    </tr>\n",
              "    <tr>\n",
              "      <th>1957-12-01</th>\n",
              "      <td>336.0</td>\n",
              "    </tr>\n",
              "  </tbody>\n",
              "</table>\n",
              "</div>\n",
              "      <button class=\"colab-df-convert\" onclick=\"convertToInteractive('df-f07c8c6b-ccb3-4d64-ba3e-3ccb27fa271e')\"\n",
              "              title=\"Convert this dataframe to an interactive table.\"\n",
              "              style=\"display:none;\">\n",
              "        \n",
              "  <svg xmlns=\"http://www.w3.org/2000/svg\" height=\"24px\"viewBox=\"0 0 24 24\"\n",
              "       width=\"24px\">\n",
              "    <path d=\"M0 0h24v24H0V0z\" fill=\"none\"/>\n",
              "    <path d=\"M18.56 5.44l.94 2.06.94-2.06 2.06-.94-2.06-.94-.94-2.06-.94 2.06-2.06.94zm-11 1L8.5 8.5l.94-2.06 2.06-.94-2.06-.94L8.5 2.5l-.94 2.06-2.06.94zm10 10l.94 2.06.94-2.06 2.06-.94-2.06-.94-.94-2.06-.94 2.06-2.06.94z\"/><path d=\"M17.41 7.96l-1.37-1.37c-.4-.4-.92-.59-1.43-.59-.52 0-1.04.2-1.43.59L10.3 9.45l-7.72 7.72c-.78.78-.78 2.05 0 2.83L4 21.41c.39.39.9.59 1.41.59.51 0 1.02-.2 1.41-.59l7.78-7.78 2.81-2.81c.8-.78.8-2.07 0-2.86zM5.41 20L4 18.59l7.72-7.72 1.47 1.35L5.41 20z\"/>\n",
              "  </svg>\n",
              "      </button>\n",
              "      \n",
              "  <style>\n",
              "    .colab-df-container {\n",
              "      display:flex;\n",
              "      flex-wrap:wrap;\n",
              "      gap: 12px;\n",
              "    }\n",
              "\n",
              "    .colab-df-convert {\n",
              "      background-color: #E8F0FE;\n",
              "      border: none;\n",
              "      border-radius: 50%;\n",
              "      cursor: pointer;\n",
              "      display: none;\n",
              "      fill: #1967D2;\n",
              "      height: 32px;\n",
              "      padding: 0 0 0 0;\n",
              "      width: 32px;\n",
              "    }\n",
              "\n",
              "    .colab-df-convert:hover {\n",
              "      background-color: #E2EBFA;\n",
              "      box-shadow: 0px 1px 2px rgba(60, 64, 67, 0.3), 0px 1px 3px 1px rgba(60, 64, 67, 0.15);\n",
              "      fill: #174EA6;\n",
              "    }\n",
              "\n",
              "    [theme=dark] .colab-df-convert {\n",
              "      background-color: #3B4455;\n",
              "      fill: #D2E3FC;\n",
              "    }\n",
              "\n",
              "    [theme=dark] .colab-df-convert:hover {\n",
              "      background-color: #434B5C;\n",
              "      box-shadow: 0px 1px 3px 1px rgba(0, 0, 0, 0.15);\n",
              "      filter: drop-shadow(0px 1px 2px rgba(0, 0, 0, 0.3));\n",
              "      fill: #FFFFFF;\n",
              "    }\n",
              "  </style>\n",
              "\n",
              "      <script>\n",
              "        const buttonEl =\n",
              "          document.querySelector('#df-f07c8c6b-ccb3-4d64-ba3e-3ccb27fa271e button.colab-df-convert');\n",
              "        buttonEl.style.display =\n",
              "          google.colab.kernel.accessAllowed ? 'block' : 'none';\n",
              "\n",
              "        async function convertToInteractive(key) {\n",
              "          const element = document.querySelector('#df-f07c8c6b-ccb3-4d64-ba3e-3ccb27fa271e');\n",
              "          const dataTable =\n",
              "            await google.colab.kernel.invokeFunction('convertToInteractive',\n",
              "                                                     [key], {});\n",
              "          if (!dataTable) return;\n",
              "\n",
              "          const docLinkHtml = 'Like what you see? Visit the ' +\n",
              "            '<a target=\"_blank\" href=https://colab.research.google.com/notebooks/data_table.ipynb>data table notebook</a>'\n",
              "            + ' to learn more about interactive tables.';\n",
              "          element.innerHTML = '';\n",
              "          dataTable['output_type'] = 'display_data';\n",
              "          await google.colab.output.renderOutput(dataTable, element);\n",
              "          const docLink = document.createElement('div');\n",
              "          docLink.innerHTML = docLinkHtml;\n",
              "          element.appendChild(docLink);\n",
              "        }\n",
              "      </script>\n",
              "    </div>\n",
              "  </div>\n",
              "  "
            ]
          },
          "metadata": {},
          "execution_count": 31
        }
      ],
      "source": [
        "train.tail()"
      ]
    },
    {
      "cell_type": "code",
      "execution_count": 32,
      "metadata": {
        "id": "5Jw1jeVO_F_l",
        "outputId": "ce65ca1d-ac79-4b0c-f16e-e5faa62560b0",
        "colab": {
          "base_uri": "https://localhost:8080/"
        }
      },
      "outputs": [
        {
          "output_type": "stream",
          "name": "stdout",
          "text": [
            "P-Value: 0.01, so should you difference the data? False\n"
          ]
        }
      ],
      "source": [
        "# checking stationarity\n",
        "from pmdarima.arima.stationarity import ADFTest\n",
        "\n",
        "# beyond statsmodels\n",
        "adf_test = ADFTest(alpha=0.05)\n",
        "p_val, should_diff = adf_test.should_diff(df)  # (0.01, False)\n",
        "\n",
        "print(f\"P-Value: {p_val}, so should you difference the data? {should_diff}\")"
      ]
    },
    {
      "cell_type": "markdown",
      "metadata": {
        "id": "tw1NGTV5G_xx"
      },
      "source": [
        "Documentation: http://alkaline-ml.com/pmdarima/modules/generated/pmdarima.arima.AutoARIMA.html#pmdarima.arima.AutoARIMA\n",
        "\n",
        "Let's decide our parameters!\n",
        "\n",
        "Be sure to set `trace=True`"
      ]
    },
    {
      "cell_type": "code",
      "execution_count": 36,
      "metadata": {
        "id": "p91bgCkk_F_l",
        "outputId": "849b61d4-3884-4f23-fa06-e494ea13aa6d",
        "colab": {
          "base_uri": "https://localhost:8080/"
        }
      },
      "outputs": [
        {
          "output_type": "stream",
          "name": "stdout",
          "text": [
            "Performing stepwise search to minimize aic\n",
            " ARIMA(1,1,1)(1,1,1)[12]             : AIC=707.158, Time=0.80 sec\n",
            " ARIMA(0,1,0)(0,1,0)[12]             : AIC=707.730, Time=0.02 sec\n",
            " ARIMA(1,1,0)(1,1,0)[12]             : AIC=704.186, Time=0.27 sec\n",
            " ARIMA(0,1,1)(0,1,1)[12]             : AIC=704.801, Time=0.40 sec\n",
            " ARIMA(1,1,0)(0,1,0)[12]             : AIC=704.001, Time=0.09 sec\n",
            " ARIMA(1,1,0)(0,1,1)[12]             : AIC=704.472, Time=0.77 sec\n",
            " ARIMA(1,1,0)(1,1,1)[12]             : AIC=705.993, Time=1.38 sec\n",
            " ARIMA(2,1,0)(0,1,0)[12]             : AIC=705.691, Time=0.17 sec\n",
            " ARIMA(1,1,1)(0,1,0)[12]             : AIC=705.081, Time=0.18 sec\n",
            " ARIMA(0,1,1)(0,1,0)[12]             : AIC=704.376, Time=0.13 sec\n",
            " ARIMA(2,1,1)(0,1,0)[12]             : AIC=707.075, Time=0.34 sec\n",
            " ARIMA(1,1,0)(0,1,0)[12] intercept   : AIC=705.875, Time=0.12 sec\n",
            "\n",
            "Best model:  ARIMA(1,1,0)(0,1,0)[12]          \n",
            "Total fit time: 4.787 seconds\n"
          ]
        }
      ],
      "source": [
        "# time to model!\n",
        "arima = auto_arima(train,\n",
        "    start_p=1,\n",
        "    d=None,\n",
        "    start_q=1,\n",
        "    max_p=6,\n",
        "    max_q=6,\n",
        "    max_P=3, \n",
        "    D=None,\n",
        "    max_Q=3,\n",
        "    trace=True,\n",
        "    maxiter=100,\n",
        "    m=12,\n",
        "    seasonal=True) "
      ]
    },
    {
      "cell_type": "code",
      "execution_count": 38,
      "metadata": {
        "id": "cbhX9oCX_F_l"
      },
      "outputs": [],
      "source": [
        "test_preds = pd.Series(arima.predict(n_periods=len(test)), index=test.index)"
      ]
    },
    {
      "cell_type": "markdown",
      "source": [
        ""
      ],
      "metadata": {
        "id": "VKaT-axDYexf"
      }
    },
    {
      "cell_type": "code",
      "execution_count": 41,
      "metadata": {
        "id": "C6sFnfgQ_F_l",
        "scrolled": true,
        "outputId": "66d5945e-647e-4ccf-ef73-3677dd80f4c0",
        "colab": {
          "base_uri": "https://localhost:8080/",
          "height": 265
        }
      },
      "outputs": [
        {
          "output_type": "display_data",
          "data": {
            "text/plain": [
              "<Figure size 432x288 with 1 Axes>"
            ],
            "image/png": "[encoded data removed]"
          },
          "metadata": {
            "needs_background": "light"
          }
        }
      ],
      "source": [
        "# Plot actual test vs. forecasts:\n",
        "plt.plot(train, label = 'Train')\n",
        "plt.plot(test, label = 'Test')\n",
        "plt.plot(test_preds, label = 'Test Preds')\n",
        "plt.legend();"
      ]
    },
    {
      "cell_type": "markdown",
      "metadata": {
        "id": "cHKkFtfy_F_m"
      },
      "source": [
        "Thoughts?\n",
        "\n",
        "- \n"
      ]
    },
    {
      "cell_type": "code",
      "execution_count": 42,
      "metadata": {
        "id": "ob7JnoDl_F_m",
        "outputId": "3485737e-4fca-4dda-8c97-76e0717f6dbb",
        "colab": {
          "base_uri": "https://localhost:8080/",
          "height": 455
        }
      },
      "outputs": [
        {
          "output_type": "execute_result",
          "data": {
            "text/plain": [
              "            Number of airline passengers\n",
              "Period                                  \n",
              "1949-01-01                         112.0\n",
              "1949-02-01                         118.0\n",
              "1949-03-01                         132.0\n",
              "1949-04-01                         129.0\n",
              "1949-05-01                         121.0\n",
              "...                                  ...\n",
              "1957-08-01                         467.0\n",
              "1957-09-01                         404.0\n",
              "1957-10-01                         347.0\n",
              "1957-11-01                         305.0\n",
              "1957-12-01                         336.0\n",
              "\n",
              "[108 rows x 1 columns]"
            ],
            "text/html": [
              "\n",
              "  <div id=\"df-4e98341f-8227-4ab3-8e2e-d9e9640673fe\">\n",
              "    <div class=\"colab-df-container\">\n",
              "      <div>\n",
              "<style scoped>\n",
              "    .dataframe tbody tr th:only-of-type {\n",
              "        vertical-align: middle;\n",
              "    }\n",
              "\n",
              "    .dataframe tbody tr th {\n",
              "        vertical-align: top;\n",
              "    }\n",
              "\n",
              "    .dataframe thead th {\n",
              "        text-align: right;\n",
              "    }\n",
              "</style>\n",
              "<table border=\"1\" class=\"dataframe\">\n",
              "  <thead>\n",
              "    <tr style=\"text-align: right;\">\n",
              "      <th></th>\n",
              "      <th>Number of airline passengers</th>\n",
              "    </tr>\n",
              "    <tr>\n",
              "      <th>Period</th>\n",
              "      <th></th>\n",
              "    </tr>\n",
              "  </thead>\n",
              "  <tbody>\n",
              "    <tr>\n",
              "      <th>1949-01-01</th>\n",
              "      <td>112.0</td>\n",
              "    </tr>\n",
              "    <tr>\n",
              "      <th>1949-02-01</th>\n",
              "      <td>118.0</td>\n",
              "    </tr>\n",
              "    <tr>\n",
              "      <th>1949-03-01</th>\n",
              "      <td>132.0</td>\n",
              "    </tr>\n",
              "    <tr>\n",
              "      <th>1949-04-01</th>\n",
              "      <td>129.0</td>\n",
              "    </tr>\n",
              "    <tr>\n",
              "      <th>1949-05-01</th>\n",
              "      <td>121.0</td>\n",
              "    </tr>\n",
              "    <tr>\n",
              "      <th>...</th>\n",
              "      <td>...</td>\n",
              "    </tr>\n",
              "    <tr>\n",
              "      <th>1957-08-01</th>\n",
              "      <td>467.0</td>\n",
              "    </tr>\n",
              "    <tr>\n",
              "      <th>1957-09-01</th>\n",
              "      <td>404.0</td>\n",
              "    </tr>\n",
              "    <tr>\n",
              "      <th>1957-10-01</th>\n",
              "      <td>347.0</td>\n",
              "    </tr>\n",
              "    <tr>\n",
              "      <th>1957-11-01</th>\n",
              "      <td>305.0</td>\n",
              "    </tr>\n",
              "    <tr>\n",
              "      <th>1957-12-01</th>\n",
              "      <td>336.0</td>\n",
              "    </tr>\n",
              "  </tbody>\n",
              "</table>\n",
              "<p>108 rows × 1 columns</p>\n",
              "</div>\n",
              "      <button class=\"colab-df-convert\" onclick=\"convertToInteractive('df-4e98341f-8227-4ab3-8e2e-d9e9640673fe')\"\n",
              "              title=\"Convert this dataframe to an interactive table.\"\n",
              "              style=\"display:none;\">\n",
              "        \n",
              "  <svg xmlns=\"http://www.w3.org/2000/svg\" height=\"24px\"viewBox=\"0 0 24 24\"\n",
              "       width=\"24px\">\n",
              "    <path d=\"M0 0h24v24H0V0z\" fill=\"none\"/>\n",
              "    <path d=\"M18.56 5.44l.94 2.06.94-2.06 2.06-.94-2.06-.94-.94-2.06-.94 2.06-2.06.94zm-11 1L8.5 8.5l.94-2.06 2.06-.94-2.06-.94L8.5 2.5l-.94 2.06-2.06.94zm10 10l.94 2.06.94-2.06 2.06-.94-2.06-.94-.94-2.06-.94 2.06-2.06.94z\"/><path d=\"M17.41 7.96l-1.37-1.37c-.4-.4-.92-.59-1.43-.59-.52 0-1.04.2-1.43.59L10.3 9.45l-7.72 7.72c-.78.78-.78 2.05 0 2.83L4 21.41c.39.39.9.59 1.41.59.51 0 1.02-.2 1.41-.59l7.78-7.78 2.81-2.81c.8-.78.8-2.07 0-2.86zM5.41 20L4 18.59l7.72-7.72 1.47 1.35L5.41 20z\"/>\n",
              "  </svg>\n",
              "      </button>\n",
              "      \n",
              "  <style>\n",
              "    .colab-df-container {\n",
              "      display:flex;\n",
              "      flex-wrap:wrap;\n",
              "      gap: 12px;\n",
              "    }\n",
              "\n",
              "    .colab-df-convert {\n",
              "      background-color: #E8F0FE;\n",
              "      border: none;\n",
              "      border-radius: 50%;\n",
              "      cursor: pointer;\n",
              "      display: none;\n",
              "      fill: #1967D2;\n",
              "      height: 32px;\n",
              "      padding: 0 0 0 0;\n",
              "      width: 32px;\n",
              "    }\n",
              "\n",
              "    .colab-df-convert:hover {\n",
              "      background-color: #E2EBFA;\n",
              "      box-shadow: 0px 1px 2px rgba(60, 64, 67, 0.3), 0px 1px 3px 1px rgba(60, 64, 67, 0.15);\n",
              "      fill: #174EA6;\n",
              "    }\n",
              "\n",
              "    [theme=dark] .colab-df-convert {\n",
              "      background-color: #3B4455;\n",
              "      fill: #D2E3FC;\n",
              "    }\n",
              "\n",
              "    [theme=dark] .colab-df-convert:hover {\n",
              "      background-color: #434B5C;\n",
              "      box-shadow: 0px 1px 3px 1px rgba(0, 0, 0, 0.15);\n",
              "      filter: drop-shadow(0px 1px 2px rgba(0, 0, 0, 0.3));\n",
              "      fill: #FFFFFF;\n",
              "    }\n",
              "  </style>\n",
              "\n",
              "      <script>\n",
              "        const buttonEl =\n",
              "          document.querySelector('#df-4e98341f-8227-4ab3-8e2e-d9e9640673fe button.colab-df-convert');\n",
              "        buttonEl.style.display =\n",
              "          google.colab.kernel.accessAllowed ? 'block' : 'none';\n",
              "\n",
              "        async function convertToInteractive(key) {\n",
              "          const element = document.querySelector('#df-4e98341f-8227-4ab3-8e2e-d9e9640673fe');\n",
              "          const dataTable =\n",
              "            await google.colab.kernel.invokeFunction('convertToInteractive',\n",
              "                                                     [key], {});\n",
              "          if (!dataTable) return;\n",
              "\n",
              "          const docLinkHtml = 'Like what you see? Visit the ' +\n",
              "            '<a target=\"_blank\" href=https://colab.research.google.com/notebooks/data_table.ipynb>data table notebook</a>'\n",
              "            + ' to learn more about interactive tables.';\n",
              "          element.innerHTML = '';\n",
              "          dataTable['output_type'] = 'display_data';\n",
              "          await google.colab.output.renderOutput(dataTable, element);\n",
              "          const docLink = document.createElement('div');\n",
              "          docLink.innerHTML = docLinkHtml;\n",
              "          element.appendChild(docLink);\n",
              "        }\n",
              "      </script>\n",
              "    </div>\n",
              "  </div>\n",
              "  "
            ]
          },
          "metadata": {},
          "execution_count": 42
        }
      ],
      "source": [
        "train"
      ]
    },
    {
      "cell_type": "code",
      "source": [
        "test_preds"
      ],
      "metadata": {
        "id": "HE8AR75xXVMY",
        "outputId": "c0d5455b-5db0-4f30-e6f6-8d7d3d1930ab",
        "colab": {
          "base_uri": "https://localhost:8080/"
        }
      },
      "execution_count": 43,
      "outputs": [
        {
          "output_type": "execute_result",
          "data": {
            "text/plain": [
              "Period\n",
              "1958-01-01    345.964471\n",
              "1958-02-01    331.731920\n",
              "1958-03-01    386.787992\n",
              "1958-04-01    378.774472\n",
              "1958-05-01    385.777732\n",
              "1958-06-01    452.776946\n",
              "1958-07-01    495.777136\n",
              "1958-08-01    497.777090\n",
              "1958-09-01    434.777101\n",
              "1958-10-01    377.777098\n",
              "1958-11-01    335.777099\n",
              "1958-12-01    366.777099\n",
              "1959-01-01    376.741570\n",
              "1959-02-01    362.509019\n",
              "1959-03-01    417.565091\n",
              "1959-04-01    409.551571\n",
              "1959-05-01    416.554831\n",
              "1959-06-01    483.554045\n",
              "1959-07-01    526.554234\n",
              "1959-08-01    528.554189\n",
              "1959-09-01    465.554200\n",
              "1959-10-01    408.554197\n",
              "1959-11-01    366.554198\n",
              "1959-12-01    397.554197\n",
              "1960-01-01    407.518669\n",
              "1960-02-01    393.286117\n",
              "1960-03-01    448.342190\n",
              "1960-04-01    440.328670\n",
              "1960-05-01    447.331930\n",
              "1960-06-01    514.331143\n",
              "1960-07-01    557.331333\n",
              "1960-08-01    559.331287\n",
              "1960-09-01    496.331298\n",
              "1960-10-01    439.331296\n",
              "1960-11-01    397.331296\n",
              "1960-12-01    428.331296\n",
              "Freq: MS, dtype: float64"
            ]
          },
          "metadata": {},
          "execution_count": 43
        }
      ]
    },
    {
      "cell_type": "code",
      "execution_count": 40,
      "metadata": {
        "id": "OIaDBgId_F_m",
        "outputId": "99e5cec1-acbb-40a0-82c1-06c8791a2119",
        "colab": {
          "base_uri": "https://localhost:8080/"
        }
      },
      "outputs": [
        {
          "output_type": "stream",
          "name": "stdout",
          "text": [
            "                                    SARIMAX Results                                     \n",
            "========================================================================================\n",
            "Dep. Variable:     Number of airline passengers   No. Observations:                  108\n",
            "Model:             ARIMA(1, 1, 0)x(0, 1, 0, 12)   Log Likelihood                -350.001\n",
            "Date:                          Tue, 02 Aug 2022   AIC                            704.001\n",
            "Time:                                  16:20:00   BIC                            709.109\n",
            "Sample:                              01-01-1949   HQIC                           706.065\n",
            "                                   - 12-01-1957                                         \n",
            "Covariance Type:                            opg                                         \n",
            "==============================================================================\n",
            "                 coef    std err          z      P>|z|      [0.025      0.975]\n",
            "------------------------------------------------------------------------------\n",
            "ar.L1         -0.2411      0.091     -2.648      0.008      -0.420      -0.063\n",
            "sigma2        92.7499     13.439      6.902      0.000      66.410     119.090\n",
            "===================================================================================\n",
            "Ljung-Box (L1) (Q):                   0.01   Jarque-Bera (JB):                 2.32\n",
            "Prob(Q):                              0.92   Prob(JB):                         0.31\n",
            "Heteroskedasticity (H):               0.92   Skew:                             0.38\n",
            "Prob(H) (two-sided):                  0.82   Kurtosis:                         2.96\n",
            "===================================================================================\n",
            "\n",
            "Warnings:\n",
            "[1] Covariance matrix calculated using the outer product of gradients (complex-step).\n"
          ]
        }
      ],
      "source": [
        "# Fit the best fit model from grid search SARIMAX(1, 1, 0)x(0, 1, 0, 12)\n",
        "seas_arima = ARIMA(train,\n",
        "                   order=(1, 1, 0),\n",
        "                   seasonal_order=(0, 1, 0, 12))\n",
        "res_sarima = seas_arima.fit()\n",
        "\n",
        "# Print out summary information on the fit\n",
        "print(res_sarima.summary())"
      ]
    },
    {
      "cell_type": "markdown",
      "metadata": {
        "id": "pYEyKwby_F_m"
      },
      "source": [
        "More gems at the end for those digging back into this notebook:\n",
        "\n",
        "`pmdarima` has a set of tips and tricks: https://alkaline-ml.com/pmdarima/tips_and_tricks.html\n",
        "\n",
        "Also:\n",
        "\n",
        "- https://towardsdatascience.com/time-series-forecasting-using-auto-arima-in-python-bb83e49210cd\n",
        "- https://machinelearningmastery.com/develop-arch-and-garch-models-for-time-series-forecasting-in-python/\n",
        "\n",
        "And, what I'm really looking into right now:\n",
        "- https://towardsdatascience.com/sktime-a-unified-python-library-for-time-series-machine-learning-3c103c139a55"
      ]
    }
  ],
  "metadata": {
    "colab": {
      "name": "OPTIONAL-13-TimeSeries-SARIMA-AutoARIMA.ipynb",
      "provenance": []
    },
    "kernelspec": {
      "display_name": "Python (learn-env)",
      "language": "python",
      "name": "learn-env"
    },
    "language_info": {
      "codemirror_mode": {
        "name": "ipython",
        "version": 3
      },
      "file_extension": ".py",
      "mimetype": "text/x-python",
      "name": "python",
      "nbconvert_exporter": "python",
      "pygments_lexer": "ipython3",
      "version": "3.8.5"
    },
    "toc": {
      "base_numbering": 1,
      "nav_menu": {},
      "number_sections": false,
      "sideBar": true,
      "skip_h1_title": false,
      "title_cell": "Table of Contents",
      "title_sidebar": "Contents",
      "toc_cell": false,
      "toc_position": {},
      "toc_section_display": true,
      "toc_window_display": false
    }
  },
  "nbformat": 4,
  "nbformat_minor": 0
}