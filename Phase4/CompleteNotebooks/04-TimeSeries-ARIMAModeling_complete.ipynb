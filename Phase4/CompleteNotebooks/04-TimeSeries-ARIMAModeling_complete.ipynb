{
 "cells": [
  {
   "cell_type": "markdown",
   "metadata": {},
   "source": [
    "# Time Series: Building to ARIMA Modeling"
   ]
  },
  {
   "cell_type": "markdown",
   "metadata": {
    "heading_collapsed": true
   },
   "source": [
    "## Objectives\n",
    "\n",
    "- Build simple models for time series data\n",
    "- Explain auto-regressive and moving-average models\n",
    "- Build time-series models with `statsmodels`\n"
   ]
  },
  {
   "cell_type": "code",
   "execution_count": 1,
   "metadata": {},
   "outputs": [],
   "source": [
    "# Initial imports\n",
    "import pandas as pd\n",
    "import numpy as np\n",
    "import matplotlib.pyplot as plt\n",
    "\n",
    "from statsmodels.tsa.stattools import acf, pacf, adfuller\n",
    "from statsmodels.graphics.tsaplots import plot_acf, plot_pacf\n",
    "\n",
    "from sklearn.model_selection import train_test_split"
   ]
  },
  {
   "cell_type": "markdown",
   "metadata": {},
   "source": [
    "## Set Up\n",
    "\n",
    "Our data will be monthly passenger data for airlines."
   ]
  },
  {
   "cell_type": "code",
   "execution_count": 2,
   "metadata": {},
   "outputs": [
    {
     "data": {
      "text/html": [
       "<div>\n",
       "<style scoped>\n",
       "    .dataframe tbody tr th:only-of-type {\n",
       "        vertical-align: middle;\n",
       "    }\n",
       "\n",
       "    .dataframe tbody tr th {\n",
       "        vertical-align: top;\n",
       "    }\n",
       "\n",
       "    .dataframe thead th {\n",
       "        text-align: right;\n",
       "    }\n",
       "</style>\n",
       "<table border=\"1\" class=\"dataframe\">\n",
       "  <thead>\n",
       "    <tr style=\"text-align: right;\">\n",
       "      <th></th>\n",
       "      <th>Month</th>\n",
       "      <th>Thousands of Passengers</th>\n",
       "    </tr>\n",
       "  </thead>\n",
       "  <tbody>\n",
       "    <tr>\n",
       "      <th>0</th>\n",
       "      <td>1949-01</td>\n",
       "      <td>112</td>\n",
       "    </tr>\n",
       "    <tr>\n",
       "      <th>1</th>\n",
       "      <td>1949-02</td>\n",
       "      <td>118</td>\n",
       "    </tr>\n",
       "    <tr>\n",
       "      <th>2</th>\n",
       "      <td>1949-03</td>\n",
       "      <td>132</td>\n",
       "    </tr>\n",
       "    <tr>\n",
       "      <th>3</th>\n",
       "      <td>1949-04</td>\n",
       "      <td>129</td>\n",
       "    </tr>\n",
       "    <tr>\n",
       "      <th>4</th>\n",
       "      <td>1949-05</td>\n",
       "      <td>121</td>\n",
       "    </tr>\n",
       "  </tbody>\n",
       "</table>\n",
       "</div>"
      ],
      "text/plain": [
       "     Month  Thousands of Passengers\n",
       "0  1949-01                      112\n",
       "1  1949-02                      118\n",
       "2  1949-03                      132\n",
       "3  1949-04                      129\n",
       "4  1949-05                      121"
      ]
     },
     "execution_count": 2,
     "metadata": {},
     "output_type": "execute_result"
    }
   ],
   "source": [
    "# Read in our data\n",
    "df = pd.read_csv('data/airline_passengers.csv')\n",
    "\n",
    "df.head()"
   ]
  },
  {
   "cell_type": "markdown",
   "metadata": {},
   "source": [
    "### Now What?\n",
    "\n",
    "We should do a few things to explore (plot) and prep our data. Any ideas?\n",
    "\n",
    "- Set the datetime index\n",
    "- Explore for outliers/nulls\n",
    "- Visualize our data\n",
    "- Check stationarity\n"
   ]
  },
  {
   "cell_type": "code",
   "execution_count": 3,
   "metadata": {},
   "outputs": [
    {
     "name": "stdout",
     "output_type": "stream",
     "text": [
      "<class 'pandas.core.frame.DataFrame'>\n",
      "RangeIndex: 144 entries, 0 to 143\n",
      "Data columns (total 2 columns):\n",
      " #   Column                   Non-Null Count  Dtype \n",
      "---  ------                   --------------  ----- \n",
      " 0   Month                    144 non-null    object\n",
      " 1   Thousands of Passengers  144 non-null    int64 \n",
      "dtypes: int64(1), object(1)\n",
      "memory usage: 2.4+ KB\n"
     ]
    }
   ],
   "source": [
    "# Your code here!\n",
    "df.info()"
   ]
  },
  {
   "cell_type": "code",
   "execution_count": 4,
   "metadata": {},
   "outputs": [],
   "source": [
    "df['Month'] = pd.to_datetime(df['Month'])"
   ]
  },
  {
   "cell_type": "code",
   "execution_count": 5,
   "metadata": {},
   "outputs": [],
   "source": [
    "df = df.set_index('Month')"
   ]
  },
  {
   "cell_type": "code",
   "execution_count": 6,
   "metadata": {},
   "outputs": [
    {
     "name": "stdout",
     "output_type": "stream",
     "text": [
      "<class 'pandas.core.frame.DataFrame'>\n",
      "DatetimeIndex: 144 entries, 1949-01-01 to 1960-12-01\n",
      "Data columns (total 1 columns):\n",
      " #   Column                   Non-Null Count  Dtype\n",
      "---  ------                   --------------  -----\n",
      " 0   Thousands of Passengers  144 non-null    int64\n",
      "dtypes: int64(1)\n",
      "memory usage: 2.2 KB\n"
     ]
    }
   ],
   "source": [
    "df.info()"
   ]
  },
  {
   "cell_type": "code",
   "execution_count": 7,
   "metadata": {},
   "outputs": [
    {
     "data": {
      "text/plain": [
       "<AxesSubplot:xlabel='Month'>"
      ]
     },
     "execution_count": 7,
     "metadata": {},
     "output_type": "execute_result"
    },
    {
     "data": {
      "image/png": "[encoded data removed]",
      "text/plain": [
       "<Figure size 432x288 with 1 Axes>"
      ]
     },
     "metadata": {
      "needs_background": "light"
     },
     "output_type": "display_data"
    }
   ],
   "source": [
    "# More room for exploratory or preparatory code\n",
    "df.plot()"
   ]
  },
  {
   "cell_type": "markdown",
   "metadata": {},
   "source": [
    "#### Observations:\n",
    "\n",
    "- Seasonality - repeated pattern\n",
    "- Upward trend - hard to tell if linear or exponential (additive or multiplicative)\n",
    "- Heteroskedasticity\n",
    "\n",
    "aka NOT stationary"
   ]
  },
  {
   "cell_type": "code",
   "execution_count": 8,
   "metadata": {},
   "outputs": [],
   "source": [
    "# Make sure to decompose\n",
    "from statsmodels.tsa.seasonal import seasonal_decompose"
   ]
  },
  {
   "cell_type": "code",
   "execution_count": 9,
   "metadata": {},
   "outputs": [
    {
     "data": {
      "image/png": "[encoded data removed]",
      "text/plain": [
       "<Figure size 432x288 with 4 Axes>"
      ]
     },
     "metadata": {
      "needs_background": "light"
     },
     "output_type": "display_data"
    }
   ],
   "source": [
    "# And more room for code!\n",
    "decomp = seasonal_decompose(df)\n",
    "decomp.plot();"
   ]
  },
  {
   "cell_type": "code",
   "execution_count": 10,
   "metadata": {},
   "outputs": [],
   "source": [
    "# May want to check the index frequency, don't want freq=None\n",
    "df.index.freq = 'MS'"
   ]
  },
  {
   "cell_type": "code",
   "execution_count": 11,
   "metadata": {},
   "outputs": [
    {
     "data": {
      "text/plain": [
       "DatetimeIndex(['1949-01-01', '1949-02-01', '1949-03-01', '1949-04-01',\n",
       "               '1949-05-01', '1949-06-01', '1949-07-01', '1949-08-01',\n",
       "               '1949-09-01', '1949-10-01',\n",
       "               ...\n",
       "               '1960-03-01', '1960-04-01', '1960-05-01', '1960-06-01',\n",
       "               '1960-07-01', '1960-08-01', '1960-09-01', '1960-10-01',\n",
       "               '1960-11-01', '1960-12-01'],\n",
       "              dtype='datetime64[ns]', name='Month', length=144, freq='MS')"
      ]
     },
     "execution_count": 11,
     "metadata": {},
     "output_type": "execute_result"
    }
   ],
   "source": [
    "df.index"
   ]
  },
  {
   "cell_type": "code",
   "execution_count": 12,
   "metadata": {},
   "outputs": [
    {
     "data": {
      "text/plain": [
       "(0.8153688792060472,\n",
       " 0.991880243437641,\n",
       " 13,\n",
       " 130,\n",
       " {'1%': -3.4816817173418295,\n",
       "  '5%': -2.8840418343195267,\n",
       "  '10%': -2.578770059171598},\n",
       " 996.6929308390189)"
      ]
     },
     "execution_count": 12,
     "metadata": {},
     "output_type": "execute_result"
    }
   ],
   "source": [
    "# And check for stationarity!\n",
    "adfuller(df)"
   ]
  },
  {
   "cell_type": "markdown",
   "metadata": {},
   "source": [
    "FAIL TO REJECT!\n",
    "\n",
    "Because .99 > .05"
   ]
  },
  {
   "cell_type": "markdown",
   "metadata": {},
   "source": [
    "### Train Test Split\n",
    "\n",
    "We're modeling, so we'll want to reserve some data as a test set.\n",
    "\n",
    "But, there are special considerations for time-dependent data! Namely: we NEVER want to use the future in our training data - we need to be sure we're only ever learning from the past!\n",
    "\n",
    "When developing a time series model, **we can't split our data randomly**, since the whole point is to make use of values that are near in time to other values. Typically we'll train on the earlier data points and test on the later ones.\n",
    "\n",
    "Instead, we'll use **fixed partitioning** to designate sections for training and testing (with maybe a hold out set as well)\n",
    "\n",
    "![](images/train-valid-test.png)\n",
    "\n"
   ]
  },
  {
   "cell_type": "markdown",
   "metadata": {},
   "source": [
    "In addition to not shuffling our data when splitting, this will look different than our past uses of `train_test_split` because we don't really have an X and y in this case. Instead, we're using the past as our X, to predict the future.\n",
    "\n",
    "One more note: when truly forecasting for the future, we'll want to retrain our models (using the parameters found during our modeling process) on ALL of the data available, since we'll want the end of the test set (last available data) when predicting out into the future."
   ]
  },
  {
   "cell_type": "markdown",
   "metadata": {},
   "source": [
    "> Bonus: If we want to cross-validate our time series, sklearn has that built out: https://scikit-learn.org/stable/modules/cross_validation.html#cross-validation-of-time-series-data\n",
    ">\n",
    "> This implements something called **roll-forwarding** (as opposed to fixed partitioning), which incrementally includes more data as the train and then evaluating on the next portion as test.\n",
    ">\n",
    "> Potentially useful additional resource on this: https://medium.com/@soumyachess1496/cross-validation-in-time-series-566ae4981ce4"
   ]
  },
  {
   "cell_type": "markdown",
   "metadata": {},
   "source": [
    "What we need to ask ourselves now is: how much do we want to save as test data?"
   ]
  },
  {
   "cell_type": "code",
   "execution_count": 13,
   "metadata": {},
   "outputs": [],
   "source": [
    "# We can manually train test split\n",
    "train = df[:'1957']\n",
    "test = df['1958':]"
   ]
  },
  {
   "cell_type": "code",
   "execution_count": 14,
   "metadata": {},
   "outputs": [
    {
     "name": "stdout",
     "output_type": "stream",
     "text": [
      "<class 'pandas.core.frame.DataFrame'>\n",
      "DatetimeIndex: 108 entries, 1949-01-01 to 1957-12-01\n",
      "Freq: MS\n",
      "Data columns (total 1 columns):\n",
      " #   Column                   Non-Null Count  Dtype\n",
      "---  ------                   --------------  -----\n",
      " 0   Thousands of Passengers  108 non-null    int64\n",
      "dtypes: int64(1)\n",
      "memory usage: 1.7 KB\n"
     ]
    }
   ],
   "source": [
    "train.info()"
   ]
  },
  {
   "cell_type": "code",
   "execution_count": 15,
   "metadata": {},
   "outputs": [
    {
     "name": "stdout",
     "output_type": "stream",
     "text": [
      "<class 'pandas.core.frame.DataFrame'>\n",
      "DatetimeIndex: 36 entries, 1958-01-01 to 1960-12-01\n",
      "Freq: MS\n",
      "Data columns (total 1 columns):\n",
      " #   Column                   Non-Null Count  Dtype\n",
      "---  ------                   --------------  -----\n",
      " 0   Thousands of Passengers  36 non-null     int64\n",
      "dtypes: int64(1)\n",
      "memory usage: 576.0 bytes\n"
     ]
    }
   ],
   "source": [
    "test.info()"
   ]
  },
  {
   "cell_type": "code",
   "execution_count": 16,
   "metadata": {},
   "outputs": [
    {
     "data": {
      "text/plain": [
       "[            Thousands of Passengers\n",
       " Month                              \n",
       " 1949-01-01                      112\n",
       " 1949-02-01                      118\n",
       " 1949-03-01                      132\n",
       " 1949-04-01                      129\n",
       " 1949-05-01                      121\n",
       " ...                             ...\n",
       " 1957-08-01                      467\n",
       " 1957-09-01                      404\n",
       " 1957-10-01                      347\n",
       " 1957-11-01                      305\n",
       " 1957-12-01                      336\n",
       " \n",
       " [108 rows x 1 columns],\n",
       "             Thousands of Passengers\n",
       " Month                              \n",
       " 1958-01-01                      340\n",
       " 1958-02-01                      318\n",
       " 1958-03-01                      362\n",
       " 1958-04-01                      348\n",
       " 1958-05-01                      363\n",
       " 1958-06-01                      435\n",
       " 1958-07-01                      491\n",
       " 1958-08-01                      505\n",
       " 1958-09-01                      404\n",
       " 1958-10-01                      359\n",
       " 1958-11-01                      310\n",
       " 1958-12-01                      337\n",
       " 1959-01-01                      360\n",
       " 1959-02-01                      342\n",
       " 1959-03-01                      406\n",
       " 1959-04-01                      396\n",
       " 1959-05-01                      420\n",
       " 1959-06-01                      472\n",
       " 1959-07-01                      548\n",
       " 1959-08-01                      559\n",
       " 1959-09-01                      463\n",
       " 1959-10-01                      407\n",
       " 1959-11-01                      362\n",
       " 1959-12-01                      405\n",
       " 1960-01-01                      417\n",
       " 1960-02-01                      391\n",
       " 1960-03-01                      419\n",
       " 1960-04-01                      461\n",
       " 1960-05-01                      472\n",
       " 1960-06-01                      535\n",
       " 1960-07-01                      622\n",
       " 1960-08-01                      606\n",
       " 1960-09-01                      508\n",
       " 1960-10-01                      461\n",
       " 1960-11-01                      390\n",
       " 1960-12-01                      432]"
      ]
     },
     "execution_count": 16,
     "metadata": {},
     "output_type": "execute_result"
    }
   ],
   "source": [
    "# Or we can use sklearn's train_test_split with shuffle=False\n",
    "train_test_split(df, test_size = 36, shuffle=False)"
   ]
  },
  {
   "cell_type": "code",
   "execution_count": 17,
   "metadata": {},
   "outputs": [
    {
     "data": {
      "image/png": "[encoded data removed]",
      "text/plain": [
       "<Figure size 864x576 with 1 Axes>"
      ]
     },
     "metadata": {
      "needs_background": "light"
     },
     "output_type": "display_data"
    }
   ],
   "source": [
    "# Let's visualize our train and test sets\n",
    "fig, ax = plt.subplots(figsize=(12, 8))\n",
    "ax.plot(train, label='train')\n",
    "ax.plot(test, label='test')\n",
    "ax.set_title('Train-Test Split');\n",
    "plt.legend();"
   ]
  },
  {
   "cell_type": "markdown",
   "metadata": {},
   "source": [
    "### Set Up an Evaluate Function\n",
    "\n",
    "Bonus for y'all! Here's a quick function to explore a few metrics on our time series predictions.\n",
    "\n",
    "Note! We're back to regression!"
   ]
  },
  {
   "cell_type": "code",
   "execution_count": 18,
   "metadata": {},
   "outputs": [],
   "source": [
    "from sklearn import metrics\n",
    "\n",
    "def report_metrics(y_true, y_pred):\n",
    "    print(\"Explained Variance:\\n\\t\", metrics.explained_variance_score(y_true, y_pred))\n",
    "    print(\"MAE:\\n\\t\", metrics.mean_absolute_error(y_true, y_pred))\n",
    "    print(\"RMSE:\\n\\t\", metrics.mean_squared_error(y_true, y_pred, squared=False))\n",
    "    print(\"r^2:\\n\\t\", metrics.r2_score(y_true, y_pred))"
   ]
  },
  {
   "cell_type": "markdown",
   "metadata": {},
   "source": [
    "You'll also often see time series models evaluated using Information Criterion, namely AIC or BIC. These are relative ways to explore which models comparatively perform better. A better model will have a lower AIC."
   ]
  },
  {
   "cell_type": "markdown",
   "metadata": {},
   "source": [
    "## Initial Modeling Approaches - Modelless Baselines!\n",
    "\n",
    "#### What's the most naive way to make a prediction here? \n",
    "\n",
    "(searching for a very dumb approach - think our modelless baselines back in phase 2!)\n",
    "\n",
    "- \n"
   ]
  },
  {
   "cell_type": "code",
   "execution_count": 19,
   "metadata": {},
   "outputs": [
    {
     "data": {
      "text/plain": [
       "230.89814814814815"
      ]
     },
     "execution_count": 19,
     "metadata": {},
     "output_type": "execute_result"
    }
   ],
   "source": [
    "# Let's implement it! Make our predictions for our test set\n",
    "train_mean = train.mean()[0]\n",
    "train_mean"
   ]
  },
  {
   "cell_type": "code",
   "execution_count": 20,
   "metadata": {},
   "outputs": [],
   "source": [
    "preds_baseline = [train_mean] * len(test)"
   ]
  },
  {
   "cell_type": "code",
   "execution_count": 21,
   "metadata": {},
   "outputs": [
    {
     "name": "stdout",
     "output_type": "stream",
     "text": [
      "Explained Variance:\n",
      "\t 0.0\n",
      "MAE:\n",
      "\t 197.60185185185188\n",
      "RMSE:\n",
      "\t 212.52011060329505\n",
      "r^2:\n",
      "\t -6.381912688199452\n"
     ]
    }
   ],
   "source": [
    "# Then evaluate\n",
    "report_metrics(test, preds_baseline)"
   ]
  },
  {
   "cell_type": "code",
   "execution_count": 22,
   "metadata": {},
   "outputs": [
    {
     "data": {
      "image/png": "[encoded data removed]",
      "text/plain": [
       "<Figure size 432x288 with 1 Axes>"
      ]
     },
     "metadata": {
      "needs_background": "light"
     },
     "output_type": "display_data"
    }
   ],
   "source": [
    "plt.plot(train)\n",
    "plt.plot(test)\n",
    "plt.plot(pd.Series(preds_baseline, index=test.index));"
   ]
  },
  {
   "cell_type": "markdown",
   "metadata": {},
   "source": [
    "#### Can we think of another naive way to approach these predictions?\n",
    "\n",
    "(hint: `shift`)\n",
    "\n",
    "- \n"
   ]
  },
  {
   "cell_type": "code",
   "execution_count": 23,
   "metadata": {
    "scrolled": false
   },
   "outputs": [
    {
     "data": {
      "text/html": [
       "<div>\n",
       "<style scoped>\n",
       "    .dataframe tbody tr th:only-of-type {\n",
       "        vertical-align: middle;\n",
       "    }\n",
       "\n",
       "    .dataframe tbody tr th {\n",
       "        vertical-align: top;\n",
       "    }\n",
       "\n",
       "    .dataframe thead th {\n",
       "        text-align: right;\n",
       "    }\n",
       "</style>\n",
       "<table border=\"1\" class=\"dataframe\">\n",
       "  <thead>\n",
       "    <tr style=\"text-align: right;\">\n",
       "      <th></th>\n",
       "      <th>Thousands of Passengers</th>\n",
       "    </tr>\n",
       "    <tr>\n",
       "      <th>Month</th>\n",
       "      <th></th>\n",
       "    </tr>\n",
       "  </thead>\n",
       "  <tbody>\n",
       "    <tr>\n",
       "      <th>1958-01-01</th>\n",
       "      <td>336.0</td>\n",
       "    </tr>\n",
       "    <tr>\n",
       "      <th>1958-02-01</th>\n",
       "      <td>340.0</td>\n",
       "    </tr>\n",
       "    <tr>\n",
       "      <th>1958-03-01</th>\n",
       "      <td>318.0</td>\n",
       "    </tr>\n",
       "    <tr>\n",
       "      <th>1958-04-01</th>\n",
       "      <td>362.0</td>\n",
       "    </tr>\n",
       "    <tr>\n",
       "      <th>1958-05-01</th>\n",
       "      <td>348.0</td>\n",
       "    </tr>\n",
       "  </tbody>\n",
       "</table>\n",
       "</div>"
      ],
      "text/plain": [
       "            Thousands of Passengers\n",
       "Month                              \n",
       "1958-01-01                    336.0\n",
       "1958-02-01                    340.0\n",
       "1958-03-01                    318.0\n",
       "1958-04-01                    362.0\n",
       "1958-05-01                    348.0"
      ]
     },
     "execution_count": 23,
     "metadata": {},
     "output_type": "execute_result"
    }
   ],
   "source": [
    "# Implement another method!\n",
    "shift_1_preds = df.shift()['1958':]\n",
    "shift_1_preds.head()"
   ]
  },
  {
   "cell_type": "code",
   "execution_count": 24,
   "metadata": {},
   "outputs": [
    {
     "name": "stdout",
     "output_type": "stream",
     "text": [
      "Explained Variance:\n",
      "\t 0.5876400056297358\n",
      "MAE:\n",
      "\t 42.333333333333336\n",
      "RMSE:\n",
      "\t 50.299657608730854\n",
      "r^2:\n",
      "\t 0.5864777375725849\n"
     ]
    }
   ],
   "source": [
    "# Then evaluate\n",
    "report_metrics(test, shift_1_preds)"
   ]
  },
  {
   "cell_type": "code",
   "execution_count": 25,
   "metadata": {},
   "outputs": [
    {
     "data": {
      "image/png": "[encoded data removed]",
      "text/plain": [
       "<Figure size 432x288 with 1 Axes>"
      ]
     },
     "metadata": {
      "needs_background": "light"
     },
     "output_type": "display_data"
    }
   ],
   "source": [
    "# plt.plot(train)\n",
    "plt.plot(test)\n",
    "plt.plot(shift_1_preds);"
   ]
  },
  {
   "cell_type": "code",
   "execution_count": 26,
   "metadata": {},
   "outputs": [
    {
     "data": {
      "text/html": [
       "<div>\n",
       "<style scoped>\n",
       "    .dataframe tbody tr th:only-of-type {\n",
       "        vertical-align: middle;\n",
       "    }\n",
       "\n",
       "    .dataframe tbody tr th {\n",
       "        vertical-align: top;\n",
       "    }\n",
       "\n",
       "    .dataframe thead th {\n",
       "        text-align: right;\n",
       "    }\n",
       "</style>\n",
       "<table border=\"1\" class=\"dataframe\">\n",
       "  <thead>\n",
       "    <tr style=\"text-align: right;\">\n",
       "      <th></th>\n",
       "      <th>Thousands of Passengers</th>\n",
       "    </tr>\n",
       "    <tr>\n",
       "      <th>Month</th>\n",
       "      <th></th>\n",
       "    </tr>\n",
       "  </thead>\n",
       "  <tbody>\n",
       "    <tr>\n",
       "      <th>1949-01-01</th>\n",
       "      <td>NaN</td>\n",
       "    </tr>\n",
       "    <tr>\n",
       "      <th>1949-02-01</th>\n",
       "      <td>NaN</td>\n",
       "    </tr>\n",
       "    <tr>\n",
       "      <th>1949-03-01</th>\n",
       "      <td>NaN</td>\n",
       "    </tr>\n",
       "    <tr>\n",
       "      <th>1949-04-01</th>\n",
       "      <td>NaN</td>\n",
       "    </tr>\n",
       "    <tr>\n",
       "      <th>1949-05-01</th>\n",
       "      <td>NaN</td>\n",
       "    </tr>\n",
       "    <tr>\n",
       "      <th>1949-06-01</th>\n",
       "      <td>NaN</td>\n",
       "    </tr>\n",
       "    <tr>\n",
       "      <th>1949-07-01</th>\n",
       "      <td>NaN</td>\n",
       "    </tr>\n",
       "    <tr>\n",
       "      <th>1949-08-01</th>\n",
       "      <td>NaN</td>\n",
       "    </tr>\n",
       "    <tr>\n",
       "      <th>1949-09-01</th>\n",
       "      <td>NaN</td>\n",
       "    </tr>\n",
       "    <tr>\n",
       "      <th>1949-10-01</th>\n",
       "      <td>NaN</td>\n",
       "    </tr>\n",
       "    <tr>\n",
       "      <th>1949-11-01</th>\n",
       "      <td>NaN</td>\n",
       "    </tr>\n",
       "    <tr>\n",
       "      <th>1949-12-01</th>\n",
       "      <td>NaN</td>\n",
       "    </tr>\n",
       "    <tr>\n",
       "      <th>1950-01-01</th>\n",
       "      <td>112.0</td>\n",
       "    </tr>\n",
       "  </tbody>\n",
       "</table>\n",
       "</div>"
      ],
      "text/plain": [
       "            Thousands of Passengers\n",
       "Month                              \n",
       "1949-01-01                      NaN\n",
       "1949-02-01                      NaN\n",
       "1949-03-01                      NaN\n",
       "1949-04-01                      NaN\n",
       "1949-05-01                      NaN\n",
       "1949-06-01                      NaN\n",
       "1949-07-01                      NaN\n",
       "1949-08-01                      NaN\n",
       "1949-09-01                      NaN\n",
       "1949-10-01                      NaN\n",
       "1949-11-01                      NaN\n",
       "1949-12-01                      NaN\n",
       "1950-01-01                    112.0"
      ]
     },
     "execution_count": 26,
     "metadata": {},
     "output_type": "execute_result"
    }
   ],
   "source": [
    "df.shift(12).head(13)"
   ]
  },
  {
   "cell_type": "code",
   "execution_count": 27,
   "metadata": {},
   "outputs": [],
   "source": [
    "shift_12_preds = df.shift(12)[\"1958\":]"
   ]
  },
  {
   "cell_type": "code",
   "execution_count": 28,
   "metadata": {},
   "outputs": [
    {
     "data": {
      "text/html": [
       "<div>\n",
       "<style scoped>\n",
       "    .dataframe tbody tr th:only-of-type {\n",
       "        vertical-align: middle;\n",
       "    }\n",
       "\n",
       "    .dataframe tbody tr th {\n",
       "        vertical-align: top;\n",
       "    }\n",
       "\n",
       "    .dataframe thead th {\n",
       "        text-align: right;\n",
       "    }\n",
       "</style>\n",
       "<table border=\"1\" class=\"dataframe\">\n",
       "  <thead>\n",
       "    <tr style=\"text-align: right;\">\n",
       "      <th></th>\n",
       "      <th>Thousands of Passengers</th>\n",
       "    </tr>\n",
       "    <tr>\n",
       "      <th>Month</th>\n",
       "      <th></th>\n",
       "    </tr>\n",
       "  </thead>\n",
       "  <tbody>\n",
       "    <tr>\n",
       "      <th>1958-01-01</th>\n",
       "      <td>340</td>\n",
       "    </tr>\n",
       "    <tr>\n",
       "      <th>1958-02-01</th>\n",
       "      <td>318</td>\n",
       "    </tr>\n",
       "    <tr>\n",
       "      <th>1958-03-01</th>\n",
       "      <td>362</td>\n",
       "    </tr>\n",
       "  </tbody>\n",
       "</table>\n",
       "</div>"
      ],
      "text/plain": [
       "            Thousands of Passengers\n",
       "Month                              \n",
       "1958-01-01                      340\n",
       "1958-02-01                      318\n",
       "1958-03-01                      362"
      ]
     },
     "execution_count": 28,
     "metadata": {},
     "output_type": "execute_result"
    }
   ],
   "source": [
    "test.head(3)"
   ]
  },
  {
   "cell_type": "code",
   "execution_count": 29,
   "metadata": {},
   "outputs": [
    {
     "data": {
      "text/html": [
       "<div>\n",
       "<style scoped>\n",
       "    .dataframe tbody tr th:only-of-type {\n",
       "        vertical-align: middle;\n",
       "    }\n",
       "\n",
       "    .dataframe tbody tr th {\n",
       "        vertical-align: top;\n",
       "    }\n",
       "\n",
       "    .dataframe thead th {\n",
       "        text-align: right;\n",
       "    }\n",
       "</style>\n",
       "<table border=\"1\" class=\"dataframe\">\n",
       "  <thead>\n",
       "    <tr style=\"text-align: right;\">\n",
       "      <th></th>\n",
       "      <th>Thousands of Passengers</th>\n",
       "    </tr>\n",
       "    <tr>\n",
       "      <th>Month</th>\n",
       "      <th></th>\n",
       "    </tr>\n",
       "  </thead>\n",
       "  <tbody>\n",
       "    <tr>\n",
       "      <th>1958-01-01</th>\n",
       "      <td>315.0</td>\n",
       "    </tr>\n",
       "    <tr>\n",
       "      <th>1958-02-01</th>\n",
       "      <td>301.0</td>\n",
       "    </tr>\n",
       "    <tr>\n",
       "      <th>1958-03-01</th>\n",
       "      <td>356.0</td>\n",
       "    </tr>\n",
       "  </tbody>\n",
       "</table>\n",
       "</div>"
      ],
      "text/plain": [
       "            Thousands of Passengers\n",
       "Month                              \n",
       "1958-01-01                    315.0\n",
       "1958-02-01                    301.0\n",
       "1958-03-01                    356.0"
      ]
     },
     "execution_count": 29,
     "metadata": {},
     "output_type": "execute_result"
    }
   ],
   "source": [
    "shift_12_preds.head(3)"
   ]
  },
  {
   "cell_type": "code",
   "execution_count": 30,
   "metadata": {},
   "outputs": [
    {
     "name": "stdout",
     "output_type": "stream",
     "text": [
      "Explained Variance:\n",
      "\t 0.9228147317476244\n",
      "MAE:\n",
      "\t 35.916666666666664\n",
      "RMSE:\n",
      "\t 41.97916149710473\n",
      "r^2:\n",
      "\t 0.7119709069776945\n"
     ]
    }
   ],
   "source": [
    "report_metrics(test, shift_12_preds)"
   ]
  },
  {
   "cell_type": "code",
   "execution_count": 31,
   "metadata": {},
   "outputs": [
    {
     "data": {
      "image/png": "[encoded data removed]",
      "text/plain": [
       "<Figure size 432x288 with 1 Axes>"
      ]
     },
     "metadata": {
      "needs_background": "light"
     },
     "output_type": "display_data"
    }
   ],
   "source": [
    "# plt.plot(train)\n",
    "plt.plot(test)\n",
    "plt.plot(shift_12_preds);"
   ]
  },
  {
   "cell_type": "code",
   "execution_count": 32,
   "metadata": {},
   "outputs": [
    {
     "data": {
      "text/plain": [
       "<AxesSubplot:xlabel='Month'>"
      ]
     },
     "execution_count": 32,
     "metadata": {},
     "output_type": "execute_result"
    },
    {
     "data": {
      "image/png": "[encoded data removed]",
      "text/plain": [
       "<Figure size 432x288 with 1 Axes>"
      ]
     },
     "metadata": {
      "needs_background": "light"
     },
     "output_type": "display_data"
    }
   ],
   "source": [
    "(df - df.rolling(window=12).mean()).plot()"
   ]
  },
  {
   "cell_type": "code",
   "execution_count": 33,
   "metadata": {},
   "outputs": [
    {
     "data": {
      "text/plain": [
       "<AxesSubplot:xlabel='Month'>"
      ]
     },
     "execution_count": 33,
     "metadata": {},
     "output_type": "execute_result"
    },
    {
     "data": {
      "image/png": "[encoded data removed]",
      "text/plain": [
       "<Figure size 432x288 with 1 Axes>"
      ]
     },
     "metadata": {
      "needs_background": "light"
     },
     "output_type": "display_data"
    }
   ],
   "source": [
    "df.diff().plot()"
   ]
  },
  {
   "cell_type": "markdown",
   "metadata": {},
   "source": [
    "## The ARIMA Time Series Model\n",
    "\n",
    "One of the most common methods used in time series forecasting is known as the ARIMA model, which stands for **AutoRegressive Integrated Moving Average**. ARIMA is a model that can be fitted to time series data in order to better understand or predict future points in the series.\n",
    "\n",
    "Let's have a quick introduction to ARIMA. The ARIMA forecasting for a stationary time series is nothing but a linear (like a linear regression) equation. The predictors depend on the parameters (p,d,q) of the ARIMA model:\n"
   ]
  },
  {
   "cell_type": "markdown",
   "metadata": {},
   "source": [
    "A note - we can build individual AR models, or MA models, or just ARMA models. \n",
    "\n",
    "In practice, our raw time series data will not be stationary (like, ever), and the general strategy will be to take _differences_ to try to get a stationary series.\n",
    "\n",
    "If the first-order differences of consecutive terms *themselves* do not form a stationary series, then the typical move is to consider *second-order* differences, i.e. differences of the differences.\n",
    "\n",
    "It would be nice to have a modeling algorithm that would do our differencing for us. That is the point of **ARIMA** models. The 'I' stands for **integrated**, and the `statsmodels` tool will let us specify, in addition to the number of AR and MA terms, also the degree of difference on our raw data series that we want to use."
   ]
  },
  {
   "cell_type": "markdown",
   "metadata": {},
   "source": [
    "### Number of AR (Auto-Regressive) terms (`p`): \n",
    "\n",
    "`p` is the **auto-regressive** part of the model. It allows us to incorporate the effect of past values into our model. Intuitively, this would be similar to stating that it is likely to rain tomorrow if it has been raining for past 3 days. AR terms are just *lags* of dependent variable. For instance if p is 5, the predictors for x(t) will be x(t-1)….x(t-5)."
   ]
  },
  {
   "cell_type": "markdown",
   "metadata": {},
   "source": [
    "### Number of Differences (`d`):\n",
    "\n",
    "`d` is the **Integrated** component of an ARIMA model. This value is concerned with the amount of differencing as it identifies the number of lag values to subtract from the current observation. Intuitively, this would be similar to stating that it is likely to rain tomorrow if the difference in amount of rain in the last *n* days is small. "
   ]
  },
  {
   "cell_type": "markdown",
   "metadata": {},
   "source": [
    "### Number of MA (Moving Average) terms (`q`): \n",
    "\n",
    "`q` is the **moving average** part of the model which is used to set the error of the model as a linear combination of the error values observed at previous time points in the past. MA terms form lagged forecast errors in prediction equation. For instance if q is 5, the predictors for x(t) will be e(t-1)….e(t-5) where `e(i)` is the difference between the moving average at ith instant and actual value."
   ]
  },
  {
   "cell_type": "markdown",
   "metadata": {},
   "source": [
    "These three distinct integer values, (p, d, q), are used to parametrize ARIMA models. Because of that, ARIMA models are denoted with the notation `ARIMA(p, d, q)`. \n",
    "\n",
    "A detailed article on these parameters is available [HERE](https://www.quantstart.com/articles/Autoregressive-Integrated-Moving-Average-ARIMA-p-d-q-Models-for-Time-Series-Analysis).\n",
    "\n",
    "The seasonal ARIMA method can appear daunting because of the multiple tuning parameters involved. There are several manual ways to tune our ARIMA models, and later we'll explore how we can grid search these parameters as well!"
   ]
  },
  {
   "cell_type": "markdown",
   "metadata": {},
   "source": [
    "#### Let's test it out!\n",
    "\n",
    "[Documentation](https://www.statsmodels.org/devel/generated/statsmodels.tsa.arima.model.ARIMA.html)"
   ]
  },
  {
   "cell_type": "code",
   "execution_count": 34,
   "metadata": {},
   "outputs": [],
   "source": [
    "# Import ARIMA\n",
    "from statsmodels.tsa.arima.model import ARIMA"
   ]
  },
  {
   "cell_type": "code",
   "execution_count": 35,
   "metadata": {},
   "outputs": [],
   "source": [
    "# From our data exploration earlier, what do we want to use as params?\n",
    "# Order will be (p,d,q)\n",
    "arima_order = (1, 1, 1) # should be a tuple, like (0,0,0)"
   ]
  },
  {
   "cell_type": "code",
   "execution_count": 36,
   "metadata": {},
   "outputs": [],
   "source": [
    "# Now let's fit our ARIMA model\n",
    "arima_1 = ARIMA(train, order=arima_order)\n",
    "\n",
    "result = arima_1.fit()"
   ]
  },
  {
   "cell_type": "code",
   "execution_count": 37,
   "metadata": {},
   "outputs": [],
   "source": [
    "# Same as:\n",
    "# result = ARIMA(train, order=arima_order).fit()"
   ]
  },
  {
   "cell_type": "code",
   "execution_count": 38,
   "metadata": {},
   "outputs": [
    {
     "data": {
      "text/html": [
       "<table class=\"simpletable\">\n",
       "<caption>SARIMAX Results</caption>\n",
       "<tr>\n",
       "  <th>Dep. Variable:</th>   <td>Thousands of Passengers</td> <th>  No. Observations:  </th>    <td>108</td>  \n",
       "</tr>\n",
       "<tr>\n",
       "  <th>Model:</th>               <td>ARIMA(1, 1, 1)</td>      <th>  Log Likelihood     </th> <td>-490.640</td>\n",
       "</tr>\n",
       "<tr>\n",
       "  <th>Date:</th>               <td>Tue, 26 Jul 2022</td>     <th>  AIC                </th>  <td>987.280</td>\n",
       "</tr>\n",
       "<tr>\n",
       "  <th>Time:</th>                   <td>15:36:24</td>         <th>  BIC                </th>  <td>995.299</td>\n",
       "</tr>\n",
       "<tr>\n",
       "  <th>Sample:</th>                <td>01-01-1949</td>        <th>  HQIC               </th>  <td>990.531</td>\n",
       "</tr>\n",
       "<tr>\n",
       "  <th></th>                      <td>- 12-01-1957</td>       <th>                     </th>     <td> </td>   \n",
       "</tr>\n",
       "<tr>\n",
       "  <th>Covariance Type:</th>           <td>opg</td>           <th>                     </th>     <td> </td>   \n",
       "</tr>\n",
       "</table>\n",
       "<table class=\"simpletable\">\n",
       "<tr>\n",
       "     <td></td>       <th>coef</th>     <th>std err</th>      <th>z</th>      <th>P>|z|</th>  <th>[0.025</th>    <th>0.975]</th>  \n",
       "</tr>\n",
       "<tr>\n",
       "  <th>ar.L1</th>  <td>   -0.4856</td> <td>    0.136</td> <td>   -3.567</td> <td> 0.000</td> <td>   -0.752</td> <td>   -0.219</td>\n",
       "</tr>\n",
       "<tr>\n",
       "  <th>ma.L1</th>  <td>    0.8760</td> <td>    0.078</td> <td>   11.289</td> <td> 0.000</td> <td>    0.724</td> <td>    1.028</td>\n",
       "</tr>\n",
       "<tr>\n",
       "  <th>sigma2</th> <td>  559.5788</td> <td>   94.858</td> <td>    5.899</td> <td> 0.000</td> <td>  373.661</td> <td>  745.496</td>\n",
       "</tr>\n",
       "</table>\n",
       "<table class=\"simpletable\">\n",
       "<tr>\n",
       "  <th>Ljung-Box (L1) (Q):</th>     <td>0.07</td> <th>  Jarque-Bera (JB):  </th> <td>1.75</td>\n",
       "</tr>\n",
       "<tr>\n",
       "  <th>Prob(Q):</th>                <td>0.80</td> <th>  Prob(JB):          </th> <td>0.42</td>\n",
       "</tr>\n",
       "<tr>\n",
       "  <th>Heteroskedasticity (H):</th> <td>4.60</td> <th>  Skew:              </th> <td>0.03</td>\n",
       "</tr>\n",
       "<tr>\n",
       "  <th>Prob(H) (two-sided):</th>    <td>0.00</td> <th>  Kurtosis:          </th> <td>2.38</td>\n",
       "</tr>\n",
       "</table><br/><br/>Warnings:<br/>[1] Covariance matrix calculated using the outer product of gradients (complex-step)."
      ],
      "text/plain": [
       "<class 'statsmodels.iolib.summary.Summary'>\n",
       "\"\"\"\n",
       "                                  SARIMAX Results                                  \n",
       "===================================================================================\n",
       "Dep. Variable:     Thousands of Passengers   No. Observations:                  108\n",
       "Model:                      ARIMA(1, 1, 1)   Log Likelihood                -490.640\n",
       "Date:                     Tue, 26 Jul 2022   AIC                            987.280\n",
       "Time:                             15:36:24   BIC                            995.299\n",
       "Sample:                         01-01-1949   HQIC                           990.531\n",
       "                              - 12-01-1957                                         \n",
       "Covariance Type:                       opg                                         \n",
       "==============================================================================\n",
       "                 coef    std err          z      P>|z|      [0.025      0.975]\n",
       "------------------------------------------------------------------------------\n",
       "ar.L1         -0.4856      0.136     -3.567      0.000      -0.752      -0.219\n",
       "ma.L1          0.8760      0.078     11.289      0.000       0.724       1.028\n",
       "sigma2       559.5788     94.858      5.899      0.000     373.661     745.496\n",
       "===================================================================================\n",
       "Ljung-Box (L1) (Q):                   0.07   Jarque-Bera (JB):                 1.75\n",
       "Prob(Q):                              0.80   Prob(JB):                         0.42\n",
       "Heteroskedasticity (H):               4.60   Skew:                             0.03\n",
       "Prob(H) (two-sided):                  0.00   Kurtosis:                         2.38\n",
       "===================================================================================\n",
       "\n",
       "Warnings:\n",
       "[1] Covariance matrix calculated using the outer product of gradients (complex-step).\n",
       "\"\"\""
      ]
     },
     "execution_count": 38,
     "metadata": {},
     "output_type": "execute_result"
    }
   ],
   "source": [
    "# Since it's statsmodels, we have a summary we can explore\n",
    "result.summary()"
   ]
  },
  {
   "cell_type": "code",
   "execution_count": 39,
   "metadata": {},
   "outputs": [
    {
     "data": {
      "text/plain": [
       "987.2800406314705"
      ]
     },
     "execution_count": 39,
     "metadata": {},
     "output_type": "execute_result"
    }
   ],
   "source": [
    "result.aic"
   ]
  },
  {
   "cell_type": "code",
   "execution_count": 40,
   "metadata": {},
   "outputs": [],
   "source": [
    "# We can also make predictions using .forecast\n",
    "# Steps will be the length of our test data\n",
    "test_preds = result.forecast(steps=len(test))"
   ]
  },
  {
   "cell_type": "code",
   "execution_count": 41,
   "metadata": {},
   "outputs": [
    {
     "data": {
      "image/png": "[encoded data removed]",
      "text/plain": [
       "<Figure size 432x288 with 1 Axes>"
      ]
     },
     "metadata": {
      "needs_background": "light"
     },
     "output_type": "display_data"
    }
   ],
   "source": [
    "# How can we visualize our predictions?\n",
    "plt.plot(train, label = 'Train')\n",
    "plt.plot(test, label = 'Test')\n",
    "plt.plot(test_preds, label = 'Test Preds')\n",
    "plt.legend();"
   ]
  },
  {
   "cell_type": "code",
   "execution_count": 42,
   "metadata": {},
   "outputs": [
    {
     "name": "stdout",
     "output_type": "stream",
     "text": [
      "Explained Variance:\n",
      "\t -0.003347584283385441\n",
      "MAE:\n",
      "\t 83.49526667592285\n",
      "RMSE:\n",
      "\t 109.89878137312697\n",
      "r^2:\n",
      "\t -0.9740338297310933\n"
     ]
    }
   ],
   "source": [
    "# Evaluate\n",
    "report_metrics(test, test_preds)"
   ]
  },
  {
   "cell_type": "markdown",
   "metadata": {},
   "source": [
    "## Random Walk Model\n",
    "\n",
    "We can compare to a model with only a single differencing term, which is called a random walk model."
   ]
  },
  {
   "cell_type": "code",
   "execution_count": 43,
   "metadata": {},
   "outputs": [],
   "source": [
    "# Create our random walk model\n",
    "# Order will be (p,d,q)\n",
    "rw_order = (0,1,0) # should be a tuple, like (0,0,0)\n",
    "\n",
    "# Then fit\n",
    "rw_res = ARIMA(train, order=rw_order).fit()"
   ]
  },
  {
   "cell_type": "code",
   "execution_count": 44,
   "metadata": {},
   "outputs": [
    {
     "data": {
      "text/html": [
       "<table class=\"simpletable\">\n",
       "<caption>SARIMAX Results</caption>\n",
       "<tr>\n",
       "  <th>Dep. Variable:</th>   <td>Thousands of Passengers</td> <th>  No. Observations:  </th>    <td>108</td>  \n",
       "</tr>\n",
       "<tr>\n",
       "  <th>Model:</th>               <td>ARIMA(0, 1, 0)</td>      <th>  Log Likelihood     </th> <td>-499.765</td>\n",
       "</tr>\n",
       "<tr>\n",
       "  <th>Date:</th>               <td>Tue, 26 Jul 2022</td>     <th>  AIC                </th> <td>1001.531</td>\n",
       "</tr>\n",
       "<tr>\n",
       "  <th>Time:</th>                   <td>15:36:24</td>         <th>  BIC                </th> <td>1004.204</td>\n",
       "</tr>\n",
       "<tr>\n",
       "  <th>Sample:</th>                <td>01-01-1949</td>        <th>  HQIC               </th> <td>1002.614</td>\n",
       "</tr>\n",
       "<tr>\n",
       "  <th></th>                      <td>- 12-01-1957</td>       <th>                     </th>     <td> </td>   \n",
       "</tr>\n",
       "<tr>\n",
       "  <th>Covariance Type:</th>           <td>opg</td>           <th>                     </th>     <td> </td>   \n",
       "</tr>\n",
       "</table>\n",
       "<table class=\"simpletable\">\n",
       "<tr>\n",
       "     <td></td>       <th>coef</th>     <th>std err</th>      <th>z</th>      <th>P>|z|</th>  <th>[0.025</th>    <th>0.975]</th>  \n",
       "</tr>\n",
       "<tr>\n",
       "  <th>sigma2</th> <td>  667.5082</td> <td>   94.937</td> <td>    7.031</td> <td> 0.000</td> <td>  481.435</td> <td>  853.581</td>\n",
       "</tr>\n",
       "</table>\n",
       "<table class=\"simpletable\">\n",
       "<tr>\n",
       "  <th>Ljung-Box (L1) (Q):</th>     <td>8.33</td> <th>  Jarque-Bera (JB):  </th> <td>0.10</td> \n",
       "</tr>\n",
       "<tr>\n",
       "  <th>Prob(Q):</th>                <td>0.00</td> <th>  Prob(JB):          </th> <td>0.95</td> \n",
       "</tr>\n",
       "<tr>\n",
       "  <th>Heteroskedasticity (H):</th> <td>5.78</td> <th>  Skew:              </th> <td>-0.00</td>\n",
       "</tr>\n",
       "<tr>\n",
       "  <th>Prob(H) (two-sided):</th>    <td>0.00</td> <th>  Kurtosis:          </th> <td>2.85</td> \n",
       "</tr>\n",
       "</table><br/><br/>Warnings:<br/>[1] Covariance matrix calculated using the outer product of gradients (complex-step)."
      ],
      "text/plain": [
       "<class 'statsmodels.iolib.summary.Summary'>\n",
       "\"\"\"\n",
       "                                  SARIMAX Results                                  \n",
       "===================================================================================\n",
       "Dep. Variable:     Thousands of Passengers   No. Observations:                  108\n",
       "Model:                      ARIMA(0, 1, 0)   Log Likelihood                -499.765\n",
       "Date:                     Tue, 26 Jul 2022   AIC                           1001.531\n",
       "Time:                             15:36:24   BIC                           1004.204\n",
       "Sample:                         01-01-1949   HQIC                          1002.614\n",
       "                              - 12-01-1957                                         \n",
       "Covariance Type:                       opg                                         \n",
       "==============================================================================\n",
       "                 coef    std err          z      P>|z|      [0.025      0.975]\n",
       "------------------------------------------------------------------------------\n",
       "sigma2       667.5082     94.937      7.031      0.000     481.435     853.581\n",
       "===================================================================================\n",
       "Ljung-Box (L1) (Q):                   8.33   Jarque-Bera (JB):                 0.10\n",
       "Prob(Q):                              0.00   Prob(JB):                         0.95\n",
       "Heteroskedasticity (H):               5.78   Skew:                            -0.00\n",
       "Prob(H) (two-sided):                  0.00   Kurtosis:                         2.85\n",
       "===================================================================================\n",
       "\n",
       "Warnings:\n",
       "[1] Covariance matrix calculated using the outer product of gradients (complex-step).\n",
       "\"\"\""
      ]
     },
     "execution_count": 44,
     "metadata": {},
     "output_type": "execute_result"
    }
   ],
   "source": [
    "# Check out the summary\n",
    "rw_res.summary()"
   ]
  },
  {
   "cell_type": "code",
   "execution_count": 45,
   "metadata": {},
   "outputs": [],
   "source": [
    "# Get predictions out\n",
    "rw_preds = rw_res.forecast(steps=len(test), typ='levels')"
   ]
  },
  {
   "cell_type": "code",
   "execution_count": 46,
   "metadata": {
    "scrolled": true
   },
   "outputs": [
    {
     "name": "stdout",
     "output_type": "stream",
     "text": [
      "Explained Variance:\n",
      "\t 0.0\n",
      "MAE:\n",
      "\t 94.94444444444444\n",
      "RMSE:\n",
      "\t 121.13857996342682\n",
      "r^2:\n",
      "\t -1.398467258999632\n"
     ]
    }
   ],
   "source": [
    "# Evaluate\n",
    "report_metrics(test, rw_preds)"
   ]
  },
  {
   "cell_type": "code",
   "execution_count": 47,
   "metadata": {},
   "outputs": [
    {
     "data": {
      "text/plain": [
       "[<matplotlib.lines.Line2D at 0x13ec01d60>]"
      ]
     },
     "execution_count": 47,
     "metadata": {},
     "output_type": "execute_result"
    },
    {
     "data": {
      "image/png": "[encoded data removed]",
      "text/plain": [
       "<Figure size 432x288 with 1 Axes>"
      ]
     },
     "metadata": {
      "needs_background": "light"
     },
     "output_type": "display_data"
    }
   ],
   "source": [
    "# How can we visualize our predictions?\n",
    "plt.plot(train)\n",
    "plt.plot(test)\n",
    "plt.plot(rw_preds)"
   ]
  },
  {
   "cell_type": "markdown",
   "metadata": {},
   "source": [
    "## One More ARIMA Model\n",
    "\n",
    "Let's try another ARIMA model, with different terms than before"
   ]
  },
  {
   "cell_type": "code",
   "execution_count": 48,
   "metadata": {},
   "outputs": [
    {
     "name": "stderr",
     "output_type": "stream",
     "text": [
      "/opt/anaconda3/envs/python3/lib/python3.9/site-packages/statsmodels/base/model.py:566: ConvergenceWarning: Maximum Likelihood optimization failed to converge. Check mle_retvals\n",
      "  warnings.warn(\"Maximum Likelihood optimization failed to \"\n"
     ]
    }
   ],
   "source": [
    "# Create our next ARIMA model\n",
    "# Order will be (p,d,q)\n",
    "arima_order_2 = (2,2,2) # should be a tuple, like (0,0,0)\n",
    "\n",
    "# Then fit\n",
    "result_2 = ARIMA(train, order=arima_order_2).fit()"
   ]
  },
  {
   "cell_type": "code",
   "execution_count": 49,
   "metadata": {},
   "outputs": [
    {
     "data": {
      "text/html": [
       "<table class=\"simpletable\">\n",
       "<caption>SARIMAX Results</caption>\n",
       "<tr>\n",
       "  <th>Dep. Variable:</th>   <td>Thousands of Passengers</td> <th>  No. Observations:  </th>    <td>108</td>  \n",
       "</tr>\n",
       "<tr>\n",
       "  <th>Model:</th>               <td>ARIMA(2, 2, 2)</td>      <th>  Log Likelihood     </th> <td>-488.048</td>\n",
       "</tr>\n",
       "<tr>\n",
       "  <th>Date:</th>               <td>Tue, 26 Jul 2022</td>     <th>  AIC                </th>  <td>986.096</td>\n",
       "</tr>\n",
       "<tr>\n",
       "  <th>Time:</th>                   <td>15:36:24</td>         <th>  BIC                </th>  <td>999.413</td>\n",
       "</tr>\n",
       "<tr>\n",
       "  <th>Sample:</th>                <td>01-01-1949</td>        <th>  HQIC               </th>  <td>991.494</td>\n",
       "</tr>\n",
       "<tr>\n",
       "  <th></th>                      <td>- 12-01-1957</td>       <th>                     </th>     <td> </td>   \n",
       "</tr>\n",
       "<tr>\n",
       "  <th>Covariance Type:</th>           <td>opg</td>           <th>                     </th>     <td> </td>   \n",
       "</tr>\n",
       "</table>\n",
       "<table class=\"simpletable\">\n",
       "<tr>\n",
       "     <td></td>       <th>coef</th>     <th>std err</th>      <th>z</th>      <th>P>|z|</th>  <th>[0.025</th>    <th>0.975]</th>  \n",
       "</tr>\n",
       "<tr>\n",
       "  <th>ar.L1</th>  <td>   -0.5113</td> <td>    0.128</td> <td>   -3.981</td> <td> 0.000</td> <td>   -0.763</td> <td>   -0.260</td>\n",
       "</tr>\n",
       "<tr>\n",
       "  <th>ar.L2</th>  <td>    0.0969</td> <td>    0.102</td> <td>    0.950</td> <td> 0.342</td> <td>   -0.103</td> <td>    0.297</td>\n",
       "</tr>\n",
       "<tr>\n",
       "  <th>ma.L1</th>  <td>   -0.0654</td> <td>   73.329</td> <td>   -0.001</td> <td> 0.999</td> <td> -143.788</td> <td>  143.657</td>\n",
       "</tr>\n",
       "<tr>\n",
       "  <th>ma.L2</th>  <td>   -0.9346</td> <td>   68.529</td> <td>   -0.014</td> <td> 0.989</td> <td> -135.250</td> <td>  133.381</td>\n",
       "</tr>\n",
       "<tr>\n",
       "  <th>sigma2</th> <td>  558.1841</td> <td>  4.1e+04</td> <td>    0.014</td> <td> 0.989</td> <td>-7.97e+04</td> <td> 8.08e+04</td>\n",
       "</tr>\n",
       "</table>\n",
       "<table class=\"simpletable\">\n",
       "<tr>\n",
       "  <th>Ljung-Box (L1) (Q):</th>     <td>0.00</td> <th>  Jarque-Bera (JB):  </th> <td>1.60</td>\n",
       "</tr>\n",
       "<tr>\n",
       "  <th>Prob(Q):</th>                <td>0.96</td> <th>  Prob(JB):          </th> <td>0.45</td>\n",
       "</tr>\n",
       "<tr>\n",
       "  <th>Heteroskedasticity (H):</th> <td>4.71</td> <th>  Skew:              </th> <td>0.10</td>\n",
       "</tr>\n",
       "<tr>\n",
       "  <th>Prob(H) (two-sided):</th>    <td>0.00</td> <th>  Kurtosis:          </th> <td>2.43</td>\n",
       "</tr>\n",
       "</table><br/><br/>Warnings:<br/>[1] Covariance matrix calculated using the outer product of gradients (complex-step)."
      ],
      "text/plain": [
       "<class 'statsmodels.iolib.summary.Summary'>\n",
       "\"\"\"\n",
       "                                  SARIMAX Results                                  \n",
       "===================================================================================\n",
       "Dep. Variable:     Thousands of Passengers   No. Observations:                  108\n",
       "Model:                      ARIMA(2, 2, 2)   Log Likelihood                -488.048\n",
       "Date:                     Tue, 26 Jul 2022   AIC                            986.096\n",
       "Time:                             15:36:24   BIC                            999.413\n",
       "Sample:                         01-01-1949   HQIC                           991.494\n",
       "                              - 12-01-1957                                         \n",
       "Covariance Type:                       opg                                         \n",
       "==============================================================================\n",
       "                 coef    std err          z      P>|z|      [0.025      0.975]\n",
       "------------------------------------------------------------------------------\n",
       "ar.L1         -0.5113      0.128     -3.981      0.000      -0.763      -0.260\n",
       "ar.L2          0.0969      0.102      0.950      0.342      -0.103       0.297\n",
       "ma.L1         -0.0654     73.329     -0.001      0.999    -143.788     143.657\n",
       "ma.L2         -0.9346     68.529     -0.014      0.989    -135.250     133.381\n",
       "sigma2       558.1841    4.1e+04      0.014      0.989   -7.97e+04    8.08e+04\n",
       "===================================================================================\n",
       "Ljung-Box (L1) (Q):                   0.00   Jarque-Bera (JB):                 1.60\n",
       "Prob(Q):                              0.96   Prob(JB):                         0.45\n",
       "Heteroskedasticity (H):               4.71   Skew:                             0.10\n",
       "Prob(H) (two-sided):                  0.00   Kurtosis:                         2.43\n",
       "===================================================================================\n",
       "\n",
       "Warnings:\n",
       "[1] Covariance matrix calculated using the outer product of gradients (complex-step).\n",
       "\"\"\""
      ]
     },
     "execution_count": 49,
     "metadata": {},
     "output_type": "execute_result"
    }
   ],
   "source": [
    "# Check out the summary\n",
    "result_2.summary()"
   ]
  },
  {
   "cell_type": "code",
   "execution_count": 50,
   "metadata": {},
   "outputs": [],
   "source": [
    "# Get predictions out"
   ]
  },
  {
   "cell_type": "code",
   "execution_count": 51,
   "metadata": {},
   "outputs": [],
   "source": [
    "# Evaluate"
   ]
  },
  {
   "cell_type": "markdown",
   "metadata": {},
   "source": [
    "#### Discuss:\n",
    "\n",
    "- \n"
   ]
  },
  {
   "cell_type": "code",
   "execution_count": 52,
   "metadata": {},
   "outputs": [],
   "source": [
    "# Can we visualize all of our predictions?\n"
   ]
  },
  {
   "cell_type": "markdown",
   "metadata": {},
   "source": [
    "## SARIMA or SARIMAX"
   ]
  },
  {
   "cell_type": "markdown",
   "metadata": {},
   "source": [
    "Sometimes we want to have separate AR and MA terms so that we can model time series that have a **seasonal** component. That's what [**SARIMA** modeling](https://machinelearningmastery.com/sarima-for-time-series-forecasting-in-python/) is all about.\n",
    "\n",
    "In other cases we want to make use also of other predictors, or **exogenous** variables. For those situations we can use build **SARIMAX** models, which would be **S**easonal **A**uto-**R**egressive **I**ntegrated **M**oving-**A**verage models with e**X**ogenous variables."
   ]
  },
  {
   "cell_type": "code",
   "execution_count": 53,
   "metadata": {},
   "outputs": [
    {
     "name": "stderr",
     "output_type": "stream",
     "text": [
      "/opt/anaconda3/envs/python3/lib/python3.9/site-packages/statsmodels/tsa/statespace/sarimax.py:997: UserWarning: Non-stationary starting seasonal autoregressive Using zeros as starting parameters.\n",
      "  warn('Non-stationary starting seasonal autoregressive'\n"
     ]
    }
   ],
   "source": [
    "s_results = ARIMA(train, order=(0,1,1), seasonal_order=(1, 0, 0, 12)).fit()"
   ]
  },
  {
   "cell_type": "code",
   "execution_count": 54,
   "metadata": {},
   "outputs": [
    {
     "data": {
      "text/html": [
       "<table class=\"simpletable\">\n",
       "<caption>SARIMAX Results</caption>\n",
       "<tr>\n",
       "  <th>Dep. Variable:</th>      <td>Thousands of Passengers</td>    <th>  No. Observations:  </th>    <td>108</td>  \n",
       "</tr>\n",
       "<tr>\n",
       "  <th>Model:</th>           <td>ARIMA(0, 1, 1)x(1, 0, [], 12)</td> <th>  Log Likelihood     </th> <td>-407.455</td>\n",
       "</tr>\n",
       "<tr>\n",
       "  <th>Date:</th>                  <td>Tue, 26 Jul 2022</td>        <th>  AIC                </th>  <td>820.910</td>\n",
       "</tr>\n",
       "<tr>\n",
       "  <th>Time:</th>                      <td>15:36:24</td>            <th>  BIC                </th>  <td>828.928</td>\n",
       "</tr>\n",
       "<tr>\n",
       "  <th>Sample:</th>                   <td>01-01-1949</td>           <th>  HQIC               </th>  <td>824.160</td>\n",
       "</tr>\n",
       "<tr>\n",
       "  <th></th>                         <td>- 12-01-1957</td>          <th>                     </th>     <td> </td>   \n",
       "</tr>\n",
       "<tr>\n",
       "  <th>Covariance Type:</th>              <td>opg</td>              <th>                     </th>     <td> </td>   \n",
       "</tr>\n",
       "</table>\n",
       "<table class=\"simpletable\">\n",
       "<tr>\n",
       "      <td></td>        <th>coef</th>     <th>std err</th>      <th>z</th>      <th>P>|z|</th>  <th>[0.025</th>    <th>0.975]</th>  \n",
       "</tr>\n",
       "<tr>\n",
       "  <th>ma.L1</th>    <td>   -0.1670</td> <td>    0.086</td> <td>   -1.933</td> <td> 0.053</td> <td>   -0.336</td> <td>    0.002</td>\n",
       "</tr>\n",
       "<tr>\n",
       "  <th>ar.S.L12</th> <td>    0.9488</td> <td>    0.027</td> <td>   35.109</td> <td> 0.000</td> <td>    0.896</td> <td>    1.002</td>\n",
       "</tr>\n",
       "<tr>\n",
       "  <th>sigma2</th>   <td>   91.7767</td> <td>   13.316</td> <td>    6.892</td> <td> 0.000</td> <td>   65.679</td> <td>  117.875</td>\n",
       "</tr>\n",
       "</table>\n",
       "<table class=\"simpletable\">\n",
       "<tr>\n",
       "  <th>Ljung-Box (L1) (Q):</th>     <td>0.00</td> <th>  Jarque-Bera (JB):  </th> <td>2.90</td>\n",
       "</tr>\n",
       "<tr>\n",
       "  <th>Prob(Q):</th>                <td>0.96</td> <th>  Prob(JB):          </th> <td>0.23</td>\n",
       "</tr>\n",
       "<tr>\n",
       "  <th>Heteroskedasticity (H):</th> <td>2.24</td> <th>  Skew:              </th> <td>0.40</td>\n",
       "</tr>\n",
       "<tr>\n",
       "  <th>Prob(H) (two-sided):</th>    <td>0.02</td> <th>  Kurtosis:          </th> <td>3.01</td>\n",
       "</tr>\n",
       "</table><br/><br/>Warnings:<br/>[1] Covariance matrix calculated using the outer product of gradients (complex-step)."
      ],
      "text/plain": [
       "<class 'statsmodels.iolib.summary.Summary'>\n",
       "\"\"\"\n",
       "                                     SARIMAX Results                                     \n",
       "=========================================================================================\n",
       "Dep. Variable:           Thousands of Passengers   No. Observations:                  108\n",
       "Model:             ARIMA(0, 1, 1)x(1, 0, [], 12)   Log Likelihood                -407.455\n",
       "Date:                           Tue, 26 Jul 2022   AIC                            820.910\n",
       "Time:                                   15:36:24   BIC                            828.928\n",
       "Sample:                               01-01-1949   HQIC                           824.160\n",
       "                                    - 12-01-1957                                         \n",
       "Covariance Type:                             opg                                         \n",
       "==============================================================================\n",
       "                 coef    std err          z      P>|z|      [0.025      0.975]\n",
       "------------------------------------------------------------------------------\n",
       "ma.L1         -0.1670      0.086     -1.933      0.053      -0.336       0.002\n",
       "ar.S.L12       0.9488      0.027     35.109      0.000       0.896       1.002\n",
       "sigma2        91.7767     13.316      6.892      0.000      65.679     117.875\n",
       "===================================================================================\n",
       "Ljung-Box (L1) (Q):                   0.00   Jarque-Bera (JB):                 2.90\n",
       "Prob(Q):                              0.96   Prob(JB):                         0.23\n",
       "Heteroskedasticity (H):               2.24   Skew:                             0.40\n",
       "Prob(H) (two-sided):                  0.02   Kurtosis:                         3.01\n",
       "===================================================================================\n",
       "\n",
       "Warnings:\n",
       "[1] Covariance matrix calculated using the outer product of gradients (complex-step).\n",
       "\"\"\""
      ]
     },
     "execution_count": 54,
     "metadata": {},
     "output_type": "execute_result"
    }
   ],
   "source": [
    "s_results.summary()"
   ]
  },
  {
   "cell_type": "markdown",
   "metadata": {},
   "source": [
    "-----\n",
    "\n",
    "# LEVEL UP"
   ]
  },
  {
   "cell_type": "markdown",
   "metadata": {
    "heading_collapsed": true
   },
   "source": [
    "## ACF and PACF"
   ]
  },
  {
   "cell_type": "markdown",
   "metadata": {
    "hidden": true
   },
   "source": [
    "We have been able to reduce our AIC by chance, adding fairly random p, d, and q terms.\n",
    "\n",
    "But we have tools to help guide us in these decisions: the autocorrelation and partial autocorrelation functions."
   ]
  },
  {
   "cell_type": "markdown",
   "metadata": {
    "heading_collapsed": true,
    "hidden": true
   },
   "source": [
    "### PACF"
   ]
  },
  {
   "cell_type": "markdown",
   "metadata": {
    "hidden": true
   },
   "source": [
    "In general, a partial correlation is a **conditional correlation**. It is the  amount of correlation between a variable and a lag of itself that is not explained by correlations at all lower-order-lags. If $Y_t$ is correlated with $Y_{t-1}$, and $Y_{t-1}$ is equally correlated with $Y_{t-2}$, then we should also expect to find correlation between $Y_t$ and $Y_{t-2}$. Thus, the correlation at lag 1 \"propagates\" to lag 2 and presumably to higher-order lags. The partial autocorrelation at lag 2 is therefore the difference between the actual correlation at lag 2 and the expected correlation due to the propagation of correlation at lag 1."
   ]
  },
  {
   "cell_type": "code",
   "execution_count": 55,
   "metadata": {
    "hidden": true
   },
   "outputs": [
    {
     "data": {
      "image/png": "[encoded data removed]",
      "text/plain": [
       "<Figure size 432x288 with 1 Axes>"
      ]
     },
     "metadata": {
      "needs_background": "light"
     },
     "output_type": "display_data"
    }
   ],
   "source": [
    "plot_pacf(train.diff().dropna());"
   ]
  },
  {
   "cell_type": "markdown",
   "metadata": {
    "hidden": true
   },
   "source": [
    "The shaded area of the graph is the confidence interval. When the correlation drops into the shaded area, that means there is no longer statistically significant correlation between lags."
   ]
  },
  {
   "cell_type": "markdown",
   "metadata": {
    "hidden": true
   },
   "source": [
    "For an AR process, we run a linear regression on lags according to the order of the AR process. The coefficients calculated factor in the influence of the other variables.   \n",
    "\n",
    "Since the PACF shows the direct effect of previous lags, it helps us choose AR terms.  If there is a significant positive value at a lag, consider adding an AR term according to the number that you see."
   ]
  },
  {
   "cell_type": "markdown",
   "metadata": {
    "hidden": true
   },
   "source": [
    "Some rules of thumb: \n",
    "\n",
    "    - A sharp drop after lag \"k\" suggests an AR-k model.\n",
    "    - A gradual decline suggests an MA."
   ]
  },
  {
   "cell_type": "markdown",
   "metadata": {
    "heading_collapsed": true,
    "hidden": true
   },
   "source": [
    "### ACF"
   ]
  },
  {
   "cell_type": "markdown",
   "metadata": {
    "hidden": true
   },
   "source": [
    "The autocorrelation plot of our time series is simply a version of the correlation plots we used in linear regression.  Our features this time are prior points in the time series, or the **lags**. "
   ]
  },
  {
   "cell_type": "markdown",
   "metadata": {
    "hidden": true
   },
   "source": [
    "We can calculate a specific covariance ($\\gamma_k$) with:\n",
    "\n",
    "${\\displaystyle \\gamma_k = \\frac 1 n \\sum\\limits_{t=1}^{n-k} (y_t - \\bar{y_t})(y_{t+k}-\\bar{y_{t+k}})}$"
   ]
  },
  {
   "cell_type": "code",
   "execution_count": 56,
   "metadata": {
    "hidden": true
   },
   "outputs": [
    {
     "data": {
      "text/html": [
       "<div>\n",
       "<style scoped>\n",
       "    .dataframe tbody tr th:only-of-type {\n",
       "        vertical-align: middle;\n",
       "    }\n",
       "\n",
       "    .dataframe tbody tr th {\n",
       "        vertical-align: top;\n",
       "    }\n",
       "\n",
       "    .dataframe thead th {\n",
       "        text-align: right;\n",
       "    }\n",
       "</style>\n",
       "<table border=\"1\" class=\"dataframe\">\n",
       "  <thead>\n",
       "    <tr style=\"text-align: right;\">\n",
       "      <th></th>\n",
       "      <th>lag_0</th>\n",
       "      <th>lag_1</th>\n",
       "    </tr>\n",
       "    <tr>\n",
       "      <th>Month</th>\n",
       "      <th></th>\n",
       "      <th></th>\n",
       "    </tr>\n",
       "  </thead>\n",
       "  <tbody>\n",
       "    <tr>\n",
       "      <th>1949-01-01</th>\n",
       "      <td>112</td>\n",
       "      <td>NaN</td>\n",
       "    </tr>\n",
       "    <tr>\n",
       "      <th>1949-02-01</th>\n",
       "      <td>118</td>\n",
       "      <td>112.0</td>\n",
       "    </tr>\n",
       "    <tr>\n",
       "      <th>1949-03-01</th>\n",
       "      <td>132</td>\n",
       "      <td>118.0</td>\n",
       "    </tr>\n",
       "    <tr>\n",
       "      <th>1949-04-01</th>\n",
       "      <td>129</td>\n",
       "      <td>132.0</td>\n",
       "    </tr>\n",
       "    <tr>\n",
       "      <th>1949-05-01</th>\n",
       "      <td>121</td>\n",
       "      <td>129.0</td>\n",
       "    </tr>\n",
       "  </tbody>\n",
       "</table>\n",
       "</div>"
      ],
      "text/plain": [
       "            lag_0  lag_1\n",
       "Month                   \n",
       "1949-01-01    112    NaN\n",
       "1949-02-01    118  112.0\n",
       "1949-03-01    132  118.0\n",
       "1949-04-01    129  132.0\n",
       "1949-05-01    121  129.0"
      ]
     },
     "execution_count": 56,
     "metadata": {},
     "output_type": "execute_result"
    }
   ],
   "source": [
    "lags = train.copy()\n",
    "lags.columns = ['lag_0']\n",
    "lags['lag_1'] = train.shift()\n",
    "lags.head()"
   ]
  },
  {
   "cell_type": "code",
   "execution_count": 57,
   "metadata": {
    "hidden": true
   },
   "outputs": [
    {
     "data": {
      "text/plain": [
       "6872.374617870554"
      ]
     },
     "execution_count": 57,
     "metadata": {},
     "output_type": "execute_result"
    }
   ],
   "source": [
    "gamma_1 = sum(((lags['lag_0'][1:]-lags['lag_0'][1:].mean()) *\\\n",
    "               (lags['lag_1'].dropna()-lags['lag_1'].dropna().mean())))/(len(lags['lag_1'])-1)\n",
    "gamma_1"
   ]
  },
  {
   "cell_type": "markdown",
   "metadata": {
    "hidden": true
   },
   "source": [
    "We then compute the Pearson correlation:\n",
    "\n",
    "$\\large\\rho = \\frac {\\operatorname E[(y_1−\\mu_1)(y_2−\\mu_2)]} {\\sigma_{1}\\sigma_{2}} = \\frac {\\operatorname {Cov} (y_1,y_2)} {\\sigma_{1}\\sigma_{2}}$,\n",
    "\n",
    "${\\displaystyle \\rho_k = \\frac {\\sum\\limits_{t=1}^{n-k} (y_t - \\bar{y})(y_{t+k}-\\bar{y})} {\\sum\\limits_{t=1}^{n} (y_t - \\bar{y})^2}}$"
   ]
  },
  {
   "cell_type": "code",
   "execution_count": 58,
   "metadata": {
    "hidden": true
   },
   "outputs": [
    {
     "data": {
      "text/plain": [
       "0.9539775834626815"
      ]
     },
     "execution_count": 58,
     "metadata": {},
     "output_type": "execute_result"
    }
   ],
   "source": [
    "rho = gamma_1/(lags.lag_0[1:].std(ddof=0)*lags.lag_1.std(ddof=0))\n",
    "rho"
   ]
  },
  {
   "cell_type": "code",
   "execution_count": 59,
   "metadata": {
    "hidden": true
   },
   "outputs": [
    {
     "data": {
      "text/html": [
       "<div>\n",
       "<style scoped>\n",
       "    .dataframe tbody tr th:only-of-type {\n",
       "        vertical-align: middle;\n",
       "    }\n",
       "\n",
       "    .dataframe tbody tr th {\n",
       "        vertical-align: top;\n",
       "    }\n",
       "\n",
       "    .dataframe thead th {\n",
       "        text-align: right;\n",
       "    }\n",
       "</style>\n",
       "<table border=\"1\" class=\"dataframe\">\n",
       "  <thead>\n",
       "    <tr style=\"text-align: right;\">\n",
       "      <th></th>\n",
       "      <th>lag_0</th>\n",
       "      <th>lag_1</th>\n",
       "      <th>lag_2</th>\n",
       "      <th>lag_3</th>\n",
       "      <th>lag_4</th>\n",
       "      <th>lag_5</th>\n",
       "    </tr>\n",
       "  </thead>\n",
       "  <tbody>\n",
       "    <tr>\n",
       "      <th>lag_0</th>\n",
       "      <td>1.000000</td>\n",
       "      <td>0.953978</td>\n",
       "      <td>0.881759</td>\n",
       "      <td>0.820048</td>\n",
       "      <td>0.775554</td>\n",
       "      <td>0.765355</td>\n",
       "    </tr>\n",
       "    <tr>\n",
       "      <th>lag_1</th>\n",
       "      <td>0.953978</td>\n",
       "      <td>1.000000</td>\n",
       "      <td>0.954042</td>\n",
       "      <td>0.879947</td>\n",
       "      <td>0.818712</td>\n",
       "      <td>0.779360</td>\n",
       "    </tr>\n",
       "    <tr>\n",
       "      <th>lag_2</th>\n",
       "      <td>0.881759</td>\n",
       "      <td>0.954042</td>\n",
       "      <td>1.000000</td>\n",
       "      <td>0.954719</td>\n",
       "      <td>0.884333</td>\n",
       "      <td>0.831974</td>\n",
       "    </tr>\n",
       "    <tr>\n",
       "      <th>lag_3</th>\n",
       "      <td>0.820048</td>\n",
       "      <td>0.879947</td>\n",
       "      <td>0.954719</td>\n",
       "      <td>1.000000</td>\n",
       "      <td>0.955819</td>\n",
       "      <td>0.890557</td>\n",
       "    </tr>\n",
       "    <tr>\n",
       "      <th>lag_4</th>\n",
       "      <td>0.775554</td>\n",
       "      <td>0.818712</td>\n",
       "      <td>0.884333</td>\n",
       "      <td>0.955819</td>\n",
       "      <td>1.000000</td>\n",
       "      <td>0.956578</td>\n",
       "    </tr>\n",
       "    <tr>\n",
       "      <th>lag_5</th>\n",
       "      <td>0.765355</td>\n",
       "      <td>0.779360</td>\n",
       "      <td>0.831974</td>\n",
       "      <td>0.890557</td>\n",
       "      <td>0.956578</td>\n",
       "      <td>1.000000</td>\n",
       "    </tr>\n",
       "  </tbody>\n",
       "</table>\n",
       "</div>"
      ],
      "text/plain": [
       "          lag_0     lag_1     lag_2     lag_3     lag_4     lag_5\n",
       "lag_0  1.000000  0.953978  0.881759  0.820048  0.775554  0.765355\n",
       "lag_1  0.953978  1.000000  0.954042  0.879947  0.818712  0.779360\n",
       "lag_2  0.881759  0.954042  1.000000  0.954719  0.884333  0.831974\n",
       "lag_3  0.820048  0.879947  0.954719  1.000000  0.955819  0.890557\n",
       "lag_4  0.775554  0.818712  0.884333  0.955819  1.000000  0.956578\n",
       "lag_5  0.765355  0.779360  0.831974  0.890557  0.956578  1.000000"
      ]
     },
     "execution_count": 59,
     "metadata": {},
     "output_type": "execute_result"
    }
   ],
   "source": [
    "lags = train.copy()\n",
    "lags.columns = ['lag_0']\n",
    "lags['lag_1'] = train.shift()\n",
    "lags['lag_2'] = train.shift(2)\n",
    "lags['lag_3'] = train.shift(3)\n",
    "lags['lag_4'] = train.shift(4)\n",
    "lags['lag_5'] = train.shift(5)\n",
    "lags.corr()"
   ]
  },
  {
   "cell_type": "code",
   "execution_count": 60,
   "metadata": {
    "hidden": true
   },
   "outputs": [
    {
     "data": {
      "image/png": "[encoded data removed]",
      "text/plain": [
       "<Figure size 432x288 with 1 Axes>"
      ]
     },
     "metadata": {
      "needs_background": "light"
     },
     "output_type": "display_data"
    }
   ],
   "source": [
    "list(lags.corr()['lag_0'].index)\n",
    "plt.bar(list(lags.corr()['lag_0'].index), list(lags.corr()['lag_0']));"
   ]
  },
  {
   "cell_type": "code",
   "execution_count": 61,
   "metadata": {
    "hidden": true
   },
   "outputs": [
    {
     "data": {
      "image/png": "[encoded data removed]",
      "text/plain": [
       "<Figure size 432x288 with 1 Axes>"
      ]
     },
     "metadata": {
      "needs_background": "light"
     },
     "output_type": "display_data"
    }
   ],
   "source": [
    "# Original data\n",
    "\n",
    "plot_acf(lags['lag_0']);"
   ]
  },
  {
   "cell_type": "markdown",
   "metadata": {
    "hidden": true
   },
   "source": [
    "The above autocorrelation shows that there is correlation between lags up to about 12 weeks back.  \n",
    "\n",
    "When Looking at the ACF graph for the original data, we see a strong persistent correlation with higher order lags. This is evidence that we should take a **first difference** of the data to remove this autocorrelation.\n",
    "\n",
    "This makes sense, since we are trying to capture the effect of recent lags in our ARMA models, and with high correlation between distant lags, our models will not come close to the true process."
   ]
  },
  {
   "cell_type": "markdown",
   "metadata": {
    "hidden": true
   },
   "source": [
    "Generally, we use an ACF to predict MA terms.\n",
    "Moving Average models are using the error terms of the predictions to calculate the next value.  This means that the algorithm does not incorporate the direct effect of the previous value. It models what are sometimes called **impulses** or **shocks** whose effect accounts for the propogation of correlation from one lag to the other. "
   ]
  },
  {
   "cell_type": "code",
   "execution_count": 62,
   "metadata": {
    "hidden": true
   },
   "outputs": [
    {
     "data": {
      "image/png": "[encoded data removed]",
      "text/plain": [
       "<Figure size 432x288 with 1 Axes>"
      ]
     },
     "metadata": {
      "needs_background": "light"
     },
     "output_type": "display_data"
    }
   ],
   "source": [
    "plot_acf(train.diff().dropna());"
   ]
  },
  {
   "cell_type": "markdown",
   "metadata": {
    "hidden": true
   },
   "source": [
    "This autocorrelation plot can now be used to get an idea of a potential MA term.  Our differenced series shows negative significant correlation at a lag of 1, which suggests adding 1 MA term. There is also a statistically significant 2nd term, so adding another MA is another possibility."
   ]
  },
  {
   "cell_type": "markdown",
   "metadata": {
    "hidden": true
   },
   "source": [
    "\n",
    "> If the ACF of the differenced series displays a sharp cutoff and/or the lag-1 autocorrelation is negative--i.e., if the series appears slightly \"overdifferenced\"--then consider adding an MA term to the model. The lag at which the ACF cuts off is the indicated number of MA terms. [Duke](https://people.duke.edu/~rnau/411arim3.htm#signatures)"
   ]
  },
  {
   "cell_type": "markdown",
   "metadata": {
    "hidden": true
   },
   "source": [
    "Rule of thumb:\n",
    "    \n",
    "  - If the autocorrelation shows negative correlation at the first lag, try adding MA terms.\n",
    "    \n",
    "    "
   ]
  },
  {
   "cell_type": "markdown",
   "metadata": {
    "hidden": true
   },
   "source": [
    "![alt text](images/armaguidelines.png)"
   ]
  },
  {
   "cell_type": "markdown",
   "metadata": {
    "hidden": true
   },
   "source": [
    "The plots above suggest that we should try a 1st order differenced MA(1) or MA(2) model on our weekly gun offense data.\n",
    "\n",
    "This aligns with our AIC scores from above."
   ]
  },
  {
   "cell_type": "markdown",
   "metadata": {
    "hidden": true
   },
   "source": [
    "The ACF can be used to identify the possible structure of time series data. That can be tricky going forward as there often isn’t a single clear-cut interpretation of a sample autocorrelation function."
   ]
  },
  {
   "cell_type": "markdown",
   "metadata": {
    "hidden": true
   },
   "source": [
    "Let's plot our training predictions, using an ARIMA model with order (1, 1, 2)."
   ]
  },
  {
   "cell_type": "code",
   "execution_count": 63,
   "metadata": {
    "hidden": true
   },
   "outputs": [
    {
     "data": {
      "image/png": "[encoded data removed]",
      "text/plain": [
       "<Figure size 432x288 with 1 Axes>"
      ]
     },
     "metadata": {
      "needs_background": "light"
     },
     "output_type": "display_data"
    }
   ],
   "source": [
    "aa_model = ARIMA(train, order=(1, 1, 2)).fit()\n",
    "y_hat_train = aa_model.predict(typ='levels')\n",
    "\n",
    "fig, ax = plt.subplots()\n",
    "ax.plot(y_hat_train)\n",
    "ax.plot(train);"
   ]
  },
  {
   "cell_type": "code",
   "execution_count": 64,
   "metadata": {
    "hidden": true
   },
   "outputs": [
    {
     "data": {
      "image/png": "[encoded data removed]",
      "text/plain": [
       "<Figure size 432x288 with 1 Axes>"
      ]
     },
     "metadata": {
      "needs_background": "light"
     },
     "output_type": "display_data"
    }
   ],
   "source": [
    "# Let's zoom in:\n",
    "\n",
    "fig, ax = plt.subplots()\n",
    "ax.plot(y_hat_train[50:70])\n",
    "ax.plot(train[50:70]);"
   ]
  },
  {
   "cell_type": "code",
   "execution_count": 65,
   "metadata": {
    "hidden": true
   },
   "outputs": [
    {
     "data": {
      "text/html": [
       "<table class=\"simpletable\">\n",
       "<caption>SARIMAX Results</caption>\n",
       "<tr>\n",
       "  <th>Dep. Variable:</th>   <td>Thousands of Passengers</td> <th>  No. Observations:  </th>    <td>108</td>  \n",
       "</tr>\n",
       "<tr>\n",
       "  <th>Model:</th>               <td>ARIMA(1, 1, 2)</td>      <th>  Log Likelihood     </th> <td>-487.070</td>\n",
       "</tr>\n",
       "<tr>\n",
       "  <th>Date:</th>               <td>Tue, 26 Jul 2022</td>     <th>  AIC                </th>  <td>982.140</td>\n",
       "</tr>\n",
       "<tr>\n",
       "  <th>Time:</th>                   <td>15:36:25</td>         <th>  BIC                </th>  <td>992.831</td>\n",
       "</tr>\n",
       "<tr>\n",
       "  <th>Sample:</th>                <td>01-01-1949</td>        <th>  HQIC               </th>  <td>986.474</td>\n",
       "</tr>\n",
       "<tr>\n",
       "  <th></th>                      <td>- 12-01-1957</td>       <th>                     </th>     <td> </td>   \n",
       "</tr>\n",
       "<tr>\n",
       "  <th>Covariance Type:</th>           <td>opg</td>           <th>                     </th>     <td> </td>   \n",
       "</tr>\n",
       "</table>\n",
       "<table class=\"simpletable\">\n",
       "<tr>\n",
       "     <td></td>       <th>coef</th>     <th>std err</th>      <th>z</th>      <th>P>|z|</th>  <th>[0.025</th>    <th>0.975]</th>  \n",
       "</tr>\n",
       "<tr>\n",
       "  <th>ar.L1</th>  <td>    0.5258</td> <td>    0.123</td> <td>    4.269</td> <td> 0.000</td> <td>    0.284</td> <td>    0.767</td>\n",
       "</tr>\n",
       "<tr>\n",
       "  <th>ma.L1</th>  <td>   -0.2263</td> <td>    0.123</td> <td>   -1.835</td> <td> 0.066</td> <td>   -0.468</td> <td>    0.015</td>\n",
       "</tr>\n",
       "<tr>\n",
       "  <th>ma.L2</th>  <td>   -0.5436</td> <td>    0.086</td> <td>   -6.297</td> <td> 0.000</td> <td>   -0.713</td> <td>   -0.374</td>\n",
       "</tr>\n",
       "<tr>\n",
       "  <th>sigma2</th> <td>  523.1555</td> <td>   95.930</td> <td>    5.454</td> <td> 0.000</td> <td>  335.137</td> <td>  711.174</td>\n",
       "</tr>\n",
       "</table>\n",
       "<table class=\"simpletable\">\n",
       "<tr>\n",
       "  <th>Ljung-Box (L1) (Q):</th>     <td>0.23</td> <th>  Jarque-Bera (JB):  </th> <td>3.76</td>\n",
       "</tr>\n",
       "<tr>\n",
       "  <th>Prob(Q):</th>                <td>0.63</td> <th>  Prob(JB):          </th> <td>0.15</td>\n",
       "</tr>\n",
       "<tr>\n",
       "  <th>Heteroskedasticity (H):</th> <td>4.70</td> <th>  Skew:              </th> <td>0.21</td>\n",
       "</tr>\n",
       "<tr>\n",
       "  <th>Prob(H) (two-sided):</th>    <td>0.00</td> <th>  Kurtosis:          </th> <td>2.19</td>\n",
       "</tr>\n",
       "</table><br/><br/>Warnings:<br/>[1] Covariance matrix calculated using the outer product of gradients (complex-step)."
      ],
      "text/plain": [
       "<class 'statsmodels.iolib.summary.Summary'>\n",
       "\"\"\"\n",
       "                                  SARIMAX Results                                  \n",
       "===================================================================================\n",
       "Dep. Variable:     Thousands of Passengers   No. Observations:                  108\n",
       "Model:                      ARIMA(1, 1, 2)   Log Likelihood                -487.070\n",
       "Date:                     Tue, 26 Jul 2022   AIC                            982.140\n",
       "Time:                             15:36:25   BIC                            992.831\n",
       "Sample:                         01-01-1949   HQIC                           986.474\n",
       "                              - 12-01-1957                                         \n",
       "Covariance Type:                       opg                                         \n",
       "==============================================================================\n",
       "                 coef    std err          z      P>|z|      [0.025      0.975]\n",
       "------------------------------------------------------------------------------\n",
       "ar.L1          0.5258      0.123      4.269      0.000       0.284       0.767\n",
       "ma.L1         -0.2263      0.123     -1.835      0.066      -0.468       0.015\n",
       "ma.L2         -0.5436      0.086     -6.297      0.000      -0.713      -0.374\n",
       "sigma2       523.1555     95.930      5.454      0.000     335.137     711.174\n",
       "===================================================================================\n",
       "Ljung-Box (L1) (Q):                   0.23   Jarque-Bera (JB):                 3.76\n",
       "Prob(Q):                              0.63   Prob(JB):                         0.15\n",
       "Heteroskedasticity (H):               4.70   Skew:                             0.21\n",
       "Prob(H) (two-sided):                  0.00   Kurtosis:                         2.19\n",
       "===================================================================================\n",
       "\n",
       "Warnings:\n",
       "[1] Covariance matrix calculated using the outer product of gradients (complex-step).\n",
       "\"\"\""
      ]
     },
     "execution_count": 65,
     "metadata": {},
     "output_type": "execute_result"
    }
   ],
   "source": [
    "aa_model.summary()"
   ]
  },
  {
   "cell_type": "code",
   "execution_count": null,
   "metadata": {},
   "outputs": [],
   "source": []
  }
 ],
 "metadata": {
  "kernelspec": {
   "display_name": "Python 3 (ipykernel)",
   "language": "python",
   "name": "python3"
  },
  "language_info": {
   "codemirror_mode": {
    "name": "ipython",
    "version": 3
   },
   "file_extension": ".py",
   "mimetype": "text/x-python",
   "name": "python",
   "nbconvert_exporter": "python",
   "pygments_lexer": "ipython3",
   "version": "3.9.5"
  },
  "toc": {
   "base_numbering": 1,
   "nav_menu": {},
   "number_sections": true,
   "sideBar": true,
   "skip_h1_title": false,
   "title_cell": "Table of Contents",
   "title_sidebar": "TOC",
   "toc_cell": true,
   "toc_position": {
    "height": "calc(100% - 180px)",
    "left": "10px",
    "top": "150px",
    "width": "288px"
   },
   "toc_section_display": true,
   "toc_window_display": true
  }
 },
 "nbformat": 4,
 "nbformat_minor": 4
}
