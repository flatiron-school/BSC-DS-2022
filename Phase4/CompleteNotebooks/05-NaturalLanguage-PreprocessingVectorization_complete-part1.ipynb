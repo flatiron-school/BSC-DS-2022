{
 "cells": [
  {
   "cell_type": "markdown",
   "metadata": {},
   "source": [
    "# Natural Language Pre-Processing & Vectorization"
   ]
  },
  {
   "cell_type": "code",
   "execution_count": null,
   "metadata": {},
   "outputs": [],
   "source": [
    "# Use this to install nltk if needed\n",
    "# !pip install nltk\n",
    "# !conda install -c anaconda nltk"
   ]
  },
  {
   "cell_type": "code",
   "execution_count": 1,
   "metadata": {
    "scrolled": true
   },
   "outputs": [],
   "source": [
    "import pandas as pd\n",
    "import matplotlib.pyplot as plt\n",
    "\n",
    "import nltk\n",
    "from nltk.probability import FreqDist\n",
    "from nltk.corpus import stopwords, wordnet\n",
    "from nltk.tokenize import regexp_tokenize, word_tokenize, RegexpTokenizer\n",
    "from nltk import pos_tag\n",
    "import string\n",
    "import re\n",
    "\n",
    "# Notice that these vectorizers are from `sklearn` and not `nltk`!\n",
    "from sklearn.feature_extraction.text import CountVectorizer, TfidfVectorizer,\\\n",
    "HashingVectorizer"
   ]
  },
  {
   "cell_type": "code",
   "execution_count": 2,
   "metadata": {
    "scrolled": false
   },
   "outputs": [
    {
     "name": "stderr",
     "output_type": "stream",
     "text": [
      "[nltk_data] Downloading package stopwords to\n",
      "[nltk_data]     /Users/lberlin/nltk_data...\n",
      "[nltk_data]   Package stopwords is already up-to-date!\n"
     ]
    },
    {
     "data": {
      "text/plain": [
       "True"
      ]
     },
     "execution_count": 2,
     "metadata": {},
     "output_type": "execute_result"
    }
   ],
   "source": [
    "# Use this to download the stopwords if you haven't already - only ever needs to be run once\n",
    "nltk.download(\"stopwords\")"
   ]
  },
  {
   "cell_type": "code",
   "execution_count": 3,
   "metadata": {},
   "outputs": [
    {
     "name": "stderr",
     "output_type": "stream",
     "text": [
      "[nltk_data] Downloading package wordnet to /Users/lberlin/nltk_data...\n",
      "[nltk_data]   Package wordnet is already up-to-date!\n"
     ]
    },
    {
     "data": {
      "text/plain": [
       "True"
      ]
     },
     "execution_count": 3,
     "metadata": {},
     "output_type": "execute_result"
    }
   ],
   "source": [
    "# Same with wordnet!\n",
    "nltk.download('wordnet')"
   ]
  },
  {
   "cell_type": "code",
   "execution_count": 4,
   "metadata": {},
   "outputs": [
    {
     "name": "stderr",
     "output_type": "stream",
     "text": [
      "[nltk_data] Downloading package tagsets to /Users/lberlin/nltk_data...\n",
      "[nltk_data]   Package tagsets is already up-to-date!\n",
      "[nltk_data] Downloading package averaged_perceptron_tagger to\n",
      "[nltk_data]     /Users/lberlin/nltk_data...\n",
      "[nltk_data]   Package averaged_perceptron_tagger is already up-to-\n",
      "[nltk_data]       date!\n"
     ]
    },
    {
     "data": {
      "text/plain": [
       "True"
      ]
     },
     "execution_count": 4,
     "metadata": {},
     "output_type": "execute_result"
    }
   ],
   "source": [
    "# And with parts of speech tagging!\n",
    "nltk.download('tagsets')\n",
    "nltk.download('averaged_perceptron_tagger')"
   ]
  },
  {
   "cell_type": "markdown",
   "metadata": {},
   "source": [
    "# Learning Goals\n",
    "\n",
    "- Describe the basic concepts of NLP\n",
    "- Use pre-processing methods for NLP\n",
    "    - Tokenization\n",
    "    - Stopwords removal\n",
    "- normalize a lexicon with stemming and lemmatization\n",
    "- run feature engineering algorithms for NLP\n",
    "    - bag-of-Words\n",
    "    - vectorization"
   ]
  },
  {
   "cell_type": "markdown",
   "metadata": {},
   "source": [
    "# Overview of NLP\n",
    "\n",
    "NLP allows computers to interact with text data in a structured and sensible way. In short, we will be breaking up series of texts into individual words (or groups of words), and isolating the words with **semantic value**.  We will then compare texts with similar distributions of these words, and group them together.\n",
    "\n",
    "In this section, we will discuss some steps and approaches to common text data analytic procedures. Some of the applications of natural language processing are:\n",
    "- Chatbots \n",
    "- Speech recognition and audio processing \n",
    "- Classifying documents \n",
    "\n",
    "Here is an example that uses some of the tools we use in this notebook.  \n",
    "  -[chicago_justice classifier](https://github.com/chicago-justice-project/article-tagging/blob/master/lib/notebooks/bag-of-words-count-stemmed-binary.ipynb)\n",
    "\n",
    "We will introduce you to the preprocessing steps, feature engineering, and other steps you need to take in order to format text data for machine learning tasks. \n",
    "\n",
    "We will also introduce you to [**NLTK**](https://www.nltk.org/) (Natural Language Toolkit), which will be our main tool for engaging with textual data."
   ]
  },
  {
   "cell_type": "markdown",
   "metadata": {},
   "source": [
    "<img src=\"images/nlp_process.png\" style=\"width:1000px;\">"
   ]
  },
  {
   "cell_type": "markdown",
   "metadata": {},
   "source": [
    "# Preprocessing for NLP"
   ]
  },
  {
   "cell_type": "markdown",
   "metadata": {},
   "source": [
    "The goal when pre-processing text data for NLP is to remove as many unnecessary words as possible while preserving as much semantic meaning as possible. This will improve your model performance dramatically.\n",
    "\n",
    "You can think of this sort of like dimensionality reduction. The unique words in your corpus form a **vocabulary**, and each word in your vocabulary is essentially another feature in your model. So we want to get rid of unnecessary words and consolidate words that have similar meanings.\n",
    "\n",
    "We will be working with a dataset which includes both satirical (The Onion) and real news (Reuters) articles. We refer to the entire set of articles as the **corpus**.  \n",
    "\n",
    "Each article in the corpus is refered to as a **document**."
   ]
  },
  {
   "cell_type": "markdown",
   "metadata": {},
   "source": [
    "![the_onion](images/the_onion.jpeg) ![reuters](images/reuters.png)"
   ]
  },
  {
   "cell_type": "code",
   "execution_count": 6,
   "metadata": {},
   "outputs": [
    {
     "data": {
      "text/plain": [
       "(1000, 2)"
      ]
     },
     "execution_count": 6,
     "metadata": {},
     "output_type": "execute_result"
    }
   ],
   "source": [
    "# Read in the data, check it out\n",
    "corpus = pd.read_csv('data/satire_nosatire.csv')\n",
    "corpus.shape"
   ]
  },
  {
   "cell_type": "code",
   "execution_count": 7,
   "metadata": {},
   "outputs": [
    {
     "data": {
      "text/html": [
       "<div>\n",
       "<style scoped>\n",
       "    .dataframe tbody tr th:only-of-type {\n",
       "        vertical-align: middle;\n",
       "    }\n",
       "\n",
       "    .dataframe tbody tr th {\n",
       "        vertical-align: top;\n",
       "    }\n",
       "\n",
       "    .dataframe thead th {\n",
       "        text-align: right;\n",
       "    }\n",
       "</style>\n",
       "<table border=\"1\" class=\"dataframe\">\n",
       "  <thead>\n",
       "    <tr style=\"text-align: right;\">\n",
       "      <th></th>\n",
       "      <th>body</th>\n",
       "      <th>target</th>\n",
       "    </tr>\n",
       "  </thead>\n",
       "  <tbody>\n",
       "    <tr>\n",
       "      <th>995</th>\n",
       "      <td>Britain’s opposition leader Jeremy Corbyn wou...</td>\n",
       "      <td>0</td>\n",
       "    </tr>\n",
       "    <tr>\n",
       "      <th>996</th>\n",
       "      <td>Turkey will take over the fight against Islam...</td>\n",
       "      <td>0</td>\n",
       "    </tr>\n",
       "    <tr>\n",
       "      <th>997</th>\n",
       "      <td>Malaysia is seeking $7.5 billion in reparatio...</td>\n",
       "      <td>0</td>\n",
       "    </tr>\n",
       "    <tr>\n",
       "      <th>998</th>\n",
       "      <td>An Israeli court sentenced a Palestinian to 1...</td>\n",
       "      <td>0</td>\n",
       "    </tr>\n",
       "    <tr>\n",
       "      <th>999</th>\n",
       "      <td>At least 22 people have died due to landslide...</td>\n",
       "      <td>0</td>\n",
       "    </tr>\n",
       "  </tbody>\n",
       "</table>\n",
       "</div>"
      ],
      "text/plain": [
       "                                                  body  target\n",
       "995   Britain’s opposition leader Jeremy Corbyn wou...       0\n",
       "996   Turkey will take over the fight against Islam...       0\n",
       "997   Malaysia is seeking $7.5 billion in reparatio...       0\n",
       "998   An Israeli court sentenced a Palestinian to 1...       0\n",
       "999   At least 22 people have died due to landslide...       0"
      ]
     },
     "execution_count": 7,
     "metadata": {},
     "output_type": "execute_result"
    }
   ],
   "source": [
    "# What does the data look like\n",
    "corpus.tail()"
   ]
  },
  {
   "cell_type": "markdown",
   "metadata": {},
   "source": [
    "Our goal is to detect satire, so our target class of 1 is associated with The Onion articles.  "
   ]
  },
  {
   "cell_type": "code",
   "execution_count": 9,
   "metadata": {},
   "outputs": [
    {
     "data": {
      "text/plain": [
       "'In recognition of the brave and altruistic Americans who risk their health and safety for the greater good, Pentagon officials announced Thursday that the U.S. military would honor the sacrifices of NFL players by wearing their jerseys throughout December. “Every week, these men are out there on the gridiron, putting their bodies on the line for our country. Having our soldiers wear these jerseys and caps is the least we can do to show our support,” said Pentagon spokesperson Robert D’Amato, who announced that all active-duty soldiers would be sporting gear from all 32 teams to raise awareness of the people who put their lives aside to preserve the American way of life. “These men leave their homes and their families and travel to cities across the country to uphold our nation’s traditions. They are battered and bruised for years, their lives often cut short while we sit back in our barracks and enjoy our freedom. Some of them are never the same after they end their service, and yet we take them for granted. Hopefully, this small gesture shows that the soldiers and officers of the U.S. military know who the true heroes really are.”'"
      ]
     },
     "execution_count": 9,
     "metadata": {},
     "output_type": "execute_result"
    }
   ],
   "source": [
    "# Check out a satirical article\n",
    "corpus.loc[10].body"
   ]
  },
  {
   "cell_type": "code",
   "execution_count": 12,
   "metadata": {},
   "outputs": [
    {
     "data": {
      "text/plain": [
       "' Indonesia will launch a renewed search effort as early as Tuesday to find the cockpit voice recorder from a Lion Air jet that crashed into the Java Sea in October, the head of its accident investigation agency said. “If the weather is good, the ship will start to depart today,” National Transporation Safety Commission (KNKT) Chief Soerjanto Tjahjono told Reuters on Tuesday. The crash, the world’s first of a Boeing Co (BA.N) 737 MAX jet and the deadliest of 2018, killed all 189 people on board. Investigators last week said they planned to use a navy ship for a fresh search for the crashed jet’s second “black box” after a 10-day effort funded by Lion Air failed to find the cockpit voice recorder (CVR). A KNKT source, speaking on condition of anonymity, told Reuters the team will have seven days using the ship KRI Spica to find the CVR, which could hold vital clues giving investigators insight into the actions of the doomed jet’s pilots. Tjahjono declined to comment on whether there was a time limit on the search. Contact with flight JT610 was lost 13 minutes after it took off on Oct. 29 from the capital Jakarta heading north to the tin-mining town of Pangkal Pinang. The other black box, the flight data recorder, was recovered three days after the crash. A preliminary report by KNKT focussed on airline maintenance and training and the response of a Boeing anti-stall system to a recently replaced sensor but did not give a cause for the crash.'"
      ]
     },
     "execution_count": 12,
     "metadata": {},
     "output_type": "execute_result"
    }
   ],
   "source": [
    "# Checkout out a non-satirical article\n",
    "corpus.loc[502]['body']"
   ]
  },
  {
   "cell_type": "markdown",
   "metadata": {},
   "source": [
    "It is a balanced dataset with 500 documents of each category. "
   ]
  },
  {
   "cell_type": "code",
   "execution_count": 13,
   "metadata": {},
   "outputs": [
    {
     "data": {
      "text/plain": [
       "1    500\n",
       "0    500\n",
       "Name: target, dtype: int64"
      ]
     },
     "execution_count": 13,
     "metadata": {},
     "output_type": "execute_result"
    }
   ],
   "source": [
    "corpus.target.value_counts()"
   ]
  },
  {
   "cell_type": "markdown",
   "metadata": {},
   "source": [
    "**Discussion:** Let's think about the use cases of being able to correctly separate satirical from authentic news. What might be a real-world use case?  \n",
    "\n",
    "- \n",
    "\n"
   ]
  },
  {
   "cell_type": "markdown",
   "metadata": {},
   "source": [
    "# NLP Processing By Hand!\n",
    "\n",
    "Let's go over the many steps involved in processing text data. While some functions or classes we'll use later will do many of these steps for us, we'll walk through each of these manually first so we can discuss why they're important!"
   ]
  },
  {
   "cell_type": "markdown",
   "metadata": {},
   "source": [
    "## Tokenization \n",
    "\n",
    "In order to convert the texts into data suitable for machine learning, we need to break down the documents into smaller parts. \n",
    "\n",
    "The first step in doing that is **tokenization**.\n",
    "\n",
    "Tokenization is the process of splitting documents into units of observations. We usually represent the tokens as __n-grams__, where n represent the number of consecutive words occuring in a document that we will consider a unit. In the case of unigrams (one-word tokens), the sentence \"David works here\" would be tokenized into:\n",
    "\n",
    "- \"David\", \"works\", \"here\";\n",
    "\n",
    "If we want (also) to consider bigrams, we would (also) consider:\n",
    "\n",
    "- \"David works\" and \"works here\"."
   ]
  },
  {
   "cell_type": "markdown",
   "metadata": {},
   "source": [
    "Let's consider a particular document in our corpus:"
   ]
  },
  {
   "cell_type": "code",
   "execution_count": 16,
   "metadata": {},
   "outputs": [
    {
     "data": {
      "text/plain": [
       "body      Desperate to unwind after months of nonstop wo...\n",
       "target                                                    1\n",
       "Name: 1, dtype: object"
      ]
     },
     "execution_count": 16,
     "metadata": {},
     "output_type": "execute_result"
    }
   ],
   "source": [
    "corpus.iloc[1]"
   ]
  },
  {
   "cell_type": "code",
   "execution_count": 14,
   "metadata": {},
   "outputs": [],
   "source": [
    "sample_document = corpus.iloc[1].body"
   ]
  },
  {
   "cell_type": "code",
   "execution_count": 15,
   "metadata": {},
   "outputs": [
    {
     "data": {
      "text/plain": [
       "'Desperate to unwind after months of nonstop work investigating Russian influence in the 2016 election, visibly exhausted Special Counsel Robert Mueller powered his phone down Friday in order to give himself a break from any news concerning the probe over the holiday break. “The last thing I want when I’m spending time with my family is a cascade of push notifications telling me yet another Russian oligarch, political operative, or highly placed socialite used Deutsche Bank channels to funnel money to the campaign,” said the former FBI director, firmly holding down his phone’s power button and adding that he wants to be “completely present in the moment” while celebrating with his loved ones, not ruminating about who met with which diplomat or whether someone was using social media to tamper with his witnesses. “I just want to have two calm weeks where I don’t even think about Individual One. I won’t even say his name. I’ll have to wait to hear about any important developments in January, since I just know the second I read, say, something about Eric being involved more deeply than we previously suspected, I’ll get pulled back in and ruin my whole vacation.” At press time, Mueller had reactivated his phone just to check the news real quick. '"
      ]
     },
     "execution_count": 15,
     "metadata": {},
     "output_type": "execute_result"
    }
   ],
   "source": [
    "sample_document"
   ]
  },
  {
   "cell_type": "markdown",
   "metadata": {},
   "source": [
    "There are many ways to tokenize our document. \n",
    "\n",
    "It is a long string, so the first way we might consider is to split it by spaces."
   ]
  },
  {
   "cell_type": "code",
   "execution_count": 17,
   "metadata": {},
   "outputs": [
    {
     "data": {
      "text/plain": [
       "['Desperate',\n",
       " 'to',\n",
       " 'unwind',\n",
       " 'after',\n",
       " 'months',\n",
       " 'of',\n",
       " 'nonstop',\n",
       " 'work',\n",
       " 'investigating',\n",
       " 'Russian',\n",
       " 'influence',\n",
       " 'in',\n",
       " 'the',\n",
       " '2016',\n",
       " 'election,',\n",
       " 'visibly',\n",
       " 'exhausted',\n",
       " 'Special',\n",
       " 'Counsel',\n",
       " 'Robert']"
      ]
     },
     "execution_count": 17,
     "metadata": {},
     "output_type": "execute_result"
    }
   ],
   "source": [
    "# Code here to split it by spaces\n",
    "tokens = sample_document.split(\" \")\n",
    "tokens[:20]"
   ]
  },
  {
   "cell_type": "markdown",
   "metadata": {},
   "source": [
    "But this is not ideal. We are trying to create a set of tokens with **high semantic value**.  In other words, we want to isolate text which best represents the meaning in each document."
   ]
  },
  {
   "cell_type": "markdown",
   "metadata": {},
   "source": [
    "## Text Cleaning\n",
    "\n",
    "Most NL Pre-Processing will include the following tasks:\n",
    "\n",
    "  1. Remove capitalization  \n",
    "  2. Remove punctuation  \n",
    "  3. Remove stopwords  \n",
    "  4. Remove numerals\n",
    "  \n",
    "We can manually perform all of these tasks with string operations."
   ]
  },
  {
   "cell_type": "markdown",
   "metadata": {},
   "source": [
    "### Capitalization\n",
    "\n",
    "When we create our matrix of words associated with our corpus, **capital letters** will mess things up.  The semantic value of a word used at the beginning of a sentence is the same as that same word in the middle of the sentence - but Python won't treat them the same!"
   ]
  },
  {
   "cell_type": "code",
   "execution_count": 18,
   "metadata": {},
   "outputs": [
    {
     "name": "stdout",
     "output_type": "stream",
     "text": [
      "excessive Excessive\n"
     ]
    },
    {
     "data": {
      "text/plain": [
       "False"
      ]
     },
     "execution_count": 18,
     "metadata": {},
     "output_type": "execute_result"
    }
   ],
   "source": [
    "# This will prove that 'excessive' and 'Excessive' aren't the same\n",
    "sentence_one =  \"Excessive gerrymandering in small counties suppresses turnout.\" \n",
    "sentence_two =  \"Turnout is suppressed in small counties by excessive gerrymandering.\"\n",
    "\n",
    "Excessive = sentence_one.split(' ')[0]\n",
    "excessive = sentence_two.split(' ')[-2]\n",
    "print(excessive, Excessive)\n",
    "excessive == Excessive"
   ]
  },
  {
   "cell_type": "markdown",
   "metadata": {},
   "source": [
    "While 'excessive' has the same semantic value, it will be treated as different tokens because of capitals. Let's fix it!"
   ]
  },
  {
   "cell_type": "code",
   "execution_count": 19,
   "metadata": {
    "scrolled": true
   },
   "outputs": [
    {
     "data": {
      "text/plain": [
       "['desperate',\n",
       " 'to',\n",
       " 'unwind',\n",
       " 'after',\n",
       " 'months',\n",
       " 'of',\n",
       " 'nonstop',\n",
       " 'work',\n",
       " 'investigating',\n",
       " 'russian',\n",
       " 'influence',\n",
       " 'in',\n",
       " 'the',\n",
       " '2016',\n",
       " 'election,',\n",
       " 'visibly',\n",
       " 'exhausted',\n",
       " 'special',\n",
       " 'counsel',\n",
       " 'robert']"
      ]
     },
     "execution_count": 19,
     "metadata": {},
     "output_type": "execute_result"
    }
   ],
   "source": [
    "# Code here to remove capital letters and make everything lowercase\n",
    "# Let's do this for our tokens\n",
    "manual_cleanup = [token.lower() for token in tokens]\n",
    "manual_cleanup[:20]"
   ]
  },
  {
   "cell_type": "code",
   "execution_count": 21,
   "metadata": {
    "scrolled": true
   },
   "outputs": [
    {
     "name": "stdout",
     "output_type": "stream",
     "text": [
      "Our initial token set for our sample document is 213 words long\n"
     ]
    }
   ],
   "source": [
    "# Check the length of the original number of tokens in sample_document\n",
    "print(f\"Our initial token set for our sample document is {len(tokens)} words long\")"
   ]
  },
  {
   "cell_type": "code",
   "execution_count": 22,
   "metadata": {},
   "outputs": [
    {
     "name": "stdout",
     "output_type": "stream",
     "text": [
      "Our initial token set for our sample document has 161 unique words\n"
     ]
    }
   ],
   "source": [
    "# Check the length of the unique number of tokens in sample_document\n",
    "print(f\"Our initial token set for our sample document has {len(set(tokens))} unique words\")"
   ]
  },
  {
   "cell_type": "code",
   "execution_count": 23,
   "metadata": {},
   "outputs": [
    {
     "name": "stdout",
     "output_type": "stream",
     "text": [
      "After removing capitals, our sample document has 161 unique words\n"
     ]
    }
   ],
   "source": [
    "# Check the length of the unique number of tokens after lowercasing\n",
    "print(f\"After removing capitals, our sample document has {len(set(manual_cleanup))} unique words\")"
   ]
  },
  {
   "cell_type": "markdown",
   "metadata": {},
   "source": [
    "So - it didn't change the number of unique words in our sample document. Part of the reason why is because it's still dealing with punctuation!"
   ]
  },
  {
   "cell_type": "markdown",
   "metadata": {},
   "source": [
    "### Punctuation\n",
    "\n",
    "Like capitals, splitting on white space will create tokens which include punctuation that will muck up our semantics.  \n",
    "\n",
    "Returning to the above example, 'gerrymandering' and 'gerrymandering.' will be treated as different tokens."
   ]
  },
  {
   "cell_type": "code",
   "execution_count": 24,
   "metadata": {},
   "outputs": [
    {
     "name": "stdout",
     "output_type": "stream",
     "text": [
      "gerrymandering gerrymandering.\n"
     ]
    },
    {
     "data": {
      "text/plain": [
       "False"
      ]
     },
     "execution_count": 24,
     "metadata": {},
     "output_type": "execute_result"
    }
   ],
   "source": [
    "# Check out how the same word with and without punctuation aren't the same\n",
    "no_punct = sentence_one.split(' ')[1]\n",
    "punct = sentence_two.split(' ')[-1]\n",
    "print(no_punct, punct)\n",
    "no_punct == punct"
   ]
  },
  {
   "cell_type": "code",
   "execution_count": 25,
   "metadata": {},
   "outputs": [
    {
     "data": {
      "text/plain": [
       "'!\"#$%&\\'()*+,-./:;<=>?@[\\\\]^_`{|}~'"
      ]
     },
     "execution_count": 25,
     "metadata": {},
     "output_type": "execute_result"
    }
   ],
   "source": [
    "# Can access punctuation using the string library\n",
    "string.punctuation"
   ]
  },
  {
   "cell_type": "code",
   "execution_count": 26,
   "metadata": {},
   "outputs": [],
   "source": [
    "# Fun way to clean this is using the translate function!\n",
    "manual_cleanup = [s.translate(str.maketrans('', '', string.punctuation))\\\n",
    "                  for s in manual_cleanup]"
   ]
  },
  {
   "cell_type": "code",
   "execution_count": 28,
   "metadata": {},
   "outputs": [
    {
     "data": {
      "text/plain": [
       "['the', 'news', 'real', 'quick', '']"
      ]
     },
     "execution_count": 28,
     "metadata": {},
     "output_type": "execute_result"
    }
   ],
   "source": [
    "manual_cleanup[-5:]"
   ]
  },
  {
   "cell_type": "code",
   "execution_count": 27,
   "metadata": {},
   "outputs": [
    {
     "name": "stdout",
     "output_type": "stream",
     "text": [
      "After removing punctuation, our sample document has 158 unique words\n"
     ]
    }
   ],
   "source": [
    "print(f\"After removing punctuation, our sample document has \\\n",
    "{len(set(manual_cleanup))} unique words\")"
   ]
  },
  {
   "cell_type": "markdown",
   "metadata": {},
   "source": [
    "We can see that in our sample document, we now have 3 fewer unique tokens! Still more work to do though..."
   ]
  },
  {
   "cell_type": "markdown",
   "metadata": {},
   "source": [
    "### Stopwords\n",
    "\n",
    "Stopwords are the **filler** words in a language: prepositions, articles, conjunctions. They have low semantic value, and often need to be removed.  \n",
    "\n",
    "Luckily, NLTK has lists of stopwords ready for our use."
   ]
  },
  {
   "cell_type": "code",
   "execution_count": 29,
   "metadata": {},
   "outputs": [
    {
     "data": {
      "text/plain": [
       "['i', 'me', 'my', 'myself', 'we', 'our', 'ours', 'ourselves', 'you', \"you're\"]"
      ]
     },
     "execution_count": 29,
     "metadata": {},
     "output_type": "execute_result"
    }
   ],
   "source": [
    "# Let's check out some English language stopwords\n",
    "stopwords.words('english')[:10]"
   ]
  },
  {
   "cell_type": "code",
   "execution_count": 30,
   "metadata": {},
   "outputs": [
    {
     "data": {
      "text/plain": [
       "['αλλα',\n",
       " 'αν',\n",
       " 'αντι',\n",
       " 'απο',\n",
       " 'αυτα',\n",
       " 'αυτεσ',\n",
       " 'αυτη',\n",
       " 'αυτο',\n",
       " 'αυτοι',\n",
       " 'αυτοσ']"
      ]
     },
     "execution_count": 30,
     "metadata": {},
     "output_type": "execute_result"
    }
   ],
   "source": [
    "# NLTK has stopwords in other languages too!\n",
    "stopwords.words('greek')[:10]"
   ]
  },
  {
   "cell_type": "markdown",
   "metadata": {},
   "source": [
    "Let's see which stopwords are present in our sample document."
   ]
  },
  {
   "cell_type": "code",
   "execution_count": 31,
   "metadata": {},
   "outputs": [
    {
     "data": {
      "text/plain": [
       "['to', 'after', 'of', 'in', 'the', 'his', 'down', 'in', 'to', 'himself']"
      ]
     },
     "execution_count": 31,
     "metadata": {},
     "output_type": "execute_result"
    }
   ],
   "source": [
    "# Check out the first 10 stopwords in our sample document\n",
    "stops = [token for token in manual_cleanup if token in stopwords.words('english')]\n",
    "stops[:10]"
   ]
  },
  {
   "cell_type": "code",
   "execution_count": 32,
   "metadata": {},
   "outputs": [
    {
     "name": "stdout",
     "output_type": "stream",
     "text": [
      "There are 83 instances of 38 stopwords in the sample document\n"
     ]
    }
   ],
   "source": [
    "print(f'There are {len(stops)} instances of {len(set(stops))} \\\n",
    "stopwords in the sample document')"
   ]
  },
  {
   "cell_type": "code",
   "execution_count": 33,
   "metadata": {},
   "outputs": [
    {
     "name": "stdout",
     "output_type": "stream",
     "text": [
      "The 83 instances make up  38.97% of our text\n"
     ]
    }
   ],
   "source": [
    "print(f'The {len(stops)} instances make up \\\n",
    "{len(stops)/len(manual_cleanup): 0.2%} of our text')"
   ]
  },
  {
   "cell_type": "markdown",
   "metadata": {},
   "source": [
    "Let's also use the **FreqDist** tool to look at the makeup of our text before and after removal:"
   ]
  },
  {
   "cell_type": "code",
   "execution_count": 34,
   "metadata": {},
   "outputs": [
    {
     "data": {
      "image/png": "[encoded data removed]",
      "text/plain": [
       "<Figure size 720x720 with 1 Axes>"
      ]
     },
     "metadata": {
      "needs_background": "light"
     },
     "output_type": "display_data"
    }
   ],
   "source": [
    "# This FreqDist class from NLTK will help us visualize the frequency of words\n",
    "fdist = FreqDist(manual_cleanup)\n",
    "plt.figure(figsize=(10, 10))\n",
    "fdist.plot(30);"
   ]
  },
  {
   "cell_type": "code",
   "execution_count": 36,
   "metadata": {},
   "outputs": [],
   "source": [
    "# Now let's remove stopwords - use list comprehension\n",
    "sw = stopwords.words('english')\n",
    "manual_cleanup = [word for word in manual_cleanup if word not in sw]"
   ]
  },
  {
   "cell_type": "code",
   "execution_count": 37,
   "metadata": {},
   "outputs": [
    {
     "name": "stdout",
     "output_type": "stream",
     "text": [
      "After removing stopwords, there are 120 unique words left\n"
     ]
    }
   ],
   "source": [
    "print(f'After removing stopwords, there are {len(set(manual_cleanup))} unique words left')"
   ]
  },
  {
   "cell_type": "code",
   "execution_count": 38,
   "metadata": {},
   "outputs": [
    {
     "data": {
      "image/png": "[encoded data removed]",
      "text/plain": [
       "<Figure size 720x720 with 1 Axes>"
      ]
     },
     "metadata": {
      "needs_background": "light"
     },
     "output_type": "display_data"
    }
   ],
   "source": [
    "# Now let's check out that frequency distribution\n",
    "fdist = FreqDist(manual_cleanup)\n",
    "plt.figure(figsize=(10, 10))\n",
    "fdist.plot(30);"
   ]
  },
  {
   "cell_type": "markdown",
   "metadata": {},
   "source": [
    "### Numerals\n",
    "\n",
    "Numerals also usually have low semantic value. Their removal can help improve our models. "
   ]
  },
  {
   "cell_type": "code",
   "execution_count": 39,
   "metadata": {},
   "outputs": [],
   "source": [
    "manual_cleanup = [s.translate(str.maketrans('', '', '0123456789')) \\\n",
    "                  for s in manual_cleanup]"
   ]
  },
  {
   "cell_type": "code",
   "execution_count": 40,
   "metadata": {
    "scrolled": true
   },
   "outputs": [],
   "source": [
    "# drop empty strings\n",
    "manual_cleanup = [s for s in manual_cleanup if s != '']"
   ]
  },
  {
   "cell_type": "code",
   "execution_count": 41,
   "metadata": {},
   "outputs": [
    {
     "name": "stdout",
     "output_type": "stream",
     "text": [
      "After removing numerals, there are 118 unique words left\n"
     ]
    }
   ],
   "source": [
    "print(f'After removing numerals, there are {len(set(manual_cleanup))} unique words left')"
   ]
  },
  {
   "cell_type": "markdown",
   "metadata": {},
   "source": [
    "## Regex\n",
    "\n",
    "Regex allows us to match strings based on a pattern.  This pattern comes from a language of identifiers, which we can begin exploring on the cheatsheet found here:\n",
    "  -   https://regexr.com/"
   ]
  },
  {
   "cell_type": "markdown",
   "metadata": {},
   "source": [
    "A few key symbols:\n",
    "  - . : matches any character\n",
    "  - \\d, \\w, \\s : represent digit, word, whitespace  \n",
    "  - *, ?, +: matches 0 or more, 0 or 1, 1 or more of the preceding character  \n",
    "  - [A-Z]: matches any capital letter  \n",
    "  - [a-z]: matches lowercase letter  "
   ]
  },
  {
   "cell_type": "markdown",
   "metadata": {},
   "source": [
    "Other helpful resources:\n",
    "  - https://regexcrossword.com/\n",
    "  - https://www.regular-expressions.info/tutorial.html"
   ]
  },
  {
   "cell_type": "markdown",
   "metadata": {},
   "source": [
    "We can use regex to isolate numerals:"
   ]
  },
  {
   "cell_type": "code",
   "execution_count": 42,
   "metadata": {},
   "outputs": [
    {
     "data": {
      "text/plain": [
       "'Desperate to unwind after months of nonstop work investigating Russian influence in the 2016 election, visibly exhausted Special Counsel Robert Mueller powered his phone down Friday in order to give himself a break from any news concerning the probe over the holiday break. “The last thing I want when I’m spending time with my family is a cascade of push notifications telling me yet another Russian oligarch, political operative, or highly placed socialite used Deutsche Bank channels to funnel money to the campaign,” said the former FBI director, firmly holding down his phone’s power button and adding that he wants to be “completely present in the moment” while celebrating with his loved ones, not ruminating about who met with which diplomat or whether someone was using social media to tamper with his witnesses. “I just want to have two calm weeks where I don’t even think about Individual One. I won’t even say his name. I’ll have to wait to hear about any important developments in January, since I just know the second I read, say, something about Eric being involved more deeply than we previously suspected, I’ll get pulled back in and ruin my whole vacation.” At press time, Mueller had reactivated his phone just to check the news real quick. '"
      ]
     },
     "execution_count": 42,
     "metadata": {},
     "output_type": "execute_result"
    }
   ],
   "source": [
    "sample_document"
   ]
  },
  {
   "cell_type": "code",
   "execution_count": 43,
   "metadata": {},
   "outputs": [
    {
     "data": {
      "text/plain": [
       "['2', '0', '1', '6']"
      ]
     },
     "execution_count": 43,
     "metadata": {},
     "output_type": "execute_result"
    }
   ],
   "source": [
    "pattern = '[0-9]'\n",
    "number = re.findall(pattern, sample_document)\n",
    "number"
   ]
  },
  {
   "cell_type": "code",
   "execution_count": 44,
   "metadata": {},
   "outputs": [
    {
     "data": {
      "text/plain": [
       "['2016']"
      ]
     },
     "execution_count": 44,
     "metadata": {},
     "output_type": "execute_result"
    }
   ],
   "source": [
    "pattern2 = '[0-9]+'\n",
    "number2 = re.findall(pattern2, sample_document)\n",
    "number2"
   ]
  },
  {
   "cell_type": "markdown",
   "metadata": {},
   "source": [
    "# Text Processing Using NLTK\n",
    "\n",
    "## `RegexpTokenizer()`\n",
    "\n",
    "SKLearn and NLTK provide us with a suite of **tokenizers** for our text preprocessing convenience. So we don't have to do this all by hand every time!\n",
    "\n",
    "Let's use a provided Regex pattern to do all that work for us!\n",
    "\n",
    "Documentation: https://tedboy.github.io/nlps/generated/generated/nltk.tokenize.RegexpTokenizer.html\n",
    "\n",
    "\n",
    "Can use [RegExr](https://regexr.com/) to explore what our pattern, `([a-zA-Z]+(?:'[a-z]+)?)`, is doing exactly."
   ]
  },
  {
   "cell_type": "code",
   "execution_count": 45,
   "metadata": {},
   "outputs": [
    {
     "data": {
      "text/plain": [
       "'Desperate to unwind after months of nonstop work investigating Russian influence in the 2016 election, visibly exhausted Special Counsel Robert Mueller powered his phone down Friday in order to give himself a break from any news concerning the probe over the holiday break. “The last thing I want when I’m spending time with my family is a cascade of push notifications telling me yet another Russian oligarch, political operative, or highly placed socialite used Deutsche Bank channels to funnel money to the campaign,” said the former FBI director, firmly holding down his phone’s power button and adding that he wants to be “completely present in the moment” while celebrating with his loved ones, not ruminating about who met with which diplomat or whether someone was using social media to tamper with his witnesses. “I just want to have two calm weeks where I don’t even think about Individual One. I won’t even say his name. I’ll have to wait to hear about any important developments in January, since I just know the second I read, say, something about Eric being involved more deeply than we previously suspected, I’ll get pulled back in and ruin my whole vacation.” At press time, Mueller had reactivated his phone just to check the news real quick. '"
      ]
     },
     "execution_count": 45,
     "metadata": {},
     "output_type": "execute_result"
    }
   ],
   "source": [
    "sample_document"
   ]
  },
  {
   "cell_type": "code",
   "execution_count": 46,
   "metadata": {},
   "outputs": [],
   "source": [
    "# This pattern tokenizes AND removes punctuation\n",
    "pattern = \"([a-zA-Z]+(?:'[a-z]+)?)\"\n",
    "# Need to save the tokenizer that uses the regex pattern\n",
    "tokenizer = RegexpTokenizer(pattern)\n",
    "# And now tokenize our sample_document with tokenizer.tokenize\n",
    "sample_tokens = tokenizer.tokenize(sample_document)"
   ]
  },
  {
   "cell_type": "code",
   "execution_count": 47,
   "metadata": {},
   "outputs": [
    {
     "data": {
      "text/plain": [
       "['The', 'last', 'thing', 'I', 'want', 'when', 'I', 'm', 'spending', 'time']"
      ]
     },
     "execution_count": 47,
     "metadata": {},
     "output_type": "execute_result"
    }
   ],
   "source": [
    "# Check out one of the middle sentences - notice what happened to I'm\n",
    "sample_tokens[42:52]"
   ]
  },
  {
   "cell_type": "code",
   "execution_count": 48,
   "metadata": {},
   "outputs": [],
   "source": [
    "# Still need to lowercase\n",
    "sample_tokens = [token.lower() for token in sample_tokens]\n",
    "# And remove stopwords\n",
    "sample_tokens = [token for token in sample_tokens if token not in sw]"
   ]
  },
  {
   "cell_type": "code",
   "execution_count": 49,
   "metadata": {},
   "outputs": [
    {
     "data": {
      "text/plain": [
       "'Desperate to unwind after months of nonstop work investigating Russian influence in the 2016 election, visibly exhausted Special Counsel Robert Mueller powered his phone down Friday in order to give himself a break from any news concerning the probe over the holiday break. “The last thing I want when I’m spending time with my family is a cascade of push notifications telling me yet another Russian oligarch, political operative, or highly placed socialite used Deutsche Bank channels to funnel money to the campaign,” said the former FBI director, firmly holding down his phone’s power button and adding that he wants to be “completely present in the moment” while celebrating with his loved ones, not ruminating about who met with which diplomat or whether someone was using social media to tamper with his witnesses. “I just want to have two calm weeks where I don’t even think about Individual One. I won’t even say his name. I’ll have to wait to hear about any important developments in January, since I just know the second I read, say, something about Eric being involved more deeply than we previously suspected, I’ll get pulled back in and ruin my whole vacation.” At press time, Mueller had reactivated his phone just to check the news real quick. '"
      ]
     },
     "execution_count": 49,
     "metadata": {},
     "output_type": "execute_result"
    }
   ],
   "source": [
    "sample_document"
   ]
  },
  {
   "cell_type": "code",
   "execution_count": 50,
   "metadata": {},
   "outputs": [
    {
     "name": "stdout",
     "output_type": "stream",
     "text": [
      "We are down to 111 unique words\n"
     ]
    }
   ],
   "source": [
    "print(f'We are down to {len(set(sample_tokens))} unique words')"
   ]
  },
  {
   "cell_type": "markdown",
   "metadata": {},
   "source": [
    "# Exercise: Initial Text Pre-Processing\n",
    "\n",
    "**Activity:** Use what you've learned to preprocess the fourth article. How does the length and number of unique words in the article change?"
   ]
  },
  {
   "cell_type": "code",
   "execution_count": 52,
   "metadata": {
    "scrolled": true
   },
   "outputs": [
    {
     "data": {
      "text/plain": [
       "'Attempting to make amends for gross abuses of power during his time as Interior Department Secretary, an unusually contrite Ryan Zinke apologized Monday for misusing government funds by sending the members of the ethics committee a $160,000 vase. “I know this doesn’t change anything about how I exploited my cabinet position, but I hope you will accept this beautiful example of Qing dynasty porcelain as a small token of my regret,” said Zinke, acknowledging that while no gift could make up for the time he spent $139,000 of taxpayer money to renovate his office doors, he hoped the committee would consider the vase as a sincere gesture of apology. “I was wrong to take advantage of my position, and I hope the lustrous glazing and firing evident in this piece will move you to forgive me for my all-too-human failings. Please don’t remember me as the man who used government funds on security detail for my family while we were on vacation in Turkey, or as the man who violated the Hatch Act and acted as a pawn for the oil and gas industry. Rather, when your eyes happen to fall on this unique example of kaolin clay-work, I hope you will remember me as the man who bought each of you the 2019 Mercedes Benz S560 sedans you’ll find in the parking lot when you leave today.” Zinke further plans to apologize in person to each committee member by visiting them at their homes using a government helicopter.'"
      ]
     },
     "execution_count": 52,
     "metadata": {},
     "output_type": "execute_result"
    }
   ],
   "source": [
    "# Grab the fourth document\n",
    "fourth_document = corpus.iloc[3].body\n",
    "fourth_document"
   ]
  },
  {
   "cell_type": "code",
   "execution_count": 53,
   "metadata": {},
   "outputs": [
    {
     "name": "stdout",
     "output_type": "stream",
     "text": [
      "The 4th document starts off with 158 unique words\n"
     ]
    }
   ],
   "source": [
    "# Check out how many words it has originally\n",
    "print(f'The 4th document starts off with {len(set(fourth_document.split(\" \")))} unique words')"
   ]
  },
  {
   "cell_type": "code",
   "execution_count": 60,
   "metadata": {},
   "outputs": [],
   "source": [
    "# Your code here to process and reduce down to useful words!\n",
    "fourth_tokens = tokenizer.tokenize(fourth_document.lower())"
   ]
  },
  {
   "cell_type": "code",
   "execution_count": 61,
   "metadata": {},
   "outputs": [],
   "source": [
    "# fourth_tokens = [token.lower() for token in fourth_tokens]\n",
    "fourth_tokens = [token for token in fourth_tokens if token not in sw]"
   ]
  },
  {
   "cell_type": "code",
   "execution_count": 62,
   "metadata": {},
   "outputs": [
    {
     "data": {
      "text/plain": [
       "110"
      ]
     },
     "execution_count": 62,
     "metadata": {},
     "output_type": "execute_result"
    }
   ],
   "source": [
    "len(set(fourth_tokens))"
   ]
  },
  {
   "cell_type": "markdown",
   "metadata": {},
   "source": [
    "## Stemming and Lemmatizing\n",
    "\n",
    "### Stemming\n",
    "Most of the semantic meaning of a word is held in the root, which is usually the beginning of a word.  Conjugations and plurality do not change the semantic meaning. \"eat\", \"eats\", and \"eating\" all have essentially the same meaning. The rest is grammatical variation for the sake of marking things like tense or person or number.   \n",
    "\n",
    "Stemmers consolidate similar words by chopping off the ends of the words.\n",
    "\n",
    "<img src=\"images/stemmer.png\" width=200>"
   ]
  },
  {
   "cell_type": "markdown",
   "metadata": {},
   "source": [
    "There are different stemmers available.  The two we will use here are the **Porter** and **Snowball** stemmers.  A main difference between the two is how aggressively it stems, Porter being less aggressive."
   ]
  },
  {
   "cell_type": "code",
   "execution_count": 63,
   "metadata": {},
   "outputs": [],
   "source": [
    "p_stemmer = nltk.stem.PorterStemmer()\n",
    "s_stemmer = nltk.stem.SnowballStemmer(language=\"english\")"
   ]
  },
  {
   "cell_type": "code",
   "execution_count": 64,
   "metadata": {},
   "outputs": [
    {
     "data": {
      "text/plain": [
       "'desperate'"
      ]
     },
     "execution_count": 64,
     "metadata": {},
     "output_type": "execute_result"
    }
   ],
   "source": [
    "sample_tokens[0]"
   ]
  },
  {
   "cell_type": "code",
   "execution_count": 65,
   "metadata": {},
   "outputs": [
    {
     "data": {
      "text/plain": [
       "'desper'"
      ]
     },
     "execution_count": 65,
     "metadata": {},
     "output_type": "execute_result"
    }
   ],
   "source": [
    "p_stemmer.stem(sample_tokens[0])"
   ]
  },
  {
   "cell_type": "code",
   "execution_count": 66,
   "metadata": {},
   "outputs": [
    {
     "data": {
      "text/plain": [
       "'desper'"
      ]
     },
     "execution_count": 66,
     "metadata": {},
     "output_type": "execute_result"
    }
   ],
   "source": [
    "s_stemmer.stem(sample_tokens[0])"
   ]
  },
  {
   "cell_type": "code",
   "execution_count": 67,
   "metadata": {},
   "outputs": [
    {
     "name": "stdout",
     "output_type": "stream",
     "text": [
      "highly highli high\n",
      "firmly firmli firm\n"
     ]
    }
   ],
   "source": [
    "for word in sample_tokens:\n",
    "    p_word = p_stemmer.stem(word)\n",
    "    s_word = s_stemmer.stem(word)\n",
    "    \n",
    "    if p_word != s_word:\n",
    "        print(word, p_word, s_word)"
   ]
  },
  {
   "cell_type": "code",
   "execution_count": 69,
   "metadata": {},
   "outputs": [],
   "source": [
    "sample_doc = [p_stemmer.stem(word) for word in sample_tokens]"
   ]
  },
  {
   "cell_type": "code",
   "execution_count": 70,
   "metadata": {},
   "outputs": [
    {
     "data": {
      "image/png": "[encoded data removed]",
      "text/plain": [
       "<Figure size 720x720 with 1 Axes>"
      ]
     },
     "metadata": {
      "needs_background": "light"
     },
     "output_type": "display_data"
    }
   ],
   "source": [
    "fdist = FreqDist(sample_doc)\n",
    "plt.figure(figsize=(10, 10))\n",
    "fdist.plot(30);"
   ]
  },
  {
   "cell_type": "code",
   "execution_count": 73,
   "metadata": {},
   "outputs": [
    {
     "name": "stdout",
     "output_type": "stream",
     "text": [
      "Stemming slightly reduced our token count: 107 unique tokens\n"
     ]
    }
   ],
   "source": [
    "print(f'Stemming slightly reduced our token count: {len(set(sample_doc))} unique tokens')"
   ]
  },
  {
   "cell_type": "markdown",
   "metadata": {},
   "source": [
    "### Lemmatizing\n",
    "\n",
    "Lemmatizing is a bit more sophisticated than the stem choppers. Lemmatizing uses part-of-speech tagging to determine how to transform a word.\n",
    "\n",
    "- Unlike Stemming, Lemmatization reduces the inflected words, properly ensuring that the root word belongs to the language. It can handle words such as \"mouse\", whose plural \"mice\" the stemmers would not lump together with the original. \n",
    "\n",
    "- In Lemmatization, the root word is called the \"lemma\". \n",
    "\n",
    "- A lemma (plural lemmas or lemmata) is the canonical form, dictionary form, or citation form of a set of words.\n",
    "\n",
    "<img src=\"images/lemmer.png\" width=300>"
   ]
  },
  {
   "cell_type": "code",
   "execution_count": 74,
   "metadata": {},
   "outputs": [],
   "source": [
    "lemmatizer = nltk.stem.WordNetLemmatizer()"
   ]
  },
  {
   "cell_type": "code",
   "execution_count": 77,
   "metadata": {},
   "outputs": [
    {
     "data": {
      "text/plain": [
       "'media'"
      ]
     },
     "execution_count": 77,
     "metadata": {},
     "output_type": "execute_result"
    }
   ],
   "source": [
    "sample_tokens[76]"
   ]
  },
  {
   "cell_type": "code",
   "execution_count": 78,
   "metadata": {},
   "outputs": [
    {
     "name": "stdout",
     "output_type": "stream",
     "text": [
      "\"Mice\" becomes: mouse\n",
      "\"media\" becomes: medium\n"
     ]
    }
   ],
   "source": [
    "print(f'\"Mice\" becomes: {lemmatizer.lemmatize(\"mice\")}')\n",
    "print(f'\"{sample_tokens[76]}\" becomes: {lemmatizer.lemmatize(sample_tokens[76])}')"
   ]
  },
  {
   "cell_type": "code",
   "execution_count": 76,
   "metadata": {},
   "outputs": [
    {
     "data": {
      "text/plain": [
       "['He', 'saw', 'the', 'tree', 'get', 'sawed', 'down']"
      ]
     },
     "execution_count": 76,
     "metadata": {},
     "output_type": "execute_result"
    }
   ],
   "source": [
    "# However, look at the output below:\n",
    "sentence = \"He saw the trees get sawed down\"\n",
    "lemmed_sentence = [lemmatizer.lemmatize(token) for token in sentence.split(' ')]\n",
    "lemmed_sentence"
   ]
  },
  {
   "cell_type": "markdown",
   "metadata": {},
   "source": [
    "Lemmatizers depend, for their full functionality, on POS tagging, and **the default tag is 'noun'**."
   ]
  },
  {
   "cell_type": "markdown",
   "metadata": {},
   "source": [
    "With a little bit of work, we can POS tag our text."
   ]
  },
  {
   "cell_type": "code",
   "execution_count": 79,
   "metadata": {},
   "outputs": [
    {
     "data": {
      "text/plain": [
       "'Desperate to unwind after months of nonstop work investigating Russian influence in the 2016 election, visibly exhausted Special Counsel Robert Mueller powered his phone down Friday in order to give himself a break from any news concerning the probe over the holiday break. “The last thing I want when I’m spending time with my family is a cascade of push notifications telling me yet another Russian oligarch, political operative, or highly placed socialite used Deutsche Bank channels to funnel money to the campaign,” said the former FBI director, firmly holding down his phone’s power button and adding that he wants to be “completely present in the moment” while celebrating with his loved ones, not ruminating about who met with which diplomat or whether someone was using social media to tamper with his witnesses. “I just want to have two calm weeks where I don’t even think about Individual One. I won’t even say his name. I’ll have to wait to hear about any important developments in January, since I just know the second I read, say, something about Eric being involved more deeply than we previously suspected, I’ll get pulled back in and ruin my whole vacation.” At press time, Mueller had reactivated his phone just to check the news real quick. '"
      ]
     },
     "execution_count": 79,
     "metadata": {},
     "output_type": "execute_result"
    }
   ],
   "source": [
    "pattern = \"([a-zA-Z]+(?:'[a-z]+)?)\"\n",
    "tokenizer = RegexpTokenizer(pattern)\n",
    "sample_doc = tokenizer.tokenize(sample_document)\n",
    "sample_doc = [token.lower() for token in sample_doc]\n",
    "sample_doc = [token for token in sample_doc if token not in sw]\n",
    "sample_document"
   ]
  },
  {
   "cell_type": "code",
   "execution_count": 80,
   "metadata": {},
   "outputs": [
    {
     "data": {
      "text/plain": [
       "[('desperate', 'JJ'),\n",
       " ('unwind', 'JJ'),\n",
       " ('months', 'NNS'),\n",
       " ('nonstop', 'JJ'),\n",
       " ('work', 'NN'),\n",
       " ('investigating', 'VBG'),\n",
       " ('russian', 'JJ'),\n",
       " ('influence', 'NN'),\n",
       " ('election', 'NN'),\n",
       " ('visibly', 'RB'),\n",
       " ('exhausted', 'VBD'),\n",
       " ('special', 'JJ'),\n",
       " ('counsel', 'NN'),\n",
       " ('robert', 'NN'),\n",
       " ('mueller', 'NN'),\n",
       " ('powered', 'VBD'),\n",
       " ('phone', 'NN'),\n",
       " ('friday', 'NN'),\n",
       " ('order', 'NN'),\n",
       " ('give', 'VBP'),\n",
       " ('break', 'NN'),\n",
       " ('news', 'NN'),\n",
       " ('concerning', 'VBG'),\n",
       " ('probe', 'NN'),\n",
       " ('holiday', 'NN'),\n",
       " ('break', 'IN'),\n",
       " ('last', 'JJ'),\n",
       " ('thing', 'NN'),\n",
       " ('want', 'VB'),\n",
       " ('spending', 'NN'),\n",
       " ('time', 'NN'),\n",
       " ('family', 'NN'),\n",
       " ('cascade', 'VBD'),\n",
       " ('push', 'JJ'),\n",
       " ('notifications', 'NNS'),\n",
       " ('telling', 'VBG'),\n",
       " ('yet', 'RB'),\n",
       " ('another', 'DT'),\n",
       " ('russian', 'JJ'),\n",
       " ('oligarch', 'NN'),\n",
       " ('political', 'JJ'),\n",
       " ('operative', 'JJ'),\n",
       " ('highly', 'RB'),\n",
       " ('placed', 'VBN'),\n",
       " ('socialite', 'NN'),\n",
       " ('used', 'VBN'),\n",
       " ('deutsche', 'NN'),\n",
       " ('bank', 'NN'),\n",
       " ('channels', 'NNS'),\n",
       " ('funnel', 'VBP'),\n",
       " ('money', 'NN'),\n",
       " ('campaign', 'NN'),\n",
       " ('said', 'VBD'),\n",
       " ('former', 'JJ'),\n",
       " ('fbi', 'NNS'),\n",
       " ('director', 'NN'),\n",
       " ('firmly', 'RB'),\n",
       " ('holding', 'VBG'),\n",
       " ('phone', 'NN'),\n",
       " ('power', 'NN'),\n",
       " ('button', 'NN'),\n",
       " ('adding', 'VBG'),\n",
       " ('wants', 'VBZ'),\n",
       " ('completely', 'RB'),\n",
       " ('present', 'JJ'),\n",
       " ('moment', 'NN'),\n",
       " ('celebrating', 'VBG'),\n",
       " ('loved', 'VBN'),\n",
       " ('ones', 'NNS'),\n",
       " ('ruminating', 'VBG'),\n",
       " ('met', 'VBD'),\n",
       " ('diplomat', 'NN'),\n",
       " ('whether', 'IN'),\n",
       " ('someone', 'NN'),\n",
       " ('using', 'VBG'),\n",
       " ('social', 'JJ'),\n",
       " ('media', 'NNS'),\n",
       " ('tamper', 'JJ'),\n",
       " ('witnesses', 'NNS'),\n",
       " ('want', 'VBP'),\n",
       " ('two', 'CD'),\n",
       " ('calm', 'JJ'),\n",
       " ('weeks', 'NNS'),\n",
       " ('even', 'RB'),\n",
       " ('think', 'VBP'),\n",
       " ('individual', 'JJ'),\n",
       " ('one', 'CD'),\n",
       " ('even', 'RB'),\n",
       " ('say', 'VBP'),\n",
       " ('name', 'NN'),\n",
       " ('wait', 'VBP'),\n",
       " ('hear', 'JJ'),\n",
       " ('important', 'JJ'),\n",
       " ('developments', 'NNS'),\n",
       " ('january', 'JJ'),\n",
       " ('since', 'IN'),\n",
       " ('know', 'JJ'),\n",
       " ('second', 'JJ'),\n",
       " ('read', 'NNS'),\n",
       " ('say', 'VBP'),\n",
       " ('something', 'NN'),\n",
       " ('eric', 'JJ'),\n",
       " ('involved', 'VBN'),\n",
       " ('deeply', 'RB'),\n",
       " ('previously', 'RB'),\n",
       " ('suspected', 'VBN'),\n",
       " ('get', 'NN'),\n",
       " ('pulled', 'VBN'),\n",
       " ('back', 'RB'),\n",
       " ('ruin', 'JJ'),\n",
       " ('whole', 'JJ'),\n",
       " ('vacation', 'NN'),\n",
       " ('press', 'NN'),\n",
       " ('time', 'NN'),\n",
       " ('mueller', 'NN'),\n",
       " ('reactivated', 'VBD'),\n",
       " ('phone', 'NN'),\n",
       " ('check', 'NN'),\n",
       " ('news', 'NN'),\n",
       " ('real', 'JJ'),\n",
       " ('quick', 'NN')]"
      ]
     },
     "execution_count": 80,
     "metadata": {},
     "output_type": "execute_result"
    }
   ],
   "source": [
    "# Use nltk's pos_tag to tag our words\n",
    "# Does a pretty good job, but does make some mistakes\n",
    "\n",
    "sample_doc_tagged = pos_tag(sample_doc)\n",
    "sample_doc_tagged"
   ]
  },
  {
   "cell_type": "code",
   "execution_count": 81,
   "metadata": {},
   "outputs": [],
   "source": [
    "# Then transform the tags into the tags of our lemmatizers\n",
    "\n",
    "def get_wordnet_pos(treebank_tag):\n",
    "    '''\n",
    "    Translate nltk POS to wordnet tags\n",
    "    '''\n",
    "    if treebank_tag.startswith('J'):\n",
    "        return wordnet.ADJ\n",
    "    elif treebank_tag.startswith('V'):\n",
    "        return wordnet.VERB\n",
    "    elif treebank_tag.startswith('N'):\n",
    "        return wordnet.NOUN\n",
    "    elif treebank_tag.startswith('R'):\n",
    "        return wordnet.ADV\n",
    "    else:\n",
    "        return wordnet.NOUN"
   ]
  },
  {
   "cell_type": "code",
   "execution_count": 82,
   "metadata": {},
   "outputs": [
    {
     "data": {
      "text/plain": [
       "[('desperate', 'JJ'),\n",
       " ('unwind', 'JJ'),\n",
       " ('months', 'NNS'),\n",
       " ('nonstop', 'JJ'),\n",
       " ('work', 'NN'),\n",
       " ('investigating', 'VBG'),\n",
       " ('russian', 'JJ'),\n",
       " ('influence', 'NN'),\n",
       " ('election', 'NN'),\n",
       " ('visibly', 'RB'),\n",
       " ('exhausted', 'VBD'),\n",
       " ('special', 'JJ'),\n",
       " ('counsel', 'NN'),\n",
       " ('robert', 'NN'),\n",
       " ('mueller', 'NN'),\n",
       " ('powered', 'VBD'),\n",
       " ('phone', 'NN'),\n",
       " ('friday', 'NN'),\n",
       " ('order', 'NN'),\n",
       " ('give', 'VBP'),\n",
       " ('break', 'NN'),\n",
       " ('news', 'NN'),\n",
       " ('concerning', 'VBG'),\n",
       " ('probe', 'NN'),\n",
       " ('holiday', 'NN'),\n",
       " ('break', 'IN'),\n",
       " ('last', 'JJ'),\n",
       " ('thing', 'NN'),\n",
       " ('want', 'VB'),\n",
       " ('spending', 'NN'),\n",
       " ('time', 'NN'),\n",
       " ('family', 'NN'),\n",
       " ('cascade', 'VBD'),\n",
       " ('push', 'JJ'),\n",
       " ('notifications', 'NNS'),\n",
       " ('telling', 'VBG'),\n",
       " ('yet', 'RB'),\n",
       " ('another', 'DT'),\n",
       " ('russian', 'JJ'),\n",
       " ('oligarch', 'NN'),\n",
       " ('political', 'JJ'),\n",
       " ('operative', 'JJ'),\n",
       " ('highly', 'RB'),\n",
       " ('placed', 'VBN'),\n",
       " ('socialite', 'NN'),\n",
       " ('used', 'VBN'),\n",
       " ('deutsche', 'NN'),\n",
       " ('bank', 'NN'),\n",
       " ('channels', 'NNS'),\n",
       " ('funnel', 'VBP'),\n",
       " ('money', 'NN'),\n",
       " ('campaign', 'NN'),\n",
       " ('said', 'VBD'),\n",
       " ('former', 'JJ'),\n",
       " ('fbi', 'NNS'),\n",
       " ('director', 'NN'),\n",
       " ('firmly', 'RB'),\n",
       " ('holding', 'VBG'),\n",
       " ('phone', 'NN'),\n",
       " ('power', 'NN'),\n",
       " ('button', 'NN'),\n",
       " ('adding', 'VBG'),\n",
       " ('wants', 'VBZ'),\n",
       " ('completely', 'RB'),\n",
       " ('present', 'JJ'),\n",
       " ('moment', 'NN'),\n",
       " ('celebrating', 'VBG'),\n",
       " ('loved', 'VBN'),\n",
       " ('ones', 'NNS'),\n",
       " ('ruminating', 'VBG'),\n",
       " ('met', 'VBD'),\n",
       " ('diplomat', 'NN'),\n",
       " ('whether', 'IN'),\n",
       " ('someone', 'NN'),\n",
       " ('using', 'VBG'),\n",
       " ('social', 'JJ'),\n",
       " ('media', 'NNS'),\n",
       " ('tamper', 'JJ'),\n",
       " ('witnesses', 'NNS'),\n",
       " ('want', 'VBP'),\n",
       " ('two', 'CD'),\n",
       " ('calm', 'JJ'),\n",
       " ('weeks', 'NNS'),\n",
       " ('even', 'RB'),\n",
       " ('think', 'VBP'),\n",
       " ('individual', 'JJ'),\n",
       " ('one', 'CD'),\n",
       " ('even', 'RB'),\n",
       " ('say', 'VBP'),\n",
       " ('name', 'NN'),\n",
       " ('wait', 'VBP'),\n",
       " ('hear', 'JJ'),\n",
       " ('important', 'JJ'),\n",
       " ('developments', 'NNS'),\n",
       " ('january', 'JJ'),\n",
       " ('since', 'IN'),\n",
       " ('know', 'JJ'),\n",
       " ('second', 'JJ'),\n",
       " ('read', 'NNS'),\n",
       " ('say', 'VBP'),\n",
       " ('something', 'NN'),\n",
       " ('eric', 'JJ'),\n",
       " ('involved', 'VBN'),\n",
       " ('deeply', 'RB'),\n",
       " ('previously', 'RB'),\n",
       " ('suspected', 'VBN'),\n",
       " ('get', 'NN'),\n",
       " ('pulled', 'VBN'),\n",
       " ('back', 'RB'),\n",
       " ('ruin', 'JJ'),\n",
       " ('whole', 'JJ'),\n",
       " ('vacation', 'NN'),\n",
       " ('press', 'NN'),\n",
       " ('time', 'NN'),\n",
       " ('mueller', 'NN'),\n",
       " ('reactivated', 'VBD'),\n",
       " ('phone', 'NN'),\n",
       " ('check', 'NN'),\n",
       " ('news', 'NN'),\n",
       " ('real', 'JJ'),\n",
       " ('quick', 'NN')]"
      ]
     },
     "execution_count": 82,
     "metadata": {},
     "output_type": "execute_result"
    }
   ],
   "source": [
    "sample_doc_tagged"
   ]
  },
  {
   "cell_type": "code",
   "execution_count": 83,
   "metadata": {},
   "outputs": [],
   "source": [
    "sample_doc_tagged = [(token[0], get_wordnet_pos(token[1]))\n",
    "             for token in sample_doc_tagged]"
   ]
  },
  {
   "cell_type": "code",
   "execution_count": 84,
   "metadata": {},
   "outputs": [
    {
     "data": {
      "text/plain": [
       "[('desperate', 'a'),\n",
       " ('unwind', 'a'),\n",
       " ('months', 'n'),\n",
       " ('nonstop', 'a'),\n",
       " ('work', 'n'),\n",
       " ('investigating', 'v'),\n",
       " ('russian', 'a'),\n",
       " ('influence', 'n'),\n",
       " ('election', 'n'),\n",
       " ('visibly', 'r'),\n",
       " ('exhausted', 'v'),\n",
       " ('special', 'a'),\n",
       " ('counsel', 'n'),\n",
       " ('robert', 'n'),\n",
       " ('mueller', 'n'),\n",
       " ('powered', 'v'),\n",
       " ('phone', 'n'),\n",
       " ('friday', 'n'),\n",
       " ('order', 'n'),\n",
       " ('give', 'v'),\n",
       " ('break', 'n'),\n",
       " ('news', 'n'),\n",
       " ('concerning', 'v'),\n",
       " ('probe', 'n'),\n",
       " ('holiday', 'n'),\n",
       " ('break', 'n'),\n",
       " ('last', 'a'),\n",
       " ('thing', 'n'),\n",
       " ('want', 'v'),\n",
       " ('spending', 'n'),\n",
       " ('time', 'n'),\n",
       " ('family', 'n'),\n",
       " ('cascade', 'v'),\n",
       " ('push', 'a'),\n",
       " ('notifications', 'n'),\n",
       " ('telling', 'v'),\n",
       " ('yet', 'r'),\n",
       " ('another', 'n'),\n",
       " ('russian', 'a'),\n",
       " ('oligarch', 'n'),\n",
       " ('political', 'a'),\n",
       " ('operative', 'a'),\n",
       " ('highly', 'r'),\n",
       " ('placed', 'v'),\n",
       " ('socialite', 'n'),\n",
       " ('used', 'v'),\n",
       " ('deutsche', 'n'),\n",
       " ('bank', 'n'),\n",
       " ('channels', 'n'),\n",
       " ('funnel', 'v'),\n",
       " ('money', 'n'),\n",
       " ('campaign', 'n'),\n",
       " ('said', 'v'),\n",
       " ('former', 'a'),\n",
       " ('fbi', 'n'),\n",
       " ('director', 'n'),\n",
       " ('firmly', 'r'),\n",
       " ('holding', 'v'),\n",
       " ('phone', 'n'),\n",
       " ('power', 'n'),\n",
       " ('button', 'n'),\n",
       " ('adding', 'v'),\n",
       " ('wants', 'v'),\n",
       " ('completely', 'r'),\n",
       " ('present', 'a'),\n",
       " ('moment', 'n'),\n",
       " ('celebrating', 'v'),\n",
       " ('loved', 'v'),\n",
       " ('ones', 'n'),\n",
       " ('ruminating', 'v'),\n",
       " ('met', 'v'),\n",
       " ('diplomat', 'n'),\n",
       " ('whether', 'n'),\n",
       " ('someone', 'n'),\n",
       " ('using', 'v'),\n",
       " ('social', 'a'),\n",
       " ('media', 'n'),\n",
       " ('tamper', 'a'),\n",
       " ('witnesses', 'n'),\n",
       " ('want', 'v'),\n",
       " ('two', 'n'),\n",
       " ('calm', 'a'),\n",
       " ('weeks', 'n'),\n",
       " ('even', 'r'),\n",
       " ('think', 'v'),\n",
       " ('individual', 'a'),\n",
       " ('one', 'n'),\n",
       " ('even', 'r'),\n",
       " ('say', 'v'),\n",
       " ('name', 'n'),\n",
       " ('wait', 'v'),\n",
       " ('hear', 'a'),\n",
       " ('important', 'a'),\n",
       " ('developments', 'n'),\n",
       " ('january', 'a'),\n",
       " ('since', 'n'),\n",
       " ('know', 'a'),\n",
       " ('second', 'a'),\n",
       " ('read', 'n'),\n",
       " ('say', 'v'),\n",
       " ('something', 'n'),\n",
       " ('eric', 'a'),\n",
       " ('involved', 'v'),\n",
       " ('deeply', 'r'),\n",
       " ('previously', 'r'),\n",
       " ('suspected', 'v'),\n",
       " ('get', 'n'),\n",
       " ('pulled', 'v'),\n",
       " ('back', 'r'),\n",
       " ('ruin', 'a'),\n",
       " ('whole', 'a'),\n",
       " ('vacation', 'n'),\n",
       " ('press', 'n'),\n",
       " ('time', 'n'),\n",
       " ('mueller', 'n'),\n",
       " ('reactivated', 'v'),\n",
       " ('phone', 'n'),\n",
       " ('check', 'n'),\n",
       " ('news', 'n'),\n",
       " ('real', 'a'),\n",
       " ('quick', 'n')]"
      ]
     },
     "execution_count": 84,
     "metadata": {},
     "output_type": "execute_result"
    }
   ],
   "source": [
    "sample_doc_tagged"
   ]
  },
  {
   "cell_type": "code",
   "execution_count": 85,
   "metadata": {},
   "outputs": [],
   "source": [
    "sample_doc_lemmed = [lemmatizer.lemmatize(token[0], token[1]) for token in sample_doc_tagged]"
   ]
  },
  {
   "cell_type": "code",
   "execution_count": 86,
   "metadata": {},
   "outputs": [
    {
     "data": {
      "text/plain": [
       "['desperate',\n",
       " 'unwind',\n",
       " 'months',\n",
       " 'nonstop',\n",
       " 'work',\n",
       " 'investigating',\n",
       " 'russian',\n",
       " 'influence',\n",
       " 'election',\n",
       " 'visibly',\n",
       " 'exhausted',\n",
       " 'special',\n",
       " 'counsel',\n",
       " 'robert',\n",
       " 'mueller',\n",
       " 'powered',\n",
       " 'phone',\n",
       " 'friday',\n",
       " 'order',\n",
       " 'give']"
      ]
     },
     "execution_count": 86,
     "metadata": {},
     "output_type": "execute_result"
    }
   ],
   "source": [
    "sample_doc[:20]"
   ]
  },
  {
   "cell_type": "code",
   "execution_count": 87,
   "metadata": {},
   "outputs": [
    {
     "data": {
      "text/plain": [
       "['desperate',\n",
       " 'unwind',\n",
       " 'month',\n",
       " 'nonstop',\n",
       " 'work',\n",
       " 'investigate',\n",
       " 'russian',\n",
       " 'influence',\n",
       " 'election',\n",
       " 'visibly',\n",
       " 'exhaust',\n",
       " 'special',\n",
       " 'counsel',\n",
       " 'robert',\n",
       " 'mueller',\n",
       " 'power',\n",
       " 'phone',\n",
       " 'friday',\n",
       " 'order',\n",
       " 'give']"
      ]
     },
     "execution_count": 87,
     "metadata": {},
     "output_type": "execute_result"
    }
   ],
   "source": [
    "sample_doc_lemmed[:20]"
   ]
  },
  {
   "cell_type": "code",
   "execution_count": 88,
   "metadata": {},
   "outputs": [
    {
     "name": "stdout",
     "output_type": "stream",
     "text": [
      "There are 106 unique lemmas.\n"
     ]
    }
   ],
   "source": [
    "print(f'There are {len(set(sample_doc_lemmed))} unique lemmas.')"
   ]
  },
  {
   "cell_type": "code",
   "execution_count": 89,
   "metadata": {},
   "outputs": [
    {
     "data": {
      "image/png": "[encoded data removed]",
      "text/plain": [
       "<Figure size 720x720 with 1 Axes>"
      ]
     },
     "metadata": {
      "needs_background": "light"
     },
     "output_type": "display_data"
    }
   ],
   "source": [
    "fdist = FreqDist(sample_doc_lemmed)\n",
    "plt.figure(figsize=(10, 10))\n",
    "fdist.plot(30);"
   ]
  },
  {
   "cell_type": "markdown",
   "metadata": {},
   "source": [
    "-----\n"
   ]
  },
  {
   "cell_type": "markdown",
   "metadata": {},
   "source": [
    "# Preparing Text for Modeling\n",
    "\n",
    "The machine learning algorithms we have encountered so far represent features as the variables that take on different value for each observation. For example, we represent individuals with distinct education levels, incomes, and such. However, in NLP, features are represented in a very different way. In order to pass text data to machine learning algorithms and perform classification, we need to represent the features in a sensible way. One such method is called **Bag-of-words (BoW)**."
   ]
  },
  {
   "cell_type": "markdown",
   "metadata": {},
   "source": [
    "A bag-of-words model, or BoW for short, is a way of extracting features from text for use in modeling. A bag-of-words is a representation of text that describes the occurrence of words within a document. It involves two things:\n",
    "\n",
    "- A vocabulary of known words.\n",
    "- A measure of the presence of known words.\n",
    "\n",
    "It is called a “bag” of words **because any information about the order or structure of words in the document is discarded**. The model is only concerned with whether known words occur in the document, not with **where** they may occur in the document. The intuition behind BoW is that a document is similar to another if they have similar contents. The Bag of Words method can be represented as a **Document Term Matrix**, in which each column is a unique vocabulary n-gram and each observation is a document. Consider, for example, the following **corpus** of documents:"
   ]
  },
  {
   "cell_type": "markdown",
   "metadata": {},
   "source": [
    "- Document 1: \"I love dogs.\"\n",
    "- Document 2: \"I love cats.\"\n",
    "- Document 3: \"I love all animals.\"\n",
    "- Document 4: \"I hate dogs.\"\n",
    "\n",
    "This corpus can be represented as:"
   ]
  },
  {
   "cell_type": "markdown",
   "metadata": {},
   "source": [
    "$\\downarrow$Doc\\|Word$\\rightarrow$|I|love|dogs|cats|all|animals|hate\n",
    "-|-|-|-|-|-|-|-\n",
    "Document_1|1|1|1|0|0|0|0\n",
    "Document_2|1|1|0|1|0|0|0\n",
    "Document_3|1|1|0|0|1|1|0\n",
    "Document_4|1|0|1|0|0|0|1"
   ]
  },
  {
   "cell_type": "markdown",
   "metadata": {},
   "source": [
    "## Vectorization\n",
    "\n",
    "In order to get these tokens from our documents, we're going to use tools called \"vectorizers\".\n",
    "\n",
    "Documentation! https://scikit-learn.org/stable/modules/feature_extraction.html"
   ]
  },
  {
   "cell_type": "markdown",
   "metadata": {},
   "source": [
    "### `CountVectorizer`\n",
    "\n",
    "The most straightforward vectorizer in `sklearn.feature_extraction.text` is the `CountVectorizer`, which will simply count the number of each word type in each document."
   ]
  },
  {
   "cell_type": "code",
   "execution_count": null,
   "metadata": {},
   "outputs": [],
   "source": [
    "# Convert a collection of text documents to a matrix of token counts\n",
    "\n",
    "# Note that our Vectorizer wants our text BEFORE tokenizing\n",
    "# So we need to use .join to un-tokenize\n",
    "X = [\" \".join(sample_doc_lemmed)]\n",
    "\n",
    "# Instantiate a CountVectorizer with just default arguments\n",
    "vec = None\n",
    "X_vec = None # Then fit_transform on X\n",
    "\n",
    "df = pd.DataFrame(X_vec.toarray(), columns=vec.get_feature_names())\n",
    "df.head()"
   ]
  },
  {
   "cell_type": "markdown",
   "metadata": {},
   "source": [
    "That is not very exciting for one document. The idea is to make a document term matrix for all of the words in our corpus."
   ]
  },
  {
   "cell_type": "code",
   "execution_count": null,
   "metadata": {},
   "outputs": [],
   "source": [
    "# Revisit our corpus\n",
    "corpus.head()"
   ]
  },
  {
   "cell_type": "code",
   "execution_count": null,
   "metadata": {},
   "outputs": [],
   "source": [
    "# Note that our vectorizer can use that same regex pattern to tokenize \n",
    "# while removing punctuation, AND it'll remove stopwords!\n",
    "vec = CountVectorizer(token_pattern=r\"([a-zA-Z]+(?:'[a-z]+)?)\", \n",
    "                      stop_words=sw)\n",
    "# Just exploring for the first 20 documents\n",
    "X_vec = vec.fit_transform(corpus.body[:20])\n",
    "\n",
    "df_tokens = pd.DataFrame(X_vec.toarray(), columns=vec.get_feature_names())\n",
    "df_tokens.head()"
   ]
  },
  {
   "cell_type": "code",
   "execution_count": null,
   "metadata": {},
   "outputs": [],
   "source": [
    "# We can expand the number of ngrams! AKA not single word tokens\n",
    "vec = CountVectorizer(token_pattern=r\"([a-zA-Z]+(?:'[a-z]+)?)\", \n",
    "                      stop_words=sw,\n",
    "                      ngram_range=[1, 2])\n",
    "# Just exploring for the first 20 documents\n",
    "X_vec = vec.fit_transform(corpus.body[:20])\n",
    "\n",
    "df_bigrams = pd.DataFrame(X_vec.toarray(), columns=vec.get_feature_names())\n",
    "df_bigrams.head()"
   ]
  },
  {
   "cell_type": "markdown",
   "metadata": {},
   "source": [
    "Our document term matrix gets bigger and bigger, with more and more zeros, becoming sparser and sparser."
   ]
  },
  {
   "cell_type": "code",
   "execution_count": null,
   "metadata": {},
   "outputs": [],
   "source": [
    "# One more time...\n",
    "vec = CountVectorizer(token_pattern=r\"([a-zA-Z]+(?:'[a-z]+)?)\", \n",
    "                      stop_words=sw,\n",
    "                      ngram_range=[1, 2])\n",
    "# But now fit to the entire corpus\n",
    "X_vec = vec.fit_transform(corpus.body)\n",
    "\n",
    "df = pd.DataFrame(X_vec.toarray(), columns=vec.get_feature_names())\n",
    "df.head()"
   ]
  },
  {
   "cell_type": "markdown",
   "metadata": {},
   "source": [
    "Luckily, we can set upper and lower limits to the word frequency:"
   ]
  },
  {
   "cell_type": "code",
   "execution_count": null,
   "metadata": {},
   "outputs": [],
   "source": [
    "vec = CountVectorizer(token_pattern=r\"([a-zA-Z]+(?:'[a-z]+)?)\",\n",
    "                      stop_words=sw, \n",
    "                      ngram_range=[1, 2],\n",
    "                      min_df=2,  # Min # of times a word has to appear\n",
    "                      max_df=100) # Max # of times a word has to appear\n",
    "X_vec = vec.fit_transform(corpus.body)\n",
    "\n",
    "df_cv = pd.DataFrame(X_vec.toarray(), columns=vec.get_feature_names())\n",
    "df_cv.head()"
   ]
  },
  {
   "cell_type": "markdown",
   "metadata": {},
   "source": [
    "### `TfidfVectorizer`\n",
    "\n",
    "There are many schemas for determining the values of each entry in a document term matrix, and one of the most common uses the TF-IDF algorithm -- \"Term Frequency-Inverse Document Frequency\". Essentially, tf-idf *normalizes* the raw count of the document term matrix. And it represents how important a word is in the given document. \n",
    "\n",
    "> The goal of using tf-idf instead of the raw frequencies of occurrence of a token in a given document is to scale down the impact of tokens that occur very frequently in a given corpus and that are hence empirically less informative than features that occur in a small fraction of the training corpus.\n",
    "\n",
    "**TF (Term Frequency)**: Term frequency is the frequency of the word in the document divided by the total words in the document.\n",
    "\n",
    "**IDF (inverse document frequency)**: Inverse document frequency is a measure of how much information the word provides, i.e., if it's common or rare across all documents. It is generally calculated as the logarithmically scaled inverse fraction of the documents that contain the word (obtained by dividing the total number of documents by the number of documents containing the term, and then taking the logarithm of that quotient):\n",
    "\n",
    "$$\\text{idf}(w) = log (\\frac{\\text{number of documents}}{\\text{num of documents containing} w})$$\n",
    "\n",
    "tf-idf is the product of term frequency and inverse document frequency, or tf * idf. "
   ]
  },
  {
   "cell_type": "code",
   "execution_count": null,
   "metadata": {},
   "outputs": [],
   "source": [
    "tf_vec = TfidfVectorizer(token_pattern=r\"([a-zA-Z]+(?:'[a-z]+)?)\", stop_words=sw)\n",
    "X_vec = tf_vec.fit_transform(corpus.body)\n",
    "\n",
    "df = pd.DataFrame(X_vec.toarray(), columns=tf_vec.get_feature_names())\n",
    "df.head()"
   ]
  },
  {
   "cell_type": "code",
   "execution_count": null,
   "metadata": {},
   "outputs": [],
   "source": [
    "corpus.iloc[313].body"
   ]
  },
  {
   "cell_type": "code",
   "execution_count": null,
   "metadata": {
    "scrolled": true
   },
   "outputs": [],
   "source": [
    "df.iloc[313].sort_values(ascending=False)[:10]"
   ]
  },
  {
   "cell_type": "markdown",
   "metadata": {},
   "source": [
    "Let's compare the tfidf to the count vectorizer output for one document."
   ]
  },
  {
   "cell_type": "code",
   "execution_count": null,
   "metadata": {},
   "outputs": [],
   "source": [
    "vec = CountVectorizer(token_pattern=r\"([a-zA-Z]+(?:'[a-z]+)?)\", stop_words=sw)\n",
    "X_vec = vec.fit_transform(corpus.body)\n",
    "\n",
    "df_cv = pd.DataFrame(X_vec.toarray(), columns=vec.get_feature_names())"
   ]
  },
  {
   "cell_type": "code",
   "execution_count": null,
   "metadata": {},
   "outputs": [],
   "source": [
    "df_cv.iloc[313].sort_values(ascending=False)[:10]"
   ]
  },
  {
   "cell_type": "markdown",
   "metadata": {},
   "source": [
    "The tfidf lessoned the importance of some of the more common words, including a word, \"also\", which might have made it into the stopword list.\n",
    "\n",
    "It also assigns \"nerds\" more weight than power.  "
   ]
  },
  {
   "cell_type": "code",
   "execution_count": null,
   "metadata": {},
   "outputs": [],
   "source": [
    "print(f'\"Nerds\" only shows up in document 313: {len(df_cv[df.nerds!=0])} document.')\n",
    "print(f'\"Power\" shows up in {len(df_cv[df.power!=0])} documents!')"
   ]
  },
  {
   "cell_type": "markdown",
   "metadata": {},
   "source": [
    "All the words are stored in a `.vocabulary_` attribute:"
   ]
  },
  {
   "cell_type": "code",
   "execution_count": null,
   "metadata": {
    "scrolled": true
   },
   "outputs": [],
   "source": [
    "tf_vec.vocabulary_"
   ]
  },
  {
   "cell_type": "markdown",
   "metadata": {},
   "source": [
    "### `HashingVectorizer`\n",
    "\n",
    "There is also a hashing vectorizer, which will encrypt all the words of the corpus."
   ]
  },
  {
   "cell_type": "code",
   "execution_count": null,
   "metadata": {},
   "outputs": [],
   "source": [
    "hvec = HashingVectorizer(token_pattern=r\"([a-zA-Z]+(?:'[a-z]+)?)\",\n",
    "                         stop_words=sw)\n",
    "X_vec = hvec.fit_transform(corpus.body)\n",
    "\n",
    "df_cv = pd.DataFrame(X_vec.toarray())\n",
    "df_cv.head()"
   ]
  },
  {
   "cell_type": "markdown",
   "metadata": {},
   "source": [
    "### Vectorizer Summary:\n",
    "\n",
    "Some rules of thumb about these vectorizers:\n",
    "\n",
    "**Tf-Idf**: Probably the most commonly used. Useful when the goal is to distinguish the **content** of documents from others in the corpus.\n",
    "\n",
    "**Count**: Useful when the words themselves matter. If the goal is instead about identifying authors by their words, then the fact that some word appears in many documents of the corpus may be important.\n",
    "\n",
    "**Hashing**: The advantage here is speed and low memory usage. The disadvantage is that you lose the identities of the words being tokenized. Useful for very large datasets where the ultimate model may be a bit of a black box."
   ]
  },
  {
   "cell_type": "markdown",
   "metadata": {},
   "source": [
    "## Exercise\n",
    "\n",
    "For a final exercise, work through the following:\n",
    "\n",
    "Create a document term matrix of the full 1000-document corpus. \n",
    "\n",
    "The vocabulary should have no stopwords, numbers, or punctuation, and it should be lemmatized. \n",
    "\n",
    "Use a `TfidfVectorizer`"
   ]
  },
  {
   "cell_type": "code",
   "execution_count": null,
   "metadata": {},
   "outputs": [],
   "source": [
    "# Your code here!"
   ]
  }
 ],
 "metadata": {
  "kernelspec": {
   "display_name": "Python (learn-env)",
   "language": "python",
   "name": "learn-env"
  },
  "language_info": {
   "codemirror_mode": {
    "name": "ipython",
    "version": 3
   },
   "file_extension": ".py",
   "mimetype": "text/x-python",
   "name": "python",
   "nbconvert_exporter": "python",
   "pygments_lexer": "ipython3",
   "version": "3.8.5"
  },
  "toc": {
   "base_numbering": 1,
   "nav_menu": {},
   "number_sections": true,
   "sideBar": true,
   "skip_h1_title": false,
   "title_cell": "Table of Contents",
   "title_sidebar": "Contents",
   "toc_cell": true,
   "toc_position": {},
   "toc_section_display": true,
   "toc_window_display": false
  }
 },
 "nbformat": 4,
 "nbformat_minor": 4
}
