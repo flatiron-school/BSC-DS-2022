{
 "cells": [
  {
   "cell_type": "markdown",
   "metadata": {},
   "source": [
    "# Time Series Data Manipulation and Trends"
   ]
  },
  {
   "cell_type": "markdown",
   "metadata": {
    "hidden": true
   },
   "source": [
    "## Objectives\n",
    "\n",
    "- Understand the use case for time series data\n",
    "- Manipulate datetime objects\n",
    "- Understand different resampling techniques\n",
    "- Identify different trends of a time series data\n",
    "- Identify when a time series is stationary\n",
    "- Transform a time series to a stationary one"
   ]
  },
  {
   "cell_type": "markdown",
   "metadata": {},
   "source": [
    "## What Are Time Series Data?\n",
    "\n",
    "> We can say data is a **time series** when the temporal information is a key focus of the data.\n",
    "\n",
    "Data in a time series can stem from historical data or data that is dependent on past values.\n",
    "\n",
    "### Some Examples\n",
    "\n",
    "- Stock prices\n",
    "- Atmospheric changes over the course of decades\n",
    "- Audio samples\n",
    "- Heart rate data\n",
    "\n",
    "### Uses for Time Series\n",
    "\n",
    "- Understand some underlying process\n",
    "- Forecasting (what we'll mostly focus on)\n",
    "- Imputation (filling missing \"past\" data)\n",
    "- Anomaly detection"
   ]
  },
  {
   "cell_type": "code",
   "execution_count": null,
   "metadata": {},
   "outputs": [],
   "source": [
    "import pandas as pd\n",
    "import numpy as np\n",
    "from datetime import datetime as dt\n",
    "\n",
    "import matplotlib.pyplot as plt\n",
    "import seaborn as sns"
   ]
  },
  {
   "cell_type": "markdown",
   "metadata": {},
   "source": [
    "## Example Data\n",
    "\n",
    "This data comes from [Google Trends](https://trends.google.com). Try entering a search term! The little question-mark icon on the new page explains how to interpret the numbers.\n",
    "\n",
    "We also have a few Google Trends here to explore:"
   ]
  },
  {
   "cell_type": "code",
   "execution_count": null,
   "metadata": {
    "hidden": true
   },
   "outputs": [],
   "source": [
    "# Define a function that will help us load and clean each dataset\n",
    "\n",
    "def load_trend(trend_name='football', country_code='us'):\n",
    "    df = pd.read_csv('data/google-trends_'\n",
    "                     + trend_name + '_'\n",
    "                     + country_code\n",
    "                     + '.csv').iloc[1:, :]\n",
    "    df.columns = ['counts']\n",
    "    df['counts'] = df['counts'].str.replace('<1', '0').astype(int)\n",
    "    return df"
   ]
  },
  {
   "cell_type": "code",
   "execution_count": null,
   "metadata": {},
   "outputs": [],
   "source": [
    "# Let's load up one...\n",
    "load_trend(trend_name='data-science').head(10)"
   ]
  },
  {
   "cell_type": "code",
   "execution_count": null,
   "metadata": {
    "hidden": true
   },
   "outputs": [],
   "source": [
    "trends = [\n",
    "    {'trend_name': 'data-science', 'country_code': 'us'},\n",
    "    {'trend_name': 'football', 'country_code': 'us'},\n",
    "    {'trend_name': 'football', 'country_code': 'uk'},\n",
    "    {'trend_name': 'coronavirus', 'country_code': 'us'},\n",
    "    {'trend_name': 'trump', 'country_code': 'us'},\n",
    "    {'trend_name': 'taxes', 'country_code': 'us'},\n",
    "    {'trend_name': 'avengers', 'country_code': 'us'}\n",
    "]"
   ]
  },
  {
   "cell_type": "markdown",
   "metadata": {
    "hidden": true
   },
   "source": [
    "### Guess That Time Series!\n",
    "\n",
    "Given the trends above and the below plots, can you match them up?"
   ]
  },
  {
   "cell_type": "code",
   "execution_count": null,
   "metadata": {},
   "outputs": [],
   "source": [
    "trend_dfs = [load_trend(**trend) for trend in trends]\n",
    "\n",
    "fig, axs = plt.subplots(len(trend_dfs), 1, figsize=(8, 10))\n",
    "plt.tight_layout()\n",
    "for i, trend_df in enumerate(trend_dfs):\n",
    "    ax = axs[i]\n",
    "#     ax.set_title(str(trends[i]))\n",
    "    ax.plot(np.array(trend_df.index), trend_df['counts'])\n",
    "    ticks = ax.get_xticks()\n",
    "    ax.set_ylim((0, 100))\n",
    "    ax.set_xticks([tick for tick in ticks if tick%24 == 0])\n",
    "    \n",
    "# Trends:\n",
    "# data science, US football, UK football, coronavirus, trump, taxes, avengers"
   ]
  },
  {
   "cell_type": "markdown",
   "metadata": {},
   "source": [
    "This may seem like a silly exercise - but by trying this out, you can start to see patterns, and discern how different time series all exhibit different trends! This understanding of trends/patterns is useful, as we'll start to understand that certain time series are easier to model than others."
   ]
  },
  {
   "cell_type": "markdown",
   "metadata": {},
   "source": [
    "## Set Up - Datetime Data\n",
    "\n",
    "When we checked out the one example of Google trends data, you may have noticed that the date/time column was set as the **index** of the series. Setting the date/time as the index is a very easy way to make sure pandas recognizes our data as date/time-dependent, and will be vital when we get to the point that we're forecasting our data."
   ]
  },
  {
   "cell_type": "markdown",
   "metadata": {},
   "source": [
    "### Two Ways to Set a Datetime Index:\n",
    "\n",
    "1. Make sure the column containing the date/time details is considered a `datetime` type in pandas, then set it as the index.\n",
    "2. Have pandas `parse_dates` when reading in the data, and set it as the index right then!\n",
    "\n",
    "Let's showcase both - we'll use a file called `Historical_Data` in the data folder"
   ]
  },
  {
   "cell_type": "code",
   "execution_count": null,
   "metadata": {},
   "outputs": [],
   "source": [
    "# V1: Read in data normally:\n",
    "df1 = None"
   ]
  },
  {
   "cell_type": "code",
   "execution_count": null,
   "metadata": {},
   "outputs": [],
   "source": [
    "# Use pandas' to_datetime function, format=\"%Y%m%d\" \n"
   ]
  },
  {
   "cell_type": "code",
   "execution_count": null,
   "metadata": {},
   "outputs": [],
   "source": [
    "# Check our work\n"
   ]
  },
  {
   "cell_type": "code",
   "execution_count": null,
   "metadata": {},
   "outputs": [],
   "source": [
    "# Now set the index\n"
   ]
  },
  {
   "cell_type": "code",
   "execution_count": null,
   "metadata": {},
   "outputs": [],
   "source": [
    "# V2: Do all the work in read_csv, using set_index and parse_dates\n",
    "df2 = None"
   ]
  },
  {
   "cell_type": "code",
   "execution_count": null,
   "metadata": {},
   "outputs": [],
   "source": [
    "# Check our work\n"
   ]
  },
  {
   "cell_type": "code",
   "execution_count": null,
   "metadata": {},
   "outputs": [],
   "source": [
    "# Make a copy of one of these to keep working with!\n",
    "df = df1.copy()"
   ]
  },
  {
   "cell_type": "markdown",
   "metadata": {
    "heading_collapsed": true,
    "hidden": true
   },
   "source": [
    "## Investigating Time Series with Datetime Indexes"
   ]
  },
  {
   "cell_type": "markdown",
   "metadata": {
    "hidden": true
   },
   "source": [
    "Datetime objects include aspects of the date as attributes, like month and year:"
   ]
  },
  {
   "cell_type": "code",
   "execution_count": null,
   "metadata": {
    "hidden": true
   },
   "outputs": [],
   "source": [
    "# Check out the first index item\n",
    "df.index[0]"
   ]
  },
  {
   "cell_type": "code",
   "execution_count": null,
   "metadata": {
    "hidden": true
   },
   "outputs": [],
   "source": [
    "# That first index item has a month attribute\n"
   ]
  },
  {
   "cell_type": "code",
   "execution_count": null,
   "metadata": {
    "hidden": true
   },
   "outputs": [],
   "source": [
    "# And a year attribute\n"
   ]
  },
  {
   "cell_type": "code",
   "execution_count": null,
   "metadata": {},
   "outputs": [],
   "source": [
    "# And a day attribute!\n"
   ]
  },
  {
   "cell_type": "markdown",
   "metadata": {
    "hidden": true
   },
   "source": [
    "We can also use the date to directly slice the DataFrame"
   ]
  },
  {
   "cell_type": "code",
   "execution_count": null,
   "metadata": {},
   "outputs": [],
   "source": [
    "# Let's make sure our data is sorted by date using sort_index() first\n",
    "df = df.sort_index()"
   ]
  },
  {
   "cell_type": "code",
   "execution_count": null,
   "metadata": {
    "hidden": true,
    "scrolled": false
   },
   "outputs": [],
   "source": [
    "# Only data after 2019\n"
   ]
  },
  {
   "cell_type": "code",
   "execution_count": null,
   "metadata": {
    "hidden": true
   },
   "outputs": [],
   "source": [
    "# Only data from this time period\n"
   ]
  },
  {
   "cell_type": "markdown",
   "metadata": {
    "hidden": true
   },
   "source": [
    "We can easily see now whether more products are sold, for example, during winter months. For simplicity we'll say that winter comprises the months of January, February, and March."
   ]
  },
  {
   "cell_type": "code",
   "execution_count": null,
   "metadata": {
    "hidden": true,
    "scrolled": true
   },
   "outputs": [],
   "source": [
    "fig, ax = plt.subplots()\n",
    "\n",
    "df['month'] = df.index\n",
    "df['month'] = df['month'].apply(lambda x: x.month)\n",
    "df['winter'] = df['month'].apply(lambda x: 1 <= x <= 3)\n",
    "\n",
    "sum_ratio = df['winter'].value_counts()[1]/len(df)\n",
    "\n",
    "x = df['winter'].value_counts().index\n",
    "y = df['winter'].value_counts()\n",
    "sns.barplot(x=x, y=y)\n",
    "\n",
    "ax.set_title(f'{sum_ratio: 0.2%} of Sales Happen in Winter');"
   ]
  },
  {
   "cell_type": "markdown",
   "metadata": {
    "hidden": true
   },
   "source": [
    "## Resampling Techniques\n",
    "\n",
    "With a Datetime index, we also have new abilities, such as **resampling**.\n",
    "\n",
    "> **Resampling** allows us to convert the time series into a particular frequency\n",
    "\n",
    "Resources:\n",
    "- https://pandas.pydata.org/pandas-docs/stable/reference/api/pandas.DataFrame.resample.html\n",
    "- https://pandas.pydata.org/pandas-docs/stable/user_guide/timeseries.html#resampling"
   ]
  },
  {
   "cell_type": "markdown",
   "metadata": {
    "hidden": true
   },
   "source": [
    "There are many possible units for resampling, each with its own alias:"
   ]
  },
  {
   "cell_type": "markdown",
   "metadata": {
    "hidden": true
   },
   "source": [
    "<table style=\"display: inline-block\">\n",
    "    <caption style=\"text-align: center\"><strong>TIME SERIES OFFSET ALIASES</strong></caption>\n",
    "<tr><th>ALIAS</th><th>DESCRIPTION</th></tr>\n",
    "<tr><td>B</td><td>business day frequency</td></tr>\n",
    "<tr><td>C</td><td>custom business day frequency (experimental)</td></tr>\n",
    "<tr><td>D</td><td>calendar day frequency</td></tr>\n",
    "<tr><td>W</td><td>weekly frequency</td></tr>\n",
    "<tr><td>M</td><td>month end frequency</td></tr>\n",
    "<tr><td>SM</td><td>semi-month end frequency (15th and end of month)</td></tr>\n",
    "<tr><td>BM</td><td>business month end frequency</td></tr>\n",
    "<tr><td>CBM</td><td>custom business month end frequency</td></tr>\n",
    "<tr><td>MS</td><td>month start frequency</td></tr>\n",
    "<tr><td>SMS</td><td>semi-month start frequency (1st and 15th)</td></tr>\n",
    "<tr><td>BMS</td><td>business month start frequency</td></tr>\n",
    "<tr><td>CBMS</td><td>custom business month start frequency</td></tr>\n",
    "<tr><td>Q</td><td>quarter end frequency</td></tr>\n",
    "<tr><td></td><td><font color=white>intentionally left blank</font></td></tr></table>\n",
    "\n",
    "<table style=\"display: inline-block; margin-left: 40px\">\n",
    "<caption style=\"text-align: center\"></caption>\n",
    "<tr><th>ALIAS</th><th>DESCRIPTION</th></tr>\n",
    "<tr><td>BQ</td><td>business quarter endfrequency</td></tr>\n",
    "<tr><td>QS</td><td>quarter start frequency</td></tr>\n",
    "<tr><td>BQS</td><td>business quarter start frequency</td></tr>\n",
    "<tr><td>A</td><td>year end frequency</td></tr>\n",
    "<tr><td>BA</td><td>business year end frequency</td></tr>\n",
    "<tr><td>AS</td><td>year start frequency</td></tr>\n",
    "<tr><td>BAS</td><td>business year start frequency</td></tr>\n",
    "<tr><td>BH</td><td>business hour frequency</td></tr>\n",
    "<tr><td>H</td><td>hourly frequency</td></tr>\n",
    "<tr><td>T, min</td><td>minutely frequency</td></tr>\n",
    "<tr><td>S</td><td>secondly frequency</td></tr>\n",
    "<tr><td>L, ms</td><td>milliseconds</td></tr>\n",
    "<tr><td>U, us</td><td>microseconds</td></tr>\n",
    "<tr><td>N</td><td>nanoseconds</td></tr></table>"
   ]
  },
  {
   "cell_type": "markdown",
   "metadata": {
    "hidden": true
   },
   "source": [
    "When resampling, we have to provide a rule to resample by, and an **aggregate function**."
   ]
  },
  {
   "cell_type": "markdown",
   "metadata": {
    "hidden": true
   },
   "source": [
    "Let's explore the number of sales reported per week - what code should we use?"
   ]
  },
  {
   "cell_type": "code",
   "execution_count": null,
   "metadata": {
    "hidden": true
   },
   "outputs": [],
   "source": [
    "# Run our .resample on df\n",
    "# Notice how this doesn't render anything -- need that aggregator!\n"
   ]
  },
  {
   "cell_type": "markdown",
   "metadata": {
    "hidden": true
   },
   "source": [
    "**To upsample** is to increase the frequency of the data of interest.  \n",
    "**To downsample** is to decrease the frequency of the data of interest.\n",
    "\n",
    "For our purposes, we will downsample to weekly, and sum the number of sold units per day."
   ]
  },
  {
   "cell_type": "code",
   "execution_count": null,
   "metadata": {
    "hidden": true,
    "scrolled": false
   },
   "outputs": [],
   "source": [
    "# Downsample to weekly, then sum the number of Sold_Units\n",
    "df_resampled = None"
   ]
  },
  {
   "cell_type": "code",
   "execution_count": null,
   "metadata": {
    "hidden": true
   },
   "outputs": [],
   "source": [
    "# Plot our new df_resampled\n",
    "fig, ax = plt.subplots(figsize=(10, 5))\n",
    "ax.plot(df_resampled)\n",
    "ax.set_title('Sales per Week')\n",
    "ax.set_ylabel('Sales');"
   ]
  },
  {
   "cell_type": "markdown",
   "metadata": {},
   "source": [
    "## Filling Techniques\n",
    "\n",
    "What happens when we have gaps in our time series?\n",
    "\n",
    "To explore this, let's resample to count the number of sold units per day. We can replace `0`s with `np.nan`, since a 0 indicates we have a gap where nothing was sold."
   ]
  },
  {
   "cell_type": "code",
   "execution_count": null,
   "metadata": {
    "scrolled": true
   },
   "outputs": [],
   "source": [
    "# Count the number of sold units per day\n",
    "df_count = None\n",
    "\n",
    "# And use .replace() to render 0s as np.nan\n"
   ]
  },
  {
   "cell_type": "code",
   "execution_count": null,
   "metadata": {},
   "outputs": [],
   "source": [
    "# How many nulls?\n",
    "df_count.isna().sum()"
   ]
  },
  {
   "cell_type": "code",
   "execution_count": null,
   "metadata": {},
   "outputs": [],
   "source": [
    "# What are they?\n",
    "df_count.loc[df_count.isna()]"
   ]
  },
  {
   "cell_type": "code",
   "execution_count": null,
   "metadata": {},
   "outputs": [],
   "source": [
    "# Let's slice to explore the first one\n",
    "gap = None"
   ]
  },
  {
   "cell_type": "code",
   "execution_count": null,
   "metadata": {},
   "outputs": [],
   "source": [
    "# Plot it!\n",
    "fig, ax = plt.subplots()\n",
    "ax.plot(gap)\n",
    "ax.tick_params(rotation=45)\n",
    "ax.set_title('We have a gap!');"
   ]
  },
  {
   "cell_type": "markdown",
   "metadata": {
    "hidden": true
   },
   "source": [
    "In general, the datetime object allows us several options of how to fill those gaps:"
   ]
  },
  {
   "cell_type": "markdown",
   "metadata": {},
   "source": [
    "### `.bfill()`\n",
    "\n",
    "The `.bfill()` time-series method will take known values and project them *backward* to fill gaps."
   ]
  },
  {
   "cell_type": "code",
   "execution_count": null,
   "metadata": {},
   "outputs": [],
   "source": [
    "# Show our original gap\n",
    "gap.head()"
   ]
  },
  {
   "cell_type": "code",
   "execution_count": null,
   "metadata": {},
   "outputs": [],
   "source": [
    "# Now check out with bfill\n"
   ]
  },
  {
   "cell_type": "markdown",
   "metadata": {},
   "source": [
    "###  `.ffill()`\n",
    "\n",
    "The `.ffill()` time-series method will take known values and project them *forward* to fill gaps. "
   ]
  },
  {
   "cell_type": "code",
   "execution_count": null,
   "metadata": {},
   "outputs": [],
   "source": [
    "# Now check out with ffill\n"
   ]
  },
  {
   "cell_type": "markdown",
   "metadata": {},
   "source": [
    "### `.interpolate()`\n",
    "\n",
    "The `.interpolate()` time-series method will simply connect the endpoints that define a gap with a straight line."
   ]
  },
  {
   "cell_type": "code",
   "execution_count": null,
   "metadata": {},
   "outputs": [],
   "source": [
    "# Now check out with interpolate\n"
   ]
  },
  {
   "cell_type": "code",
   "execution_count": null,
   "metadata": {},
   "outputs": [],
   "source": [
    "# Visualize all four:\n",
    "\n",
    "fig, ((ax1, ax2), (ax3, ax4)) = plt.subplots(2, 2, figsize = (12, 10))\n",
    "ax1.plot(gap)\n",
    "ax1.set_title('Original')\n",
    "\n",
    "ax2.plot(gap.bfill())\n",
    "ax2.set_title('Back Fill')\n",
    "\n",
    "ax3.plot(gap.ffill())\n",
    "ax3.set_title('Forward Fill')\n",
    "\n",
    "ax4.plot(gap.interpolate())\n",
    "ax4.set_title('Interpolate')\n",
    "\n",
    "for ax in [ax1, ax2, ax3, ax4]:\n",
    "    ax.vlines('2017-06-17', 4, 6, color='gray', linestyles='dotted')\n",
    "    ax.set_xticks(gap.index);"
   ]
  },
  {
   "cell_type": "markdown",
   "metadata": {},
   "source": [
    "----\n",
    "\n",
    "# Components of Time Series Data\n",
    "\n",
    "A time series in general is supposed to be affected by four main components, which can be separated from the observed data: *Trend, Cyclical, Seasonal and Irregular* components."
   ]
  },
  {
   "cell_type": "markdown",
   "metadata": {},
   "source": [
    "## Trend \n",
    "\n",
    "> The long term movement of a time series. \n",
    "\n",
    "For example, series relating to population growth, number of houses in a city etc. show upward trend."
   ]
  },
  {
   "cell_type": "markdown",
   "metadata": {},
   "source": [
    "## Seasonal\n",
    "\n",
    "> Fluctuation in the data set that follow a regular pattern due to outside influences\n",
    "\n",
    "For example sales of ice-cream increase in summer, or daily web traffic."
   ]
  },
  {
   "cell_type": "markdown",
   "metadata": {},
   "source": [
    "## Cyclical\n",
    "\n",
    "> When data exhibit rises and falls that are not of fixed period\n",
    "\n",
    "Think of business cycles which usually last several years, but where the length of the current cycle is unknown beforehand.\n",
    "\n",
    "> **NOTE:** Many people confuse cyclic behavior with seasonal behavior, but they are really quite different. If the fluctuations are not of fixed period then they are cyclic; if the period is unchanging and associated with some aspect of the calendar, then the pattern is seasonal."
   ]
  },
  {
   "cell_type": "markdown",
   "metadata": {},
   "source": [
    "## Irregular\n",
    "\n",
    "> Caused by unpredictable influences, which are not regular and also do not repeat in a particular pattern. \n",
    "\n",
    "These variations are caused by incidences that come at random intervals. There is no defined statistical technique for measuring random fluctuations in a time series."
   ]
  },
  {
   "cell_type": "markdown",
   "metadata": {},
   "source": [
    "# Stationarity\n",
    "\n",
    "When building our models, we will want to account for these patterns somehow. If a time series has predictable trends in its mean and variance, we want to build that into our modeling understanding, leaving only the randomness behind! \n",
    "\n",
    "> A **stationary time series** is one whose statistical properties such as mean, variance, autocorrelation, etc. are all constant over time. \n",
    "\n",
    "Most statistical forecasting methods are based on the assumption that the time series can be rendered approximately stationary (i.e., \"stationarized\") through the use of mathematical transformations. A stationarized series is relatively easy to predict: you simply predict that its statistical properties will be the same in the future as they have been in the past!\n",
    "\n",
    "It may seem counterintuitive that, for modeling purposes, we want our time series not to be a function of time! But the basic idea is the familiar one that we want our datapoints to be mutually *independent*. For more on this topic, see [here](https://stats.stackexchange.com/questions/19715/why-does-a-time-series-have-to-be-stationary)."
   ]
  },
  {
   "cell_type": "markdown",
   "metadata": {},
   "source": [
    "## Criteria for a Stationary Time Series\n",
    "\n",
    "- The series' **mean** is **not** a function of time\n",
    "![https://www.analyticsvidhya.com/wp-content/uploads/2015/02/Mean_nonstationary.png](images/Mean_nonstationary.png)\n",
    "\n",
    "- The series' **variance** is **not** a function of time (heteroscedacity)\n",
    "![https://www.analyticsvidhya.com/wp-content/uploads/2015/02/Var_nonstationary.png](images/Var_nonstationary.png)\n",
    "\n",
    "- The series' **covariance** is **not** a function of time\n",
    "![https://www.analyticsvidhya.com/wp-content/uploads/2015/02/Cov_nonstationary.png](images/Cov_nonstationary.png)\n",
    "\n",
    "> Images from [https://www.analyticsvidhya.com/blog/2015/12/complete-tutorial-time-series-modeling/](https://www.analyticsvidhya.com/blog/2015/12/complete-tutorial-time-series-modeling/)"
   ]
  },
  {
   "cell_type": "markdown",
   "metadata": {},
   "source": [
    "To summarize:\n",
    "\n",
    "![Examples of stationary and non-stationary processes](https://miro.medium.com/max/1400/1*tkx0_wwQ2JT7pSlTeg4yzg.png)\n",
    "\n",
    "\n",
    "[Image Source: a useful blog post!](https://towardsdatascience.com/stationarity-in-time-series-analysis-90c94f27322)"
   ]
  },
  {
   "cell_type": "code",
   "execution_count": null,
   "metadata": {},
   "outputs": [],
   "source": [
    "# Check out our df_resampled\n",
    "df_resampled.plot();"
   ]
  },
  {
   "cell_type": "markdown",
   "metadata": {},
   "source": [
    "#### Discuss: Do you think the data is stationary? Why/why not?\n",
    "\n",
    "- \n"
   ]
  },
  {
   "cell_type": "markdown",
   "metadata": {},
   "source": [
    "Let's try decomposing our time series to explore it!\n",
    "\n",
    "[Documentation](https://www.statsmodels.org/devel/generated/statsmodels.tsa.seasonal.seasonal_decompose.html)"
   ]
  },
  {
   "cell_type": "code",
   "execution_count": null,
   "metadata": {},
   "outputs": [],
   "source": [
    "# Import seasonal_decompose from statsmodels\n"
   ]
  },
  {
   "cell_type": "code",
   "execution_count": null,
   "metadata": {},
   "outputs": [],
   "source": [
    "# Run the seasonal_decompose on df_resampled\n",
    "# Additive or multiplicative?\n",
    "decomposition = None"
   ]
  },
  {
   "cell_type": "code",
   "execution_count": null,
   "metadata": {
    "scrolled": false
   },
   "outputs": [],
   "source": [
    "# This is most useful for the plots! \n",
    "res = decomposition.plot()\n",
    "# Using these to make the plots bigger\n",
    "res.set_figheight(7)\n",
    "res.set_figwidth(10)"
   ]
  },
  {
   "cell_type": "markdown",
   "metadata": {},
   "source": [
    "### The Augmented Dickey Fuller Test - a Hypothesis Test for Stationarity! (kind of)\n",
    "\n",
    "[Documentation](https://www.statsmodels.org/stable/generated/statsmodels.tsa.stattools.adfuller.html) for the Dickey-Fuller test in StatsModels\n",
    "- Unit root...? https://www.statisticshowto.com/unit-root/\n",
    "- Potentially also useful: https://www.statisticshowto.com/adf-augmented-dickey-fuller-test/"
   ]
  },
  {
   "cell_type": "markdown",
   "metadata": {},
   "source": [
    "Write out our null and alternate hypotheses (remember these??)\n",
    "\n",
    "$H_0$:\n",
    "\n",
    "$H_a$:"
   ]
  },
  {
   "cell_type": "code",
   "execution_count": null,
   "metadata": {},
   "outputs": [],
   "source": [
    "# Import adfuller from statsmodels\n"
   ]
  },
  {
   "cell_type": "code",
   "execution_count": null,
   "metadata": {
    "scrolled": true
   },
   "outputs": [],
   "source": [
    "# Check out the results\n",
    "df_results = None"
   ]
  },
  {
   "cell_type": "code",
   "execution_count": null,
   "metadata": {},
   "outputs": [],
   "source": [
    "# Extract and display test results in a user friendly manner\n",
    "dfoutput = pd.Series(df_results[0:4], \n",
    "                     index=['Test Statistic', 'p-value',\n",
    "                            '# Lags Used', '# Observations Used']\n",
    ")\n",
    "\n",
    "for key,value in df_results[4].items():\n",
    "    dfoutput[f'Critical Value ({key})'] = value\n",
    "    \n",
    "display(dfoutput)"
   ]
  },
  {
   "cell_type": "markdown",
   "metadata": {},
   "source": [
    "#### Discuss: Do you think it's stationary?\n",
    "\n",
    "- \n"
   ]
  },
  {
   "cell_type": "markdown",
   "metadata": {
    "heading_collapsed": true
   },
   "source": [
    "## Getting a Stationary Time Series \n",
    "\n",
    "Let's try out seeing how we can get a time series that is non-stationary to something we can make predictions on.\n",
    "\n",
    "We'll discuss:\n",
    "- subtracting a rolling mean\n",
    "- differencing\n",
    "- other transformations, like log or square-root"
   ]
  },
  {
   "cell_type": "markdown",
   "metadata": {},
   "source": [
    "### Subtract the Rolling Mean\n",
    "\n",
    "This can allow us to look at fluctuations from the overall \"smoother\" trend."
   ]
  },
  {
   "cell_type": "markdown",
   "metadata": {},
   "source": [
    "#### Let's Check Out Our Rolling Statistics\n",
    "\n",
    "These calculate a statistic over a window of past data points (aka over a time period)"
   ]
  },
  {
   "cell_type": "code",
   "execution_count": null,
   "metadata": {},
   "outputs": [],
   "source": [
    "# Just using .rolling by itself doesn't render anything\n",
    "# Also, let's discuss - what window makes sense here?\n"
   ]
  },
  {
   "cell_type": "code",
   "execution_count": null,
   "metadata": {},
   "outputs": [],
   "source": [
    "# Now check the mean on that rolling window\n",
    "rollmean = None"
   ]
  },
  {
   "cell_type": "code",
   "execution_count": null,
   "metadata": {},
   "outputs": [],
   "source": [
    "# Plot it\n",
    "plt.figure(figsize=(8,6))\n",
    "plt.plot(df_resampled, label='original')\n",
    "plt.plot(df_resampled.rolling(window=4).mean(), label = 'rolling mean')\n",
    "plt.legend();"
   ]
  },
  {
   "cell_type": "code",
   "execution_count": null,
   "metadata": {},
   "outputs": [],
   "source": [
    "# Even nicer plot\n",
    "# We'll add in a rolling standard deviation!\n",
    "rollstd = None\n",
    "\n",
    "plt.figure(figsize=(12, 7))\n",
    "plt.plot(df_resampled, color='blue', label='Original')\n",
    "plt.plot(rollmean, color='red', label='Rolling Mean')\n",
    "plt.plot(rollmean+rollstd, color='gray', label='Rolling Std', alpha=.5)\n",
    "plt.plot(rollmean-rollstd, color='gray', alpha=.5)\n",
    "\n",
    "plt.legend(loc='best')\n",
    "plt.title('Rolling Mean +/- Standard Deviation')\n",
    "plt.show(block=False)"
   ]
  },
  {
   "cell_type": "markdown",
   "metadata": {},
   "source": [
    "By subtracting the rolling mean from our original data, we can try to make the data more stationary.\n",
    "\n",
    "Let's try it out:"
   ]
  },
  {
   "cell_type": "code",
   "execution_count": null,
   "metadata": {},
   "outputs": [],
   "source": [
    "# Subtract rollmean from df_resampled\n",
    "data_minus_rollmean = None"
   ]
  },
  {
   "cell_type": "code",
   "execution_count": null,
   "metadata": {},
   "outputs": [],
   "source": [
    "# Drop the NaN values from timeseries calculated above \n",
    "# (the first few values didn't have a rolling mean)\n",
    "data_minus_rollmean.dropna(inplace=True)"
   ]
  },
  {
   "cell_type": "code",
   "execution_count": null,
   "metadata": {},
   "outputs": [],
   "source": [
    "fig = plt.figure(figsize=(11, 7))\n",
    "plt.plot(df_resampled, color='blue', label='Original')\n",
    "plt.plot(data_minus_rollmean, label='Sales - rolling mean')\n",
    "plt.legend(loc='best')\n",
    "plt.title('Sales while the rolling mean is subtracted')\n",
    "plt.show(block=False)"
   ]
  },
  {
   "cell_type": "markdown",
   "metadata": {},
   "source": [
    "#### Discuss: Is it stationary?\n",
    "\n",
    "- \n"
   ]
  },
  {
   "cell_type": "markdown",
   "metadata": {},
   "source": [
    "### Differencing\n",
    "\n",
    "One of the most common ways of trying to convert a non-stationary series into a stationary one is to take as a new series *the differences in consecutive terms*. This is easily effected by means of the `.diff()` method of NumPy arrays."
   ]
  },
  {
   "cell_type": "code",
   "execution_count": null,
   "metadata": {},
   "outputs": [],
   "source": [
    "# Check out running .diff on df_resampled\n",
    "# Let's do this as new columns on a copy of df_resampled\n",
    "df_diffs = df_resampled.copy()\n",
    "\n",
    "df_diffs['Diff 1'] = None\n",
    "df_diffs.head()"
   ]
  },
  {
   "cell_type": "code",
   "execution_count": null,
   "metadata": {},
   "outputs": [],
   "source": [
    "# Can do more than one difference!\n",
    "df_diffs['Diff 2'] = None\n",
    "\n",
    "df_diffs"
   ]
  },
  {
   "cell_type": "markdown",
   "metadata": {},
   "source": [
    "### Sidenote: `pd.Series.diff()` vs. `np.diff()`"
   ]
  },
  {
   "cell_type": "markdown",
   "metadata": {},
   "source": [
    "**Be careful! These two are *not* the same.** The former takes as a parameter the number of periods (i.e. the width of the gap) to use in constructing the differences. The latter takes as a parameter the *order* of the differences."
   ]
  },
  {
   "cell_type": "code",
   "execution_count": null,
   "metadata": {},
   "outputs": [],
   "source": [
    "arr = pd.Series(np.arange(10)**2)\n",
    "print(f\"Original: {arr.values}\")\n",
    "print(f\"pd.Series.diff(): {arr.diff(2).values}\")\n",
    "print(f\"np.diff(): {np.diff(arr, 2)}\")"
   ]
  },
  {
   "cell_type": "markdown",
   "metadata": {},
   "source": [
    "End of sidenote."
   ]
  },
  {
   "cell_type": "code",
   "execution_count": null,
   "metadata": {},
   "outputs": [],
   "source": [
    "# Now let's check out our differenced data\n",
    "plt.figure(figsize=(12, 7))\n",
    "plt.plot(df_resampled, color='blue', label='Original')\n",
    "plt.plot(df_diffs['Diff 1'], color='red', label='Difference 1')\n",
    "plt.plot(df_diffs['Diff 2'], color='orange', label='Difference 2')\n",
    "\n",
    "plt.legend(loc='best');"
   ]
  },
  {
   "cell_type": "markdown",
   "metadata": {},
   "source": [
    "#### Discuss: Are either of these stationary?\n",
    "\n",
    "- \n"
   ]
  },
  {
   "cell_type": "markdown",
   "metadata": {
    "heading_collapsed": true,
    "hidden": true
   },
   "source": [
    "### Other Methods: Log Transformation, Square Root Transformation"
   ]
  },
  {
   "cell_type": "markdown",
   "metadata": {
    "hidden": true
   },
   "source": [
    "Penalize higher values more \n",
    "\n",
    "Useful when:\n",
    "\n",
    "- Clear & significant positive trend but maybe not linear\n",
    "- Certain heteroscedasticity"
   ]
  },
  {
   "cell_type": "code",
   "execution_count": null,
   "metadata": {},
   "outputs": [],
   "source": [
    "# Now let's check out our differenced data\n",
    "plt.figure(figsize=(12, 7))\n",
    "plt.plot(df_resampled, color='blue', label='Original')\n",
    "plt.plot(np.log(df_resampled), color='red', label='Log')\n",
    "plt.plot(np.sqrt(df_resampled), color='orange', label='SQRT')\n",
    "\n",
    "plt.legend(loc='best');"
   ]
  },
  {
   "cell_type": "code",
   "execution_count": null,
   "metadata": {},
   "outputs": [],
   "source": [
    "# Let's zoom in\n",
    "# Now let's check out our differenced data\n",
    "plt.figure(figsize=(12, 7))\n",
    "\n",
    "plt.plot(np.log(df_resampled), color='red', label='Log')\n",
    "plt.plot(np.sqrt(df_resampled), color='orange', label='SQRT')\n",
    "\n",
    "plt.legend(loc='best');"
   ]
  },
  {
   "cell_type": "markdown",
   "metadata": {},
   "source": [
    "#### Discuss: Are either of these stationary?\n",
    "\n",
    "- \n"
   ]
  },
  {
   "cell_type": "markdown",
   "metadata": {
    "heading_collapsed": true,
    "hidden": true
   },
   "source": [
    "## Review: Why do we want to get a stationary series?"
   ]
  },
  {
   "cell_type": "markdown",
   "metadata": {
    "hidden": true
   },
   "source": [
    "- We in a way want to get rid of the temporal dependence: leave just the \"noise\"\n",
    "- That \"noise\" can then be modeled based on other features!\n",
    "- Think of \"stationary\" like \"independence\""
   ]
  },
  {
   "cell_type": "markdown",
   "metadata": {},
   "source": [
    "-----"
   ]
  },
  {
   "cell_type": "markdown",
   "metadata": {},
   "source": [
    "# Extra Resources:"
   ]
  },
  {
   "cell_type": "markdown",
   "metadata": {},
   "source": [
    "## Types of Trends"
   ]
  },
  {
   "cell_type": "markdown",
   "metadata": {
    "heading_collapsed": true,
    "hidden": true
   },
   "source": [
    "### No Trend\n",
    "\n",
    "<img src=\"images/no-trend.png\" width=600>"
   ]
  },
  {
   "cell_type": "markdown",
   "metadata": {
    "heading_collapsed": true,
    "hidden": true
   },
   "source": [
    "### Linear Trend (also known as Additive)"
   ]
  },
  {
   "cell_type": "markdown",
   "metadata": {
    "hidden": true
   },
   "source": [
    "<img src=\"images/linear_trend-upward.png\" width=550>"
   ]
  },
  {
   "cell_type": "markdown",
   "metadata": {
    "hidden": true
   },
   "source": [
    "<img src=\"images/linear_trend-downward.png\" width=550>"
   ]
  },
  {
   "cell_type": "markdown",
   "metadata": {
    "heading_collapsed": true,
    "hidden": true
   },
   "source": [
    "### Exponential (also known as Multiplicative)\n",
    "\n",
    "<img src=\"images/exponential_trend.png\" width=550>"
   ]
  },
  {
   "cell_type": "markdown",
   "metadata": {
    "heading_collapsed": true,
    "hidden": true
   },
   "source": [
    "### Seasonal\n",
    "\n",
    "<img src=\"images/periodic_trend-temperature.png\" width=550>"
   ]
  },
  {
   "cell_type": "markdown",
   "metadata": {},
   "source": [
    "<img src=\"images/periodic_trend-miles.png\" width=550>"
   ]
  }
 ],
 "metadata": {
  "kernelspec": {
   "display_name": "Python (learn-env)",
   "language": "python",
   "name": "learn-env"
  },
  "language_info": {
   "codemirror_mode": {
    "name": "ipython",
    "version": 3
   },
   "file_extension": ".py",
   "mimetype": "text/x-python",
   "name": "python",
   "nbconvert_exporter": "python",
   "pygments_lexer": "ipython3",
   "version": "3.8.5"
  }
 },
 "nbformat": 4,
 "nbformat_minor": 4
}
