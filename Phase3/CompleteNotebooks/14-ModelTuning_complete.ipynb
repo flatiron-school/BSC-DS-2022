{
 "cells": [
  {
   "cell_type": "markdown",
   "metadata": {},
   "source": [
    "# Model Tuning with Grid Search"
   ]
  },
  {
   "cell_type": "markdown",
   "metadata": {
    "hidden": true
   },
   "source": [
    "## Objectives\n",
    "\n",
    "- Explain what hyperparameters are\n",
    "- Describe the purpose of grid searching\n",
    "- Implement grid searching for the purposes of model optimization"
   ]
  },
  {
   "cell_type": "markdown",
   "metadata": {
    "hidden": true
   },
   "source": [
    "![](https://imgs.xkcd.com/comics/machine_learning.png)"
   ]
  },
  {
   "cell_type": "markdown",
   "metadata": {
    "heading_collapsed": true,
    "hidden": true
   },
   "source": [
    "## Hyperparameters"
   ]
  },
  {
   "cell_type": "markdown",
   "metadata": {
    "hidden": true
   },
   "source": [
    "Many of the models we have looked at are really *families* of models in the sense that they make use of **hyperparameters**."
   ]
  },
  {
   "cell_type": "markdown",
   "metadata": {
    "hidden": true
   },
   "source": [
    "Thus for example the $k$-nearest-neighbors algorithm allows us to make:\n",
    "\n",
    "- a 1-nearest-neighbor model\n",
    "- a 2-nearest-neighbors model\n",
    "- a 3-nearest-neighbors model\n",
    "- etc."
   ]
  },
  {
   "cell_type": "markdown",
   "metadata": {
    "hidden": true
   },
   "source": [
    "Or, for another example, the decision tree algorithm allows us to make:\n",
    "\n",
    "- a classifier that branches according to information gain\n",
    "- a classifier that branches according to Gini impurity\n",
    "- a regressor that branches according to mean squared error\n",
    "- etc."
   ]
  },
  {
   "cell_type": "markdown",
   "metadata": {
    "hidden": true
   },
   "source": [
    "Depending on the sort of problem and data at hand, it is natural to experiment with different values of these hyperparameters to try to improve model performance."
   ]
  },
  {
   "cell_type": "markdown",
   "metadata": {
    "hidden": true
   },
   "source": [
    "> We can think of these **hyperparameters** as _dials_ of the base model\n",
    "\n",
    "<img src='https://cdn.dribbble.com/users/947489/screenshots/4522230/0001-0128.gif' width=500>"
   ]
  },
  {
   "cell_type": "markdown",
   "metadata": {
    "hidden": true
   },
   "source": [
    "### Difference from Parametric / Non-Parametric Models\n",
    "\n",
    "Contrast the notion of hyperparameters with the distinction between **parametric** and **non-parametric** models.\n",
    "\n",
    "A linear regression model is parametric in the sense that we start with a given model *form* and we then search for the optimal parameters to fill in that form. But *those* parameters are not the sort we might tweak for the purposes of improving model performance! On the contrary, there is **one** best set of parameters, and the training of the model is a matter of finding those optimal values."
   ]
  },
  {
   "cell_type": "markdown",
   "metadata": {},
   "source": [
    "## Scenario: Cat in the Dat(a)\n",
    "\n",
    "Let's revisit our cat in the data kaggle competition: https://www.kaggle.com/c/cat-in-the-dat-ii"
   ]
  },
  {
   "cell_type": "code",
   "execution_count": 1,
   "metadata": {},
   "outputs": [],
   "source": [
    "# Imports\n",
    "import pandas as pd\n",
    "import numpy as np\n",
    "\n",
    "import matplotlib.pyplot as plt\n",
    "\n",
    "from sklearn.pipeline import Pipeline\n",
    "from sklearn.compose import ColumnTransformer\n",
    "from sklearn.impute import SimpleImputer\n",
    "from sklearn.preprocessing import MinMaxScaler, OneHotEncoder, StandardScaler\n",
    "from sklearn.dummy import DummyClassifier\n",
    "from sklearn.linear_model import LogisticRegression\n",
    "from sklearn.tree import DecisionTreeClassifier\n",
    "from sklearn.neighbors import KNeighborsClassifier\n",
    "from sklearn.naive_bayes import GaussianNB, MultinomialNB\n",
    "from sklearn.model_selection import train_test_split, cross_validate\n",
    "from sklearn.metrics import accuracy_score, f1_score, precision_score, recall_score\n",
    "from sklearn.metrics import roc_auc_score, plot_roc_curve, plot_precision_recall_curve\n",
    "from sklearn.metrics import confusion_matrix, plot_confusion_matrix"
   ]
  },
  {
   "cell_type": "code",
   "execution_count": 2,
   "metadata": {},
   "outputs": [],
   "source": [
    "# Grab, then explore data\n",
    "df = pd.read_csv(\"data/cat_in_the_dat2_train.csv\", index_col='id')"
   ]
  },
  {
   "cell_type": "code",
   "execution_count": 3,
   "metadata": {},
   "outputs": [],
   "source": [
    "# Define our X and y\n",
    "\n",
    "X = df.drop(columns=['target'])\n",
    "y = df['target']\n",
    "\n",
    "# and train test split - to create our val holdout set!\n",
    "X_train, X_val, y_train, y_val = train_test_split(X, y, test_size=0.1,\n",
    "                                                  random_state=0)"
   ]
  },
  {
   "cell_type": "markdown",
   "metadata": {},
   "source": [
    "### Preprocessor Pipeline\n",
    "\n",
    "Let's bring back our preprocessor pipeline we built:"
   ]
  },
  {
   "cell_type": "code",
   "execution_count": 4,
   "metadata": {},
   "outputs": [],
   "source": [
    "# First defining our overall used columns - those with less than 30 uniques\n",
    "used_cols = [col for col in X_train.columns if len(X_train[col].unique()) < 30]\n",
    "\n",
    "# Defining our object columns\n",
    "obj_cols = [col for col in used_cols if X_train[col].dtype == 'O']\n",
    "# And our object transformer\n",
    "obj_transformer = Pipeline(steps=[\n",
    "    (\"obj_imputer\", SimpleImputer(strategy = 'constant', fill_value='WHATEVER')),\n",
    "    ('ohe', OneHotEncoder(drop=['WHATEVER']*len(obj_cols)))\n",
    "])\n",
    "\n",
    "# Now defining our numeric columns\n",
    "num_cols = [col for col in used_cols if X_train[col].dtype != 'O']\n",
    "# And our numeric transformer\n",
    "num_transformer = Pipeline(steps = [\n",
    "    ('num_imputer', SimpleImputer(strategy='most_frequent')),\n",
    "    ('scaler', MinMaxScaler())\n",
    "])\n",
    "\n",
    "# Putting them together into a preprocessor\n",
    "preprocessor = ColumnTransformer(transformers=[\n",
    "    (\"num_trans\", num_transformer, num_cols),\n",
    "    ('obj_trans', obj_transformer, obj_cols)\n",
    "])"
   ]
  },
  {
   "cell_type": "code",
   "execution_count": 20,
   "metadata": {},
   "outputs": [
    {
     "data": {
      "text/plain": [
       "ColumnTransformer(transformers=[('num_trans',\n",
       "                                 Pipeline(steps=[('num_imputer',\n",
       "                                                  SimpleImputer(strategy='most_frequent')),\n",
       "                                                 ('scaler', MinMaxScaler())]),\n",
       "                                 ['bin_0', 'bin_1', 'bin_2', 'ord_0', 'day',\n",
       "                                  'month']),\n",
       "                                ('obj_trans',\n",
       "                                 Pipeline(steps=[('obj_imputer',\n",
       "                                                  SimpleImputer(fill_value='WHATEVER',\n",
       "                                                                strategy='constant')),\n",
       "                                                 ('ohe',\n",
       "                                                  OneHotEncoder(drop=['WHATEVER',\n",
       "                                                                      'WHATEVER',\n",
       "                                                                      'WHATEVER',\n",
       "                                                                      'WHATEVER',\n",
       "                                                                      'WHATEVER',\n",
       "                                                                      'WHATEVER',\n",
       "                                                                      'WHATEVER',\n",
       "                                                                      'WHATEVER',\n",
       "                                                                      'WHATEVER',\n",
       "                                                                      'WHATEVER',\n",
       "                                                                      'WHATEVER']))]),\n",
       "                                 ['bin_3', 'bin_4', 'nom_0', 'nom_1', 'nom_2',\n",
       "                                  'nom_3', 'nom_4', 'ord_1', 'ord_2', 'ord_3',\n",
       "                                  'ord_4'])])"
      ]
     },
     "execution_count": 20,
     "metadata": {},
     "output_type": "execute_result"
    }
   ],
   "source": [
    "preprocessor.fit(X_train[used_cols])"
   ]
  },
  {
   "cell_type": "code",
   "execution_count": 14,
   "metadata": {},
   "outputs": [
    {
     "data": {
      "text/plain": [
       "['bin_0', 'bin_1', 'bin_2', 'ord_0', 'day', 'month']"
      ]
     },
     "execution_count": 14,
     "metadata": {},
     "output_type": "execute_result"
    }
   ],
   "source": [
    "num_cols"
   ]
  },
  {
   "cell_type": "code",
   "execution_count": 32,
   "metadata": {},
   "outputs": [
    {
     "data": {
      "text/plain": [
       "['bin_3',\n",
       " 'bin_4',\n",
       " 'nom_0',\n",
       " 'nom_1',\n",
       " 'nom_2',\n",
       " 'nom_3',\n",
       " 'nom_4',\n",
       " 'ord_1',\n",
       " 'ord_2',\n",
       " 'ord_3',\n",
       " 'ord_4']"
      ]
     },
     "execution_count": 32,
     "metadata": {},
     "output_type": "execute_result"
    }
   ],
   "source": [
    "obj_cols"
   ]
  },
  {
   "cell_type": "code",
   "execution_count": 31,
   "metadata": {},
   "outputs": [
    {
     "data": {
      "text/plain": [
       "array(['x0_F', 'x0_T', 'x1_N', 'x1_Y', 'x2_Blue', 'x2_Green', 'x2_Red',\n",
       "       'x3_Circle', 'x3_Polygon', 'x3_Square', 'x3_Star', 'x3_Trapezoid',\n",
       "       'x3_Triangle', 'x4_Axolotl', 'x4_Cat', 'x4_Dog', 'x4_Hamster',\n",
       "       'x4_Lion', 'x4_Snake', 'x5_Canada', 'x5_China', 'x5_Costa Rica',\n",
       "       'x5_Finland', 'x5_India', 'x5_Russia', 'x6_Bassoon', 'x6_Oboe',\n",
       "       'x6_Piano', 'x6_Theremin', 'x7_Contributor', 'x7_Expert',\n",
       "       'x7_Grandmaster', 'x7_Master', 'x7_Novice', 'x8_Boiling Hot',\n",
       "       'x8_Cold', 'x8_Freezing', 'x8_Hot', 'x8_Lava Hot', 'x8_Warm',\n",
       "       'x9_a', 'x9_b', 'x9_c', 'x9_d', 'x9_e', 'x9_f', 'x9_g', 'x9_h',\n",
       "       'x9_i', 'x9_j', 'x9_k', 'x9_l', 'x9_m', 'x9_n', 'x9_o', 'x10_A',\n",
       "       'x10_B', 'x10_C', 'x10_D', 'x10_E', 'x10_F', 'x10_G', 'x10_H',\n",
       "       'x10_I', 'x10_J', 'x10_K', 'x10_L', 'x10_M', 'x10_N', 'x10_O',\n",
       "       'x10_P', 'x10_Q', 'x10_R', 'x10_S', 'x10_T', 'x10_U', 'x10_V',\n",
       "       'x10_W', 'x10_X', 'x10_Y', 'x10_Z'], dtype=object)"
      ]
     },
     "execution_count": 31,
     "metadata": {},
     "output_type": "execute_result"
    }
   ],
   "source": [
    "preprocessor.named_transformers_['obj_trans']['ohe'].get_feature_names()"
   ]
  },
  {
   "cell_type": "code",
   "execution_count": 15,
   "metadata": {},
   "outputs": [],
   "source": [
    "ohe_col_names = preprocessor.named_transformers_['obj_trans']['ohe'].get_feature_names()"
   ]
  },
  {
   "cell_type": "code",
   "execution_count": 18,
   "metadata": {},
   "outputs": [
    {
     "data": {
      "text/plain": [
       "87"
      ]
     },
     "execution_count": 18,
     "metadata": {},
     "output_type": "execute_result"
    }
   ],
   "source": [
    "output_cols = [*num_cols, *ohe_col_names]\n",
    "len(output_cols)"
   ]
  },
  {
   "cell_type": "code",
   "execution_count": 27,
   "metadata": {},
   "outputs": [
    {
     "data": {
      "text/html": [
       "<div>\n",
       "<style scoped>\n",
       "    .dataframe tbody tr th:only-of-type {\n",
       "        vertical-align: middle;\n",
       "    }\n",
       "\n",
       "    .dataframe tbody tr th {\n",
       "        vertical-align: top;\n",
       "    }\n",
       "\n",
       "    .dataframe thead th {\n",
       "        text-align: right;\n",
       "    }\n",
       "</style>\n",
       "<table border=\"1\" class=\"dataframe\">\n",
       "  <thead>\n",
       "    <tr style=\"text-align: right;\">\n",
       "      <th></th>\n",
       "      <th>bin_0</th>\n",
       "      <th>bin_1</th>\n",
       "      <th>bin_2</th>\n",
       "      <th>ord_0</th>\n",
       "      <th>day</th>\n",
       "      <th>month</th>\n",
       "      <th>x0_F</th>\n",
       "      <th>x0_T</th>\n",
       "      <th>x1_N</th>\n",
       "      <th>x1_Y</th>\n",
       "      <th>...</th>\n",
       "      <th>x10_Q</th>\n",
       "      <th>x10_R</th>\n",
       "      <th>x10_S</th>\n",
       "      <th>x10_T</th>\n",
       "      <th>x10_U</th>\n",
       "      <th>x10_V</th>\n",
       "      <th>x10_W</th>\n",
       "      <th>x10_X</th>\n",
       "      <th>x10_Y</th>\n",
       "      <th>x10_Z</th>\n",
       "    </tr>\n",
       "    <tr>\n",
       "      <th>id</th>\n",
       "      <th></th>\n",
       "      <th></th>\n",
       "      <th></th>\n",
       "      <th></th>\n",
       "      <th></th>\n",
       "      <th></th>\n",
       "      <th></th>\n",
       "      <th></th>\n",
       "      <th></th>\n",
       "      <th></th>\n",
       "      <th></th>\n",
       "      <th></th>\n",
       "      <th></th>\n",
       "      <th></th>\n",
       "      <th></th>\n",
       "      <th></th>\n",
       "      <th></th>\n",
       "      <th></th>\n",
       "      <th></th>\n",
       "      <th></th>\n",
       "      <th></th>\n",
       "    </tr>\n",
       "  </thead>\n",
       "  <tbody>\n",
       "    <tr>\n",
       "      <th>111903</th>\n",
       "      <td>0.0</td>\n",
       "      <td>0.0</td>\n",
       "      <td>0.0</td>\n",
       "      <td>1.0</td>\n",
       "      <td>0.500000</td>\n",
       "      <td>0.727273</td>\n",
       "      <td>1.0</td>\n",
       "      <td>0.0</td>\n",
       "      <td>0.0</td>\n",
       "      <td>0.0</td>\n",
       "      <td>...</td>\n",
       "      <td>0.0</td>\n",
       "      <td>0.0</td>\n",
       "      <td>0.0</td>\n",
       "      <td>0.0</td>\n",
       "      <td>0.0</td>\n",
       "      <td>0.0</td>\n",
       "      <td>0.0</td>\n",
       "      <td>0.0</td>\n",
       "      <td>0.0</td>\n",
       "      <td>0.0</td>\n",
       "    </tr>\n",
       "    <tr>\n",
       "      <th>521435</th>\n",
       "      <td>0.0</td>\n",
       "      <td>1.0</td>\n",
       "      <td>0.0</td>\n",
       "      <td>0.5</td>\n",
       "      <td>0.666667</td>\n",
       "      <td>0.000000</td>\n",
       "      <td>1.0</td>\n",
       "      <td>0.0</td>\n",
       "      <td>1.0</td>\n",
       "      <td>0.0</td>\n",
       "      <td>...</td>\n",
       "      <td>0.0</td>\n",
       "      <td>0.0</td>\n",
       "      <td>0.0</td>\n",
       "      <td>0.0</td>\n",
       "      <td>0.0</td>\n",
       "      <td>0.0</td>\n",
       "      <td>0.0</td>\n",
       "      <td>0.0</td>\n",
       "      <td>0.0</td>\n",
       "      <td>0.0</td>\n",
       "    </tr>\n",
       "    <tr>\n",
       "      <th>484488</th>\n",
       "      <td>0.0</td>\n",
       "      <td>0.0</td>\n",
       "      <td>0.0</td>\n",
       "      <td>0.5</td>\n",
       "      <td>0.166667</td>\n",
       "      <td>0.636364</td>\n",
       "      <td>1.0</td>\n",
       "      <td>0.0</td>\n",
       "      <td>1.0</td>\n",
       "      <td>0.0</td>\n",
       "      <td>...</td>\n",
       "      <td>0.0</td>\n",
       "      <td>0.0</td>\n",
       "      <td>0.0</td>\n",
       "      <td>0.0</td>\n",
       "      <td>0.0</td>\n",
       "      <td>0.0</td>\n",
       "      <td>0.0</td>\n",
       "      <td>0.0</td>\n",
       "      <td>0.0</td>\n",
       "      <td>0.0</td>\n",
       "    </tr>\n",
       "    <tr>\n",
       "      <th>529639</th>\n",
       "      <td>0.0</td>\n",
       "      <td>1.0</td>\n",
       "      <td>1.0</td>\n",
       "      <td>0.0</td>\n",
       "      <td>0.666667</td>\n",
       "      <td>0.090909</td>\n",
       "      <td>1.0</td>\n",
       "      <td>0.0</td>\n",
       "      <td>1.0</td>\n",
       "      <td>0.0</td>\n",
       "      <td>...</td>\n",
       "      <td>0.0</td>\n",
       "      <td>0.0</td>\n",
       "      <td>0.0</td>\n",
       "      <td>0.0</td>\n",
       "      <td>0.0</td>\n",
       "      <td>0.0</td>\n",
       "      <td>0.0</td>\n",
       "      <td>0.0</td>\n",
       "      <td>0.0</td>\n",
       "      <td>0.0</td>\n",
       "    </tr>\n",
       "    <tr>\n",
       "      <th>589943</th>\n",
       "      <td>0.0</td>\n",
       "      <td>0.0</td>\n",
       "      <td>0.0</td>\n",
       "      <td>0.5</td>\n",
       "      <td>0.833333</td>\n",
       "      <td>0.636364</td>\n",
       "      <td>0.0</td>\n",
       "      <td>1.0</td>\n",
       "      <td>1.0</td>\n",
       "      <td>0.0</td>\n",
       "      <td>...</td>\n",
       "      <td>0.0</td>\n",
       "      <td>0.0</td>\n",
       "      <td>0.0</td>\n",
       "      <td>0.0</td>\n",
       "      <td>0.0</td>\n",
       "      <td>0.0</td>\n",
       "      <td>0.0</td>\n",
       "      <td>0.0</td>\n",
       "      <td>0.0</td>\n",
       "      <td>0.0</td>\n",
       "    </tr>\n",
       "  </tbody>\n",
       "</table>\n",
       "<p>5 rows × 87 columns</p>\n",
       "</div>"
      ],
      "text/plain": [
       "        bin_0  bin_1  bin_2  ord_0       day     month  x0_F  x0_T  x1_N  \\\n",
       "id                                                                         \n",
       "111903    0.0    0.0    0.0    1.0  0.500000  0.727273   1.0   0.0   0.0   \n",
       "521435    0.0    1.0    0.0    0.5  0.666667  0.000000   1.0   0.0   1.0   \n",
       "484488    0.0    0.0    0.0    0.5  0.166667  0.636364   1.0   0.0   1.0   \n",
       "529639    0.0    1.0    1.0    0.0  0.666667  0.090909   1.0   0.0   1.0   \n",
       "589943    0.0    0.0    0.0    0.5  0.833333  0.636364   0.0   1.0   1.0   \n",
       "\n",
       "        x1_Y  ...  x10_Q  x10_R  x10_S  x10_T  x10_U  x10_V  x10_W  x10_X  \\\n",
       "id            ...                                                           \n",
       "111903   0.0  ...    0.0    0.0    0.0    0.0    0.0    0.0    0.0    0.0   \n",
       "521435   0.0  ...    0.0    0.0    0.0    0.0    0.0    0.0    0.0    0.0   \n",
       "484488   0.0  ...    0.0    0.0    0.0    0.0    0.0    0.0    0.0    0.0   \n",
       "529639   0.0  ...    0.0    0.0    0.0    0.0    0.0    0.0    0.0    0.0   \n",
       "589943   0.0  ...    0.0    0.0    0.0    0.0    0.0    0.0    0.0    0.0   \n",
       "\n",
       "        x10_Y  x10_Z  \n",
       "id                    \n",
       "111903    0.0    0.0  \n",
       "521435    0.0    0.0  \n",
       "484488    0.0    0.0  \n",
       "529639    0.0    0.0  \n",
       "589943    0.0    0.0  \n",
       "\n",
       "[5 rows x 87 columns]"
      ]
     },
     "execution_count": 27,
     "metadata": {},
     "output_type": "execute_result"
    }
   ],
   "source": [
    "pd.DataFrame(preprocessor.transform(X_train[used_cols]).A,\n",
    "             index=X_train.index, columns=output_cols).head()"
   ]
  },
  {
   "cell_type": "markdown",
   "metadata": {
    "heading_collapsed": true,
    "hidden": true
   },
   "source": [
    "### Trying Different Models & Values\n",
    "\n",
    "Let's explore three different model types, using our preprocessor pipeline and evaluating using `cross_validate`:"
   ]
  },
  {
   "cell_type": "markdown",
   "metadata": {},
   "source": [
    "#### Logistic Regression"
   ]
  },
  {
   "cell_type": "code",
   "execution_count": 33,
   "metadata": {},
   "outputs": [],
   "source": [
    "clf_lr = Pipeline(steps=[\n",
    "    ('preprocessor', preprocessor),\n",
    "    ('logreg', LogisticRegression(random_state = 713))\n",
    "])"
   ]
  },
  {
   "cell_type": "code",
   "execution_count": 34,
   "metadata": {},
   "outputs": [
    {
     "name": "stderr",
     "output_type": "stream",
     "text": [
      "/opt/anaconda3/envs/learn-env/lib/python3.8/site-packages/sklearn/linear_model/_logistic.py:762: ConvergenceWarning: lbfgs failed to converge (status=1):\n",
      "STOP: TOTAL NO. of ITERATIONS REACHED LIMIT.\n",
      "\n",
      "Increase the number of iterations (max_iter) or scale the data as shown in:\n",
      "    https://scikit-learn.org/stable/modules/preprocessing.html\n",
      "Please also refer to the documentation for alternative solver options:\n",
      "    https://scikit-learn.org/stable/modules/linear_model.html#logistic-regression\n",
      "  n_iter_i = _check_optimize_result(\n",
      "/opt/anaconda3/envs/learn-env/lib/python3.8/site-packages/sklearn/linear_model/_logistic.py:762: ConvergenceWarning: lbfgs failed to converge (status=1):\n",
      "STOP: TOTAL NO. of ITERATIONS REACHED LIMIT.\n",
      "\n",
      "Increase the number of iterations (max_iter) or scale the data as shown in:\n",
      "    https://scikit-learn.org/stable/modules/preprocessing.html\n",
      "Please also refer to the documentation for alternative solver options:\n",
      "    https://scikit-learn.org/stable/modules/linear_model.html#logistic-regression\n",
      "  n_iter_i = _check_optimize_result(\n"
     ]
    }
   ],
   "source": [
    "cv_results = cross_validate(clf_lr, X_train[used_cols], y_train, \n",
    "                            scoring=['roc_auc', 'f1'])"
   ]
  },
  {
   "cell_type": "code",
   "execution_count": 35,
   "metadata": {},
   "outputs": [
    {
     "data": {
      "text/plain": [
       "{'fit_time': array([5.79211378, 5.3588841 , 5.79528618, 5.84712386, 5.85742164]),\n",
       " 'score_time': array([1.35079098, 1.34045386, 1.32278991, 1.32265592, 1.32111001]),\n",
       " 'test_roc_auc': array([0.73592693, 0.73430216, 0.73870237, 0.73259678, 0.73553261]),\n",
       " 'test_f1': array([0.16649166, 0.17204481, 0.16301652, 0.16921013, 0.17259222])}"
      ]
     },
     "execution_count": 35,
     "metadata": {},
     "output_type": "execute_result"
    }
   ],
   "source": [
    "cv_results"
   ]
  },
  {
   "cell_type": "markdown",
   "metadata": {
    "heading_collapsed": true,
    "hidden": true
   },
   "source": [
    "#### Decision Tree"
   ]
  },
  {
   "cell_type": "code",
   "execution_count": 36,
   "metadata": {},
   "outputs": [],
   "source": [
    "clf_dt = Pipeline(steps=[\n",
    "    ('preprocessor', preprocessor),\n",
    "    ('tree', DecisionTreeClassifier(max_depth=7, random_state=713))\n",
    "])"
   ]
  },
  {
   "cell_type": "code",
   "execution_count": 37,
   "metadata": {},
   "outputs": [
    {
     "data": {
      "text/plain": [
       "{'fit_time': array([5.24018002, 5.21961069, 5.22077107, 5.19924617, 5.18029904]),\n",
       " 'score_time': array([1.3204999 , 1.31627917, 1.30912685, 1.32200408, 1.30161095]),\n",
       " 'test_roc_auc': array([0.67141229, 0.66792007, 0.67202339, 0.66846962, 0.66986597]),\n",
       " 'test_f1': array([0.05099737, 0.04137211, 0.04184697, 0.03716586, 0.05640116])}"
      ]
     },
     "execution_count": 37,
     "metadata": {},
     "output_type": "execute_result"
    }
   ],
   "source": [
    "cv_results = cross_validate(clf_dt, X_train[used_cols], y_train, \n",
    "                            scoring=['roc_auc', 'f1'])\n",
    "\n",
    "cv_results"
   ]
  },
  {
   "cell_type": "markdown",
   "metadata": {},
   "source": [
    "#### Your Choice: KNN or Naive Bayes?"
   ]
  },
  {
   "cell_type": "code",
   "execution_count": 38,
   "metadata": {},
   "outputs": [],
   "source": [
    "clf_nb = Pipeline(steps=[\n",
    "    ('preprocessor', preprocessor),\n",
    "    ('bayes', MultinomialNB())\n",
    "])"
   ]
  },
  {
   "cell_type": "code",
   "execution_count": 39,
   "metadata": {},
   "outputs": [
    {
     "data": {
      "text/plain": [
       "{'fit_time': array([3.00266695, 2.95650196, 2.97177315, 2.97852421, 2.92720199]),\n",
       " 'score_time': array([1.33264804, 1.3210609 , 1.32920384, 1.32787466, 1.325418  ]),\n",
       " 'test_roc_auc': array([0.72314457, 0.72089656, 0.72660956, 0.71907788, 0.72207205]),\n",
       " 'test_f1': array([0.07242211, 0.07242958, 0.07285013, 0.07132257, 0.0764714 ])}"
      ]
     },
     "execution_count": 39,
     "metadata": {},
     "output_type": "execute_result"
    }
   ],
   "source": [
    "cv_results = cross_validate(clf_nb, X_train[used_cols], y_train, \n",
    "                            scoring=['roc_auc', 'f1'])\n",
    "\n",
    "cv_results"
   ]
  },
  {
   "cell_type": "markdown",
   "metadata": {
    "heading_collapsed": true
   },
   "source": [
    "## Automatically Searching for Optimal Hyperparameters with Grid Search"
   ]
  },
  {
   "cell_type": "markdown",
   "metadata": {
    "hidden": true
   },
   "source": [
    "It's not a bad idea to experiment with the values of your models' hyperparameters a bit as you're getting a feel for your models' performance. But there are more systematic ways of going about the search for optimal hyperparameters. One method of hyperparameter tuning is **grid searching**. "
   ]
  },
  {
   "cell_type": "markdown",
   "metadata": {
    "hidden": true
   },
   "source": [
    "The idea is to build multiple models with different hyperparameter values and then see which one performs the best. The hyperparameters and the values to try form a sort of *grid* along which we are looking for the best performance. \n",
    "\n",
    "For example, for KNN:\n",
    "\n",
    "    n_neighbors | metric      | weights\n",
    "    ______________________________________\n",
    "    1           | 'minkowski' | 'uniform'\n",
    "    3           | 'manhattan' | 'distance'\n",
    "    5           |\n"
   ]
  },
  {
   "cell_type": "markdown",
   "metadata": {
    "hidden": true
   },
   "source": [
    "Scikit-Learn has a [`GridSearchCV`](https://scikit-learn.org/stable/modules/generated/sklearn.model_selection.GridSearchCV.html) class whose `fit()` method runs this procedure. Note that this can be quite computationally expensive since:\n",
    "\n",
    "- A model is constructed for each combination of hyperparameter values that we input; and\n",
    "- Each model is cross-validated."
   ]
  },
  {
   "cell_type": "markdown",
   "metadata": {
    "heading_collapsed": true,
    "hidden": true
   },
   "source": [
    "### `GridSearchCV`\n",
    "\n",
    "Note! When using `GridSearchCV` in SKLearn with a pipeline, you need to use the nicknames we give to tell it where these hyperparameters are being tested!\n",
    "\n",
    "Resource: https://scikit-learn.org/stable/tutorial/statistical_inference/putting_together.html"
   ]
  },
  {
   "cell_type": "code",
   "execution_count": 40,
   "metadata": {},
   "outputs": [],
   "source": [
    "# Import GridSearchCV\n",
    "from sklearn.model_selection import GridSearchCV"
   ]
  },
  {
   "cell_type": "code",
   "execution_count": 41,
   "metadata": {},
   "outputs": [],
   "source": [
    "# Choose one model type to optimize, and set up the base pipeline\n",
    "\n",
    "clf = Pipeline(steps=[\n",
    "    ('preprocessor', preprocessor),\n",
    "    ('tree', DecisionTreeClassifier(random_state=713))\n",
    "])"
   ]
  },
  {
   "cell_type": "code",
   "execution_count": 47,
   "metadata": {
    "ExecuteTime": {
     "end_time": "2021-10-28T03:33:34.611150Z",
     "start_time": "2021-10-28T03:33:34.608300Z"
    },
    "hidden": true
   },
   "outputs": [],
   "source": [
    "# Define the parameter grid for one model type\n",
    "\n",
    "param_grid = {\n",
    "    \"tree__max_depth\": [5, 14],\n",
    "    \"tree__min_samples_leaf\": [5, 14]\n",
    "}"
   ]
  },
  {
   "cell_type": "markdown",
   "metadata": {
    "hidden": true
   },
   "source": [
    "**Question: How many models will we be constructing with this grid?**\n",
    "\n",
    "- 60 with cv=5"
   ]
  },
  {
   "cell_type": "code",
   "execution_count": 48,
   "metadata": {
    "ExecuteTime": {
     "end_time": "2021-10-28T03:33:35.802959Z",
     "start_time": "2021-10-28T03:33:35.800647Z"
    },
    "hidden": true
   },
   "outputs": [
    {
     "name": "stdout",
     "output_type": "stream",
     "text": [
      "Fitting 5 folds for each of 4 candidates, totalling 20 fits\n",
      "[CV] tree__max_depth=5, tree__min_samples_leaf=5 .....................\n"
     ]
    },
    {
     "name": "stderr",
     "output_type": "stream",
     "text": [
      "[Parallel(n_jobs=1)]: Using backend SequentialBackend with 1 concurrent workers.\n"
     ]
    },
    {
     "name": "stdout",
     "output_type": "stream",
     "text": [
      "[CV]  tree__max_depth=5, tree__min_samples_leaf=5, score=0.647, total=   4.7s\n",
      "[CV] tree__max_depth=5, tree__min_samples_leaf=5 .....................\n"
     ]
    },
    {
     "name": "stderr",
     "output_type": "stream",
     "text": [
      "[Parallel(n_jobs=1)]: Done   1 out of   1 | elapsed:    4.7s remaining:    0.0s\n"
     ]
    },
    {
     "name": "stdout",
     "output_type": "stream",
     "text": [
      "[CV]  tree__max_depth=5, tree__min_samples_leaf=5, score=0.646, total=   4.6s\n",
      "[CV] tree__max_depth=5, tree__min_samples_leaf=5 .....................\n"
     ]
    },
    {
     "name": "stderr",
     "output_type": "stream",
     "text": [
      "[Parallel(n_jobs=1)]: Done   2 out of   2 | elapsed:    9.4s remaining:    0.0s\n"
     ]
    },
    {
     "name": "stdout",
     "output_type": "stream",
     "text": [
      "[CV]  tree__max_depth=5, tree__min_samples_leaf=5, score=0.648, total=   4.6s\n",
      "[CV] tree__max_depth=5, tree__min_samples_leaf=5 .....................\n",
      "[CV]  tree__max_depth=5, tree__min_samples_leaf=5, score=0.647, total=   4.7s\n",
      "[CV] tree__max_depth=5, tree__min_samples_leaf=5 .....................\n",
      "[CV]  tree__max_depth=5, tree__min_samples_leaf=5, score=0.646, total=   4.6s\n",
      "[CV] tree__max_depth=5, tree__min_samples_leaf=14 ....................\n",
      "[CV]  tree__max_depth=5, tree__min_samples_leaf=14, score=0.647, total=   4.7s\n",
      "[CV] tree__max_depth=5, tree__min_samples_leaf=14 ....................\n",
      "[CV]  tree__max_depth=5, tree__min_samples_leaf=14, score=0.646, total=   4.7s\n",
      "[CV] tree__max_depth=5, tree__min_samples_leaf=14 ....................\n",
      "[CV]  tree__max_depth=5, tree__min_samples_leaf=14, score=0.648, total=   4.9s\n",
      "[CV] tree__max_depth=5, tree__min_samples_leaf=14 ....................\n",
      "[CV]  tree__max_depth=5, tree__min_samples_leaf=14, score=0.647, total=   4.6s\n",
      "[CV] tree__max_depth=5, tree__min_samples_leaf=14 ....................\n",
      "[CV]  tree__max_depth=5, tree__min_samples_leaf=14, score=0.646, total=   4.7s\n",
      "[CV] tree__max_depth=14, tree__min_samples_leaf=5 ....................\n",
      "[CV]  tree__max_depth=14, tree__min_samples_leaf=5, score=0.671, total=  22.5s\n",
      "[CV] tree__max_depth=14, tree__min_samples_leaf=5 ....................\n",
      "[CV]  tree__max_depth=14, tree__min_samples_leaf=5, score=0.669, total=  22.8s\n",
      "[CV] tree__max_depth=14, tree__min_samples_leaf=5 ....................\n",
      "[CV]  tree__max_depth=14, tree__min_samples_leaf=5, score=0.673, total=  22.1s\n",
      "[CV] tree__max_depth=14, tree__min_samples_leaf=5 ....................\n",
      "[CV]  tree__max_depth=14, tree__min_samples_leaf=5, score=0.670, total=  22.5s\n",
      "[CV] tree__max_depth=14, tree__min_samples_leaf=5 ....................\n",
      "[CV]  tree__max_depth=14, tree__min_samples_leaf=5, score=0.673, total=  21.9s\n",
      "[CV] tree__max_depth=14, tree__min_samples_leaf=14 ...................\n",
      "[CV]  tree__max_depth=14, tree__min_samples_leaf=14, score=0.677, total=  21.8s\n",
      "[CV] tree__max_depth=14, tree__min_samples_leaf=14 ...................\n",
      "[CV]  tree__max_depth=14, tree__min_samples_leaf=14, score=0.674, total=  22.1s\n",
      "[CV] tree__max_depth=14, tree__min_samples_leaf=14 ...................\n",
      "[CV]  tree__max_depth=14, tree__min_samples_leaf=14, score=0.678, total=  21.5s\n",
      "[CV] tree__max_depth=14, tree__min_samples_leaf=14 ...................\n",
      "[CV]  tree__max_depth=14, tree__min_samples_leaf=14, score=0.675, total=  22.0s\n",
      "[CV] tree__max_depth=14, tree__min_samples_leaf=14 ...................\n",
      "[CV]  tree__max_depth=14, tree__min_samples_leaf=14, score=0.679, total=  21.5s\n"
     ]
    },
    {
     "name": "stderr",
     "output_type": "stream",
     "text": [
      "[Parallel(n_jobs=1)]: Done  20 out of  20 | elapsed:  4.5min finished\n"
     ]
    },
    {
     "data": {
      "text/plain": [
       "GridSearchCV(cv=5,\n",
       "             estimator=Pipeline(steps=[('preprocessor',\n",
       "                                        ColumnTransformer(transformers=[('num_trans',\n",
       "                                                                         Pipeline(steps=[('num_imputer',\n",
       "                                                                                          SimpleImputer(strategy='most_frequent')),\n",
       "                                                                                         ('scaler',\n",
       "                                                                                          MinMaxScaler())]),\n",
       "                                                                         ['bin_0',\n",
       "                                                                          'bin_1',\n",
       "                                                                          'bin_2',\n",
       "                                                                          'ord_0',\n",
       "                                                                          'day',\n",
       "                                                                          'month']),\n",
       "                                                                        ('obj_trans',\n",
       "                                                                         Pipeline(steps=[('obj_imputer',\n",
       "                                                                                          SimpleImputer(fill_value='WHATEVER',\n",
       "                                                                                                        strategy='consta...\n",
       "                                                                                                              'WHATEVER',\n",
       "                                                                                                              'WHATEVER',\n",
       "                                                                                                              'WHATEVER',\n",
       "                                                                                                              'WHATEVER',\n",
       "                                                                                                              'WHATEVER',\n",
       "                                                                                                              'WHATEVER',\n",
       "                                                                                                              'WHATEVER',\n",
       "                                                                                                              'WHATEVER',\n",
       "                                                                                                              'WHATEVER',\n",
       "                                                                                                              'WHATEVER']))]),\n",
       "                                                                         ['bin_3',\n",
       "                                                                          'bin_4',\n",
       "                                                                          'nom_0',\n",
       "                                                                          'nom_1',\n",
       "                                                                          'nom_2',\n",
       "                                                                          'nom_3',\n",
       "                                                                          'nom_4',\n",
       "                                                                          'ord_1',\n",
       "                                                                          'ord_2',\n",
       "                                                                          'ord_3',\n",
       "                                                                          'ord_4'])])),\n",
       "                                       ('tree',\n",
       "                                        DecisionTreeClassifier(random_state=713))]),\n",
       "             param_grid={'tree__max_depth': [5, 14],\n",
       "                         'tree__min_samples_leaf': [5, 14]},\n",
       "             scoring='roc_auc', verbose=3)"
      ]
     },
     "execution_count": 48,
     "metadata": {},
     "output_type": "execute_result"
    }
   ],
   "source": [
    "# Initialize the grid search object with five-fold cross-validation\n",
    "\n",
    "gs = GridSearchCV(clf, param_grid, cv=5, scoring='roc_auc', verbose=3)\n",
    "\n",
    "# Then fit it to our X_train and y_train\n",
    "gs.fit(X_train[used_cols], y_train)"
   ]
  },
  {
   "cell_type": "code",
   "execution_count": 49,
   "metadata": {
    "ExecuteTime": {
     "end_time": "2021-10-28T03:33:38.438408Z",
     "start_time": "2021-10-28T03:33:38.435309Z"
    },
    "hidden": true
   },
   "outputs": [
    {
     "data": {
      "text/plain": [
       "{'tree__max_depth': 14, 'tree__min_samples_leaf': 14}"
      ]
     },
     "execution_count": 49,
     "metadata": {},
     "output_type": "execute_result"
    }
   ],
   "source": [
    "# Check out the best parameters\n",
    "gs.best_params_"
   ]
  },
  {
   "cell_type": "code",
   "execution_count": 50,
   "metadata": {
    "ExecuteTime": {
     "end_time": "2021-10-28T03:33:38.739396Z",
     "start_time": "2021-10-28T03:33:38.736044Z"
    },
    "hidden": true
   },
   "outputs": [
    {
     "data": {
      "text/plain": [
       "0.6767920172812092"
      ]
     },
     "execution_count": 50,
     "metadata": {},
     "output_type": "execute_result"
    }
   ],
   "source": [
    "# Check out the best score\n",
    "gs.best_score_"
   ]
  },
  {
   "cell_type": "code",
   "execution_count": 55,
   "metadata": {
    "ExecuteTime": {
     "end_time": "2021-10-28T03:33:40.999187Z",
     "start_time": "2021-10-28T03:33:40.984761Z"
    },
    "hidden": true,
    "scrolled": true
   },
   "outputs": [
    {
     "data": {
      "text/plain": [
       "0.5310754291131321"
      ]
     },
     "execution_count": 55,
     "metadata": {},
     "output_type": "execute_result"
    }
   ],
   "source": [
    "# We can grab the best estimator out, as a fit model!\n",
    "gs_preds = gs.best_estimator_.predict(X_val[used_cols])\n",
    "\n",
    "roc_auc_score(y_val, gs_preds)"
   ]
  },
  {
   "cell_type": "code",
   "execution_count": 52,
   "metadata": {
    "ExecuteTime": {
     "end_time": "2021-10-28T03:33:41.214030Z",
     "start_time": "2021-10-28T03:33:41.205532Z"
    },
    "hidden": true
   },
   "outputs": [
    {
     "data": {
      "text/plain": [
       "{'mean_fit_time': array([ 3.99676528,  4.00485163, 21.66217537, 21.10274239]),\n",
       " 'std_fit_time': array([0.04184848, 0.07868755, 0.31630694, 0.21992343]),\n",
       " 'mean_score_time': array([0.67216496, 0.68976598, 0.68103204, 0.68554816]),\n",
       " 'std_score_time': array([0.00444199, 0.02224489, 0.00369937, 0.00550398]),\n",
       " 'param_tree__max_depth': masked_array(data=[5, 5, 14, 14],\n",
       "              mask=[False, False, False, False],\n",
       "        fill_value='?',\n",
       "             dtype=object),\n",
       " 'param_tree__min_samples_leaf': masked_array(data=[5, 14, 5, 14],\n",
       "              mask=[False, False, False, False],\n",
       "        fill_value='?',\n",
       "             dtype=object),\n",
       " 'params': [{'tree__max_depth': 5, 'tree__min_samples_leaf': 5},\n",
       "  {'tree__max_depth': 5, 'tree__min_samples_leaf': 14},\n",
       "  {'tree__max_depth': 14, 'tree__min_samples_leaf': 5},\n",
       "  {'tree__max_depth': 14, 'tree__min_samples_leaf': 14}],\n",
       " 'split0_test_score': array([0.64698058, 0.64698058, 0.67136491, 0.67749753]),\n",
       " 'split1_test_score': array([0.64645104, 0.64645104, 0.66934187, 0.6744461 ]),\n",
       " 'split2_test_score': array([0.64759869, 0.64759869, 0.67342712, 0.67790622]),\n",
       " 'split3_test_score': array([0.64670773, 0.64670773, 0.66957722, 0.67493362]),\n",
       " 'split4_test_score': array([0.6460171 , 0.64601836, 0.67260003, 0.67917661]),\n",
       " 'mean_test_score': array([0.64675103, 0.64675128, 0.67126223, 0.67679202]),\n",
       " 'std_test_score': array([0.00052948, 0.00052913, 0.00161332, 0.00181011]),\n",
       " 'rank_test_score': array([4, 3, 2, 1], dtype=int32)}"
      ]
     },
     "execution_count": 52,
     "metadata": {},
     "output_type": "execute_result"
    }
   ],
   "source": [
    "# A bigger picture of our results\n",
    "gs.cv_results_"
   ]
  },
  {
   "cell_type": "code",
   "execution_count": 53,
   "metadata": {
    "ExecuteTime": {
     "end_time": "2021-10-28T03:33:41.818645Z",
     "start_time": "2021-10-28T03:33:41.790982Z"
    },
    "hidden": true
   },
   "outputs": [
    {
     "data": {
      "text/html": [
       "<div>\n",
       "<style scoped>\n",
       "    .dataframe tbody tr th:only-of-type {\n",
       "        vertical-align: middle;\n",
       "    }\n",
       "\n",
       "    .dataframe tbody tr th {\n",
       "        vertical-align: top;\n",
       "    }\n",
       "\n",
       "    .dataframe thead th {\n",
       "        text-align: right;\n",
       "    }\n",
       "</style>\n",
       "<table border=\"1\" class=\"dataframe\">\n",
       "  <thead>\n",
       "    <tr style=\"text-align: right;\">\n",
       "      <th></th>\n",
       "      <th>mean_fit_time</th>\n",
       "      <th>std_fit_time</th>\n",
       "      <th>mean_score_time</th>\n",
       "      <th>std_score_time</th>\n",
       "      <th>param_tree__max_depth</th>\n",
       "      <th>param_tree__min_samples_leaf</th>\n",
       "      <th>params</th>\n",
       "      <th>split0_test_score</th>\n",
       "      <th>split1_test_score</th>\n",
       "      <th>split2_test_score</th>\n",
       "      <th>split3_test_score</th>\n",
       "      <th>split4_test_score</th>\n",
       "      <th>mean_test_score</th>\n",
       "      <th>std_test_score</th>\n",
       "      <th>rank_test_score</th>\n",
       "    </tr>\n",
       "  </thead>\n",
       "  <tbody>\n",
       "    <tr>\n",
       "      <th>0</th>\n",
       "      <td>3.996765</td>\n",
       "      <td>0.041848</td>\n",
       "      <td>0.672165</td>\n",
       "      <td>0.004442</td>\n",
       "      <td>5</td>\n",
       "      <td>5</td>\n",
       "      <td>{'tree__max_depth': 5, 'tree__min_samples_leaf...</td>\n",
       "      <td>0.646981</td>\n",
       "      <td>0.646451</td>\n",
       "      <td>0.647599</td>\n",
       "      <td>0.646708</td>\n",
       "      <td>0.646017</td>\n",
       "      <td>0.646751</td>\n",
       "      <td>0.000529</td>\n",
       "      <td>4</td>\n",
       "    </tr>\n",
       "    <tr>\n",
       "      <th>1</th>\n",
       "      <td>4.004852</td>\n",
       "      <td>0.078688</td>\n",
       "      <td>0.689766</td>\n",
       "      <td>0.022245</td>\n",
       "      <td>5</td>\n",
       "      <td>14</td>\n",
       "      <td>{'tree__max_depth': 5, 'tree__min_samples_leaf...</td>\n",
       "      <td>0.646981</td>\n",
       "      <td>0.646451</td>\n",
       "      <td>0.647599</td>\n",
       "      <td>0.646708</td>\n",
       "      <td>0.646018</td>\n",
       "      <td>0.646751</td>\n",
       "      <td>0.000529</td>\n",
       "      <td>3</td>\n",
       "    </tr>\n",
       "    <tr>\n",
       "      <th>2</th>\n",
       "      <td>21.662175</td>\n",
       "      <td>0.316307</td>\n",
       "      <td>0.681032</td>\n",
       "      <td>0.003699</td>\n",
       "      <td>14</td>\n",
       "      <td>5</td>\n",
       "      <td>{'tree__max_depth': 14, 'tree__min_samples_lea...</td>\n",
       "      <td>0.671365</td>\n",
       "      <td>0.669342</td>\n",
       "      <td>0.673427</td>\n",
       "      <td>0.669577</td>\n",
       "      <td>0.672600</td>\n",
       "      <td>0.671262</td>\n",
       "      <td>0.001613</td>\n",
       "      <td>2</td>\n",
       "    </tr>\n",
       "    <tr>\n",
       "      <th>3</th>\n",
       "      <td>21.102742</td>\n",
       "      <td>0.219923</td>\n",
       "      <td>0.685548</td>\n",
       "      <td>0.005504</td>\n",
       "      <td>14</td>\n",
       "      <td>14</td>\n",
       "      <td>{'tree__max_depth': 14, 'tree__min_samples_lea...</td>\n",
       "      <td>0.677498</td>\n",
       "      <td>0.674446</td>\n",
       "      <td>0.677906</td>\n",
       "      <td>0.674934</td>\n",
       "      <td>0.679177</td>\n",
       "      <td>0.676792</td>\n",
       "      <td>0.001810</td>\n",
       "      <td>1</td>\n",
       "    </tr>\n",
       "  </tbody>\n",
       "</table>\n",
       "</div>"
      ],
      "text/plain": [
       "   mean_fit_time  std_fit_time  mean_score_time  std_score_time  \\\n",
       "0       3.996765      0.041848         0.672165        0.004442   \n",
       "1       4.004852      0.078688         0.689766        0.022245   \n",
       "2      21.662175      0.316307         0.681032        0.003699   \n",
       "3      21.102742      0.219923         0.685548        0.005504   \n",
       "\n",
       "  param_tree__max_depth param_tree__min_samples_leaf  \\\n",
       "0                     5                            5   \n",
       "1                     5                           14   \n",
       "2                    14                            5   \n",
       "3                    14                           14   \n",
       "\n",
       "                                              params  split0_test_score  \\\n",
       "0  {'tree__max_depth': 5, 'tree__min_samples_leaf...           0.646981   \n",
       "1  {'tree__max_depth': 5, 'tree__min_samples_leaf...           0.646981   \n",
       "2  {'tree__max_depth': 14, 'tree__min_samples_lea...           0.671365   \n",
       "3  {'tree__max_depth': 14, 'tree__min_samples_lea...           0.677498   \n",
       "\n",
       "   split1_test_score  split2_test_score  split3_test_score  split4_test_score  \\\n",
       "0           0.646451           0.647599           0.646708           0.646017   \n",
       "1           0.646451           0.647599           0.646708           0.646018   \n",
       "2           0.669342           0.673427           0.669577           0.672600   \n",
       "3           0.674446           0.677906           0.674934           0.679177   \n",
       "\n",
       "   mean_test_score  std_test_score  rank_test_score  \n",
       "0         0.646751        0.000529                4  \n",
       "1         0.646751        0.000529                3  \n",
       "2         0.671262        0.001613                2  \n",
       "3         0.676792        0.001810                1  "
      ]
     },
     "execution_count": 53,
     "metadata": {},
     "output_type": "execute_result"
    }
   ],
   "source": [
    "# Which we can throw into a dataframe if we like\n",
    "pd.DataFrame(gs.cv_results_)"
   ]
  },
  {
   "cell_type": "markdown",
   "metadata": {
    "heading_collapsed": true,
    "hidden": true
   },
   "source": [
    "### Choice of Grid Values"
   ]
  },
  {
   "cell_type": "markdown",
   "metadata": {
    "hidden": true
   },
   "source": [
    "Which values should you pick for your grid? Intuitively, you should try both \"large\" and \"small\" values, but of course what counts as large and small will really depend on the type of hyperparameter."
   ]
  },
  {
   "cell_type": "markdown",
   "metadata": {
    "hidden": true
   },
   "source": [
    "- For a k-nearest neighbors model, 1 or 3 would be a small value for the number of neighbors and 15 or 17 would be a large value.\n",
    "- For a decision tree model, what counts as a small `max_depth` will really depend on the size of your training data. A `max_depth` of 5 would likely have little effect on a very small dataset but, at the same time, it would probably significantly decrease the variance of a model where the dataset is large.\n",
    "- For a logistic regression's regularization constant, you may want to try a set of values that are exponentially separated, like \\[1, 10, 100, 1000\\].\n",
    "- **If a grid search finds optimal values at the ends of your hyperparameter ranges, you might try another grid search with more extreme values.**"
   ]
  },
  {
   "cell_type": "markdown",
   "metadata": {
    "heading_collapsed": true,
    "hidden": true
   },
   "source": [
    "### Exercise"
   ]
  },
  {
   "cell_type": "markdown",
   "metadata": {
    "hidden": true
   },
   "source": [
    "Do a grid search on a different model type! What are the optimal values for the hyperparameters you've chosen?"
   ]
  },
  {
   "cell_type": "code",
   "execution_count": null,
   "metadata": {
    "hidden": true
   },
   "outputs": [],
   "source": [
    "# Example logistic regression param grid, with model nickname 'lr'\n",
    "lr_grid = {\n",
    "    'lr__C': [.01, .1, 1, 10, 100],\n",
    "    'lr__penalty': ['l1', '12']\n",
    "}"
   ]
  },
  {
   "cell_type": "code",
   "execution_count": null,
   "metadata": {},
   "outputs": [],
   "source": []
  },
  {
   "cell_type": "code",
   "execution_count": null,
   "metadata": {},
   "outputs": [],
   "source": []
  },
  {
   "cell_type": "markdown",
   "metadata": {
    "heading_collapsed": true
   },
   "source": [
    "# Level Up: Random Searching"
   ]
  },
  {
   "cell_type": "markdown",
   "metadata": {
    "hidden": true
   },
   "source": [
    "It is also possible to search for good hyperparameter values randomly. This is a nice choice if computation time is an issue or if you are tuning over continuous hyperparameters."
   ]
  },
  {
   "cell_type": "markdown",
   "metadata": {
    "heading_collapsed": true,
    "hidden": true
   },
   "source": [
    "### `RandomizedSearchCV` with `LogisticRegression`"
   ]
  },
  {
   "cell_type": "code",
   "execution_count": null,
   "metadata": {},
   "outputs": [],
   "source": [
    "# Import\n",
    "from sklearn.model_selection import RandomizedSearchCV"
   ]
  },
  {
   "cell_type": "code",
   "execution_count": null,
   "metadata": {
    "ExecuteTime": {
     "end_time": "2021-10-28T03:34:46.731177Z",
     "start_time": "2021-10-28T03:34:46.727225Z"
    },
    "hidden": true
   },
   "outputs": [],
   "source": [
    "log_reg_grid = {'C': stats.uniform(loc=0, scale=10),\n",
    "               'l1_ratio': stats.expon(scale=0.2)}"
   ]
  },
  {
   "cell_type": "code",
   "execution_count": null,
   "metadata": {
    "ExecuteTime": {
     "end_time": "2021-10-28T03:34:49.166819Z",
     "start_time": "2021-10-28T03:34:48.678224Z"
    },
    "hidden": true
   },
   "outputs": [],
   "source": [
    "rs = RandomizedSearchCV(estimator=LogisticRegression(penalty='elasticnet',\n",
    "                                                    solver='saga',\n",
    "                                                    max_iter=1000,\n",
    "                                                    random_state=42),\n",
    "                        param_distributions=log_reg_grid,\n",
    "                        random_state=42)\n",
    "\n",
    "rs.fit(X_train, y_train)\n",
    "\n",
    "rs.best_params_"
   ]
  },
  {
   "cell_type": "markdown",
   "metadata": {
    "heading_collapsed": true
   },
   "source": [
    "# Level Up: More Grid Search Practice"
   ]
  },
  {
   "cell_type": "markdown",
   "metadata": {
    "hidden": true
   },
   "source": [
    "Use a classifier of your choice to predict the category of price range for the phones in this dataset. Try tuning some hyperparameters using a grid search, and then write up a short paragraph about your findings."
   ]
  },
  {
   "cell_type": "code",
   "execution_count": null,
   "metadata": {
    "ExecuteTime": {
     "end_time": "2021-10-28T03:34:38.974212Z",
     "start_time": "2021-10-28T03:34:38.957557Z"
    },
    "hidden": true
   },
   "outputs": [],
   "source": [
    "phones_train = pd.read_csv('data/phone-train.csv')\n",
    "phones_test = pd.read_csv('data/phone-test.csv')"
   ]
  },
  {
   "cell_type": "code",
   "execution_count": null,
   "metadata": {},
   "outputs": [],
   "source": [
    "# Your code here"
   ]
  }
 ],
 "metadata": {
  "hide_input": false,
  "kernelspec": {
   "display_name": "Python (learn-env)",
   "language": "python",
   "name": "learn-env"
  },
  "language_info": {
   "codemirror_mode": {
    "name": "ipython",
    "version": 3
   },
   "file_extension": ".py",
   "mimetype": "text/x-python",
   "name": "python",
   "nbconvert_exporter": "python",
   "pygments_lexer": "ipython3",
   "version": "3.8.5"
  },
  "latex_envs": {
   "LaTeX_envs_menu_present": true,
   "autoclose": false,
   "autocomplete": true,
   "bibliofile": "biblio.bib",
   "cite_by": "apalike",
   "current_citInitial": 1,
   "eqLabelWithNumbers": true,
   "eqNumInitial": 1,
   "hotkeys": {
    "equation": "Ctrl-E",
    "itemize": "Ctrl-I"
   },
   "labels_anchors": false,
   "latex_user_defs": false,
   "report_style_numbering": false,
   "user_envs_cfg": false
  },
  "nbTranslate": {
   "displayLangs": [
    "*"
   ],
   "hotkey": "alt-t",
   "langInMainMenu": true,
   "sourceLang": "en",
   "targetLang": "fr",
   "useGoogleTranslate": true
  },
  "toc": {
   "base_numbering": 1,
   "nav_menu": {},
   "number_sections": true,
   "sideBar": true,
   "skip_h1_title": false,
   "title_cell": "Table of Contents",
   "title_sidebar": "TOC",
   "toc_cell": true,
   "toc_position": {
    "height": "calc(100% - 180px)",
    "left": "10px",
    "top": "150px",
    "width": "232px"
   },
   "toc_section_display": true,
   "toc_window_display": false
  }
 },
 "nbformat": 4,
 "nbformat_minor": 4
}
