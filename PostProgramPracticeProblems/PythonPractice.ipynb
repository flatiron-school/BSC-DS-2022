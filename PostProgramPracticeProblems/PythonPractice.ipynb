{
 "cells": [
  {
   "cell_type": "markdown",
   "metadata": {},
   "source": [
    "# 1) Sorting a Sentence\n",
    "\n",
    "Given a shuffled sentence `s` with numerical indices attached to words, return the original sentence.\n",
    "\n",
    "#### Example:\n",
    "\n",
    "`s = 'golf4 playing3 love2 I1'`\n",
    "\n",
    "> Return: 'I love playing golf'\n",
    "\n",
    "#### Constraints\n",
    "- `s` consists of at least one word and at maximum 9 words.\n",
    "- The words in `s` are separated by a single space."
   ]
  },
  {
   "cell_type": "code",
   "execution_count": null,
   "metadata": {},
   "outputs": [],
   "source": [
    "s = 'golf4 playing3 love2 I1'"
   ]
  },
  {
   "cell_type": "code",
   "execution_count": null,
   "metadata": {},
   "outputs": [],
   "source": [
    "def rebuild_sentance(s):\n",
    "    pass"
   ]
  },
  {
   "cell_type": "code",
   "execution_count": null,
   "metadata": {
    "scrolled": true
   },
   "outputs": [],
   "source": [
    "rebuild_sentance(s)\n",
    "# 'I love playing golf'"
   ]
  },
  {
   "cell_type": "markdown",
   "metadata": {},
   "source": [
    "#### Tests"
   ]
  },
  {
   "cell_type": "code",
   "execution_count": null,
   "metadata": {},
   "outputs": [],
   "source": [
    "s_test1 = 'is4 data2 Doing1 best6 the5 science3'"
   ]
  },
  {
   "cell_type": "code",
   "execution_count": null,
   "metadata": {},
   "outputs": [],
   "source": [
    "rebuild_sentance(s_test1)\n",
    "# 'Doing data science is the best'"
   ]
  },
  {
   "cell_type": "code",
   "execution_count": null,
   "metadata": {},
   "outputs": [],
   "source": [
    "s_test2 = 'out9 long5 to7 is2 a3 try8 really4 This1 sentence6'"
   ]
  },
  {
   "cell_type": "code",
   "execution_count": null,
   "metadata": {},
   "outputs": [],
   "source": [
    "rebuild_sentance(s_test2)\n",
    "# 'This is a really long sentence to try out'"
   ]
  },
  {
   "cell_type": "markdown",
   "metadata": {},
   "source": [
    "-----\n",
    "\n",
    "# 2) In-Flight Movies\n",
    "\n",
    "Given a list of movie lengths (in minutes: int) and a flight time (int), return a boolean if there are **two** movies that can be played back-to-back to equal the length of the flight.\n",
    "\n",
    "#### Example :\n",
    "\n",
    "`movies = [120, 80, 50, 90]`\n",
    "\n",
    "`flight = 200`\n",
    "\n",
    "> Return: True (120 + 80 = 200)\n",
    "\n",
    "#### Constraints\n",
    "\n",
    "- Each movie in the list can be counted only once (you cannot watch the same movie twice)\n",
    "- The length of the list of movies >= 2\n",
    "- The length of the flight > 0"
   ]
  },
  {
   "cell_type": "code",
   "execution_count": null,
   "metadata": {},
   "outputs": [],
   "source": [
    "movies = [120, 80, 50, 90]\n",
    "flight = 200"
   ]
  },
  {
   "cell_type": "code",
   "execution_count": null,
   "metadata": {},
   "outputs": [],
   "source": [
    "def find_inflight_movie_pair(flight_time, movies_lengths):\n",
    "    pass"
   ]
  },
  {
   "cell_type": "code",
   "execution_count": null,
   "metadata": {},
   "outputs": [],
   "source": [
    "find_inflight_movie_pair(flight, movies)\n",
    "# True"
   ]
  },
  {
   "cell_type": "markdown",
   "metadata": {},
   "source": [
    "#### Tests"
   ]
  },
  {
   "cell_type": "code",
   "execution_count": null,
   "metadata": {},
   "outputs": [],
   "source": [
    "movies_test1 = [80, 40, 40, 100, 130]\n",
    "\n",
    "flight_test1 = 160"
   ]
  },
  {
   "cell_type": "code",
   "execution_count": null,
   "metadata": {},
   "outputs": [],
   "source": [
    "find_inflight_movie_pair(flight_test1, movies_test1)\n",
    "# False"
   ]
  },
  {
   "cell_type": "code",
   "execution_count": null,
   "metadata": {},
   "outputs": [],
   "source": [
    "movies_test2 = [80, 90, 100, 35, 145, 80]\n",
    "\n",
    "flight_test2 = 160"
   ]
  },
  {
   "cell_type": "code",
   "execution_count": null,
   "metadata": {},
   "outputs": [],
   "source": [
    "find_inflight_movie_pair(flight_test2, movies_test2)\n",
    "# True"
   ]
  },
  {
   "cell_type": "code",
   "execution_count": null,
   "metadata": {},
   "outputs": [],
   "source": [
    "movies_test3 = [40, 50]\n",
    "\n",
    "flight_test3 = 50"
   ]
  },
  {
   "cell_type": "code",
   "execution_count": null,
   "metadata": {},
   "outputs": [],
   "source": [
    "find_inflight_movie_pair(flight_test3, movies_test3)\n",
    "# False"
   ]
  },
  {
   "cell_type": "markdown",
   "metadata": {},
   "source": [
    "-----\n",
    "\n",
    "# 3. Abbreviate Names\n",
    "\n",
    "[Source Code: CodeWars](https://www.codewars.com/kata/57eadb7ecd143f4c9c0000a3/train/python)\n",
    "\n",
    "Write a function to convert a name into initials. This kata strictly takes two words with one space in between them.\n",
    "\n",
    "The output should be two capital letters with a dot separating them.\n",
    "\n",
    "Example: \n",
    "\n",
    "`'Sam Harris'` Return: S.H\n",
    "\n",
    "`'patrick feeney'` Return:  P.F"
   ]
  },
  {
   "cell_type": "code",
   "execution_count": null,
   "metadata": {},
   "outputs": [],
   "source": [
    "sample_name = \"Sam Harris\""
   ]
  },
  {
   "cell_type": "code",
   "execution_count": null,
   "metadata": {},
   "outputs": [],
   "source": [
    "def abbrev_name(name):\n",
    "    pass"
   ]
  },
  {
   "cell_type": "code",
   "execution_count": null,
   "metadata": {},
   "outputs": [],
   "source": [
    "abbrev_name(sample_name)\n",
    "# 'S.H'"
   ]
  },
  {
   "cell_type": "code",
   "execution_count": null,
   "metadata": {},
   "outputs": [],
   "source": [
    "name1 = 'patrick feeney'\n",
    "abbrev_name(name1)\n",
    "# 'P.F'"
   ]
  },
  {
   "cell_type": "code",
   "execution_count": null,
   "metadata": {},
   "outputs": [],
   "source": [
    "name2 = \"Evan C\"\n",
    "abbrev_name(name2)\n",
    "# 'E.C'"
   ]
  },
  {
   "cell_type": "code",
   "execution_count": null,
   "metadata": {},
   "outputs": [],
   "source": [
    "name3 = \"P Favuzzi\"\n",
    "abbrev_name(name3)\n",
    "# 'P.F'"
   ]
  },
  {
   "cell_type": "code",
   "execution_count": null,
   "metadata": {},
   "outputs": [],
   "source": [
    "name4 = \"a c\"\n",
    "abbrev_name(name4)\n",
    "# 'A.C'"
   ]
  },
  {
   "cell_type": "markdown",
   "metadata": {},
   "source": [
    "-----\n",
    "\n",
    "# 4. Negative Numbers in a Matrix\n",
    "\n",
    "Given a matrix of shape (m, n) which is sorted in non-increasing order (both rows & columns), return the number of negative numbers in the matrix.\n",
    "\n",
    "#### Example:\n",
    "\n",
    "`matrix = [[1, -1], [-1, -1]]`\n",
    "\n",
    "> Return: 3\n",
    "\n",
    "#### Constraints\n",
    "\n",
    "The matrix will be at least shape (1, 1) \n",
    "eg: [[-5]]"
   ]
  },
  {
   "cell_type": "code",
   "execution_count": null,
   "metadata": {},
   "outputs": [],
   "source": [
    "sample_matrix = [[1, -1], [-1, -1]]"
   ]
  },
  {
   "cell_type": "code",
   "execution_count": null,
   "metadata": {},
   "outputs": [],
   "source": [
    "def count_negatives(matrix):\n",
    "    pass"
   ]
  },
  {
   "cell_type": "code",
   "execution_count": null,
   "metadata": {},
   "outputs": [],
   "source": [
    "count_negatives(sample_matrix)\n",
    "# 3"
   ]
  },
  {
   "cell_type": "markdown",
   "metadata": {},
   "source": [
    "#### Tests"
   ]
  },
  {
   "cell_type": "code",
   "execution_count": null,
   "metadata": {},
   "outputs": [],
   "source": [
    "matrix_test1 = [[4, 3, 2, -1], [3, 2, 1, -1], [1, 1, -1, -2], [-1, -1, -2, -3]]"
   ]
  },
  {
   "cell_type": "code",
   "execution_count": null,
   "metadata": {},
   "outputs": [],
   "source": [
    "count_negatives(matrix_test1)\n",
    "# 8"
   ]
  },
  {
   "cell_type": "code",
   "execution_count": null,
   "metadata": {},
   "outputs": [],
   "source": [
    "matrix_test2 = [[3, 2], [1, 0]]"
   ]
  },
  {
   "cell_type": "code",
   "execution_count": null,
   "metadata": {
    "scrolled": true
   },
   "outputs": [],
   "source": [
    "count_negatives(matrix_test2)\n",
    "# 0 "
   ]
  },
  {
   "cell_type": "code",
   "execution_count": null,
   "metadata": {},
   "outputs": [],
   "source": [
    "matrix_test3 = [[-5]]"
   ]
  },
  {
   "cell_type": "code",
   "execution_count": null,
   "metadata": {},
   "outputs": [],
   "source": [
    "count_negatives(matrix_test3)\n",
    "# 1"
   ]
  }
 ],
 "metadata": {
  "kernelspec": {
   "display_name": "Python (learn-env)",
   "language": "python",
   "name": "learn-env"
  },
  "language_info": {
   "codemirror_mode": {
    "name": "ipython",
    "version": 3
   },
   "file_extension": ".py",
   "mimetype": "text/x-python",
   "name": "python",
   "nbconvert_exporter": "python",
   "pygments_lexer": "ipython3",
   "version": "3.8.5"
  }
 },
 "nbformat": 4,
 "nbformat_minor": 4
}
