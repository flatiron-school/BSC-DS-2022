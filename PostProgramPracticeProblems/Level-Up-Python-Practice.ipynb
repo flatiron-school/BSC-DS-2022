{
 "cells": [
  {
   "cell_type": "markdown",
   "metadata": {},
   "source": [
    "# Texas Hold'Em Hands\n",
    "\n",
    "[Source: CodeWars](https://www.codewars.com/kata/524c74f855025e2495000262)\n",
    "\n",
    "Texas Hold'em is a Poker variant in which each player is given two \"hole cards\". Players then proceed to make a series of bets while five \"community cards\" are dealt. If there are more than one player remaining when the betting stops, a showdown takes place in which players reveal their cards. Each player makes the best poker hand possible using five of the seven available cards (community cards + the player's hole cards).\n",
    "\n",
    "Possible hands are, in descending order of value:\n",
    "\n",
    "- `straight-flush` - Five consecutive ranks of the same suit. Higher rank is better.\n",
    "- `four-of-a-kind` - Four cards with the same rank. Tiebreaker is first the rank, then the rank of the remaining card.\n",
    "- `full house` - Three cards with the same rank, two with another. Tiebreaker is first the rank of the three cards, then rank of the pair.\n",
    "- `flush` - Five cards of the same suit. Higher ranks are better, compared from high to low rank.\n",
    "- `straight` - Five consecutive ranks. Higher rank is better.\n",
    "- `three-of-a-kind` - Three cards of the same rank. Tiebreaker is first the rank of the three cards, then the highest other rank, then the second highest other rank.\n",
    "- `two pair` - Two cards of the same rank, two cards of another rank. Tiebreaker is first the rank of the high pair, then the rank of the low pair and then the rank of the remaining card.\n",
    "- `pair` - Two cards of the same rank. Tiebreaker is first the rank of the two cards, then the three other ranks.\n",
    "- `nothing` - Tiebreaker is the rank of the cards from high to low.\n",
    "\n",
    "Given hole cards and community cards, complete the function hand to return the type of hand (as written above, you can ignore case) and a list of ranks in decreasing order of significance, to use for comparison against other hands of the same type, of the best possible hand.\n",
    "\n",
    "Inputs:\n",
    "- Two lists, `hole_cards` with 2 strings representing the player's two cards, and `community_cards` with 5 strings representing the community cards\n",
    "\n",
    "Output:\n",
    "- A tuple, first piece is a string representing the best type of hand (lowercase), second piece is a list of strings showing the relevant card ranks (without suits) in order \n",
    "\n",
    "Examples:\n",
    "\n",
    ">`hand([\"A♠\", \"A♦\"], [\"J♣\", \"5♥\", \"10♥\", \"2♥\", \"3♦\"])`\n",
    ">\n",
    ">Would return `(\"pair\", [\"A\", \"J\", \"10\", \"5\"])`\n",
    "\n",
    ">`hand([\"A♠\", \"K♦\"], [\"J♥\", \"5♥\", \"10♥\", \"Q♥\", \"3♥\"])`\n",
    ">\n",
    ">Would return `(\"flush\", [\"Q\", \"J\", \"10\", \"5\", \"3\"])`\n",
    "\n",
    "Note:\n",
    "- The returned list of strings showing the relevant card ranks should only include the ranks of best five cards without any repeated ranks (aka list output may be fewer than 5 strings)\n",
    "- For Straights with an Ace, only the ace-high straight is accepted. An ace-low straight is invalid (ie. A,2,3,4,5 is invalid)"
   ]
  },
  {
   "cell_type": "code",
   "execution_count": null,
   "metadata": {},
   "outputs": [],
   "source": [
    "# First example\n",
    "hole_cards = [\"A♠\", \"A♦\"]\n",
    "community_cards = [\"J♣\", \"5♥\", \"10♥\", \"2♥\", \"3♦\"]"
   ]
  },
  {
   "cell_type": "code",
   "execution_count": null,
   "metadata": {},
   "outputs": [],
   "source": [
    "def hand(hole_cards, community_cards):\n",
    "    pass"
   ]
  },
  {
   "cell_type": "code",
   "execution_count": null,
   "metadata": {},
   "outputs": [],
   "source": [
    "# Test 1 - same as first example provided above\n",
    "hand([\"A♠\", \"A♦\"], [\"J♣\", \"5♥\", \"10♥\", \"2♥\", \"3♦\"])\n",
    "# (\"pair\", [\"A\", \"J\", \"10\", \"5\"])"
   ]
  },
  {
   "cell_type": "code",
   "execution_count": null,
   "metadata": {},
   "outputs": [],
   "source": [
    "# Test 2\n",
    "hand([\"A♠\", \"K♦\"], [\"J♥\", \"5♥\", \"10♥\", \"Q♥\", \"3♥\"])\n",
    "# (\"flush\", [\"Q\", \"J\", \"10\", \"5\", \"3\"])"
   ]
  },
  {
   "cell_type": "code",
   "execution_count": null,
   "metadata": {},
   "outputs": [],
   "source": [
    "# Test 3\n",
    "hand([\"K♠\", \"A♦\"], [\"J♣\", \"Q♥\", \"9♥\", \"2♥\", \"3♦\"])\n",
    "# (\"nothing\", [\"A\", \"K\", \"Q\", \"J\", \"9\"])"
   ]
  },
  {
   "cell_type": "code",
   "execution_count": null,
   "metadata": {},
   "outputs": [],
   "source": [
    "# Test 4\n",
    "hand([\"K♠\", \"Q♦\"], [\"J♣\", \"Q♥\", \"9♥\", \"2♥\", \"3♦\"])\n",
    "# (\"pair\", [\"Q\", \"K\", \"J\", \"9\"])"
   ]
  },
  {
   "cell_type": "code",
   "execution_count": null,
   "metadata": {},
   "outputs": [],
   "source": [
    "# Test 5\n",
    "hand([\"K♠\", \"J♦\"], [\"J♣\", \"K♥\", \"9♥\", \"2♥\", \"3♦\"])\n",
    "# (\"two pair\", [\"K\", \"J\", \"9\"])"
   ]
  },
  {
   "cell_type": "code",
   "execution_count": null,
   "metadata": {},
   "outputs": [],
   "source": [
    "# Test 6\n",
    "hand([\"4♠\", \"9♦\"], [\"J♣\", \"Q♥\", \"Q♠\", \"2♥\", \"Q♦\"])\n",
    "# (\"three-of-a-kind\", [\"Q\", \"J\", \"9\"])"
   ]
  },
  {
   "cell_type": "code",
   "execution_count": null,
   "metadata": {},
   "outputs": [],
   "source": [
    "# Test 7\n",
    "hand([\"2♠\", \"3♦\"], [\"2♣\", \"2♥\", \"3♠\", \"3♥\", \"2♦\"])\n",
    "# (\"four-of-a-kind\", [\"2\", \"3\"])"
   ]
  },
  {
   "cell_type": "code",
   "execution_count": null,
   "metadata": {},
   "outputs": [],
   "source": [
    "# Test 8\n",
    "hand([\"8♠\", \"6♠\"], [\"7♠\", \"5♠\", \"9♠\", \"J♠\", \"10♠\"])\n",
    "# (\"straight-flush\", [\"J\", \"10\", \"9\", \"8\", \"7\"])"
   ]
  }
 ],
 "metadata": {
  "kernelspec": {
   "display_name": "learn-env",
   "language": "python",
   "name": "learn-env"
  },
  "language_info": {
   "codemirror_mode": {
    "name": "ipython",
    "version": 3
   },
   "file_extension": ".py",
   "mimetype": "text/x-python",
   "name": "python",
   "nbconvert_exporter": "python",
   "pygments_lexer": "ipython3",
   "version": "3.8.5"
  }
 },
 "nbformat": 4,
 "nbformat_minor": 4
}
