{
 "cells": [
  {
   "cell_type": "markdown",
   "metadata": {},
   "source": [
    "# SQL Interview"
   ]
  },
  {
   "cell_type": "markdown",
   "metadata": {},
   "source": [
    "It's all well and good to practice SQL questions when you can actually test your queries, but often I've found that, in an interview setting, an interviewer will give you a preview of the data and a set of questions and you have to write the queries out without getting to test queries and tweak to get the right answers. Below I've adapted an actual technical interview I went through, so you can practice exactly this!\n",
    "\n",
    "### Background: This company facilitates subscriptions for a variety of digital services."
   ]
  },
  {
   "cell_type": "markdown",
   "metadata": {},
   "source": [
    "## Data Overview"
   ]
  },
  {
   "cell_type": "markdown",
   "metadata": {},
   "source": [
    "### production.services\n",
    "\n",
    "![production services table](images/production-services.png)\n",
    "\n",
    "The `production.services` table keeps track of every service registered on the platform. It has a reference to a user who is the primary creator of the service via `author_id`."
   ]
  },
  {
   "cell_type": "markdown",
   "metadata": {},
   "source": [
    "### production.users\n",
    "\n",
    "![production users table](images/production-users.png)\n",
    "\n",
    "The `production.users` table keeps track of all users that we know about on the platform. A `user` basically represents an email address, and a user can go on to subscribe to a service, create a service, or both."
   ]
  },
  {
   "cell_type": "markdown",
   "metadata": {},
   "source": [
    "### production.subscriptions\n",
    "\n",
    "![production subscriptions table](images/production-subscriptions.png)\n",
    "\n",
    "In the `production.subscriptions` table, we log both free and paid subscriptions. A free subscriber does not have an `expires_at` date, since it is free and thus does not expire. However, if a user disables email from a service, then they are effectively unsubscribed from that service.\n",
    "\n",
    "A `comp` subscription means the author of the service gave away that subscription for free.\n",
    "\n",
    "A `gift` subscription means that someone else (not the person represented in this row) bought the subscription for the user represented in this row."
   ]
  },
  {
   "cell_type": "markdown",
   "metadata": {},
   "source": [
    "### events.user_subscribed\n",
    "\n",
    "![events user subscribed table](images/events-user-subscribed.png)\n",
    "\n",
    "In the `events.user_subscribed` table, we track an event (row) that occurs after we finish making the API call to create a subscription."
   ]
  },
  {
   "cell_type": "markdown",
   "metadata": {},
   "source": [
    "### events.user_unsubscribed\n",
    "\n",
    "<img src=\"images/events-user-unsubscribed.png\" width=500>\n",
    "\n",
    "In the `events.user_unsubscribed` table, we track an event (row) that occurs after we finish making the API call to cancel or remove a subscription. You may assume that, once a user unsubscribes, that user _never_ resubscribes to that service."
   ]
  },
  {
   "cell_type": "markdown",
   "metadata": {},
   "source": [
    "## Assignment\n",
    "\n",
    "### 1. How many services are created per day?"
   ]
  },
  {
   "cell_type": "code",
   "execution_count": null,
   "metadata": {},
   "outputs": [],
   "source": [
    "\"\"\"\n",
    "\n",
    "\"\"\""
   ]
  },
  {
   "cell_type": "markdown",
   "metadata": {},
   "source": [
    "### 2. For each service (by name), as of today, how many paid and free subscribers are there? \n",
    "\n",
    "NB: Creators are automatically subscribed to their own services but should NOT be included in the counts."
   ]
  },
  {
   "cell_type": "code",
   "execution_count": null,
   "metadata": {},
   "outputs": [],
   "source": [
    "\"\"\"\n",
    "\n",
    "\"\"\""
   ]
  },
  {
   "cell_type": "markdown",
   "metadata": {},
   "source": [
    "### 3. Now, adjust your query to split out:\n",
    "\n",
    "- total_email_list (paid + free)\n",
    "- paying_subscribers (subset of paid)\n",
    "- comp_subscribers (subset of paid)\n",
    "- gift_subscribers (subset of paid)"
   ]
  },
  {
   "cell_type": "code",
   "execution_count": null,
   "metadata": {},
   "outputs": [],
   "source": [
    "\"\"\"\n",
    "\n",
    "\"\"\""
   ]
  },
  {
   "cell_type": "markdown",
   "metadata": {},
   "source": [
    "### 4. Which service has the greatest percentage change increase in the number of new subscribers (vs. last week / last month / etc)? \n",
    "\n",
    "NB: Don't worry about unsubscribes... for now.\n",
    "\n",
    "For example, pretend Service X had 10 subscriptions this week and 8 subscriptions in the week prior. Thus Service X had a 25% week-over-week (WoW) increase in subscriptions."
   ]
  },
  {
   "cell_type": "code",
   "execution_count": null,
   "metadata": {},
   "outputs": [],
   "source": [
    "\"\"\"\n",
    "\n",
    "\"\"\""
   ]
  },
  {
   "cell_type": "markdown",
   "metadata": {},
   "source": [
    "### 5. Now, factoring in unsubscribes, create an output dataset that has the following columns for each date for each service:\n",
    "\n",
    "- datetime\n",
    "- subdomain\n",
    "- subscriber_count"
   ]
  },
  {
   "cell_type": "code",
   "execution_count": null,
   "metadata": {},
   "outputs": [],
   "source": [
    "\"\"\"\n",
    "\n",
    "\"\"\""
   ]
  }
 ],
 "metadata": {
  "kernelspec": {
   "display_name": "Python (learn-env)",
   "language": "python",
   "name": "learn-env"
  },
  "language_info": {
   "codemirror_mode": {
    "name": "ipython",
    "version": 3
   },
   "file_extension": ".py",
   "mimetype": "text/x-python",
   "name": "python",
   "nbconvert_exporter": "python",
   "pygments_lexer": "ipython3",
   "version": "3.8.5"
  },
  "toc": {
   "base_numbering": 1,
   "nav_menu": {},
   "number_sections": true,
   "sideBar": true,
   "skip_h1_title": false,
   "title_cell": "Table of Contents",
   "title_sidebar": "Contents",
   "toc_cell": false,
   "toc_position": {},
   "toc_section_display": true,
   "toc_window_display": false
  }
 },
 "nbformat": 4,
 "nbformat_minor": 4
}
